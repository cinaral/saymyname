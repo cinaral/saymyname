{
 "cells": [
  {
   "cell_type": "code",
   "execution_count": 1,
   "metadata": {},
   "outputs": [
    {
     "data": {
      "text/html": [
       "<script>\n",
       "code_show=true; \n",
       "function code_toggle() {\n",
       " if (code_show){\n",
       " $('div.input').hide();\n",
       " } else {\n",
       " $('div.input').show();\n",
       " }\n",
       " code_show = !code_show\n",
       "} \n",
       "$( document ).ready(code_toggle);\n",
       "</script>\n",
       "The raw code for this notebook is by default hidden for easier reading.\n",
       "To toggle on/off the raw code, click <a href=\"javascript:code_toggle()\">here</a>."
      ],
      "text/plain": [
       "<IPython.core.display.HTML object>"
      ]
     },
     "execution_count": 1,
     "metadata": {},
     "output_type": "execute_result"
    }
   ],
   "source": [
    "from IPython.display import HTML\n",
    "\n",
    "HTML('''<script>\n",
    "code_show=true; \n",
    "function code_toggle() {\n",
    " if (code_show){\n",
    " $('div.input').hide();\n",
    " } else {\n",
    " $('div.input').show();\n",
    " }\n",
    " code_show = !code_show\n",
    "} \n",
    "$( document ).ready(code_toggle);\n",
    "</script>\n",
    "The raw code for this notebook is by default hidden for easier reading.\n",
    "To toggle on/off the raw code, click <a href=\"javascript:code_toggle()\">here</a>.''')"
   ]
  },
  {
   "cell_type": "markdown",
   "metadata": {},
   "source": [
    "Before start, let us import modules that will used."
   ]
  },
  {
   "cell_type": "code",
   "execution_count": 2,
   "metadata": {
    "scrolled": true
   },
   "outputs": [
    {
     "name": "stdout",
     "output_type": "stream",
     "text": [
      "Requirement already satisfied: plotly in c:\\programdata\\anaconda3\\lib\\site-packages (4.7.1)\n",
      "Requirement already satisfied: six in c:\\programdata\\anaconda3\\lib\\site-packages (from plotly) (1.14.0)\n",
      "Requirement already satisfied: retrying>=1.3.3 in c:\\programdata\\anaconda3\\lib\\site-packages (from plotly) (1.3.3)\n",
      "Requirement already satisfied: ipywidgets in c:\\programdata\\anaconda3\\lib\\site-packages (7.5.1)\n",
      "Requirement already satisfied: widgetsnbextension~=3.5.0 in c:\\programdata\\anaconda3\\lib\\site-packages (from ipywidgets) (3.5.1)\n",
      "Requirement already satisfied: ipykernel>=4.5.1 in c:\\programdata\\anaconda3\\lib\\site-packages (from ipywidgets) (5.1.4)\n",
      "Requirement already satisfied: nbformat>=4.2.0 in c:\\programdata\\anaconda3\\lib\\site-packages (from ipywidgets) (5.0.4)\n",
      "Requirement already satisfied: traitlets>=4.3.1 in c:\\programdata\\anaconda3\\lib\\site-packages (from ipywidgets) (4.3.3)\n",
      "Requirement already satisfied: ipython>=4.0.0; python_version >= \"3.3\" in c:\\programdata\\anaconda3\\lib\\site-packages (from ipywidgets) (7.12.0)\n",
      "Requirement already satisfied: notebook>=4.4.1 in c:\\programdata\\anaconda3\\lib\\site-packages (from widgetsnbextension~=3.5.0->ipywidgets) (6.0.3)\n",
      "Requirement already satisfied: jupyter-client in c:\\programdata\\anaconda3\\lib\\site-packages (from ipykernel>=4.5.1->ipywidgets) (5.3.4)\n",
      "Requirement already satisfied: tornado>=4.2 in c:\\programdata\\anaconda3\\lib\\site-packages (from ipykernel>=4.5.1->ipywidgets) (6.0.3)\n",
      "Requirement already satisfied: jsonschema!=2.5.0,>=2.4 in c:\\programdata\\anaconda3\\lib\\site-packages (from nbformat>=4.2.0->ipywidgets) (3.2.0)\n",
      "Requirement already satisfied: ipython-genutils in c:\\programdata\\anaconda3\\lib\\site-packages (from nbformat>=4.2.0->ipywidgets) (0.2.0)\n",
      "Requirement already satisfied: jupyter-core in c:\\programdata\\anaconda3\\lib\\site-packages (from nbformat>=4.2.0->ipywidgets) (4.6.1)\n",
      "Requirement already satisfied: six in c:\\programdata\\anaconda3\\lib\\site-packages (from traitlets>=4.3.1->ipywidgets) (1.14.0)\n",
      "Requirement already satisfied: decorator in c:\\programdata\\anaconda3\\lib\\site-packages (from traitlets>=4.3.1->ipywidgets) (4.4.1)\n",
      "Requirement already satisfied: jedi>=0.10 in c:\\programdata\\anaconda3\\lib\\site-packages (from ipython>=4.0.0; python_version >= \"3.3\"->ipywidgets) (0.14.1)\n",
      "Requirement already satisfied: setuptools>=18.5 in c:\\programdata\\anaconda3\\lib\\site-packages (from ipython>=4.0.0; python_version >= \"3.3\"->ipywidgets) (45.2.0.post20200210)\n",
      "Requirement already satisfied: backcall in c:\\programdata\\anaconda3\\lib\\site-packages (from ipython>=4.0.0; python_version >= \"3.3\"->ipywidgets) (0.1.0)\n",
      "Requirement already satisfied: prompt-toolkit!=3.0.0,!=3.0.1,<3.1.0,>=2.0.0 in c:\\programdata\\anaconda3\\lib\\site-packages (from ipython>=4.0.0; python_version >= \"3.3\"->ipywidgets) (3.0.3)\n",
      "Requirement already satisfied: pygments in c:\\programdata\\anaconda3\\lib\\site-packages (from ipython>=4.0.0; python_version >= \"3.3\"->ipywidgets) (2.5.2)\n",
      "Requirement already satisfied: pickleshare in c:\\programdata\\anaconda3\\lib\\site-packages (from ipython>=4.0.0; python_version >= \"3.3\"->ipywidgets) (0.7.5)\n",
      "Requirement already satisfied: colorama; sys_platform == \"win32\" in c:\\programdata\\anaconda3\\lib\\site-packages (from ipython>=4.0.0; python_version >= \"3.3\"->ipywidgets) (0.4.3)\n",
      "Requirement already satisfied: Send2Trash in c:\\programdata\\anaconda3\\lib\\site-packages (from notebook>=4.4.1->widgetsnbextension~=3.5.0->ipywidgets) (1.5.0)\n",
      "Requirement already satisfied: terminado>=0.8.1 in c:\\programdata\\anaconda3\\lib\\site-packages (from notebook>=4.4.1->widgetsnbextension~=3.5.0->ipywidgets) (0.8.3)\n",
      "Requirement already satisfied: pyzmq>=17 in c:\\programdata\\anaconda3\\lib\\site-packages (from notebook>=4.4.1->widgetsnbextension~=3.5.0->ipywidgets) (18.1.1)\n",
      "Requirement already satisfied: nbconvert in c:\\programdata\\anaconda3\\lib\\site-packages (from notebook>=4.4.1->widgetsnbextension~=3.5.0->ipywidgets) (5.6.1)\n",
      "Requirement already satisfied: prometheus-client in c:\\programdata\\anaconda3\\lib\\site-packages (from notebook>=4.4.1->widgetsnbextension~=3.5.0->ipywidgets) (0.7.1)\n",
      "Requirement already satisfied: jinja2 in c:\\programdata\\anaconda3\\lib\\site-packages (from notebook>=4.4.1->widgetsnbextension~=3.5.0->ipywidgets) (2.11.1)\n",
      "Requirement already satisfied: pywin32>=1.0; sys_platform == \"win32\" in c:\\programdata\\anaconda3\\lib\\site-packages (from jupyter-client->ipykernel>=4.5.1->ipywidgets) (227)\n",
      "Requirement already satisfied: python-dateutil>=2.1 in c:\\programdata\\anaconda3\\lib\\site-packages (from jupyter-client->ipykernel>=4.5.1->ipywidgets) (2.8.1)\n",
      "Requirement already satisfied: attrs>=17.4.0 in c:\\programdata\\anaconda3\\lib\\site-packages (from jsonschema!=2.5.0,>=2.4->nbformat>=4.2.0->ipywidgets) (19.3.0)\n",
      "Requirement already satisfied: importlib-metadata; python_version < \"3.8\" in c:\\programdata\\anaconda3\\lib\\site-packages (from jsonschema!=2.5.0,>=2.4->nbformat>=4.2.0->ipywidgets) (1.5.0)\n",
      "Requirement already satisfied: pyrsistent>=0.14.0 in c:\\programdata\\anaconda3\\lib\\site-packages (from jsonschema!=2.5.0,>=2.4->nbformat>=4.2.0->ipywidgets) (0.15.7)\n",
      "Requirement already satisfied: parso>=0.5.0 in c:\\programdata\\anaconda3\\lib\\site-packages (from jedi>=0.10->ipython>=4.0.0; python_version >= \"3.3\"->ipywidgets) (0.5.2)\n",
      "Requirement already satisfied: wcwidth in c:\\programdata\\anaconda3\\lib\\site-packages (from prompt-toolkit!=3.0.0,!=3.0.1,<3.1.0,>=2.0.0->ipython>=4.0.0; python_version >= \"3.3\"->ipywidgets) (0.1.8)\n",
      "Requirement already satisfied: bleach in c:\\programdata\\anaconda3\\lib\\site-packages (from nbconvert->notebook>=4.4.1->widgetsnbextension~=3.5.0->ipywidgets) (3.1.0)\n",
      "Requirement already satisfied: testpath in c:\\programdata\\anaconda3\\lib\\site-packages (from nbconvert->notebook>=4.4.1->widgetsnbextension~=3.5.0->ipywidgets) (0.4.4)\n",
      "Requirement already satisfied: entrypoints>=0.2.2 in c:\\programdata\\anaconda3\\lib\\site-packages (from nbconvert->notebook>=4.4.1->widgetsnbextension~=3.5.0->ipywidgets) (0.3)\n",
      "Requirement already satisfied: mistune<2,>=0.8.1 in c:\\programdata\\anaconda3\\lib\\site-packages (from nbconvert->notebook>=4.4.1->widgetsnbextension~=3.5.0->ipywidgets) (0.8.4)\n",
      "Requirement already satisfied: defusedxml in c:\\programdata\\anaconda3\\lib\\site-packages (from nbconvert->notebook>=4.4.1->widgetsnbextension~=3.5.0->ipywidgets) (0.6.0)\n",
      "Requirement already satisfied: pandocfilters>=1.4.1 in c:\\programdata\\anaconda3\\lib\\site-packages (from nbconvert->notebook>=4.4.1->widgetsnbextension~=3.5.0->ipywidgets) (1.4.2)\n",
      "Requirement already satisfied: MarkupSafe>=0.23 in c:\\programdata\\anaconda3\\lib\\site-packages (from jinja2->notebook>=4.4.1->widgetsnbextension~=3.5.0->ipywidgets) (1.1.1)\n",
      "Requirement already satisfied: zipp>=0.5 in c:\\programdata\\anaconda3\\lib\\site-packages (from importlib-metadata; python_version < \"3.8\"->jsonschema!=2.5.0,>=2.4->nbformat>=4.2.0->ipywidgets) (2.2.0)\n",
      "Requirement already satisfied: webencodings in c:\\programdata\\anaconda3\\lib\\site-packages (from bleach->nbconvert->notebook>=4.4.1->widgetsnbextension~=3.5.0->ipywidgets) (0.5.1)\n"
     ]
    }
   ],
   "source": [
    "!pip install plotly\n",
    "!pip install ipywidgets"
   ]
  },
  {
   "cell_type": "code",
   "execution_count": 3,
   "metadata": {},
   "outputs": [],
   "source": [
    "import numpy as np\n",
    "import plotly.graph_objects as go\n",
    "from ipywidgets import interact\n",
    "import math as m"
   ]
  },
  {
   "cell_type": "markdown",
   "metadata": {},
   "source": [
    "<h1>Linearization Approach<h1>"
   ]
  },
  {
   "cell_type": "markdown",
   "metadata": {},
   "source": [
    "<img src=\"https://www.filosofiaesoterica.com/wp-content/uploads/2017/10/A-Lever-to-Move-the-World-COM-MOLD.png\" width =\"600\" height=500 > "
   ]
  },
  {
   "cell_type": "markdown",
   "metadata": {},
   "source": [
    "Perhaps one of the milestones of human civilization is the\n",
    "invention of the lever by Archimedes (200 BC).<br> As shown in below, the basic idea is\n",
    "that force times displacement (work) is constant."
   ]
  },
  {
   "cell_type": "markdown",
   "metadata": {},
   "source": [
    "<img src=\"https://i.imgur.com/EowidOR.png\" width =\"600\" height=500 > "
   ]
  },
  {
   "cell_type": "markdown",
   "metadata": {},
   "source": [
    "The displacement at A and B when the lever is horizontal is linearly related by the ratio:"
   ]
  },
  {
   "cell_type": "markdown",
   "metadata": {},
   "source": [
    "$$\\frac{S_A}{S_B}=\\frac{A_0A}{A_0B}$$"
   ]
  },
  {
   "cell_type": "markdown",
   "metadata": {},
   "source": [
    "In other words, we can find transfer function of this system as:"
   ]
  },
  {
   "cell_type": "markdown",
   "metadata": {},
   "source": [
    "$$ S_{A}(s) \\longrightarrow\\fbox{$\\frac{A_0B}{A_0A}$}\\longrightarrow S_{B}(s)$$"
   ]
  },
  {
   "cell_type": "code",
   "execution_count": 4,
   "metadata": {
    "scrolled": false
   },
   "outputs": [
    {
     "data": {
      "application/vnd.jupyter.widget-view+json": {
       "model_id": "9991b08dc77846158466f99a78f906d3",
       "version_major": 2,
       "version_minor": 0
      },
      "text/plain": [
       "interactive(children=(FloatSlider(value=60.0, description='A0A', min=0.1), FloatSlider(value=20.0, description…"
      ]
     },
     "metadata": {},
     "output_type": "display_data"
    },
    {
     "data": {
      "application/vnd.jupyter.widget-view+json": {
       "model_id": "5fc071790e074b849039151813e22e45",
       "version_major": 2,
       "version_minor": 0
      },
      "text/plain": [
       "FigureWidget({\n",
       "    'data': [{'name': 'Initial Position',\n",
       "              'type': 'scatter',\n",
       "              'uid':…"
      ]
     },
     "metadata": {},
     "output_type": "display_data"
    }
   ],
   "source": [
    "fig = go.FigureWidget()\n",
    "fig.add_trace(go.Scatter(name=\"Initial Position\"))\n",
    "fig.add_trace(go.Scatter(name=\"Final Position\"))\n",
    "fig.update_yaxes( range=[-50, 50])\n",
    "fig.update_xaxes( range=[-100, 100])\n",
    "fig.update_layout( autosize=False, width=1000, height=500)\n",
    "fig.add_trace(go.Scatter( x=[0], y=[0],  mode=\"markers+text\", name=\"A_0\", marker_symbol='circle-dot',\n",
    "                         text=[\"A_0\"],\n",
    "                        textposition=\"bottom center\"))\n",
    "\n",
    "@interact(A0A=(0.1, 100, 0.1), A0B=(0, 100.0, 0.01), A_y=(-50,50,0.1))\n",
    "def update(A0A=60, A0B=20, A_y=0):\n",
    "    with fig.batch_update():\n",
    "            fig.data[0].x=[-A0A,A0B]\n",
    "            fig.data[0].y = [0,0]\n",
    "            fig.data[1].x=[-m.sqrt(A0A**2-A_y**2),m.sqrt((A0B**2)*(1-A_y**2/A0A**2))]\n",
    "            fig.data[1].y = [A_y,-A_y*A0B/A0A]\n",
    "          \n",
    "fig"
   ]
  },
  {
   "cell_type": "markdown",
   "metadata": {},
   "source": [
    "<h2>Let us now extend this idea<h2>"
   ]
  },
  {
   "cell_type": "markdown",
   "metadata": {},
   "source": [
    "Referring the belowed figure, consider a Four-bar mechanism with the cranks parallel to each other initially. We will use the determined link lengths and initial position for simplicity."
   ]
  },
  {
   "cell_type": "markdown",
   "metadata": {},
   "source": [
    "<img src=\"https://i.imgur.com/rkQzLc4.png\" width =\"300\" height=300> <b>\n",
    "    $$|A_0A|=60m\\hspace{20mm}|B_0B|=40m\\hspace{20mm}|AB|=59.91m$$<b>\n",
    "    $$Initial\\hspace{3mm}values\\hspace{3mm}of\\hspace{3mm}\\theta_A=\\theta_B=80^{\\circ}$$"
   ]
  },
  {
   "cell_type": "code",
   "execution_count": 5,
   "metadata": {},
   "outputs": [],
   "source": [
    "def calc_theta_B(theta_A):\n",
    "    theta_A=m.radians(theta_A)\n",
    "    A_B = 59.91\n",
    "    A0_A = 60\n",
    "    B0_B=40\n",
    "    A0_O= 19.69615506\n",
    "    B0_O = 56.43703645\n",
    "    C_for_thetaB =-( A_B**2-A0_A**2-B0_B**2-A0_O**2-B0_O**2+2*A0_A*A0_O*m.sin(theta_A)-2*A0_A*B0_O*m.cos(theta_A))\n",
    "    B_for_thetaB = -(-2*A0_A*B0_B*m.sin(theta_A)+2*B0_B*A0_O)   \n",
    "    A_for_thetaB = -(-2*A0_A*B0_B*m.cos(theta_A)-2*B0_B*B0_O)\n",
    "    return 2*m.atan2((B_for_thetaB + m.sqrt(A_for_thetaB**2+B_for_thetaB**2-C_for_thetaB**2)),(A_for_thetaB+C_for_thetaB))\n",
    "def calc_theta_AB(theta_A,theta_B):\n",
    "    teta_A=m.radians(theta_A)\n",
    "    A_B = 59.91\n",
    "    A0_A = 60\n",
    "    B0_B=40\n",
    "    A0_O= 19.69615506\n",
    "    B0_O = 56.43703645\n",
    "    return m.acos((A0_O-A0_A*m.sin(theta_A)+B0_B*m.sin(theta_A))/A_B)"
   ]
  },
  {
   "cell_type": "code",
   "execution_count": 6,
   "metadata": {},
   "outputs": [
    {
     "data": {
      "application/vnd.jupyter.widget-view+json": {
       "model_id": "daa9d054fc6642ea90ad2c74f6c82edd",
       "version_major": 2,
       "version_minor": 0
      },
      "text/plain": [
       "interactive(children=(FloatSlider(value=0.0, description='phi_deg', max=50.0, step=0.3), Output()), _dom_class…"
      ]
     },
     "metadata": {},
     "output_type": "display_data"
    },
    {
     "data": {
      "application/vnd.jupyter.widget-view+json": {
       "model_id": "e5f921614c254b098801e9aecf1ff1ff",
       "version_major": 2,
       "version_minor": 0
      },
      "text/plain": [
       "FigureWidget({\n",
       "    'data': [{'name': 'Input Link',\n",
       "              'type': 'scatter',\n",
       "              'uid': 'e50d…"
      ]
     },
     "metadata": {},
     "output_type": "display_data"
    }
   ],
   "source": [
    "fig2 = go.FigureWidget()\n",
    "fig2.add_trace(go.Scatter(name=\"Input Link\"))\n",
    "fig2.add_trace(go.Scatter(name=\"Output Link\"))\n",
    "fig2.add_trace(go.Scatter(name=\"Coupler\"))\n",
    "fig2.update_yaxes( range=[-30, 105])\n",
    "fig2.update_xaxes( range=[-10, 80])\n",
    "fig2.update_layout( autosize=False, width=500, height=600)\n",
    "fig2.add_trace(go.Scatter( x=[0], y=[0],  mode=\"markers+text\", name=\"A_0\", marker_symbol='circle-dot',\n",
    "                         text=[\"A_0\"],\n",
    "                        textposition=\"bottom center\"))\n",
    "fig2.add_trace(go.Scatter( x=[19.696], y=[56.437],  mode=\"markers+text\", name=\"B_0\", marker_symbol='circle-dot',\n",
    "                         text=[\"B_0\"],\n",
    "                        textposition=\"bottom center\"))\n",
    "A_B = 59.91\n",
    "A0_A = 60\n",
    "B0_B=40\n",
    "A0_O= 19.69615506\n",
    "B0_O = 56.43703645\n",
    "@interact(phi_deg=(0, 50, 0.3))\n",
    "def update(phi_deg=0):\n",
    "    with fig2.batch_update():\n",
    "            theta_A=80+phi_deg\n",
    "            fig2.data[0].x=[0,A0_A*m.sin(m.radians(theta_A))]\n",
    "            fig2.data[0].y = [0,-A0_A*m.cos(m.radians(theta_A))]\n",
    "            fig2.data[1].x=[A0_O,A0_O+B0_B*m.sin(calc_theta_B(theta_A))]\n",
    "            fig2.data[1].y = [B0_O,B0_O-B0_B*m.cos(calc_theta_B(theta_A))]\n",
    "            fig2.data[2].x=[A0_A*m.sin(m.radians(theta_A)),A0_O+B0_B*m.sin(calc_theta_B(theta_A))]\n",
    "            fig2.data[2].y = [-A0_A*m.cos(m.radians(theta_A)),B0_O-B0_B*m.cos(calc_theta_B(theta_A))]\n",
    "            \n",
    "\n",
    "          \n",
    "fig2"
   ]
  },
  {
   "cell_type": "markdown",
   "metadata": {},
   "source": [
    "We can derive relation between $\\phi$ and $\\psi$ analytically as:<b>$\\DeclareMathOperator{\\atantwo}{atan2}$\n",
    "$$\\psi=2\\times\\atantwo\\left(\\left(B\\pm\\sqrt{A^2+B^2-C^2}\\right),\\left ( A+C\\hspace{1mm}\\right) \\right)-80^{\\circ}$$\n",
    "    <center>where</center>\n",
    "$$A=2|A_0A||B_0B|\\cos(\\phi+80^{\\circ})+2|B_0B||B_0O|$$\n",
    "    $$B=2|A_0A||B_0B|\\sin(\\phi+80^{\\circ})+2|B_0B||A_0O|$$\n",
    "    $$C=|A_0A|^2+|B_0B|^2+|A_0O|^2+|B_0O|^2-|AB|^2+2|A_0A||B_0O|\\cos(\\phi+80^{\\circ})-2|A_0A||A_0O|\\sin(\\phi+80^{\\circ})$$"
   ]
  },
  {
   "cell_type": "markdown",
   "metadata": {},
   "source": [
    "However, obviously you can not find transfer function of this relation easily."
   ]
  },
  {
   "cell_type": "markdown",
   "metadata": {},
   "source": [
    "<b>If we reconsider this system with Archimedes's idea:<b>"
   ]
  },
  {
   "cell_type": "markdown",
   "metadata": {},
   "source": [
    "<img src=\"https://i.imgur.com/MRBSB0U.png\" width =\"400\" height=400> <b>"
   ]
  },
  {
   "cell_type": "markdown",
   "metadata": {},
   "source": [
    "At the instant shown, suppose small displacements $\\Delta S_A\\sim\\Delta S_B $. Also $|A_0A|\\Delta\\phi=\\Delta S_A$and $|B_0B|\\Delta\\psi=\\Delta S_B$. Then, we get:\n",
    "$$\\frac{\\Delta\\psi}{\\Delta\\phi}=\\frac{\\psi}{\\phi}\\approx\\frac{|A_0A|}{B_0B}$$\n",
    "In other words, we can find transfer function of this system as:\n",
    "$$ \\phi(s) \\longrightarrow\\fbox{$\\frac{A_0A}{B_0B}$}\\longrightarrow \\psi(s)$$"
   ]
  },
  {
   "cell_type": "markdown",
   "metadata": {},
   "source": [
    "Especially in the early years of civilization(and up to 18$^{th}$ century) the\n",
    "artisans constructed some simple machines using this concept. Let us animate the real output and linearized output then see the difference better."
   ]
  },
  {
   "cell_type": "code",
   "execution_count": 7,
   "metadata": {},
   "outputs": [
    {
     "data": {
      "application/vnd.jupyter.widget-view+json": {
       "model_id": "f78e54616ebf4b86895bcc6443e6c6e3",
       "version_major": 2,
       "version_minor": 0
      },
      "text/plain": [
       "interactive(children=(FloatSlider(value=0.0, description='phi_deg', max=50.0, step=0.3), Output()), _dom_class…"
      ]
     },
     "metadata": {},
     "output_type": "display_data"
    },
    {
     "data": {
      "application/vnd.jupyter.widget-view+json": {
       "model_id": "bf792f8f8f7f4aa199f2a1121a4422d5",
       "version_major": 2,
       "version_minor": 0
      },
      "text/plain": [
       "FigureWidget({\n",
       "    'data': [{'name': 'Real Output',\n",
       "              'type': 'scatter',\n",
       "              'uid': '658…"
      ]
     },
     "metadata": {},
     "output_type": "display_data"
    }
   ],
   "source": [
    "fig3 = go.FigureWidget()\n",
    "fig3.add_trace(go.Scatter(name=\"Real Output\"))\n",
    "fig3.add_trace(go.Scatter(name=\"Linearized Output\"))\n",
    "fig3.update_yaxes( range=[40, 100])\n",
    "fig3.update_xaxes( range=[10, 70])\n",
    "fig3.update_layout( autosize=False, width=800, height=700)\n",
    "fig3.add_trace(go.Scatter( x=[19.696], y=[56.437],  mode=\"markers+text\", name=\"B_0\", marker_symbol='circle-dot',\n",
    "                         text=[\"B_0\"],\n",
    "                        textposition=\"bottom center\"))\n",
    "A_B = 59.91\n",
    "A0_A = 60\n",
    "B0_B=40\n",
    "A0_O= 19.69615506\n",
    "B0_O = 56.43703645\n",
    "@interact(phi_deg=(0, 50, 0.3))\n",
    "def update(phi_deg=0):\n",
    "    with fig3.batch_update():\n",
    "            theta_A=80+phi_deg\n",
    "            fig3.data[0].x=[A0_O,A0_O+B0_B*m.sin(calc_theta_B(theta_A))]\n",
    "            fig3.data[0].y = [B0_O,B0_O-B0_B*m.cos(calc_theta_B(theta_A))]\n",
    "            fig3.data[1].x=[A0_O,A0_O+B0_B*m.sin(m.radians(80+phi_deg*1.5))]\n",
    "            fig3.data[1].y = [B0_O,B0_O-B0_B*m.cos(m.radians(80+phi_deg*1.5))]\n",
    "            print(\"Error of linearized output: {}\".format(abs((calc_theta_B(theta_A)-m.radians(80+phi_deg*1.5))/calc_theta_B(theta_A))))\n",
    "fig3"
   ]
  },
  {
   "cell_type": "markdown",
   "metadata": {},
   "source": [
    "Error of linearized output is less than $1\\%$ up to $30^{\\circ}$ input rotation."
   ]
  }
 ],
 "metadata": {
  "kernelspec": {
   "display_name": "Python 3",
   "language": "python",
   "name": "python3"
  },
  "language_info": {
   "codemirror_mode": {
    "name": "ipython",
    "version": 3
   },
   "file_extension": ".py",
   "mimetype": "text/x-python",
   "name": "python",
   "nbconvert_exporter": "python",
   "pygments_lexer": "ipython3",
   "version": "3.7.6"
  }
 },
 "nbformat": 4,
 "nbformat_minor": 4
}
