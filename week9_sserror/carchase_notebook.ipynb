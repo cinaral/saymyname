{
 "cells": [
  {
   "cell_type": "code",
   "execution_count": 1,
   "metadata": {
    "ExecuteTime": {
     "end_time": "2020-07-22T15:20:44.887321Z",
     "start_time": "2020-07-22T15:20:44.836258Z"
    }
   },
   "outputs": [],
   "source": [
    "import carchase_game as cg\n",
    "import numpy as np\n",
    "import ipycanvas as ipc\n",
    "from ipywidgets import Image\n",
    "import math"
   ]
  },
  {
   "cell_type": "code",
   "execution_count": 2,
   "metadata": {
    "ExecuteTime": {
     "end_time": "2020-07-22T15:20:45.742047Z",
     "start_time": "2020-07-22T15:20:45.734042Z"
    }
   },
   "outputs": [],
   "source": [
    "m=1000\n",
    "c=1.5\n",
    "dt=0.1\n",
    "K_d = 1\n",
    "K_p = 0.1\n",
    "x0= -50\n",
    "dx0= 30\n",
    "y0= 0\n",
    "dy0= 30\n",
    "spacing=1\n",
    "car_l=4.5\n",
    "tire_d=180/260\n",
    "\n",
    "def compute_dynamics(dx,F):\n",
    "    d2x= (F-c*dx)/m\n",
    "    return d2x\n",
    "def find_desired_d2x(x,desired_x,dx,desired_dx):\n",
    "    d2x=K_p*(desired_x-x)+K_d*(desired_dx-dx)\n",
    "    return d2x\n",
    "def find_desired_force(d2x,dx):\n",
    "    F=d2x*m+c*dx\n",
    "    return F\n",
    "def find_desired_traj(spacing,y,dy):\n",
    "    desired_x=y-spacing\n",
    "    desired_dx=dy\n",
    "    return desired_x, desired_dx\n",
    "def update_carchase(x,dx,d2x,y,dy,spacing,dt):\n",
    "    desired_x, desired_dx = find_desired_traj(spacing,y,dy)\n",
    "    d2x = find_desired_d2x(x,desired_x,dx,desired_dx)\n",
    "    y = y + dy*dt\n",
    "    dx = dx + d2x * dt\n",
    "    x = x + dx * dt\n",
    "    return desired_x, desired_dx, x , dx , d2x, y"
   ]
  },
  {
   "cell_type": "code",
   "execution_count": 4,
   "metadata": {
    "ExecuteTime": {
     "end_time": "2020-07-22T15:24:06.275629Z",
     "start_time": "2020-07-22T15:24:06.210476Z"
    }
   },
   "outputs": [
    {
     "data": {
      "application/vnd.jupyter.widget-view+json": {
       "model_id": "e97a5d68682442379f0e6f26aa30c367",
       "version_major": 2,
       "version_minor": 0
      },
      "text/plain": [
       "MultiCanvas(height=300, width=910)"
      ]
     },
     "metadata": {},
     "output_type": "display_data"
    }
   ],
   "source": [
    "try: # try to stop the game first in order to avoid creating redundant threads\n",
    "    game.stop()\n",
    "except NameError:\n",
    "    pass\n",
    "game = cg.Game(0 , 0 , 0, 0, update_carchase, spacing, tire_d , car_l, t0=0, fps=60)\n",
    "game.start()\n",
    "display(game.canvas)"
   ]
  },
  {
   "cell_type": "code",
   "execution_count": 8,
   "metadata": {
    "ExecuteTime": {
     "end_time": "2020-07-22T15:14:13.184541Z",
     "start_time": "2020-07-22T15:14:13.174532Z"
    }
   },
   "outputs": [],
   "source": [
    "game.stop()"
   ]
  }
 ],
 "metadata": {
  "hide_input": false,
  "kernelspec": {
   "display_name": "Python 3",
   "language": "python",
   "name": "python3"
  },
  "language_info": {
   "codemirror_mode": {
    "name": "ipython",
    "version": 3
   },
   "file_extension": ".py",
   "mimetype": "text/x-python",
   "name": "python",
   "nbconvert_exporter": "python",
   "pygments_lexer": "ipython3",
   "version": "3.8.3"
  },
  "toc": {
   "base_numbering": 1,
   "nav_menu": {},
   "number_sections": true,
   "sideBar": true,
   "skip_h1_title": false,
   "title_cell": "Table of Contents",
   "title_sidebar": "Contents",
   "toc_cell": false,
   "toc_position": {},
   "toc_section_display": true,
   "toc_window_display": false
  },
  "varInspector": {
   "cols": {
    "lenName": 16,
    "lenType": 16,
    "lenVar": 40
   },
   "kernels_config": {
    "python": {
     "delete_cmd_postfix": "",
     "delete_cmd_prefix": "del ",
     "library": "var_list.py",
     "varRefreshCmd": "print(var_dic_list())"
    },
    "r": {
     "delete_cmd_postfix": ") ",
     "delete_cmd_prefix": "rm(",
     "library": "var_list.r",
     "varRefreshCmd": "cat(var_dic_list()) "
    }
   },
   "types_to_exclude": [
    "module",
    "function",
    "builtin_function_or_method",
    "instance",
    "_Feature"
   ],
   "window_display": false
  }
 },
 "nbformat": 4,
 "nbformat_minor": 4
}
