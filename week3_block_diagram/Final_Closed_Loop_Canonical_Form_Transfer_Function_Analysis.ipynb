{
 "cells": [
  {
   "cell_type": "markdown",
   "metadata": {
    "colab_type": "text",
    "id": "view-in-github"
   },
   "source": [
    "<a href=\"https://colab.research.google.com/github/cinaral/saymyname/blob/master/Final_Closed_Loop_Canonical_Form_Transfer_Function_Analysis.ipynb\" target=\"_parent\"><img src=\"https://colab.research.google.com/assets/colab-badge.svg\" alt=\"Open In Colab\"/></a>"
   ]
  },
  {
   "cell_type": "markdown",
   "metadata": {
    "colab_type": "text",
    "id": "ztaxzfMJsfq6"
   },
   "source": [
    "In this page, we will work on any transfer function of canonical closed loop control systems. We will get output function, \n",
    "and we will analyse the system."
   ]
  },
  {
   "cell_type": "markdown",
   "metadata": {
    "colab_type": "text",
    "id": "QQCyKK2GsnHx"
   },
   "source": [
    "A control system provides the desired responce by controlling the output."
   ]
  },
  {
   "cell_type": "markdown",
   "metadata": {
    "colab_type": "text",
    "id": "Jpo8wxjbsumN"
   },
   "source": [
    "Open loop control systems are manually controlled systems, and they are not accurate because control action is independent \n",
    "of the output."
   ]
  },
  {
   "cell_type": "markdown",
   "metadata": {
    "colab_type": "text",
    "id": "gMJ5-7Xb2E6g"
   },
   "source": [
    "![alt text](https://raw.githubusercontent.com/cinaral/saymyname/master/Open-loop-feedback-system.jpg)"
   ]
  },
  {
   "cell_type": "markdown",
   "metadata": {
    "colab_type": "text",
    "id": "NTBJplgZszeQ"
   },
   "source": [
    "Closed loop systems are controlled by feedback loop which makes them accurate because control action depends on the \n",
    "output.It tries to make the error between the desired output and obtained output acceptably small."
   ]
  },
  {
   "cell_type": "markdown",
   "metadata": {
    "colab_type": "text",
    "id": "f2gUYwd12kj8"
   },
   "source": [
    "![alt text](https://raw.githubusercontent.com/cinaral/saymyname/master/ctr.png)"
   ]
  },
  {
   "cell_type": "markdown",
   "metadata": {
    "colab_type": "text",
    "id": "1oDzU-Ols5xi"
   },
   "source": [
    "Transfer function is a Laplace (s) domain function to define the control system. \n",
    "It is the ratio of output and input in s domain. Later, we can return back time domain input and output \n",
    "by inverse Laplace transform."
   ]
  },
  {
   "cell_type": "markdown",
   "metadata": {
    "colab_type": "text",
    "id": "4fIlSZxGtDNg"
   },
   "source": [
    "By applying reduction operations, we can obtain equivalent canonical form of the closed loop systems \n",
    "which has one total plant function and one total feedback function."
   ]
  },
  {
   "cell_type": "markdown",
   "metadata": {
    "colab_type": "text",
    "id": "Pwrij6tXOyYo"
   },
   "source": [
    "![alt text](https://raw.githubusercontent.com/cinaral/saymyname/master/3-block-diagram-representation-8-638.jpg)"
   ]
  },
  {
   "cell_type": "markdown",
   "metadata": {
    "colab_type": "text",
    "id": "yWVjYnb0RkEK"
   },
   "source": [
    "Steps 4 and 5 are actually used when they are needed."
   ]
  },
  {
   "cell_type": "markdown",
   "metadata": {
    "colab_type": "text",
    "id": "c-V6h_OwOdXr"
   },
   "source": [
    "![alt text](https://raw.githubusercontent.com/cinaral/saymyname/master/8-block-diagram-representation-13-638.jpg)"
   ]
  },
  {
   "cell_type": "markdown",
   "metadata": {
    "colab_type": "text",
    "id": "hwEO6ZOPPPeM"
   },
   "source": [
    "At the end, we will reach the canonical form."
   ]
  },
  {
   "cell_type": "markdown",
   "metadata": {
    "colab_type": "text",
    "id": "kC3yLgAAPdgB"
   },
   "source": [
    "![alt text](https://raw.githubusercontent.com/cinaral/saymyname/master/1-block-diagram-representation-6-638.jpg)"
   ]
  },
  {
   "cell_type": "markdown",
   "metadata": {
    "colab_type": "text",
    "id": "pSJMNnS4vvG_"
   },
   "source": [
    "This is the canonical form of closed loop system with the negative feedback."
   ]
  },
  {
   "cell_type": "markdown",
   "metadata": {
    "colab_type": "text",
    "id": "Cms-zSZ3vg6u"
   },
   "source": [
    "![alt text](https://raw.githubusercontent.com/cinaral/saymyname/master/Matrix-transfer-function-feedback-system.jpg)"
   ]
  },
  {
   "cell_type": "markdown",
   "metadata": {
    "colab_type": "text",
    "id": "gMoxmLKY6lZs"
   },
   "source": [
    "Its closed loop transfer function is"
   ]
  },
  {
   "cell_type": "markdown",
   "metadata": {
    "colab_type": "text",
    "id": "5opumwse6vKe"
   },
   "source": [
    "\\begin{equation*}\n",
    "\\frac{G(s)}{1+G(s)H(s)}\n",
    "\\end{equation*}"
   ]
  },
  {
   "cell_type": "markdown",
   "metadata": {
    "colab_type": "text",
    "id": "MwvndD2xtRpd"
   },
   "source": [
    "After doing these, we need to find output function."
   ]
  },
  {
   "cell_type": "markdown",
   "metadata": {
    "colab_type": "text",
    "id": "-5r0CkivluEz"
   },
   "source": [
    "Let' s get and import necessary libraries."
   ]
  },
  {
   "cell_type": "code",
   "execution_count": 0,
   "metadata": {
    "colab": {},
    "colab_type": "code",
    "id": "vDqHqm9f-iHs"
   },
   "outputs": [],
   "source": [
    "!pip install control\n",
    "\n",
    "import matplotlib\n",
    "import ipywidgets\n",
    "import plotly\n",
    "import numpy as np\n",
    "import math\n",
    "import os\n",
    "from IPython import *\n",
    "import scipy\n",
    "\n",
    "%matplotlib inline\n",
    "from sympy import symbols\n",
    "from sympy import simplify\n",
    "from sympy.abc import s, t, a\n",
    "from sympy.integrals import *\n",
    "from sympy.plotting import *\n",
    "from control import *\n",
    "from control.matlab import *\n",
    "import matplotlib.pyplot as plt\n",
    "from sympy import Heaviside"
   ]
  },
  {
   "cell_type": "markdown",
   "metadata": {
    "colab_type": "text",
    "id": "_Se6ZX_xuzIr"
   },
   "source": [
    "Now, let's write Laplace domain functions."
   ]
  },
  {
   "cell_type": "markdown",
   "metadata": {
    "colab_type": "text",
    "id": "OTciLpsqu_YS"
   },
   "source": [
    "With the help of the Python Control library, we can use the Matlab format."
   ]
  },
  {
   "cell_type": "markdown",
   "metadata": {
    "colab_type": "text",
    "id": "X92GkaNbvo3X"
   },
   "source": [
    "\\begin{equation*}\n",
    "\\frac{as^n+bs^{n-1}+cs^{n-2}+\\cdots+ws^{1}+xs^{0}}{ds^{n+1}+es^{n}+\\cdots+ms^{1}+ks^{0}}\n",
    "\\end{equation*}"
   ]
  },
  {
   "cell_type": "markdown",
   "metadata": {
    "colab_type": "text",
    "id": "V4oojTKbz6kN"
   },
   "source": [
    "This is a transfer function."
   ]
  },
  {
   "cell_type": "markdown",
   "metadata": {
    "colab_type": "text",
    "id": "n6KFgYVo0Nyh"
   },
   "source": [
    "We will write its coefficients for numerator like;"
   ]
  },
  {
   "cell_type": "markdown",
   "metadata": {
    "colab_type": "text",
    "id": "v2z5Lxf5Vz_6"
   },
   "source": [
    "a  b  c  ...  w  s"
   ]
  },
  {
   "cell_type": "markdown",
   "metadata": {
    "colab_type": "text",
    "id": "sG0vl_kq0olV"
   },
   "source": [
    "Then its denumerator like;"
   ]
  },
  {
   "cell_type": "markdown",
   "metadata": {
    "colab_type": "text",
    "id": "3e6HZCPiV9Zt"
   },
   "source": [
    "d  e  ...  m  k"
   ]
  },
  {
   "cell_type": "markdown",
   "metadata": {
    "colab_type": "text",
    "id": "mRHNdhZpbzmC"
   },
   "source": [
    "so it is just numbers and space between them."
   ]
  },
  {
   "cell_type": "markdown",
   "metadata": {
    "colab_type": "text",
    "id": "OnSExk4Z19LI"
   },
   "source": [
    "First, let's write any input function."
   ]
  },
  {
   "cell_type": "code",
   "execution_count": 58,
   "metadata": {
    "colab": {
     "base_uri": "https://localhost:8080/",
     "height": 153
    },
    "colab_type": "code",
    "id": "aw093vbT00nF",
    "outputId": "a41f4a14-abae-40f9-b940-31901fc331f1"
   },
   "outputs": [
    {
     "name": "stdout",
     "output_type": "stream",
     "text": [
      "enter coefficients of numerator of input function = 1\n",
      "enter coefficients of denumerator of input function = 1 2 3\n",
      "Input or reference function in s domain\n",
      "\n",
      "      1\n",
      "-------------\n",
      "s^2 + 2 s + 3\n",
      "\n"
     ]
    }
   ],
   "source": [
    "numX = list(map(float,input('enter coefficients of numerator of input function = ').split()))\n",
    "denX = list(map(float,input('enter coefficients of denumerator of input function = ').split()))\n",
    "X = tf(numX, denX)\n",
    "print('Input or reference function in s domain')\n",
    "print(X)"
   ]
  },
<<<<<<< HEAD
  {
   "cell_type": "markdown",
   "metadata": {
    "colab_type": "text",
    "id": "1TBkehQX3Qkf"
   },
   "source": [
    "Now, any canonical plant function."
   ]
  },
  {
   "cell_type": "code",
   "execution_count": 59,
   "metadata": {
    "colab": {
     "base_uri": "https://localhost:8080/",
     "height": 153
||||||| 66faaf3
  "cells": [
    {
      "cell_type": "markdown",
      "metadata": {
        "id": "view-in-github",
        "colab_type": "text"
      },
      "source": [
        "<a href=\"https://colab.research.google.com/github/cinaral/saymyname/blob/master/Final_Closed_Loop_Canonical_Form_Transfer_Function_Analysis.ipynb\" target=\"_parent\"><img src=\"https://colab.research.google.com/assets/colab-badge.svg\" alt=\"Open In Colab\"/></a>"
      ]
    },
    {
      "cell_type": "markdown",
      "metadata": {
        "id": "ztaxzfMJsfq6",
        "colab_type": "text"
      },
      "source": [
        "In this page, we will work on any transfer function of canonical closed loop control systems. We will get output function, \n",
        "and we will analyse the system."
      ]
    },
    {
      "cell_type": "markdown",
      "metadata": {
        "id": "QQCyKK2GsnHx",
        "colab_type": "text"
      },
      "source": [
        "A control system provides the desired responce by controlling the output."
      ]
    },
    {
      "cell_type": "markdown",
      "metadata": {
        "id": "Jpo8wxjbsumN",
        "colab_type": "text"
      },
      "source": [
        "Open loop control systems are manually controlled systems, and they are not accurate because control action is independent \n",
        "of the output."
      ]
    },
    {
      "cell_type": "markdown",
      "metadata": {
        "id": "gMJ5-7Xb2E6g",
        "colab_type": "text"
      },
      "source": [
        "![alt text](https://raw.githubusercontent.com/cinaral/saymyname/master/Open-loop-feedback-system.jpg)"
      ]
    },
    {
      "cell_type": "markdown",
      "metadata": {
        "id": "NTBJplgZszeQ",
        "colab_type": "text"
      },
      "source": [
        "Closed loop systems are controlled by feedback loop which makes them accurate because control action depends on the \n",
        "output.It tries to make the error between the desired output and obtained output acceptably small."
      ]
    },
    {
      "cell_type": "markdown",
      "metadata": {
        "id": "f2gUYwd12kj8",
        "colab_type": "text"
      },
      "source": [
        "![alt text](https://raw.githubusercontent.com/cinaral/saymyname/master/ctr.png)"
      ]
    },
    {
      "cell_type": "markdown",
      "metadata": {
        "id": "1oDzU-Ols5xi",
        "colab_type": "text"
      },
      "source": [
        "Transfer function is a Laplace (s) domain function to define the control system. \n",
        "It is the ratio of output and input in s domain. Later, we can return back time domain input and output \n",
        "by inverse Laplace transform."
      ]
    },
    {
      "cell_type": "markdown",
      "metadata": {
        "id": "4fIlSZxGtDNg",
        "colab_type": "text"
      },
      "source": [
        "By applying reduction operations, we can obtain equivalent canonical form of the closed loop systems \n",
        "which has one total plant function and one total feedback function."
      ]
    },
    {
      "cell_type": "markdown",
      "metadata": {
        "id": "Pwrij6tXOyYo",
        "colab_type": "text"
      },
      "source": [
        "![alt text](https://raw.githubusercontent.com/cinaral/saymyname/master/3-block-diagram-representation-8-638.jpg)"
      ]
    },
    {
      "cell_type": "markdown",
      "metadata": {
        "id": "yWVjYnb0RkEK",
        "colab_type": "text"
      },
      "source": [
        "Steps 4 and 5 are actually used when they are needed."
      ]
    },
    {
      "cell_type": "markdown",
      "metadata": {
        "id": "c-V6h_OwOdXr",
        "colab_type": "text"
      },
      "source": [
        "![alt text](https://raw.githubusercontent.com/cinaral/saymyname/master/8-block-diagram-representation-13-638.jpg)"
      ]
    },
    {
      "cell_type": "markdown",
      "metadata": {
        "id": "hwEO6ZOPPPeM",
        "colab_type": "text"
      },
      "source": [
        "At the end, we will reach the canonical form."
      ]
    },
    {
      "cell_type": "markdown",
      "metadata": {
        "id": "kC3yLgAAPdgB",
        "colab_type": "text"
      },
      "source": [
        "![alt text](https://raw.githubusercontent.com/cinaral/saymyname/master/1-block-diagram-representation-6-638.jpg)"
      ]
    },
    {
      "cell_type": "markdown",
      "metadata": {
        "id": "pSJMNnS4vvG_",
        "colab_type": "text"
      },
      "source": [
        "This is the canonical form of closed loop system with the negative feedback."
      ]
    },
    {
      "cell_type": "markdown",
      "metadata": {
        "id": "Cms-zSZ3vg6u",
        "colab_type": "text"
      },
      "source": [
        "![alt text](https://raw.githubusercontent.com/cinaral/saymyname/master/Matrix-transfer-function-feedback-system.jpg)"
      ]
    },
    {
      "cell_type": "markdown",
      "metadata": {
        "id": "gMoxmLKY6lZs",
        "colab_type": "text"
      },
      "source": [
        "Its closed loop transfer function is"
      ]
    },
    {
      "cell_type": "markdown",
      "metadata": {
        "id": "5opumwse6vKe",
        "colab_type": "text"
      },
      "source": [
        "\\begin{equation*}\n",
        "\\frac{G(s)}{1+G(s)H(s)}\n",
        "\\end{equation*}"
      ]
    },
    {
      "cell_type": "markdown",
      "metadata": {
        "id": "MwvndD2xtRpd",
        "colab_type": "text"
      },
      "source": [
        "After doing these, we need to find output function."
      ]
    },
    {
      "cell_type": "markdown",
      "metadata": {
        "id": "-5r0CkivluEz",
        "colab_type": "text"
      },
      "source": [
        "Let' s get and import necessary libraries."
      ]
    },
    {
      "cell_type": "code",
      "metadata": {
        "id": "vDqHqm9f-iHs",
        "colab_type": "code",
        "colab": {}
      },
      "source": [
        "!pip install control\n",
        "\n",
        "import matplotlib\n",
        "import ipywidgets\n",
        "import plotly\n",
        "import numpy as np\n",
        "import math\n",
        "import os\n",
        "from IPython import *\n",
        "import scipy\n",
        "\n",
        "%matplotlib inline\n",
        "from sympy import symbols\n",
        "from sympy import simplify\n",
        "from sympy.abc import s, t, a\n",
        "from sympy.integrals import *\n",
        "from sympy.plotting import *\n",
        "from control import *\n",
        "from control.matlab import *\n",
        "import matplotlib.pyplot as plt\n",
        "from sympy import Heaviside"
      ],
      "execution_count": 0,
      "outputs": []
    },
    {
      "cell_type": "markdown",
      "metadata": {
        "id": "_Se6ZX_xuzIr",
        "colab_type": "text"
      },
      "source": [
        "Now, let's write Laplace domain functions."
      ]
    },
    {
      "cell_type": "markdown",
      "metadata": {
        "id": "OTciLpsqu_YS",
        "colab_type": "text"
      },
      "source": [
        "With the help of the Python Control library, we can use the Matlab format."
      ]
    },
    {
      "cell_type": "markdown",
      "metadata": {
        "id": "X92GkaNbvo3X",
        "colab_type": "text"
      },
      "source": [
        "\\begin{equation*}\n",
        "\\frac{as^n+bs^{n-1}+cs^{n-2}+\\cdots+ws^{1}+xs^{0}}{ds^{n+1}+es^{n}+\\cdots+ms^{1}+ks^{0}}\n",
        "\\end{equation*}"
      ]
    },
    {
      "cell_type": "markdown",
      "metadata": {
        "id": "V4oojTKbz6kN",
        "colab_type": "text"
      },
      "source": [
        "This is a transfer function."
      ]
    },
    {
      "cell_type": "markdown",
      "metadata": {
        "id": "n6KFgYVo0Nyh",
        "colab_type": "text"
      },
      "source": [
        "We will write its coefficients for numerator like;"
      ]
    },
    {
      "cell_type": "markdown",
      "metadata": {
        "id": "v2z5Lxf5Vz_6",
        "colab_type": "text"
      },
      "source": [
        "a  b  c  ...  w  s"
      ]
    },
    {
      "cell_type": "markdown",
      "metadata": {
        "id": "sG0vl_kq0olV",
        "colab_type": "text"
      },
      "source": [
        "Then its denumerator like;"
      ]
    },
    {
      "cell_type": "markdown",
      "metadata": {
        "id": "3e6HZCPiV9Zt",
        "colab_type": "text"
      },
      "source": [
        "d  e  ...  m  k"
      ]
    },
    {
      "cell_type": "markdown",
      "metadata": {
        "id": "mRHNdhZpbzmC",
        "colab_type": "text"
      },
      "source": [
        "so it is just numbers and space between them."
      ]
    },
    {
      "cell_type": "markdown",
      "metadata": {
        "id": "OnSExk4Z19LI",
        "colab_type": "text"
      },
      "source": [
        "First, let's write any input function."
      ]
    },
    {
      "cell_type": "code",
      "metadata": {
        "id": "aw093vbT00nF",
        "colab_type": "code",
        "colab": {
          "base_uri": "https://localhost:8080/",
          "height": 153
        },
        "outputId": "a41f4a14-abae-40f9-b940-31901fc331f1"
      },
      "source": [
        "numX = list(map(float,input('enter coefficients of numerator of input function = ').split()))\n",
        "denX = list(map(float,input('enter coefficients of denumerator of input function = ').split()))\n",
        "X = tf(numX, denX)\n",
        "print('Input or reference function in s domain')\n",
        "print(X)"
      ],
      "execution_count": 58,
      "outputs": [
        {
          "output_type": "stream",
          "text": [
            "enter coefficients of numerator of input function = 1\n",
            "enter coefficients of denumerator of input function = 1 2 3\n",
            "Input or reference function in s domain\n",
            "\n",
            "      1\n",
            "-------------\n",
            "s^2 + 2 s + 3\n",
            "\n"
          ],
          "name": "stdout"
        }
      ]
    },
    {
      "cell_type": "markdown",
      "metadata": {
        "id": "1TBkehQX3Qkf",
        "colab_type": "text"
      },
      "source": [
        "Now, any canonical plant function."
      ]
    },
    {
      "cell_type": "code",
      "metadata": {
        "id": "08EZtTVb3aJ2",
        "colab_type": "code",
        "colab": {
          "base_uri": "https://localhost:8080/",
          "height": 153
        },
        "outputId": "0b5809c0-894b-4dc3-f466-f202aac9b179"
      },
      "source": [
        "numG = list(map(float,input('enter coefficients of numerator of canonical plant function = ').split()))\n",
        "denG = list(map(float,input('enter coefficients of denumerator of canonical plant function = ').split()))\n",
        "G = tf(numG, denG)\n",
        "print('Canonical plant function in s domain')\n",
        "print(G)"
      ],
      "execution_count": 59,
      "outputs": [
        {
          "output_type": "stream",
          "text": [
            "enter coefficients of numerator of canonical plant function = 1 2\n",
            "enter coefficients of denumerator of canonical plant function = 3 4 5\n",
            "Canonical plant function in s domain\n",
            "\n",
            "     s + 2\n",
            "---------------\n",
            "3 s^2 + 4 s + 5\n",
            "\n"
          ],
          "name": "stdout"
        }
      ]
    },
    {
      "cell_type": "markdown",
      "metadata": {
        "id": "4pzcf1Pq3rxs",
        "colab_type": "text"
      },
      "source": [
        "Then, we can write any canonical negative feedback function. It will directly give open loop and closed loop transfer function and the output of the system."
      ]
    },
    {
      "cell_type": "code",
      "metadata": {
        "id": "KhGGk6Ct40qH",
        "colab_type": "code",
        "colab": {
          "base_uri": "https://localhost:8080/",
          "height": 459
        },
        "outputId": "281ee9a6-9e7b-44d8-a6b9-7093141b35ce"
      },
      "source": [
        "numH = list(map(float,input('enter coefficients of numerator of canonical feedback function = ').split()))\n",
        "denH = list(map(float,input('enter coefficients of denumerator of canonical feedback function = ').split()))\n",
        "H = tf(numH, denH)\n",
        "print('Canonical feedback function in s domain')\n",
        "print(H)\n",
        "\n",
        "GH = G*H\n",
        "print('Open loop transfer function')\n",
        "print(GH)\n",
        "\n",
        "M = G/(1+G*H)\n",
        "print('Closed loop transfer function')\n",
        "print(M)\n",
        "\n",
        "Y = M*X\n",
        "print('Output in s domain')\n",
        "print(Y)"
      ],
      "execution_count": 61,
      "outputs": [
        {
          "output_type": "stream",
          "text": [
            "enter coefficients of numerator of canonical feedback function = 1\n",
            "enter coefficients of denumerator of canonical feedback function = 1 0\n",
            "Canonical feedback function in s domain\n",
            "\n",
            "1\n",
            "-\n",
            "s\n",
            "\n",
            "Open loop transfer function\n",
            "\n",
            "       s + 2\n",
            "-------------------\n",
            "3 s^3 + 4 s^2 + 5 s\n",
            "\n",
            "Closed loop transfer function\n",
            "\n",
            "       3 s^4 + 10 s^3 + 13 s^2 + 10 s\n",
            "--------------------------------------------\n",
            "9 s^5 + 24 s^4 + 49 s^3 + 50 s^2 + 38 s + 10\n",
            "\n",
            "Output in s domain\n",
            "\n",
            "                  3 s^4 + 10 s^3 + 13 s^2 + 10 s\n",
            "-------------------------------------------------------------------\n",
            "9 s^7 + 42 s^6 + 124 s^5 + 220 s^4 + 285 s^3 + 236 s^2 + 134 s + 30\n",
            "\n"
          ],
          "name": "stdout"
        }
      ]
    },
    {
      "cell_type": "markdown",
      "metadata": {
        "id": "h7tGRvTq5Qrt",
        "colab_type": "text"
      },
      "source": [
        "Now, let's analyse this closed loop system."
      ]
    },
    {
      "cell_type": "markdown",
      "metadata": {
        "id": "M1JT00It6GKD",
        "colab_type": "text"
      },
      "source": [
        "Most of the times, we look the response of the system to impulse and step inputs. Of course we can give any input ,but we need to get stable output to control the system at the end. Any input can easily cause unstability, oscillations, or resonance in the output."
      ]
=======
  "cells": [
    {
      "cell_type": "markdown",
      "metadata": {
        "id": "view-in-github",
        "colab_type": "text"
      },
      "source": [
        "<a href=\"https://colab.research.google.com/github/cinaral/saymyname/blob/master/Final_Closed_Loop_Canonical_Form_Transfer_Function_Analysis.ipynb\" target=\"_parent\"><img src=\"https://colab.research.google.com/assets/colab-badge.svg\" alt=\"Open In Colab\"/></a>"
      ]
    },
    {
      "cell_type": "markdown",
      "metadata": {
        "id": "ztaxzfMJsfq6",
        "colab_type": "text"
      },
      "source": [
        "In this page, we will work on any transfer function of canonical closed loop control systems. We will get output function, \n",
        "and we will analyse the system."
      ]
    },
    {
      "cell_type": "markdown",
      "metadata": {
        "id": "QQCyKK2GsnHx",
        "colab_type": "text"
      },
      "source": [
        "A control system provides the desired responce by controlling the output."
      ]
    },
    {
      "cell_type": "markdown",
      "metadata": {
        "id": "Jpo8wxjbsumN",
        "colab_type": "text"
      },
      "source": [
        "Open loop control systems are manually controlled systems, and they are not accurate because control action is independent \n",
        "of the output."
      ]
    },
    {
      "cell_type": "markdown",
      "metadata": {
        "id": "gMJ5-7Xb2E6g",
        "colab_type": "text"
      },
      "source": [
        "![alt text](https://raw.githubusercontent.com/cinaral/saymyname/master/references/Open-loop-feedback-system.jpg)"
      ]
    },
    {
      "cell_type": "markdown",
      "metadata": {
        "id": "NTBJplgZszeQ",
        "colab_type": "text"
      },
      "source": [
        "Closed loop systems are controlled by feedback loop which makes them accurate because control action depends on the \n",
        "output.It tries to make the error between the desired output and obtained output acceptably small."
      ]
    },
    {
      "cell_type": "markdown",
      "metadata": {
        "id": "f2gUYwd12kj8",
        "colab_type": "text"
      },
      "source": [
        "![alt text](https://raw.githubusercontent.com/cinaral/saymyname/master/references/ctr.png)"
      ]
    },
    {
      "cell_type": "markdown",
      "metadata": {
        "id": "1oDzU-Ols5xi",
        "colab_type": "text"
      },
      "source": [
        "Transfer function is a Laplace (s) domain function to define the control system. \n",
        "It is the ratio of output and input in s domain. Later, we can return back time domain input and output \n",
        "by inverse Laplace transform."
      ]
    },
    {
      "cell_type": "markdown",
      "metadata": {
        "id": "4fIlSZxGtDNg",
        "colab_type": "text"
      },
      "source": [
        "By applying reduction operations, we can obtain equivalent canonical form of the closed loop systems \n",
        "which has one total plant function and one total feedback function."
      ]
    },
    {
      "cell_type": "markdown",
      "metadata": {
        "id": "Pwrij6tXOyYo",
        "colab_type": "text"
      },
      "source": [
        "![alt text](https://raw.githubusercontent.com/cinaral/saymyname/master/references/3-block-diagram-representation-8-638.jpg)"
      ]
    },
    {
      "cell_type": "markdown",
      "metadata": {
        "id": "yWVjYnb0RkEK",
        "colab_type": "text"
      },
      "source": [
        "Steps 4 and 5 are actually used when they are needed."
      ]
    },
    {
      "cell_type": "markdown",
      "metadata": {
        "id": "c-V6h_OwOdXr",
        "colab_type": "text"
      },
      "source": [
        "![alt text](https://raw.githubusercontent.com/cinaral/saymyname/master/references/8-block-diagram-representation-13-638.jpg)"
      ]
    },
    {
      "cell_type": "markdown",
      "metadata": {
        "id": "hwEO6ZOPPPeM",
        "colab_type": "text"
      },
      "source": [
        "At the end, we will reach the canonical form."
      ]
    },
    {
      "cell_type": "markdown",
      "metadata": {
        "id": "kC3yLgAAPdgB",
        "colab_type": "text"
      },
      "source": [
        "![alt text](https://raw.githubusercontent.com/cinaral/saymyname/master/references/1-block-diagram-representation-6-638.jpg)"
      ]
    },
    {
      "cell_type": "markdown",
      "metadata": {
        "id": "pSJMNnS4vvG_",
        "colab_type": "text"
      },
      "source": [
        "This is the canonical form of closed loop system with the negative feedback."
      ]
    },
    {
      "cell_type": "markdown",
      "metadata": {
        "id": "Cms-zSZ3vg6u",
        "colab_type": "text"
      },
      "source": [
        "![alt text](https://raw.githubusercontent.com/cinaral/saymyname/master/references/Matrix-transfer-function-feedback-system.jpg)"
      ]
    },
    {
      "cell_type": "markdown",
      "metadata": {
        "id": "gMoxmLKY6lZs",
        "colab_type": "text"
      },
      "source": [
        "Its closed loop transfer function is"
      ]
    },
    {
      "cell_type": "markdown",
      "metadata": {
        "id": "5opumwse6vKe",
        "colab_type": "text"
      },
      "source": [
        "\\begin{equation*}\n",
        "\\frac{G(s)}{1+G(s)H(s)}\n",
        "\\end{equation*}"
      ]
    },
    {
      "cell_type": "markdown",
      "metadata": {
        "id": "MwvndD2xtRpd",
        "colab_type": "text"
      },
      "source": [
        "After doing these, we need to find output function."
      ]
    },
    {
      "cell_type": "markdown",
      "metadata": {
        "id": "-5r0CkivluEz",
        "colab_type": "text"
      },
      "source": [
        "Let' s get and import necessary libraries."
      ]
    },
    {
      "cell_type": "code",
      "metadata": {
        "id": "vDqHqm9f-iHs",
        "colab_type": "code",
        "colab": {}
      },
      "source": [
        "!pip install control\n",
        "\n",
        "import matplotlib\n",
        "import ipywidgets\n",
        "import plotly\n",
        "import numpy as np\n",
        "import math\n",
        "import os\n",
        "from IPython import *\n",
        "import scipy\n",
        "\n",
        "%matplotlib inline\n",
        "from sympy import symbols\n",
        "from sympy import simplify\n",
        "from sympy.abc import s, t, a\n",
        "from sympy.integrals import *\n",
        "from sympy.plotting import *\n",
        "from control import *\n",
        "from control.matlab import *\n",
        "import matplotlib.pyplot as plt\n",
        "from sympy import Heaviside"
      ],
      "execution_count": 0,
      "outputs": []
    },
    {
      "cell_type": "markdown",
      "metadata": {
        "id": "_Se6ZX_xuzIr",
        "colab_type": "text"
      },
      "source": [
        "Now, let's write Laplace domain functions."
      ]
    },
    {
      "cell_type": "markdown",
      "metadata": {
        "id": "OTciLpsqu_YS",
        "colab_type": "text"
      },
      "source": [
        "With the help of the Python Control library, we can use the Matlab format."
      ]
    },
    {
      "cell_type": "markdown",
      "metadata": {
        "id": "X92GkaNbvo3X",
        "colab_type": "text"
      },
      "source": [
        "\\begin{equation*}\n",
        "\\frac{as^n+bs^{n-1}+cs^{n-2}+\\cdots+ws^{1}+xs^{0}}{ds^{n+1}+es^{n}+\\cdots+ms^{1}+ks^{0}}\n",
        "\\end{equation*}"
      ]
    },
    {
      "cell_type": "markdown",
      "metadata": {
        "id": "V4oojTKbz6kN",
        "colab_type": "text"
      },
      "source": [
        "This is a transfer function."
      ]
    },
    {
      "cell_type": "markdown",
      "metadata": {
        "id": "n6KFgYVo0Nyh",
        "colab_type": "text"
      },
      "source": [
        "We will write its coefficients for numerator like;"
      ]
    },
    {
      "cell_type": "markdown",
      "metadata": {
        "id": "v2z5Lxf5Vz_6",
        "colab_type": "text"
      },
      "source": [
        "a  b  c  ...  w  s"
      ]
    },
    {
      "cell_type": "markdown",
      "metadata": {
        "id": "sG0vl_kq0olV",
        "colab_type": "text"
      },
      "source": [
        "Then its denumerator like;"
      ]
    },
    {
      "cell_type": "markdown",
      "metadata": {
        "id": "3e6HZCPiV9Zt",
        "colab_type": "text"
      },
      "source": [
        "d  e  ...  m  k"
      ]
    },
    {
      "cell_type": "markdown",
      "metadata": {
        "id": "mRHNdhZpbzmC",
        "colab_type": "text"
      },
      "source": [
        "so it is just numbers and space between them."
      ]
    },
    {
      "cell_type": "markdown",
      "metadata": {
        "id": "OnSExk4Z19LI",
        "colab_type": "text"
      },
      "source": [
        "First, let's write any input function."
      ]
    },
    {
      "cell_type": "code",
      "metadata": {
        "id": "aw093vbT00nF",
        "colab_type": "code",
        "colab": {
          "base_uri": "https://localhost:8080/",
          "height": 153
        },
        "outputId": "a41f4a14-abae-40f9-b940-31901fc331f1"
      },
      "source": [
        "numX = list(map(float,input('enter coefficients of numerator of input function = ').split()))\n",
        "denX = list(map(float,input('enter coefficients of denumerator of input function = ').split()))\n",
        "X = tf(numX, denX)\n",
        "print('Input or reference function in s domain')\n",
        "print(X)"
      ],
      "execution_count": 58,
      "outputs": [
        {
          "output_type": "stream",
          "text": [
            "enter coefficients of numerator of input function = 1\n",
            "enter coefficients of denumerator of input function = 1 2 3\n",
            "Input or reference function in s domain\n",
            "\n",
            "      1\n",
            "-------------\n",
            "s^2 + 2 s + 3\n",
            "\n"
          ],
          "name": "stdout"
        }
      ]
    },
    {
      "cell_type": "markdown",
      "metadata": {
        "id": "1TBkehQX3Qkf",
        "colab_type": "text"
      },
      "source": [
        "Now, any canonical plant function."
      ]
    },
    {
      "cell_type": "code",
      "metadata": {
        "id": "08EZtTVb3aJ2",
        "colab_type": "code",
        "colab": {
          "base_uri": "https://localhost:8080/",
          "height": 153
        },
        "outputId": "0b5809c0-894b-4dc3-f466-f202aac9b179"
      },
      "source": [
        "numG = list(map(float,input('enter coefficients of numerator of canonical plant function = ').split()))\n",
        "denG = list(map(float,input('enter coefficients of denumerator of canonical plant function = ').split()))\n",
        "G = tf(numG, denG)\n",
        "print('Canonical plant function in s domain')\n",
        "print(G)"
      ],
      "execution_count": 59,
      "outputs": [
        {
          "output_type": "stream",
          "text": [
            "enter coefficients of numerator of canonical plant function = 1 2\n",
            "enter coefficients of denumerator of canonical plant function = 3 4 5\n",
            "Canonical plant function in s domain\n",
            "\n",
            "     s + 2\n",
            "---------------\n",
            "3 s^2 + 4 s + 5\n",
            "\n"
          ],
          "name": "stdout"
        }
      ]
    },
    {
      "cell_type": "markdown",
      "metadata": {
        "id": "4pzcf1Pq3rxs",
        "colab_type": "text"
      },
      "source": [
        "Then, we can write any canonical negative feedback function. It will directly give open loop and closed loop transfer function and the output of the system."
      ]
    },
    {
      "cell_type": "code",
      "metadata": {
        "id": "KhGGk6Ct40qH",
        "colab_type": "code",
        "colab": {
          "base_uri": "https://localhost:8080/",
          "height": 459
        },
        "outputId": "281ee9a6-9e7b-44d8-a6b9-7093141b35ce"
      },
      "source": [
        "numH = list(map(float,input('enter coefficients of numerator of canonical feedback function = ').split()))\n",
        "denH = list(map(float,input('enter coefficients of denumerator of canonical feedback function = ').split()))\n",
        "H = tf(numH, denH)\n",
        "print('Canonical feedback function in s domain')\n",
        "print(H)\n",
        "\n",
        "GH = G*H\n",
        "print('Open loop transfer function')\n",
        "print(GH)\n",
        "\n",
        "M = G/(1+G*H)\n",
        "print('Closed loop transfer function')\n",
        "print(M)\n",
        "\n",
        "Y = M*X\n",
        "print('Output in s domain')\n",
        "print(Y)"
      ],
      "execution_count": 61,
      "outputs": [
        {
          "output_type": "stream",
          "text": [
            "enter coefficients of numerator of canonical feedback function = 1\n",
            "enter coefficients of denumerator of canonical feedback function = 1 0\n",
            "Canonical feedback function in s domain\n",
            "\n",
            "1\n",
            "-\n",
            "s\n",
            "\n",
            "Open loop transfer function\n",
            "\n",
            "       s + 2\n",
            "-------------------\n",
            "3 s^3 + 4 s^2 + 5 s\n",
            "\n",
            "Closed loop transfer function\n",
            "\n",
            "       3 s^4 + 10 s^3 + 13 s^2 + 10 s\n",
            "--------------------------------------------\n",
            "9 s^5 + 24 s^4 + 49 s^3 + 50 s^2 + 38 s + 10\n",
            "\n",
            "Output in s domain\n",
            "\n",
            "                  3 s^4 + 10 s^3 + 13 s^2 + 10 s\n",
            "-------------------------------------------------------------------\n",
            "9 s^7 + 42 s^6 + 124 s^5 + 220 s^4 + 285 s^3 + 236 s^2 + 134 s + 30\n",
            "\n"
          ],
          "name": "stdout"
        }
      ]
    },
    {
      "cell_type": "markdown",
      "metadata": {
        "id": "h7tGRvTq5Qrt",
        "colab_type": "text"
      },
      "source": [
        "Now, let's analyse this closed loop system."
      ]
    },
    {
      "cell_type": "markdown",
      "metadata": {
        "id": "M1JT00It6GKD",
        "colab_type": "text"
      },
      "source": [
        "Most of the times, we look the response of the system to impulse and step inputs. Of course we can give any input ,but we need to get stable output to control the system at the end. Any input can easily cause unstability, oscillations, or resonance in the output."
      ]
>>>>>>> f3728973f2c673b3db9437d464b060a0d70d884c
    },
    "colab_type": "code",
    "id": "08EZtTVb3aJ2",
    "outputId": "0b5809c0-894b-4dc3-f466-f202aac9b179"
   },
   "outputs": [
    {
     "name": "stdout",
     "output_type": "stream",
     "text": [
      "enter coefficients of numerator of canonical plant function = 1 2\n",
      "enter coefficients of denumerator of canonical plant function = 3 4 5\n",
      "Canonical plant function in s domain\n",
      "\n",
      "     s + 2\n",
      "---------------\n",
      "3 s^2 + 4 s + 5\n",
      "\n"
     ]
    }
   ],
   "source": [
    "numG = list(map(float,input('enter coefficients of numerator of canonical plant function = ').split()))\n",
    "denG = list(map(float,input('enter coefficients of denumerator of canonical plant function = ').split()))\n",
    "G = tf(numG, denG)\n",
    "print('Canonical plant function in s domain')\n",
    "print(G)"
   ]
  },
  {
   "cell_type": "markdown",
   "metadata": {
    "colab_type": "text",
    "id": "4pzcf1Pq3rxs"
   },
   "source": [
    "Then, we can write any canonical negative feedback function. It will directly give open loop and closed loop transfer function and the output of the system."
   ]
  },
  {
   "cell_type": "code",
   "execution_count": 61,
   "metadata": {
    "colab": {
     "base_uri": "https://localhost:8080/",
     "height": 459
    },
    "colab_type": "code",
    "id": "KhGGk6Ct40qH",
    "outputId": "281ee9a6-9e7b-44d8-a6b9-7093141b35ce"
   },
   "outputs": [
    {
     "name": "stdout",
     "output_type": "stream",
     "text": [
      "enter coefficients of numerator of canonical feedback function = 1\n",
      "enter coefficients of denumerator of canonical feedback function = 1 0\n",
      "Canonical feedback function in s domain\n",
      "\n",
      "1\n",
      "-\n",
      "s\n",
      "\n",
      "Open loop transfer function\n",
      "\n",
      "       s + 2\n",
      "-------------------\n",
      "3 s^3 + 4 s^2 + 5 s\n",
      "\n",
      "Closed loop transfer function\n",
      "\n",
      "       3 s^4 + 10 s^3 + 13 s^2 + 10 s\n",
      "--------------------------------------------\n",
      "9 s^5 + 24 s^4 + 49 s^3 + 50 s^2 + 38 s + 10\n",
      "\n",
      "Output in s domain\n",
      "\n",
      "                  3 s^4 + 10 s^3 + 13 s^2 + 10 s\n",
      "-------------------------------------------------------------------\n",
      "9 s^7 + 42 s^6 + 124 s^5 + 220 s^4 + 285 s^3 + 236 s^2 + 134 s + 30\n",
      "\n"
     ]
    }
   ],
   "source": [
    "numH = list(map(float,input('enter coefficients of numerator of canonical feedback function = ').split()))\n",
    "denH = list(map(float,input('enter coefficients of denumerator of canonical feedback function = ').split()))\n",
    "H = tf(numH, denH)\n",
    "print('Canonical feedback function in s domain')\n",
    "print(H)\n",
    "\n",
    "GH = G*H\n",
    "print('Open loop transfer function')\n",
    "print(GH)\n",
    "\n",
    "M = G/(1+G*H)\n",
    "print('Closed loop transfer function')\n",
    "print(M)\n",
    "\n",
    "Y = M*X\n",
    "print('Output in s domain')\n",
    "print(Y)"
   ]
  },
  {
   "cell_type": "markdown",
   "metadata": {
    "colab_type": "text",
    "id": "h7tGRvTq5Qrt"
   },
   "source": [
    "Now, let's analyse this closed loop system."
   ]
  },
  {
   "cell_type": "markdown",
   "metadata": {
    "colab_type": "text",
    "id": "M1JT00It6GKD"
   },
   "source": [
    "Most of the times, we look the response of the system to impulse and step inputs. Of course we can give any input ,but we need to get stable output to control the system at the end. Any input can easily cause unstability, oscillations, or resonance in the output."
   ]
  },
  {
   "cell_type": "markdown",
   "metadata": {
    "colab_type": "text",
    "id": "qo0qcezk6_rt"
   },
   "source": [
    "First, let's see impulse response."
   ]
  },
  {
   "cell_type": "code",
   "execution_count": 62,
   "metadata": {
    "colab": {
     "base_uri": "https://localhost:8080/",
     "height": 282
    },
    "colab_type": "code",
    "id": "oq7dz3Jf7YwN",
    "outputId": "8fa1f11f-a217-49c6-ecee-74e883330acc"
   },
   "outputs": [
    {
     "name": "stdout",
     "output_type": "stream",
     "text": [
      "Impulse responce\n"
     ]
    },
    {
     "data": {
      "image/png": "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\n",
      "text/plain": [
       "<Figure size 432x288 with 1 Axes>"
      ]
     },
     "metadata": {
      "needs_background": "light",
      "tags": []
     },
     "output_type": "display_data"
    }
   ],
   "source": [
    "#impulse responce\n",
    "print('Impulse responce')\n",
    "plt.figure(2)\n",
    "yout, T = impulse(M)\n",
    "plt.plot(T.T, yout.T)\n",
    "plt.show(block=False)"
   ]
  },
  {
   "cell_type": "markdown",
   "metadata": {
    "colab_type": "text",
    "id": "AUxCaGQd7ndL"
   },
   "source": [
    "Second, let us look step response."
   ]
  },
  {
   "cell_type": "code",
   "execution_count": 63,
   "metadata": {
    "colab": {
     "base_uri": "https://localhost:8080/",
     "height": 282
    },
    "colab_type": "code",
    "id": "iBl-SQeT7srx",
    "outputId": "f637d228-d219-4c74-8884-030de514da8c"
   },
   "outputs": [
    {
     "name": "stdout",
     "output_type": "stream",
     "text": [
      "Step response\n"
     ]
    },
    {
     "data": {
      "image/png": "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\n",
      "text/plain": [
       "<Figure size 432x288 with 1 Axes>"
      ]
     },
     "metadata": {
      "needs_background": "light",
      "tags": []
     },
     "output_type": "display_data"
    }
   ],
   "source": [
    "# Step response for the system\n",
    "print('Step response')\n",
    "plt.figure(1)\n",
    "yout, T = step(M)\n",
    "plt.plot(T.T, yout.T)\n",
    "plt.show(block=False)"
   ]
  },
  {
   "cell_type": "markdown",
   "metadata": {
    "colab_type": "text",
    "id": "eMBHlBoQ753I"
   },
   "source": [
    "We can also use frequency responce to analyse the system by looking its Bode plot."
   ]
  },
  {
   "cell_type": "code",
   "execution_count": 64,
   "metadata": {
    "colab": {
     "base_uri": "https://localhost:8080/",
     "height": 300
    },
    "colab_type": "code",
    "id": "1LkrIor18qLz",
    "outputId": "005b7359-92b5-45e7-e8e1-937a58cd295e"
   },
   "outputs": [
    {
     "name": "stdout",
     "output_type": "stream",
     "text": [
      "Bode plot\n"
     ]
    },
    {
     "data": {
      "image/png": "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\n",
      "text/plain": [
       "<Figure size 432x288 with 2 Axes>"
      ]
     },
     "metadata": {
      "needs_background": "light",
      "tags": []
     },
     "output_type": "display_data"
    }
   ],
   "source": [
    "# Bode plot for the system\n",
    "print('Bode plot')\n",
    "plt.figure(3)\n",
    "mag, phase, om = bode(M, logspace(-2, 2), Plot=True)\n",
    "plt.show(block=False)"
   ]
  },
  {
   "cell_type": "markdown",
   "metadata": {
    "colab_type": "text",
    "id": "2gzwt6Ec84Sn"
   },
   "source": [
    "Lastly, we can look the roots of the transfer function to obtain indirect information on the time and frequency responses."
   ]
  },
  {
   "cell_type": "markdown",
   "metadata": {
    "colab_type": "text",
    "id": "R3u4L9rsSYxQ"
   },
   "source": [
    "If the root locus path is in the left hand side of the imaginary axis, then the system is stable."
   ]
  },
  {
   "cell_type": "code",
   "execution_count": 65,
   "metadata": {
    "colab": {
     "base_uri": "https://localhost:8080/",
     "height": 1000
    },
    "colab_type": "code",
    "id": "kY_ZIT9J97Op",
    "outputId": "fb0627df-b88f-40dd-be23-2b5faa553b3a"
   },
   "outputs": [
    {
     "data": {
      "text/plain": [
       "(array([[-6.66666667e-01-1.1055416j , -6.66666667e-01+1.1055416j ,\n",
       "         -4.61000747e-01-1.18668856j, -4.61000747e-01+1.18668856j,\n",
       "         -4.11331839e-01+0.j        ],\n",
       "        [-6.66666667e-01-1.1055416j , -6.66666667e-01+1.1055416j ,\n",
       "         -5.55178932e-01-1.25012508j, -5.55178932e-01+1.25012508j,\n",
       "         -3.56308772e-01+0.j        ],\n",
       "        [-6.66666667e-01-1.1055416j , -6.66666667e-01+1.1055416j ,\n",
       "         -5.55178932e-01-1.25012508j, -5.55178932e-01+1.25012508j,\n",
       "         -3.56308772e-01+0.j        ],\n",
       "        ...,\n",
       "        [-6.66666667e-01-1.1055416j , -6.66666667e-01+1.1055416j ,\n",
       "         -1.78292224e+02+0.j        , -2.01703299e+00+0.j        ,\n",
       "         -1.85380197e-03+0.j        ],\n",
       "        [-6.66666667e-01-1.1055416j , -6.66666667e-01+1.1055416j ,\n",
       "         -1.78910924e+03+0.j        , -2.00167884e+00+0.j        ,\n",
       "         -1.86156190e-04+0.j        ],\n",
       "        [-6.66666667e-01-1.1055416j , -6.66666667e-01+1.1055416j ,\n",
       "         -1.78971109e+04+0.j        , -2.00016765e+00+0.j        ,\n",
       "         -1.86234190e-05+0.j        ]]),\n",
       " array([0.00000000e+00, 3.99999908e-01, 3.99999908e-01, 4.00000049e-01,\n",
       "        4.00000049e-01, 5.73945614e-01, 7.47891179e-01, 9.21836744e-01,\n",
       "        1.09578231e+00, 1.36972789e+00, 1.64367346e+00, 1.91761904e+00,\n",
       "        2.19156462e+00, 2.46551020e+00, 2.73945577e+00, 3.01340135e+00,\n",
       "        3.28734693e+00, 3.56129251e+00, 3.83523808e+00, 4.10918366e+00,\n",
       "        4.38312924e+00, 4.65707481e+00, 4.93102039e+00, 5.20496597e+00,\n",
       "        5.47891155e+00, 5.75285712e+00, 6.02680270e+00, 6.30074828e+00,\n",
       "        6.57469386e+00, 6.84863943e+00, 7.12258501e+00, 7.39653059e+00,\n",
       "        7.67047617e+00, 7.94442174e+00, 8.21836732e+00, 8.49231290e+00,\n",
       "        8.76625847e+00, 9.04020405e+00, 9.31414963e+00, 9.58809521e+00,\n",
       "        9.86204078e+00, 1.01359864e+01, 1.04099319e+01, 1.06838775e+01,\n",
       "        1.09578231e+01, 1.12317687e+01, 1.15057142e+01, 1.17796598e+01,\n",
       "        1.20536054e+01, 1.23275510e+01, 1.26014966e+01, 1.28754421e+01,\n",
       "        1.31493877e+01, 1.34233333e+01, 1.36972789e+01, 1.39712244e+01,\n",
       "        1.42451700e+01, 1.45191156e+01, 1.47930612e+01, 1.50670068e+01,\n",
       "        1.53409523e+01, 1.56148979e+01, 1.58888435e+01, 1.61627891e+01,\n",
       "        1.64367346e+01, 1.67106802e+01, 1.69846258e+01, 1.72585714e+01,\n",
       "        1.75325169e+01, 1.78064625e+01, 1.80804081e+01, 1.83543537e+01,\n",
       "        1.84228401e+01, 1.84913265e+01, 1.85598129e+01, 1.86282993e+01,\n",
       "        1.86595094e+01, 1.86761433e+01, 1.86927773e+01, 1.87094112e+01,\n",
       "        1.87260452e+01, 1.87925809e+01, 1.88591167e+01, 1.89256524e+01,\n",
       "        1.89921882e+01, 1.90587240e+01, 1.91252597e+01, 1.91917955e+01,\n",
       "        1.94579385e+01, 1.97240816e+01, 1.99980271e+01, 2.02719727e+01,\n",
       "        2.05459183e+01, 2.08198639e+01, 2.10938095e+01, 2.13677550e+01,\n",
       "        2.16417006e+01, 2.19156462e+01, 2.21895918e+01, 2.24635373e+01,\n",
       "        2.27374829e+01, 2.30114285e+01, 2.32853741e+01, 2.35593196e+01,\n",
       "        2.38332652e+01, 2.41072108e+01, 2.43811564e+01, 2.46551020e+01,\n",
       "        2.49290475e+01, 2.52029931e+01, 2.54769387e+01, 2.57508843e+01,\n",
       "        2.60248298e+01, 2.62987754e+01, 2.65727210e+01, 2.68466666e+01,\n",
       "        2.71206122e+01, 2.73945577e+01, 2.76685033e+01, 2.79424489e+01,\n",
       "        2.82163945e+01, 2.84903400e+01, 2.87642856e+01, 2.90382312e+01,\n",
       "        2.93121768e+01, 2.95861224e+01, 2.98600679e+01, 3.01340135e+01,\n",
       "        3.04079591e+01, 3.06819047e+01, 3.09558502e+01, 3.12297958e+01,\n",
       "        3.15037414e+01, 3.17776870e+01, 3.20516325e+01, 3.23255781e+01,\n",
       "        3.25995237e+01, 3.28734693e+01, 3.31474149e+01, 3.34213604e+01,\n",
       "        3.36953060e+01, 3.39692516e+01, 3.42431972e+01, 3.45171427e+01,\n",
       "        3.47910883e+01, 3.50650339e+01, 3.53389795e+01, 3.56129251e+01,\n",
       "        3.58868706e+01, 3.61608162e+01, 3.64347618e+01, 3.67087074e+01,\n",
       "        3.69826529e+01, 3.72565985e+01, 3.75305441e+01, 3.78044897e+01,\n",
       "        3.80784352e+01, 3.83523808e+01, 3.86263264e+01, 3.89002720e+01,\n",
       "        3.91742176e+01, 3.94481631e+01, 3.97221087e+01, 3.99960543e+01,\n",
       "        4.02699999e+01, 4.05439454e+01, 4.08178910e+01, 4.10918366e+01,\n",
       "        4.13657822e+01, 4.16397278e+01, 4.19136733e+01, 4.21876189e+01,\n",
       "        4.24615645e+01, 4.27355101e+01, 4.30094556e+01, 4.32834012e+01,\n",
       "        4.35573468e+01, 4.38312924e+01, 4.41052379e+01, 4.43791835e+01,\n",
       "        4.46531291e+01, 4.49270747e+01, 4.52010203e+01, 4.54749658e+01,\n",
       "        4.57489114e+01, 4.60228570e+01, 4.62968026e+01, 4.65707481e+01,\n",
       "        4.68446937e+01, 4.71186393e+01, 4.73925849e+01, 4.76665305e+01,\n",
       "        4.79404760e+01, 4.82144216e+01, 4.84883672e+01, 4.87623128e+01,\n",
       "        4.90362583e+01, 4.93102039e+01, 4.95841495e+01, 4.98580951e+01,\n",
       "        5.01320407e+01, 5.04059862e+01, 5.06799318e+01, 5.09538774e+01,\n",
       "        5.12278230e+01, 5.15017685e+01, 5.17757141e+01, 5.20496597e+01,\n",
       "        5.23236053e+01, 5.25975508e+01, 5.28714964e+01, 5.31454420e+01,\n",
       "        5.34193876e+01, 5.36933332e+01, 5.36933332e+02, 5.36933332e+03,\n",
       "        5.36933332e+04]))"
      ]
     },
     "execution_count": 65,
     "metadata": {
      "tags": []
     },
     "output_type": "execute_result"
    },
    {
     "data": {
      "image/png": "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\n",
      "text/plain": [
       "<Figure size 432x288 with 1 Axes>"
      ]
     },
     "metadata": {
      "needs_background": "light",
      "tags": []
     },
     "output_type": "display_data"
    },
    {
     "data": {
      "image/png": "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\n",
      "text/plain": [
       "<Figure size 432x288 with 1 Axes>"
      ]
     },
     "metadata": {
      "needs_background": "light",
      "tags": []
     },
     "output_type": "display_data"
    }
   ],
   "source": [
    "#Positions of poles and zeros\n",
    "pzmap(M,Plot=True,grid=False, title='Pole Zero Map')\n",
    "\n",
    "# Root lcous plot for the system\n",
    "rlocus(M)"
   ]
  },
  {
   "cell_type": "markdown",
   "metadata": {
    "colab_type": "text",
    "id": "qHWiGt2vPdXi"
   },
   "source": [
    "As we said, we can see time domain of any output function. In order to do this, we will use another code with the help of sympy library."
   ]
  },
  {
   "cell_type": "markdown",
   "metadata": {
    "colab_type": "text",
    "id": "OCoBod87RdYe"
   },
   "source": [
    "Here, we will write functions in s domain in complete form ,but we need to use *'*'* for multiplications of coefficients, '**' for exponents, '/' for division, and '()' for mathematical operation priority."
   ]
  },
  {
   "cell_type": "markdown",
   "metadata": {
    "colab_type": "text",
    "id": "lrOcAQtjUCAk"
   },
   "source": [
    "\\begin{equation*}\n",
    "{(A*s**n+B*s**(n-1)+\\cdots+W*s**2+X*s+Y)/(D*s**(n+1)+C*s**n+\\cdots+M*s+N)}\n",
    "\\end{equation*}"
   ]
  },
  {
   "cell_type": "markdown",
   "metadata": {
    "colab_type": "text",
    "id": "_I8nR5oRWJlA"
   },
   "source": [
    "First, we will write any input function in s domain."
   ]
  },
  {
   "cell_type": "code",
   "execution_count": 72,
   "metadata": {
    "colab": {
     "base_uri": "https://localhost:8080/",
     "height": 68
    },
    "colab_type": "code",
    "id": "hy6iIh1cQXjs",
    "outputId": "f9e7552a-2d6a-416f-e068-95ac7241c80e"
   },
   "outputs": [
    {
     "name": "stdout",
     "output_type": "stream",
     "text": [
      "enter input s domain function = 1\n",
      "Input function in s domain\n",
      "1\n"
     ]
    }
   ],
   "source": [
    "X = eval(input('enter input s domain function = '))\n",
    "print('Input function in s domain')\n",
    "print(X)"
   ]
  },
  {
   "cell_type": "markdown",
   "metadata": {
    "colab_type": "text",
    "id": "UUax8bWUXycP"
   },
   "source": [
    "Then, any canonical plant function."
   ]
  },
  {
   "cell_type": "code",
   "execution_count": 73,
   "metadata": {
    "colab": {
     "base_uri": "https://localhost:8080/",
     "height": 68
    },
    "colab_type": "code",
    "id": "q2Q3Hb5iX7g9",
    "outputId": "2cb0896a-51d8-4284-cfb9-2c33417f42eb"
   },
   "outputs": [
    {
     "name": "stdout",
     "output_type": "stream",
     "text": [
      "enter s domain canonical plant function = 1/(s**2+1)\n",
      "Canonical plant function\n",
      "1/(s**2 + 1)\n"
     ]
    }
   ],
   "source": [
    "G = eval(input('enter s domain canonical plant function = '))\n",
    "print('Canonical plant function')\n",
    "print(G)"
   ]
  },
  {
   "cell_type": "markdown",
   "metadata": {
    "colab_type": "text",
    "id": "F5U9z8ucYQeG"
   },
   "source": [
    "We can write any canonical negative feedback function, and it will give output in s domain. It will also plot the output in s domain."
   ]
  },
  {
   "cell_type": "code",
   "execution_count": 78,
   "metadata": {
    "colab": {
     "base_uri": "https://localhost:8080/",
     "height": 577
    },
    "colab_type": "code",
    "id": "EGfI6RUWYp_Z",
    "outputId": "dc850caa-e74a-4ae4-bb2e-e3fafcb5b4f2"
   },
   "outputs": [
    {
     "name": "stdout",
     "output_type": "stream",
     "text": [
      "enter s domain canonical feedback function = s\n",
      "Canonical feedback function\n",
      "s\n",
      "Closed loop transfer function\n",
      "1/((s**2 + 1)*(s/(s**2 + 1) + 1))\n",
      "Output in s domain\n",
      "1/(s**2 + s + 1)\n"
     ]
    },
    {
     "name": "stderr",
     "output_type": "stream",
     "text": [
      "/usr/local/lib/python3.6/dist-packages/sympy/plotting/plot.py:890: MatplotlibDeprecationWarning:\n",
      "\n",
      "\n",
      "The set_smart_bounds function was deprecated in Matplotlib 3.2 and will be removed two minor releases later.\n",
      "\n",
      "/usr/local/lib/python3.6/dist-packages/sympy/plotting/plot.py:891: MatplotlibDeprecationWarning:\n",
      "\n",
      "\n",
      "The set_smart_bounds function was deprecated in Matplotlib 3.2 and will be removed two minor releases later.\n",
      "\n"
     ]
    },
    {
     "data": {
      "image/png": "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\n",
      "text/plain": [
       "<Figure size 432x288 with 1 Axes>"
      ]
     },
     "metadata": {
      "needs_background": "light",
      "tags": []
     },
     "output_type": "display_data"
    }
   ],
   "source": [
    "H = eval(input('enter s domain canonical feedback function = '))\n",
    "print('Canonical feedback function')\n",
    "print(H)\n",
    "\n",
    "M = G/(1+G*H)\n",
    "print('Closed loop transfer function')\n",
    "print(M)\n",
    "\n",
    "Y = M*X\n",
    "C = simplify(Y)\n",
    "print('Output in s domain')\n",
    "print(C)\n",
    "f = plot(C,(s,0,20), show = False)\n",
    "f.show()"
   ]
  },
  {
   "cell_type": "markdown",
   "metadata": {
    "colab_type": "text",
    "id": "f-TZhVosZSyo"
   },
   "source": [
    "Now, we can apply inverse Laplace Transform to obtain output in time domain if it exists. Otherwise it will give error. Hence, we can see any response of the system to any input."
   ]
  },
  {
   "cell_type": "code",
   "execution_count": 79,
   "metadata": {
    "colab": {
     "base_uri": "https://localhost:8080/",
     "height": 491
    },
    "colab_type": "code",
    "id": "dExAwEekaGsQ",
    "outputId": "db5e19a3-9a60-4f57-fd2d-357a54569e00"
   },
   "outputs": [
    {
     "name": "stdout",
     "output_type": "stream",
     "text": [
      "Output in time domain\n",
      "2*sqrt(3)*exp(-t/2)*sin(sqrt(3)*t/2)/3\n"
     ]
    },
    {
     "name": "stderr",
     "output_type": "stream",
     "text": [
      "/usr/local/lib/python3.6/dist-packages/sympy/plotting/plot.py:890: MatplotlibDeprecationWarning:\n",
      "\n",
      "\n",
      "The set_smart_bounds function was deprecated in Matplotlib 3.2 and will be removed two minor releases later.\n",
      "\n",
      "/usr/local/lib/python3.6/dist-packages/sympy/plotting/plot.py:891: MatplotlibDeprecationWarning:\n",
      "\n",
      "\n",
      "The set_smart_bounds function was deprecated in Matplotlib 3.2 and will be removed two minor releases later.\n",
      "\n"
     ]
    },
    {
     "data": {
      "image/png": "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\n",
      "text/plain": [
       "<Figure size 432x288 with 1 Axes>"
      ]
     },
     "metadata": {
      "needs_background": "light",
      "tags": []
     },
     "output_type": "display_data"
    }
   ],
   "source": [
    "u = inverse_laplace_transform(C,s,t)\n",
    "u = u/Heaviside(t)\n",
    "u = simplify(u)\n",
    "print('Output in time domain')\n",
    "print(u)\n",
    "\n",
    "p = plot(u,(t,0,20), show = False)\n",
    "p.show()"
   ]
  }
 ],
 "metadata": {
  "colab": {
   "authorship_tag": "ABX9TyMFD7t7mXRfQ6loRHE5WxjN",
   "collapsed_sections": [],
   "include_colab_link": true,
   "name": "Final_Closed_Loop_Canonical_Form_Transfer_Function_Analysis.ipynb",
   "provenance": []
  },
  "hide_input": false,
  "kernelspec": {
   "display_name": "Python 3",
   "language": "python",
   "name": "python3"
  },
  "toc": {
   "base_numbering": 1,
   "nav_menu": {},
   "number_sections": true,
   "sideBar": true,
   "skip_h1_title": false,
   "title_cell": "Table of Contents",
   "title_sidebar": "Contents",
   "toc_cell": false,
   "toc_position": {},
   "toc_section_display": true,
   "toc_window_display": false
  },
  "varInspector": {
   "cols": {
    "lenName": 16,
    "lenType": 16,
    "lenVar": 40
   },
   "kernels_config": {
    "python": {
     "delete_cmd_postfix": "",
     "delete_cmd_prefix": "del ",
     "library": "var_list.py",
     "varRefreshCmd": "print(var_dic_list())"
    },
    "r": {
     "delete_cmd_postfix": ") ",
     "delete_cmd_prefix": "rm(",
     "library": "var_list.r",
     "varRefreshCmd": "cat(var_dic_list()) "
    }
<<<<<<< HEAD
   },
   "types_to_exclude": [
    "module",
    "function",
    "builtin_function_or_method",
    "instance",
    "_Feature"
   ],
   "window_display": false
  }
 },
 "nbformat": 4,
 "nbformat_minor": 1
}
||||||| 66faaf3
  ]
}
=======
  ]
}
>>>>>>> f3728973f2c673b3db9437d464b060a0d70d884c
