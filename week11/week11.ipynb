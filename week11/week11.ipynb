{
 "cells": [
  {
   "cell_type": "code",
   "execution_count": 135,
   "metadata": {},
   "outputs": [],
   "source": [
    "from ipywidgets import Image\n",
    "import ipycanvas as ipc"
   ]
  },
  {
   "cell_type": "code",
   "execution_count": 191,
   "metadata": {},
   "outputs": [],
   "source": [
    "sprite1 = Image.from_file('top_floor.png')\n",
    "sprite2 = Image.from_file('floor.png')\n",
    "sprite3 = Image.from_file('bottom_floor.png')\n",
    "sprite4= Image.from_file('background.png')\n",
    "canvas = ipc.MultiCanvas(5,width=800, height=600)\n",
    "sky=50\n",
    "top=161\n",
    "mid=39\n",
    "bott=41\n",
    "floor=20\n",
    "scale=600 / (sky+top+(floor-1)*mid+bott)\n",
    "canvas[0].scale(scale)\n",
    "\n",
    "canvas[0].fill_style= '#d2edf3'\n",
    "canvas[0].fill_rect(0,0,800/scale,((sky+top+(floor-1)*mid+bott)-590))\n",
    "canvas[0].draw_image(sprite4,0,(sky+top+(floor-1)*mid+bott)-600)\n",
    "canvas[0].draw_image(sprite4,1198,(sky+top+(floor-1)*mid+bott)-600)\n",
    "canvas[0].draw_image(sprite4,2396,(sky+top+(floor-1)*mid+bott)-600)\n",
    "canvas[0].draw_image(sprite1,10,sky)\n",
    "for i in range(0,floor-1):\n",
    "    canvas[0].draw_image(sprite2,10,sky+top+i*mid)\n",
    "canvas[0].draw_image(sprite3,10,sky+top+(floor-1)*mid)   \n",
    "canvas[1].line_width=2*scale\n",
    "canvas[1].move_to(265*scale,66*scale)\n",
    "canvas[1].line_to(265*scale,(sky+top+(floor-1)*mid)*scale)\n",
    "canvas[1].stroke()\n"
   ]
  },
  {
   "cell_type": "code",
   "execution_count": 192,
   "metadata": {},
   "outputs": [
    {
     "data": {
      "application/vnd.jupyter.widget-view+json": {
       "model_id": "07b8c8fdb5854c789786c43793b943f3",
       "version_major": 2,
       "version_minor": 0
      },
      "text/plain": [
       "MultiCanvas(height=600, width=800)"
      ]
     },
     "metadata": {},
     "output_type": "display_data"
    }
   ],
   "source": [
    "canvas\n"
   ]
  }
 ],
 "metadata": {
  "kernelspec": {
   "display_name": "Python 3",
   "language": "python",
   "name": "python3"
  },
  "language_info": {
   "codemirror_mode": {
    "name": "ipython",
    "version": 3
   },
   "file_extension": ".py",
   "mimetype": "text/x-python",
   "name": "python",
   "nbconvert_exporter": "python",
   "pygments_lexer": "ipython3",
   "version": "3.7.6"
  }
 },
 "nbformat": 4,
 "nbformat_minor": 4
}
