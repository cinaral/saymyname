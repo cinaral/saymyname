{
 "cells": [
  {
   "cell_type": "markdown",
   "metadata": {},
   "source": [
    "In this notebook we will talk about the concepts of __time domain__ and __Laplace domain__, what they really mean and how they relate to each other. We'll build an interactive tool to see how these functions behave. Our objectives for this notebook is\n",
    "1. Understand what domain refers to when we say time domain or Laplace domain.\n",
    "2. How time domain relates to Laplace domain and vice versa.\n",
    "3. Why Laplace domain is helpful and its limitations.\n",
    "\n",
    "Along the way, you can also get an idea about:\n",
    "1. Using sympy to solve ODEs and find Laplace transforms\n",
    "2. Drawing simple plotly plots\n",
    "3. The relation between the Laplace transform and Fourier transform"
   ]
  },
  {
   "cell_type": "markdown",
   "metadata": {},
   "source": [
    "Let's start with the definition of a domain. Assume we have a function $f$ which maps some values called $x$ into some values we'll call $f(x)$\n",
    "$$\n",
    "\\begin{equation}\n",
    "\\text{input} \\hspace{4em}  f \\hspace{4em}  \\text{output} \\\\\n",
    "x \\hspace{4em} \\longrightarrow \\hspace{3em} f(x)\\\\\n",
    "\\text{domain} \\hspace{2em} \\text{function} \\hspace{2em} \\text{codomain}\n",
    "\\end{equation}\n",
    "$$"
   ]
  },
  {
   "cell_type": "markdown",
   "metadata": {},
   "source": [
    "The values that are being mapped are denoted as __the domain__ of function $f$ and the resulting values are denoted as __the codomain__ of $f$. Note that we specifically defined codomain to be $f(t)$. This definition will come in handy soon. Another way to look at the domain is that it is the input of the function $f$ and the output is $f(t)$."
   ]
  },
  {
   "cell_type": "markdown",
   "metadata": {},
   "source": [
    "In the physical world, variables are usually functions of time. Let's define two functions of time called $x$ and $y$. For our ultimate goal of modeling the physical world, $x$ will represent our input function and $y$ will represent the response function of the system.\n",
    "$$\n",
    "\\begin{equation}\n",
    "\\hspace{5em} x \\hspace{6em} \\\\\n",
    "t \\hspace{3em} \\longrightarrow \\hspace{3em} x(t)\\\\\n",
    "\\text{time} \\hspace{2em} \\text{specified} \\hspace{2em} \\text{input} \\\\ \n",
    "\\hspace{1em}\\\\\n",
    "\\hspace{5em} y \\hspace{6em} \\\\\n",
    "t \\hspace{3em} \\longrightarrow \\hspace{3em} y(t)\\\\\n",
    "\\text{time} \\hspace{1.5em} \\text{unknown} \\hspace{1.5em} \\text{response}\n",
    "\\end{equation}\n",
    "$$"
   ]
  },
  {
   "cell_type": "markdown",
   "metadata": {},
   "source": [
    "And then let us define the system $f$ which will relate these two functions of time as\n",
    "$$\n",
    "\\begin{equation}\n",
    "f \\hspace{4em} \\\\\n",
    "x(t) \\hspace{1em} \\longrightarrow \\hspace{1em} f(x(t)) = y(t) \n",
    "\\end{equation}\n",
    "$$"
   ]
  },
  {
   "cell_type": "markdown",
   "metadata": {},
   "source": [
    "Another way to look at all this is\n",
    "$$\n",
    "\\begin{equation}\n",
    "x \\hspace{5em}  f \\hspace{5em} \\\\\n",
    "t  \\hspace{1em} \\longrightarrow  \\hspace{1em} x(t) \\hspace{1em} \\longrightarrow \\hspace{1em} f(x(t)) = y(t)  \\\\\n",
    "\\end{equation}\n",
    "$$"
   ]
  },
  {
   "cell_type": "markdown",
   "metadata": {},
   "source": [
    "We want to know what $y(t)$ is for a system of interest when we specify an input function $x$. Since we don't know what $y$ is, we have to go through the system $f$ to find $y(t)$. As you can see, all of this lives on the time domain as a real life system would. So we would call all these functions __time domain representations__."
   ]
  },
  {
   "cell_type": "markdown",
   "metadata": {},
   "source": [
    "As you have learned in class, Laplace transform is a method we use to infer about the nature of $y(t)$ without actually solving for $y(t)$. When we perform this transformation, we get totally new functions and we denote them with different letters.\n",
    "$$\n",
    "\\begin{equation}\n",
    "x \\hspace{5em}  f \\hspace{5em} \\\\\n",
    "t  \\hspace{1em} \\longrightarrow  \\hspace{1em} x(t) \\hspace{1em} \\longrightarrow \\hspace{1em} f(x(t)) = y(t)  \\\\\n",
    "\\downarrow \\\\ \\textbf{[Laplace transformation]} \\\\ \\downarrow \\\\\n",
    "X \\hspace{5em}  F \\hspace{5em} \\\\\n",
    "s  \\hspace{1em} \\longrightarrow  \\hspace{1em} X(s) \\hspace{1em} \\longrightarrow \\hspace{1em} F(X(s)) = Y(s)  \\\\\n",
    "\\end{equation}\n",
    "$$"
   ]
  },
  {
   "cell_type": "markdown",
   "metadata": {},
   "source": [
    "The new functions all live on the __Laplace domain__ (__s-domain__) and they have absolutely nothing to do with the time variable $t$. The only relation between the time functions and the Laplace functions come from the fact the Laplace functions were obtained by performing __Laplace transformation__ on the time functions."
   ]
  },
  {
   "cell_type": "markdown",
   "metadata": {},
   "source": [
    "To continue our discussion, let's define an arbitrary __linear ordinary differential equation__ (ODE) which may or may not describe a real physical system. The derivatives are in terms of $t$ which may or may not be time, but it turns out a lot of  systems from different disciplines can be described using very similar-looking linear ODEs and we are often interested in their behavior in time, so for simplicity we will refer to this variable as time. For now we are not concerned with modeling of physical systems which will be covered later, but you can rest assured that this form of equation is common enough to be of interest to us. Let's define this arbitrary equation to be\n",
    "$$\n",
    "a_1\\frac{d^2x(t)}{dt^2}+ a_2 \\frac{dx(t)}{dt} + a_3 x(t) = b_1 \\frac{d^2y(t)}{dt^2} + b_2 \\frac{dy(t)}{dt}  + b_3 y(t)\n",
    "$$\n",
    "where $a_n$ and $b_n$ are the coefficients (we know what they are). The time derivative appears so often in physics that it has its own special notation where we put a dot over the variable to represent its time derivative. For example \n",
    "$$\n",
    "\\begin{align}\n",
    "\\dot x &\\equiv\\frac{dx(t)}{dt} \\\\\n",
    "\\ddot x &\\equiv\\frac{d^2x(t)}{dt^2}\n",
    "\\end{align}\n",
    "$$\n",
    "and so on. For brevity, we will express our differential equation as \n",
    "$$\n",
    "a_1 \\ddot y(t) + a_2 \\dot y(t) + a_3 y(t) = b_1 \\ddot x(t) + b_2 \\dot x(t) + b_3 x(t)\n",
    "$$\n",
    "from now on. Note that this equation is __linear__ in the sense the variables and their time derivatives ($x, \\dot x, \\ddot x, y, \\dot y, \\ddot y$) all appear as their first powers so the each side of the equation resembles a polynomial. This implies $y(t)$ is linearly related to $x(t)$. Furthermore, it is __ordinary__ in the sense there are no partial derivatives, we are assuming these variables change with respect to time only. This does not mean $y(t)$ and $x(t)$ are unrelated from each other, afterall the primary objective of this equation is to define what that relation is. You will soon see why this all matters.  "
   ]
  },
  {
   "cell_type": "markdown",
   "metadata": {},
   "source": [
    "Algebraically, this equation behaves as you would expect, there are six unknowns and if you know five of them you can find what the remaining unknown is for an arbitrary snapshot in time. The real magic is, since the variables are related to their time derivatives as time moves on, this relation can be solved to find what $y(t)$ is as a __function of time__, hence the $(t)$. But we need to know enough number of values of $y(t)$ and its derivatives at some point in time (two in this case, say $y(0)$ and $\\dot y(0)$, since it's a second order DE. Remember MATH219!) and all values of $x(t)$ in all points of time. We refer to the particular values of $y(t)$ that we know as \"boundary conditions\" or \"initial conditions\" (whichever makes more sense for the given problem) and $x(t)$ as input. Finally, the coefficients of our differential equation are also known, they usually represent physical quantities such as mass or electrical resistance. These coefficients often don't change with respect to time, but not always so we call a system __time invariant__ when they don't (since our coefficients are not functions of time, our arbitrary differential equation could only model a __linear time invariant__ system). To summarize,when we properly model a system and define a problem we will end up with a similar looking differential equation and we will additionally know:\n",
    "1. The values of $a_1$, $a_2$, $b_1$... etc.\n",
    "2. The values of $x(t), \\dot x(t), \\ddot x(t)$ for any $t$.\n",
    "3. Enough number of values of $y(t)$ and it's derivatives for a particular time."
   ]
  },
  {
   "cell_type": "markdown",
   "metadata": {},
   "source": [
    "It's a good time to mention that the reason why we will be working with a linear differential equation is that taking the Laplace transform can get quite messy otherwise. If we can't even get to Laplace domain, then the discussion is over. You have learned about Laplace transform in class, the definition of Laplace transform is simple enough but carrying out the Laplace integral can easily become very challenging. If you don't believe me, try to find the laplace transform of $x(t)^2$ yourself (actually don't)\n",
    "$$\n",
    "\\begin{align}\n",
    "\\int_0^\\infty x(t) e^{-st} dt &= X(s) \\\\\n",
    "\\int_0^\\infty x(t)^2 e^{-st} dt &= ?\n",
    "\\end{align}\n",
    "$$\n",
    "There is no straight-forward answer. Similarly, we are limited to time invariant systems such that $y(t) = f(x(t))$ and not $f(x(t), t)$, for example,if $b_1$ was a function of time we would have \n",
    "$$\n",
    "\\int_0^\\infty b_1(t) \\ddot x(t) e^{-st} dt = ?\n",
    "$$\n",
    "which again doesn't have a straight-forward answer. So we are working on a linear time invariant system not because we want to, but it is very inconvenient otherwise and you should know that Laplace transform is not the right tool for those problems."
   ]
  },
  {
   "cell_type": "markdown",
   "metadata": {},
   "source": [
    "Now that we have our differential equation, let's start writing our functions. We will start by giving arbitrary values to values we are supposed to know. __You are encouraged to play with the following definitions__. Since we will take its Laplace transform, make sure the input function has a Laplace transform. If you have a particular homework problem with a similar looking differential equation you could give it a try."
   ]
  },
  {
   "cell_type": "code",
   "execution_count": 377,
   "metadata": {
    "ExecuteTime": {
     "end_time": "2020-05-29T09:03:45.447312Z",
     "start_time": "2020-05-29T09:03:45.433299Z"
    }
   },
   "outputs": [
    {
     "data": {
      "text/latex": [
       "$$x(t) = 2 t \\sin{\\left(t \\right)}$$"
      ],
      "text/plain": [
       "<IPython.core.display.Latex object>"
      ]
     },
     "metadata": {},
     "output_type": "display_data"
    }
   ],
   "source": [
    "import sympy as sy\n",
    "from sympy.abc import t # t is the independent variable\n",
    "from IPython.display import Latex\n",
    "\n",
    "# system parameters\n",
    "a1 = 19\n",
    "a2 = 5\n",
    "a3 = 20\n",
    "b1 = 7\n",
    "b2 = -10\n",
    "b3 = 4\n",
    "\n",
    "# input function and its derivatives\n",
    "x = 2 * t * sin(t)\n",
    "display(Latex(\"$$x(t) = {}$$\".format(latex(x))))\n",
    "# calculate the derivatives \n",
    "dx = sy.diff(x, t)\n",
    "d2x = sy.diff(x, t, 2)\n",
    "d3x = sy.diff(x, t, 3)\n",
    "\n",
    "# initial conditions \n",
    "y0 = 0\n",
    "dy0 = 0"
   ]
  },
  {
   "cell_type": "markdown",
   "metadata": {},
   "source": [
    "We left the solving the differential equation for $y(t)$ on purpose to use sympy, as it's not a trivial problem to solve by hand unless most of the coefficients are set to zero. Even with sympy, the following operation can take a minute or so, so give it time. You can modify the code to solve higher order ODEs if you wish, make sure to define the necessary number of initial conditions. However beware, sympy may take a long time to solve for higher order ODEs."
   ]
  },
  {
   "cell_type": "code",
   "execution_count": 378,
   "metadata": {
    "ExecuteTime": {
     "end_time": "2020-05-29T09:03:48.943681Z",
     "start_time": "2020-05-29T09:03:47.651944Z"
    },
    "scrolled": true
   },
   "outputs": [
    {
     "data": {
      "text/latex": [
       "$\\displaystyle y{\\left(t \\right)} = - \\frac{53 t \\sin{\\left(t \\right)}}{13} + \\frac{5 t \\cos{\\left(t \\right)}}{13} + \\frac{- \\frac{3587 \\sqrt{1495} \\sin{\\left(\\frac{\\sqrt{1495} t}{38} \\right)}}{3887} - \\frac{53 \\cos{\\left(\\frac{\\sqrt{1495} t}{38} \\right)}}{13}}{\\left(e^{t}\\right)^{\\frac{5}{38}}} + \\frac{460 \\sin{\\left(t \\right)}}{13} + \\frac{53 \\cos{\\left(t \\right)}}{13}$"
      ],
      "text/plain": [
       "Eq(y(t), -53*t*sin(t)/13 + 5*t*cos(t)/13 + (-3587*sqrt(1495)*sin(sqrt(1495)*t/38)/3887 - 53*cos(sqrt(1495)*t/38)/13)/exp(t)**(5/38) + 460*sin(t)/13 + 53*cos(t)/13)"
      ]
     },
     "metadata": {},
     "output_type": "display_data"
    }
   ],
   "source": [
    "# y is a function of t\n",
    "y = sy.Function('y')(t)\n",
    "dy = sy.diff(y, t)\n",
    "d2y = sy.diff(y, t, 2)\n",
    "d3y = sy.diff(y, t, 3)\n",
    "d4y = sy.diff(y, t, 3)\n",
    "\n",
    "# write down the differential equation\n",
    "eqn = sy.Eq(a1 * d2y + a2 * dy + a3 * y, b1 * d2x + b2 * dx + b3 * x)\n",
    "ics = {y.subs(t,0):y0, dy.subs(t,0):dy0}\n",
    "# solve for y(t) for the given initial conditions\n",
    "y_sol = sy.dsolve(eqn, y, ics=ics)\n",
    "display(y_sol)\n",
    "\n",
    "# use lambdify to obtain python functions of x(t) and y(t)\n",
    "x_fun = lambdify(t, x)\n",
    "y_fun = lambdify(t, y_sol.rhs)"
   ]
  },
  {
   "cell_type": "markdown",
   "metadata": {},
   "source": [
    "Let's draw our input and response function using plotly."
   ]
  },
  {
   "cell_type": "code",
   "execution_count": 379,
   "metadata": {
    "ExecuteTime": {
     "end_time": "2020-05-29T09:03:49.966169Z",
     "start_time": "2020-05-29T09:03:49.773976Z"
    }
   },
   "outputs": [
    {
     "data": {
      "application/vnd.plotly.v1+json": {
       "config": {
        "plotlyServerURL": "https://plot.ly"
       },
       "data": [
        {
         "name": "x(t)",
         "type": "scatter",
         "x": [
          0,
          0.10101010101010101,
          0.20202020202020202,
          0.30303030303030304,
          0.40404040404040403,
          0.5050505050505051,
          0.6060606060606061,
          0.7070707070707071,
          0.8080808080808081,
          0.9090909090909091,
          1.0101010101010102,
          1.1111111111111112,
          1.2121212121212122,
          1.3131313131313131,
          1.4141414141414141,
          1.5151515151515151,
          1.6161616161616161,
          1.7171717171717171,
          1.8181818181818181,
          1.9191919191919191,
          2.0202020202020203,
          2.121212121212121,
          2.2222222222222223,
          2.323232323232323,
          2.4242424242424243,
          2.525252525252525,
          2.6262626262626263,
          2.727272727272727,
          2.8282828282828283,
          2.929292929292929,
          3.0303030303030303,
          3.131313131313131,
          3.2323232323232323,
          3.3333333333333335,
          3.4343434343434343,
          3.5353535353535355,
          3.6363636363636362,
          3.7373737373737375,
          3.8383838383838382,
          3.9393939393939394,
          4.040404040404041,
          4.141414141414141,
          4.242424242424242,
          4.343434343434343,
          4.444444444444445,
          4.545454545454545,
          4.646464646464646,
          4.747474747474747,
          4.848484848484849,
          4.94949494949495,
          5.05050505050505,
          5.151515151515151,
          5.252525252525253,
          5.353535353535354,
          5.454545454545454,
          5.555555555555555,
          5.656565656565657,
          5.757575757575758,
          5.858585858585858,
          5.959595959595959,
          6.0606060606060606,
          6.161616161616162,
          6.262626262626262,
          6.363636363636363,
          6.4646464646464645,
          6.565656565656566,
          6.666666666666667,
          6.767676767676767,
          6.8686868686868685,
          6.96969696969697,
          7.070707070707071,
          7.171717171717171,
          7.2727272727272725,
          7.373737373737374,
          7.474747474747475,
          7.575757575757575,
          7.6767676767676765,
          7.777777777777778,
          7.878787878787879,
          7.979797979797979,
          8.080808080808081,
          8.181818181818182,
          8.282828282828282,
          8.383838383838384,
          8.484848484848484,
          8.585858585858587,
          8.686868686868687,
          8.787878787878787,
          8.88888888888889,
          8.98989898989899,
          9.09090909090909,
          9.191919191919192,
          9.292929292929292,
          9.393939393939394,
          9.494949494949495,
          9.595959595959595,
          9.696969696969697,
          9.797979797979798,
          9.8989898989899,
          10
         ],
         "xaxis": "x",
         "y": [
          0,
          0.020371398031940324,
          0.08107024505967086,
          0.18085685118038855,
          0.31768615123097355,
          0.4887390307453886,
          0.6904655841320796,
          0.9186397160686759,
          1.1684243417849867,
          1.4344462960804678,
          1.7108799264706736,
          1.9915382245110143,
          2.269970242677054,
          2.5395634535799787,
          2.793649634957813,
          3.025612808789059,
          3.2289977267825676,
          3.3976173779280368,
          3.5256579970266313,
          3.607780076196463,
          3.6392139240523456,
          3.615848379138016,
          3.534311364546885,
          3.3920410685774276,
          3.187346650583154,
          2.919457500538248,
          2.588560223699396,
          2.195822676379072,
          1.7434045433782124,
          1.2344541200482007,
          0.6730911401462407,
          0.06437567241546982,
          -0.5857367080947571,
          -1.2704530858365692,
          -1.9822141407060005,
          -2.7127771137805925,
          -3.453309896889014,
          -4.194495184275246,
          -4.926643480714492,
          -5.63981363029059,
          -6.323939415387493,
          -6.968960677837509,
          -7.564957334964826,
          -8.102284603609867,
          -8.571707706033584,
          -8.964534313553905,
          -9.272742987281571,
          -9.489105900562521,
          -9.607304174600506,
          -9.62203422686522,
          -9.529103620666662,
          -9.32551501281959,
          -9.009536923510847,
          -8.580760196960686,
          -8.040139181660873,
          -7.390016833098026,
          -6.6341331279687195,
          -5.777616374838979,
          -4.826957209735362,
          -3.7899652739043437,
          -2.675708782485616,
          -1.4944374045994289,
          -0.25748908481012606,
          1.0228183594399494,
          2.3333098325321817,
          3.6600885280891355,
          4.988683074282933,
          6.304204701155285,
          7.591512729445576,
          8.835386554136262,
          10.020702189685915,
          11.132611359219032,
          12.156721048032857,
          13.079271403661162,
          13.887309851133859,
          14.568859303436719,
          15.113078383670826,
          15.510411636904719,
          15.752727795781155,
          15.833444273869393,
          15.747636193544013,
          15.492128409545797,
          15.065569163799175,
          14.468484199734958,
          13.703310373277425,
          12.774408020572077,
          11.688051577041367,
          10.452398185885107,
          9.077434283987253,
          7.574900406542628,
          5.958194705699996,
          4.242255930218124,
          2.443426859626702,
          0.579299424785073,
          -1.3314570257900598,
          -3.2692826406402355,
          -5.213927290383206,
          -7.144662053458829,
          -9.040499755173704,
          -10.880422217787395
         ],
         "yaxis": "y"
        },
        {
         "name": "y(t)",
         "type": "scatter",
         "x": [
          0,
          0.10101010101010101,
          0.20202020202020202,
          0.30303030303030304,
          0.40404040404040403,
          0.5050505050505051,
          0.6060606060606061,
          0.7070707070707071,
          0.8080808080808081,
          0.9090909090909091,
          1.0101010101010102,
          1.1111111111111112,
          1.2121212121212122,
          1.3131313131313131,
          1.4141414141414141,
          1.5151515151515151,
          1.6161616161616161,
          1.7171717171717171,
          1.8181818181818181,
          1.9191919191919191,
          2.0202020202020203,
          2.121212121212121,
          2.2222222222222223,
          2.323232323232323,
          2.4242424242424243,
          2.525252525252525,
          2.6262626262626263,
          2.727272727272727,
          2.8282828282828283,
          2.929292929292929,
          3.0303030303030303,
          3.131313131313131,
          3.2323232323232323,
          3.3333333333333335,
          3.4343434343434343,
          3.5353535353535355,
          3.6363636363636362,
          3.7373737373737375,
          3.8383838383838382,
          3.9393939393939394,
          4.040404040404041,
          4.141414141414141,
          4.242424242424242,
          4.343434343434343,
          4.444444444444445,
          4.545454545454545,
          4.646464646464646,
          4.747474747474747,
          4.848484848484849,
          4.94949494949495,
          5.05050505050505,
          5.151515151515151,
          5.252525252525253,
          5.353535353535354,
          5.454545454545454,
          5.555555555555555,
          5.656565656565657,
          5.757575757575758,
          5.858585858585858,
          5.959595959595959,
          6.0606060606060606,
          6.161616161616162,
          6.262626262626262,
          6.363636363636363,
          6.4646464646464645,
          6.565656565656566,
          6.666666666666667,
          6.767676767676767,
          6.8686868686868685,
          6.96969696969697,
          7.070707070707071,
          7.171717171717171,
          7.2727272727272725,
          7.373737373737374,
          7.474747474747475,
          7.575757575757575,
          7.6767676767676765,
          7.777777777777778,
          7.878787878787879,
          7.979797979797979,
          8.080808080808081,
          8.181818181818182,
          8.282828282828282,
          8.383838383838384,
          8.484848484848484,
          8.585858585858587,
          8.686868686868687,
          8.787878787878787,
          8.88888888888889,
          8.98989898989899,
          9.09090909090909,
          9.191919191919192,
          9.292929292929292,
          9.393939393939394,
          9.494949494949495,
          9.595959595959595,
          9.696969696969697,
          9.797979797979798,
          9.8989898989899,
          10
         ],
         "xaxis": "x2",
         "y": [
          0,
          0.007077457349798699,
          0.026459738687950374,
          0.055211648268902014,
          0.09025216413705861,
          0.12843939098681156,
          0.166654667740318,
          0.20188422824980368,
          0.23129688403077964,
          0.25231629257287214,
          0.2626864917444389,
          0.26052951798378543,
          0.2443940809554792,
          0.21329443751076682,
          0.16673879029212224,
          0.1047467281792605,
          0.02785542388919854,
          -0.06288549474146488,
          -0.16593028212554006,
          -0.2792643053664585,
          -0.40044166057974984,
          -0.526632485546302,
          -0.6546791088471506,
          -0.7811600199810909,
          -0.902460506335065,
          -1.0148486833629415,
          -1.1145555457296759,
          -1.1978575909799525,
          -1.2611605146335148,
          -1.3010824472830773,
          -1.3145352006981756,
          -1.298802011175714,
          -1.2516103141122197,
          -1.1711981533283247,
          -1.056372921027024,
          -0.906561238048412,
          -0.7218489176178253,
          -0.5030101070977033,
          -0.2515248691143892,
          0.030415356629109436,
          0.3399147791836832,
          0.6733929402002379,
          1.0266170235463787,
          1.3947465541861226,
          1.7723900469597684,
          2.153672967489674,
          2.5323161764645867,
          2.90172384791254,
          3.2550796845245413,
          3.585450101224646,
          3.8858929143750043,
          4.14956996039138,
          4.369861975982921,
          4.540484004278898,
          4.655599547995829,
          4.7099316734220436,
          4.698869277885133,
          4.618566768688328,
          4.466035463051642,
          4.239225105798107,
          3.937094013449655,
          3.5596664887510805,
          3.1080763067954438,
          2.5845952509372743,
          1.9926458713111481,
          1.3367978485209915,
          0.6227475671926759,
          -0.14271926434277216,
          -0.95178187403984,
          -1.79565525053565,
          -2.664676975761468,
          -3.5484092721176554,
          -4.4357552398813995,
          -5.315088039869824,
          -6.174391568924501,
          -7.001410984531651,
          -7.783811262676697,
          -8.509341822462352,
          -9.166005124446304,
          -9.742227049137526,
          -10.22702678936551,
          -10.610183946694656,
          -10.882400508716525,
          -11.035455401550625,
          -11.062349360455919,
          -10.957437940931683,
          -10.716550602492543,
          -10.337093936459125,
          -9.81813727623861,
          -9.160479121924208,
          -8.366693028499306,
          -7.441151846036496,
          -6.390029458262835,
          -5.22127943967462,
          -3.944590337737922,
          -2.5713175821083905,
          -1.1143923235930338,
          0.41179219201674533,
          1.9915158099304708,
          3.60788701275795
         ],
         "yaxis": "y2"
        }
       ],
       "layout": {
        "showlegend": false,
        "template": {
         "data": {
          "bar": [
           {
            "error_x": {
             "color": "#2a3f5f"
            },
            "error_y": {
             "color": "#2a3f5f"
            },
            "marker": {
             "line": {
              "color": "#E5ECF6",
              "width": 0.5
             }
            },
            "type": "bar"
           }
          ],
          "barpolar": [
           {
            "marker": {
             "line": {
              "color": "#E5ECF6",
              "width": 0.5
             }
            },
            "type": "barpolar"
           }
          ],
          "carpet": [
           {
            "aaxis": {
             "endlinecolor": "#2a3f5f",
             "gridcolor": "white",
             "linecolor": "white",
             "minorgridcolor": "white",
             "startlinecolor": "#2a3f5f"
            },
            "baxis": {
             "endlinecolor": "#2a3f5f",
             "gridcolor": "white",
             "linecolor": "white",
             "minorgridcolor": "white",
             "startlinecolor": "#2a3f5f"
            },
            "type": "carpet"
           }
          ],
          "choropleth": [
           {
            "colorbar": {
             "outlinewidth": 0,
             "ticks": ""
            },
            "type": "choropleth"
           }
          ],
          "contour": [
           {
            "colorbar": {
             "outlinewidth": 0,
             "ticks": ""
            },
            "colorscale": [
             [
              0,
              "#0d0887"
             ],
             [
              0.1111111111111111,
              "#46039f"
             ],
             [
              0.2222222222222222,
              "#7201a8"
             ],
             [
              0.3333333333333333,
              "#9c179e"
             ],
             [
              0.4444444444444444,
              "#bd3786"
             ],
             [
              0.5555555555555556,
              "#d8576b"
             ],
             [
              0.6666666666666666,
              "#ed7953"
             ],
             [
              0.7777777777777778,
              "#fb9f3a"
             ],
             [
              0.8888888888888888,
              "#fdca26"
             ],
             [
              1,
              "#f0f921"
             ]
            ],
            "type": "contour"
           }
          ],
          "contourcarpet": [
           {
            "colorbar": {
             "outlinewidth": 0,
             "ticks": ""
            },
            "type": "contourcarpet"
           }
          ],
          "heatmap": [
           {
            "colorbar": {
             "outlinewidth": 0,
             "ticks": ""
            },
            "colorscale": [
             [
              0,
              "#0d0887"
             ],
             [
              0.1111111111111111,
              "#46039f"
             ],
             [
              0.2222222222222222,
              "#7201a8"
             ],
             [
              0.3333333333333333,
              "#9c179e"
             ],
             [
              0.4444444444444444,
              "#bd3786"
             ],
             [
              0.5555555555555556,
              "#d8576b"
             ],
             [
              0.6666666666666666,
              "#ed7953"
             ],
             [
              0.7777777777777778,
              "#fb9f3a"
             ],
             [
              0.8888888888888888,
              "#fdca26"
             ],
             [
              1,
              "#f0f921"
             ]
            ],
            "type": "heatmap"
           }
          ],
          "heatmapgl": [
           {
            "colorbar": {
             "outlinewidth": 0,
             "ticks": ""
            },
            "colorscale": [
             [
              0,
              "#0d0887"
             ],
             [
              0.1111111111111111,
              "#46039f"
             ],
             [
              0.2222222222222222,
              "#7201a8"
             ],
             [
              0.3333333333333333,
              "#9c179e"
             ],
             [
              0.4444444444444444,
              "#bd3786"
             ],
             [
              0.5555555555555556,
              "#d8576b"
             ],
             [
              0.6666666666666666,
              "#ed7953"
             ],
             [
              0.7777777777777778,
              "#fb9f3a"
             ],
             [
              0.8888888888888888,
              "#fdca26"
             ],
             [
              1,
              "#f0f921"
             ]
            ],
            "type": "heatmapgl"
           }
          ],
          "histogram": [
           {
            "marker": {
             "colorbar": {
              "outlinewidth": 0,
              "ticks": ""
             }
            },
            "type": "histogram"
           }
          ],
          "histogram2d": [
           {
            "colorbar": {
             "outlinewidth": 0,
             "ticks": ""
            },
            "colorscale": [
             [
              0,
              "#0d0887"
             ],
             [
              0.1111111111111111,
              "#46039f"
             ],
             [
              0.2222222222222222,
              "#7201a8"
             ],
             [
              0.3333333333333333,
              "#9c179e"
             ],
             [
              0.4444444444444444,
              "#bd3786"
             ],
             [
              0.5555555555555556,
              "#d8576b"
             ],
             [
              0.6666666666666666,
              "#ed7953"
             ],
             [
              0.7777777777777778,
              "#fb9f3a"
             ],
             [
              0.8888888888888888,
              "#fdca26"
             ],
             [
              1,
              "#f0f921"
             ]
            ],
            "type": "histogram2d"
           }
          ],
          "histogram2dcontour": [
           {
            "colorbar": {
             "outlinewidth": 0,
             "ticks": ""
            },
            "colorscale": [
             [
              0,
              "#0d0887"
             ],
             [
              0.1111111111111111,
              "#46039f"
             ],
             [
              0.2222222222222222,
              "#7201a8"
             ],
             [
              0.3333333333333333,
              "#9c179e"
             ],
             [
              0.4444444444444444,
              "#bd3786"
             ],
             [
              0.5555555555555556,
              "#d8576b"
             ],
             [
              0.6666666666666666,
              "#ed7953"
             ],
             [
              0.7777777777777778,
              "#fb9f3a"
             ],
             [
              0.8888888888888888,
              "#fdca26"
             ],
             [
              1,
              "#f0f921"
             ]
            ],
            "type": "histogram2dcontour"
           }
          ],
          "mesh3d": [
           {
            "colorbar": {
             "outlinewidth": 0,
             "ticks": ""
            },
            "type": "mesh3d"
           }
          ],
          "parcoords": [
           {
            "line": {
             "colorbar": {
              "outlinewidth": 0,
              "ticks": ""
             }
            },
            "type": "parcoords"
           }
          ],
          "pie": [
           {
            "automargin": true,
            "type": "pie"
           }
          ],
          "scatter": [
           {
            "marker": {
             "colorbar": {
              "outlinewidth": 0,
              "ticks": ""
             }
            },
            "type": "scatter"
           }
          ],
          "scatter3d": [
           {
            "line": {
             "colorbar": {
              "outlinewidth": 0,
              "ticks": ""
             }
            },
            "marker": {
             "colorbar": {
              "outlinewidth": 0,
              "ticks": ""
             }
            },
            "type": "scatter3d"
           }
          ],
          "scattercarpet": [
           {
            "marker": {
             "colorbar": {
              "outlinewidth": 0,
              "ticks": ""
             }
            },
            "type": "scattercarpet"
           }
          ],
          "scattergeo": [
           {
            "marker": {
             "colorbar": {
              "outlinewidth": 0,
              "ticks": ""
             }
            },
            "type": "scattergeo"
           }
          ],
          "scattergl": [
           {
            "marker": {
             "colorbar": {
              "outlinewidth": 0,
              "ticks": ""
             }
            },
            "type": "scattergl"
           }
          ],
          "scattermapbox": [
           {
            "marker": {
             "colorbar": {
              "outlinewidth": 0,
              "ticks": ""
             }
            },
            "type": "scattermapbox"
           }
          ],
          "scatterpolar": [
           {
            "marker": {
             "colorbar": {
              "outlinewidth": 0,
              "ticks": ""
             }
            },
            "type": "scatterpolar"
           }
          ],
          "scatterpolargl": [
           {
            "marker": {
             "colorbar": {
              "outlinewidth": 0,
              "ticks": ""
             }
            },
            "type": "scatterpolargl"
           }
          ],
          "scatterternary": [
           {
            "marker": {
             "colorbar": {
              "outlinewidth": 0,
              "ticks": ""
             }
            },
            "type": "scatterternary"
           }
          ],
          "surface": [
           {
            "colorbar": {
             "outlinewidth": 0,
             "ticks": ""
            },
            "colorscale": [
             [
              0,
              "#0d0887"
             ],
             [
              0.1111111111111111,
              "#46039f"
             ],
             [
              0.2222222222222222,
              "#7201a8"
             ],
             [
              0.3333333333333333,
              "#9c179e"
             ],
             [
              0.4444444444444444,
              "#bd3786"
             ],
             [
              0.5555555555555556,
              "#d8576b"
             ],
             [
              0.6666666666666666,
              "#ed7953"
             ],
             [
              0.7777777777777778,
              "#fb9f3a"
             ],
             [
              0.8888888888888888,
              "#fdca26"
             ],
             [
              1,
              "#f0f921"
             ]
            ],
            "type": "surface"
           }
          ],
          "table": [
           {
            "cells": {
             "fill": {
              "color": "#EBF0F8"
             },
             "line": {
              "color": "white"
             }
            },
            "header": {
             "fill": {
              "color": "#C8D4E3"
             },
             "line": {
              "color": "white"
             }
            },
            "type": "table"
           }
          ]
         },
         "layout": {
          "annotationdefaults": {
           "arrowcolor": "#2a3f5f",
           "arrowhead": 0,
           "arrowwidth": 1
          },
          "coloraxis": {
           "colorbar": {
            "outlinewidth": 0,
            "ticks": ""
           }
          },
          "colorscale": {
           "diverging": [
            [
             0,
             "#8e0152"
            ],
            [
             0.1,
             "#c51b7d"
            ],
            [
             0.2,
             "#de77ae"
            ],
            [
             0.3,
             "#f1b6da"
            ],
            [
             0.4,
             "#fde0ef"
            ],
            [
             0.5,
             "#f7f7f7"
            ],
            [
             0.6,
             "#e6f5d0"
            ],
            [
             0.7,
             "#b8e186"
            ],
            [
             0.8,
             "#7fbc41"
            ],
            [
             0.9,
             "#4d9221"
            ],
            [
             1,
             "#276419"
            ]
           ],
           "sequential": [
            [
             0,
             "#0d0887"
            ],
            [
             0.1111111111111111,
             "#46039f"
            ],
            [
             0.2222222222222222,
             "#7201a8"
            ],
            [
             0.3333333333333333,
             "#9c179e"
            ],
            [
             0.4444444444444444,
             "#bd3786"
            ],
            [
             0.5555555555555556,
             "#d8576b"
            ],
            [
             0.6666666666666666,
             "#ed7953"
            ],
            [
             0.7777777777777778,
             "#fb9f3a"
            ],
            [
             0.8888888888888888,
             "#fdca26"
            ],
            [
             1,
             "#f0f921"
            ]
           ],
           "sequentialminus": [
            [
             0,
             "#0d0887"
            ],
            [
             0.1111111111111111,
             "#46039f"
            ],
            [
             0.2222222222222222,
             "#7201a8"
            ],
            [
             0.3333333333333333,
             "#9c179e"
            ],
            [
             0.4444444444444444,
             "#bd3786"
            ],
            [
             0.5555555555555556,
             "#d8576b"
            ],
            [
             0.6666666666666666,
             "#ed7953"
            ],
            [
             0.7777777777777778,
             "#fb9f3a"
            ],
            [
             0.8888888888888888,
             "#fdca26"
            ],
            [
             1,
             "#f0f921"
            ]
           ]
          },
          "colorway": [
           "#636efa",
           "#EF553B",
           "#00cc96",
           "#ab63fa",
           "#FFA15A",
           "#19d3f3",
           "#FF6692",
           "#B6E880",
           "#FF97FF",
           "#FECB52"
          ],
          "font": {
           "color": "#2a3f5f"
          },
          "geo": {
           "bgcolor": "white",
           "lakecolor": "white",
           "landcolor": "#E5ECF6",
           "showlakes": true,
           "showland": true,
           "subunitcolor": "white"
          },
          "hoverlabel": {
           "align": "left"
          },
          "hovermode": "closest",
          "mapbox": {
           "style": "light"
          },
          "paper_bgcolor": "white",
          "plot_bgcolor": "#E5ECF6",
          "polar": {
           "angularaxis": {
            "gridcolor": "white",
            "linecolor": "white",
            "ticks": ""
           },
           "bgcolor": "#E5ECF6",
           "radialaxis": {
            "gridcolor": "white",
            "linecolor": "white",
            "ticks": ""
           }
          },
          "scene": {
           "xaxis": {
            "backgroundcolor": "#E5ECF6",
            "gridcolor": "white",
            "gridwidth": 2,
            "linecolor": "white",
            "showbackground": true,
            "ticks": "",
            "zerolinecolor": "white"
           },
           "yaxis": {
            "backgroundcolor": "#E5ECF6",
            "gridcolor": "white",
            "gridwidth": 2,
            "linecolor": "white",
            "showbackground": true,
            "ticks": "",
            "zerolinecolor": "white"
           },
           "zaxis": {
            "backgroundcolor": "#E5ECF6",
            "gridcolor": "white",
            "gridwidth": 2,
            "linecolor": "white",
            "showbackground": true,
            "ticks": "",
            "zerolinecolor": "white"
           }
          },
          "shapedefaults": {
           "line": {
            "color": "#2a3f5f"
           }
          },
          "ternary": {
           "aaxis": {
            "gridcolor": "white",
            "linecolor": "white",
            "ticks": ""
           },
           "baxis": {
            "gridcolor": "white",
            "linecolor": "white",
            "ticks": ""
           },
           "bgcolor": "#E5ECF6",
           "caxis": {
            "gridcolor": "white",
            "linecolor": "white",
            "ticks": ""
           }
          },
          "title": {
           "x": 0.05
          },
          "xaxis": {
           "automargin": true,
           "gridcolor": "white",
           "linecolor": "white",
           "ticks": "",
           "title": {
            "standoff": 15
           },
           "zerolinecolor": "white",
           "zerolinewidth": 2
          },
          "yaxis": {
           "automargin": true,
           "gridcolor": "white",
           "linecolor": "white",
           "ticks": "",
           "title": {
            "standoff": 15
           },
           "zerolinecolor": "white",
           "zerolinewidth": 2
          }
         }
        },
        "xaxis": {
         "anchor": "y",
         "domain": [
          0,
          0.45
         ],
         "title": {
          "text": "t"
         }
        },
        "xaxis2": {
         "anchor": "y2",
         "domain": [
          0.55,
          1
         ],
         "title": {
          "text": "t"
         }
        },
        "yaxis": {
         "anchor": "x",
         "domain": [
          0,
          1
         ],
         "title": {
          "text": "x(t)"
         }
        },
        "yaxis2": {
         "anchor": "x2",
         "domain": [
          0,
          1
         ],
         "title": {
          "text": "y(t)"
         }
        }
       }
      },
      "text/html": [
       "<div>\n",
       "        \n",
       "        \n",
       "            <div id=\"69e07e9f-5713-40a7-bcbc-e9f728bab620\" class=\"plotly-graph-div\" style=\"height:525px; width:100%;\"></div>\n",
       "            <script type=\"text/javascript\">\n",
       "                require([\"plotly\"], function(Plotly) {\n",
       "                    window.PLOTLYENV=window.PLOTLYENV || {};\n",
       "                    \n",
       "                if (document.getElementById(\"69e07e9f-5713-40a7-bcbc-e9f728bab620\")) {\n",
       "                    Plotly.newPlot(\n",
       "                        '69e07e9f-5713-40a7-bcbc-e9f728bab620',\n",
       "                        [{\"name\": \"x(t)\", \"type\": \"scatter\", \"x\": [0.0, 0.10101010101010101, 0.20202020202020202, 0.30303030303030304, 0.40404040404040403, 0.5050505050505051, 0.6060606060606061, 0.7070707070707071, 0.8080808080808081, 0.9090909090909091, 1.0101010101010102, 1.1111111111111112, 1.2121212121212122, 1.3131313131313131, 1.4141414141414141, 1.5151515151515151, 1.6161616161616161, 1.7171717171717171, 1.8181818181818181, 1.9191919191919191, 2.0202020202020203, 2.121212121212121, 2.2222222222222223, 2.323232323232323, 2.4242424242424243, 2.525252525252525, 2.6262626262626263, 2.727272727272727, 2.8282828282828283, 2.929292929292929, 3.0303030303030303, 3.131313131313131, 3.2323232323232323, 3.3333333333333335, 3.4343434343434343, 3.5353535353535355, 3.6363636363636362, 3.7373737373737375, 3.8383838383838382, 3.9393939393939394, 4.040404040404041, 4.141414141414141, 4.242424242424242, 4.343434343434343, 4.444444444444445, 4.545454545454545, 4.646464646464646, 4.747474747474747, 4.848484848484849, 4.94949494949495, 5.05050505050505, 5.151515151515151, 5.252525252525253, 5.353535353535354, 5.454545454545454, 5.555555555555555, 5.656565656565657, 5.757575757575758, 5.858585858585858, 5.959595959595959, 6.0606060606060606, 6.161616161616162, 6.262626262626262, 6.363636363636363, 6.4646464646464645, 6.565656565656566, 6.666666666666667, 6.767676767676767, 6.8686868686868685, 6.96969696969697, 7.070707070707071, 7.171717171717171, 7.2727272727272725, 7.373737373737374, 7.474747474747475, 7.575757575757575, 7.6767676767676765, 7.777777777777778, 7.878787878787879, 7.979797979797979, 8.080808080808081, 8.181818181818182, 8.282828282828282, 8.383838383838384, 8.484848484848484, 8.585858585858587, 8.686868686868687, 8.787878787878787, 8.88888888888889, 8.98989898989899, 9.09090909090909, 9.191919191919192, 9.292929292929292, 9.393939393939394, 9.494949494949495, 9.595959595959595, 9.696969696969697, 9.797979797979798, 9.8989898989899, 10.0], \"xaxis\": \"x\", \"y\": [0.0, 0.020371398031940324, 0.08107024505967086, 0.18085685118038855, 0.31768615123097355, 0.4887390307453886, 0.6904655841320796, 0.9186397160686759, 1.1684243417849867, 1.4344462960804678, 1.7108799264706736, 1.9915382245110143, 2.269970242677054, 2.5395634535799787, 2.793649634957813, 3.025612808789059, 3.2289977267825676, 3.3976173779280368, 3.5256579970266313, 3.607780076196463, 3.6392139240523456, 3.615848379138016, 3.534311364546885, 3.3920410685774276, 3.187346650583154, 2.919457500538248, 2.588560223699396, 2.195822676379072, 1.7434045433782124, 1.2344541200482007, 0.6730911401462407, 0.06437567241546982, -0.5857367080947571, -1.2704530858365692, -1.9822141407060005, -2.7127771137805925, -3.453309896889014, -4.194495184275246, -4.926643480714492, -5.63981363029059, -6.323939415387493, -6.968960677837509, -7.564957334964826, -8.102284603609867, -8.571707706033584, -8.964534313553905, -9.272742987281571, -9.489105900562521, -9.607304174600506, -9.62203422686522, -9.529103620666662, -9.32551501281959, -9.009536923510847, -8.580760196960686, -8.040139181660873, -7.390016833098026, -6.6341331279687195, -5.777616374838979, -4.826957209735362, -3.7899652739043437, -2.675708782485616, -1.4944374045994289, -0.25748908481012606, 1.0228183594399494, 2.3333098325321817, 3.6600885280891355, 4.988683074282933, 6.304204701155285, 7.591512729445576, 8.835386554136262, 10.020702189685915, 11.132611359219032, 12.156721048032857, 13.079271403661162, 13.887309851133859, 14.568859303436719, 15.113078383670826, 15.510411636904719, 15.752727795781155, 15.833444273869393, 15.747636193544013, 15.492128409545797, 15.065569163799175, 14.468484199734958, 13.703310373277425, 12.774408020572077, 11.688051577041367, 10.452398185885107, 9.077434283987253, 7.574900406542628, 5.958194705699996, 4.242255930218124, 2.443426859626702, 0.579299424785073, -1.3314570257900598, -3.2692826406402355, -5.213927290383206, -7.144662053458829, -9.040499755173704, -10.880422217787395], \"yaxis\": \"y\"}, {\"name\": \"y(t)\", \"type\": \"scatter\", \"x\": [0.0, 0.10101010101010101, 0.20202020202020202, 0.30303030303030304, 0.40404040404040403, 0.5050505050505051, 0.6060606060606061, 0.7070707070707071, 0.8080808080808081, 0.9090909090909091, 1.0101010101010102, 1.1111111111111112, 1.2121212121212122, 1.3131313131313131, 1.4141414141414141, 1.5151515151515151, 1.6161616161616161, 1.7171717171717171, 1.8181818181818181, 1.9191919191919191, 2.0202020202020203, 2.121212121212121, 2.2222222222222223, 2.323232323232323, 2.4242424242424243, 2.525252525252525, 2.6262626262626263, 2.727272727272727, 2.8282828282828283, 2.929292929292929, 3.0303030303030303, 3.131313131313131, 3.2323232323232323, 3.3333333333333335, 3.4343434343434343, 3.5353535353535355, 3.6363636363636362, 3.7373737373737375, 3.8383838383838382, 3.9393939393939394, 4.040404040404041, 4.141414141414141, 4.242424242424242, 4.343434343434343, 4.444444444444445, 4.545454545454545, 4.646464646464646, 4.747474747474747, 4.848484848484849, 4.94949494949495, 5.05050505050505, 5.151515151515151, 5.252525252525253, 5.353535353535354, 5.454545454545454, 5.555555555555555, 5.656565656565657, 5.757575757575758, 5.858585858585858, 5.959595959595959, 6.0606060606060606, 6.161616161616162, 6.262626262626262, 6.363636363636363, 6.4646464646464645, 6.565656565656566, 6.666666666666667, 6.767676767676767, 6.8686868686868685, 6.96969696969697, 7.070707070707071, 7.171717171717171, 7.2727272727272725, 7.373737373737374, 7.474747474747475, 7.575757575757575, 7.6767676767676765, 7.777777777777778, 7.878787878787879, 7.979797979797979, 8.080808080808081, 8.181818181818182, 8.282828282828282, 8.383838383838384, 8.484848484848484, 8.585858585858587, 8.686868686868687, 8.787878787878787, 8.88888888888889, 8.98989898989899, 9.09090909090909, 9.191919191919192, 9.292929292929292, 9.393939393939394, 9.494949494949495, 9.595959595959595, 9.696969696969697, 9.797979797979798, 9.8989898989899, 10.0], \"xaxis\": \"x2\", \"y\": [0.0, 0.007077457349798699, 0.026459738687950374, 0.055211648268902014, 0.09025216413705861, 0.12843939098681156, 0.166654667740318, 0.20188422824980368, 0.23129688403077964, 0.25231629257287214, 0.2626864917444389, 0.26052951798378543, 0.2443940809554792, 0.21329443751076682, 0.16673879029212224, 0.1047467281792605, 0.02785542388919854, -0.06288549474146488, -0.16593028212554006, -0.2792643053664585, -0.40044166057974984, -0.526632485546302, -0.6546791088471506, -0.7811600199810909, -0.902460506335065, -1.0148486833629415, -1.1145555457296759, -1.1978575909799525, -1.2611605146335148, -1.3010824472830773, -1.3145352006981756, -1.298802011175714, -1.2516103141122197, -1.1711981533283247, -1.056372921027024, -0.906561238048412, -0.7218489176178253, -0.5030101070977033, -0.2515248691143892, 0.030415356629109436, 0.3399147791836832, 0.6733929402002379, 1.0266170235463787, 1.3947465541861226, 1.7723900469597684, 2.153672967489674, 2.5323161764645867, 2.90172384791254, 3.2550796845245413, 3.585450101224646, 3.8858929143750043, 4.14956996039138, 4.369861975982921, 4.540484004278898, 4.655599547995829, 4.7099316734220436, 4.698869277885133, 4.618566768688328, 4.466035463051642, 4.239225105798107, 3.937094013449655, 3.5596664887510805, 3.1080763067954438, 2.5845952509372743, 1.9926458713111481, 1.3367978485209915, 0.6227475671926759, -0.14271926434277216, -0.95178187403984, -1.79565525053565, -2.664676975761468, -3.5484092721176554, -4.4357552398813995, -5.315088039869824, -6.174391568924501, -7.001410984531651, -7.783811262676697, -8.509341822462352, -9.166005124446304, -9.742227049137526, -10.22702678936551, -10.610183946694656, -10.882400508716525, -11.035455401550625, -11.062349360455919, -10.957437940931683, -10.716550602492543, -10.337093936459125, -9.81813727623861, -9.160479121924208, -8.366693028499306, -7.441151846036496, -6.390029458262835, -5.22127943967462, -3.944590337737922, -2.5713175821083905, -1.1143923235930338, 0.41179219201674533, 1.9915158099304708, 3.60788701275795], \"yaxis\": \"y2\"}],\n",
       "                        {\"showlegend\": false, \"template\": {\"data\": {\"bar\": [{\"error_x\": {\"color\": \"#2a3f5f\"}, \"error_y\": {\"color\": \"#2a3f5f\"}, \"marker\": {\"line\": {\"color\": \"#E5ECF6\", \"width\": 0.5}}, \"type\": \"bar\"}], \"barpolar\": [{\"marker\": {\"line\": {\"color\": \"#E5ECF6\", \"width\": 0.5}}, \"type\": \"barpolar\"}], \"carpet\": [{\"aaxis\": {\"endlinecolor\": \"#2a3f5f\", \"gridcolor\": \"white\", \"linecolor\": \"white\", \"minorgridcolor\": \"white\", \"startlinecolor\": \"#2a3f5f\"}, \"baxis\": {\"endlinecolor\": \"#2a3f5f\", \"gridcolor\": \"white\", \"linecolor\": \"white\", \"minorgridcolor\": \"white\", \"startlinecolor\": \"#2a3f5f\"}, \"type\": \"carpet\"}], \"choropleth\": [{\"colorbar\": {\"outlinewidth\": 0, \"ticks\": \"\"}, \"type\": \"choropleth\"}], \"contour\": [{\"colorbar\": {\"outlinewidth\": 0, \"ticks\": \"\"}, \"colorscale\": [[0.0, \"#0d0887\"], [0.1111111111111111, \"#46039f\"], [0.2222222222222222, \"#7201a8\"], [0.3333333333333333, \"#9c179e\"], [0.4444444444444444, \"#bd3786\"], [0.5555555555555556, \"#d8576b\"], [0.6666666666666666, \"#ed7953\"], [0.7777777777777778, \"#fb9f3a\"], [0.8888888888888888, \"#fdca26\"], [1.0, \"#f0f921\"]], \"type\": \"contour\"}], \"contourcarpet\": [{\"colorbar\": {\"outlinewidth\": 0, \"ticks\": \"\"}, \"type\": \"contourcarpet\"}], \"heatmap\": [{\"colorbar\": {\"outlinewidth\": 0, \"ticks\": \"\"}, \"colorscale\": [[0.0, \"#0d0887\"], [0.1111111111111111, \"#46039f\"], [0.2222222222222222, \"#7201a8\"], [0.3333333333333333, \"#9c179e\"], [0.4444444444444444, \"#bd3786\"], [0.5555555555555556, \"#d8576b\"], [0.6666666666666666, \"#ed7953\"], [0.7777777777777778, \"#fb9f3a\"], [0.8888888888888888, \"#fdca26\"], [1.0, \"#f0f921\"]], \"type\": \"heatmap\"}], \"heatmapgl\": [{\"colorbar\": {\"outlinewidth\": 0, \"ticks\": \"\"}, \"colorscale\": [[0.0, \"#0d0887\"], [0.1111111111111111, \"#46039f\"], [0.2222222222222222, \"#7201a8\"], [0.3333333333333333, \"#9c179e\"], [0.4444444444444444, \"#bd3786\"], [0.5555555555555556, \"#d8576b\"], [0.6666666666666666, \"#ed7953\"], [0.7777777777777778, \"#fb9f3a\"], [0.8888888888888888, \"#fdca26\"], [1.0, \"#f0f921\"]], \"type\": \"heatmapgl\"}], \"histogram\": [{\"marker\": {\"colorbar\": {\"outlinewidth\": 0, \"ticks\": \"\"}}, \"type\": \"histogram\"}], \"histogram2d\": [{\"colorbar\": {\"outlinewidth\": 0, \"ticks\": \"\"}, \"colorscale\": [[0.0, \"#0d0887\"], [0.1111111111111111, \"#46039f\"], [0.2222222222222222, \"#7201a8\"], [0.3333333333333333, \"#9c179e\"], [0.4444444444444444, \"#bd3786\"], [0.5555555555555556, \"#d8576b\"], [0.6666666666666666, \"#ed7953\"], [0.7777777777777778, \"#fb9f3a\"], [0.8888888888888888, \"#fdca26\"], [1.0, \"#f0f921\"]], \"type\": \"histogram2d\"}], \"histogram2dcontour\": [{\"colorbar\": {\"outlinewidth\": 0, \"ticks\": \"\"}, \"colorscale\": [[0.0, \"#0d0887\"], [0.1111111111111111, \"#46039f\"], [0.2222222222222222, \"#7201a8\"], [0.3333333333333333, \"#9c179e\"], [0.4444444444444444, \"#bd3786\"], [0.5555555555555556, \"#d8576b\"], [0.6666666666666666, \"#ed7953\"], [0.7777777777777778, \"#fb9f3a\"], [0.8888888888888888, \"#fdca26\"], [1.0, \"#f0f921\"]], \"type\": \"histogram2dcontour\"}], \"mesh3d\": [{\"colorbar\": {\"outlinewidth\": 0, \"ticks\": \"\"}, \"type\": \"mesh3d\"}], \"parcoords\": [{\"line\": {\"colorbar\": {\"outlinewidth\": 0, \"ticks\": \"\"}}, \"type\": \"parcoords\"}], \"pie\": [{\"automargin\": true, \"type\": \"pie\"}], \"scatter\": [{\"marker\": {\"colorbar\": {\"outlinewidth\": 0, \"ticks\": \"\"}}, \"type\": \"scatter\"}], \"scatter3d\": [{\"line\": {\"colorbar\": {\"outlinewidth\": 0, \"ticks\": \"\"}}, \"marker\": {\"colorbar\": {\"outlinewidth\": 0, \"ticks\": \"\"}}, \"type\": \"scatter3d\"}], \"scattercarpet\": [{\"marker\": {\"colorbar\": {\"outlinewidth\": 0, \"ticks\": \"\"}}, \"type\": \"scattercarpet\"}], \"scattergeo\": [{\"marker\": {\"colorbar\": {\"outlinewidth\": 0, \"ticks\": \"\"}}, \"type\": \"scattergeo\"}], \"scattergl\": [{\"marker\": {\"colorbar\": {\"outlinewidth\": 0, \"ticks\": \"\"}}, \"type\": \"scattergl\"}], \"scattermapbox\": [{\"marker\": {\"colorbar\": {\"outlinewidth\": 0, \"ticks\": \"\"}}, \"type\": \"scattermapbox\"}], \"scatterpolar\": [{\"marker\": {\"colorbar\": {\"outlinewidth\": 0, \"ticks\": \"\"}}, \"type\": \"scatterpolar\"}], \"scatterpolargl\": [{\"marker\": {\"colorbar\": {\"outlinewidth\": 0, \"ticks\": \"\"}}, \"type\": \"scatterpolargl\"}], \"scatterternary\": [{\"marker\": {\"colorbar\": {\"outlinewidth\": 0, \"ticks\": \"\"}}, \"type\": \"scatterternary\"}], \"surface\": [{\"colorbar\": {\"outlinewidth\": 0, \"ticks\": \"\"}, \"colorscale\": [[0.0, \"#0d0887\"], [0.1111111111111111, \"#46039f\"], [0.2222222222222222, \"#7201a8\"], [0.3333333333333333, \"#9c179e\"], [0.4444444444444444, \"#bd3786\"], [0.5555555555555556, \"#d8576b\"], [0.6666666666666666, \"#ed7953\"], [0.7777777777777778, \"#fb9f3a\"], [0.8888888888888888, \"#fdca26\"], [1.0, \"#f0f921\"]], \"type\": \"surface\"}], \"table\": [{\"cells\": {\"fill\": {\"color\": \"#EBF0F8\"}, \"line\": {\"color\": \"white\"}}, \"header\": {\"fill\": {\"color\": \"#C8D4E3\"}, \"line\": {\"color\": \"white\"}}, \"type\": \"table\"}]}, \"layout\": {\"annotationdefaults\": {\"arrowcolor\": \"#2a3f5f\", \"arrowhead\": 0, \"arrowwidth\": 1}, \"coloraxis\": {\"colorbar\": {\"outlinewidth\": 0, \"ticks\": \"\"}}, \"colorscale\": {\"diverging\": [[0, \"#8e0152\"], [0.1, \"#c51b7d\"], [0.2, \"#de77ae\"], [0.3, \"#f1b6da\"], [0.4, \"#fde0ef\"], [0.5, \"#f7f7f7\"], [0.6, \"#e6f5d0\"], [0.7, \"#b8e186\"], [0.8, \"#7fbc41\"], [0.9, \"#4d9221\"], [1, \"#276419\"]], \"sequential\": [[0.0, \"#0d0887\"], [0.1111111111111111, \"#46039f\"], [0.2222222222222222, \"#7201a8\"], [0.3333333333333333, \"#9c179e\"], [0.4444444444444444, \"#bd3786\"], [0.5555555555555556, \"#d8576b\"], [0.6666666666666666, \"#ed7953\"], [0.7777777777777778, \"#fb9f3a\"], [0.8888888888888888, \"#fdca26\"], [1.0, \"#f0f921\"]], \"sequentialminus\": [[0.0, \"#0d0887\"], [0.1111111111111111, \"#46039f\"], [0.2222222222222222, \"#7201a8\"], [0.3333333333333333, \"#9c179e\"], [0.4444444444444444, \"#bd3786\"], [0.5555555555555556, \"#d8576b\"], [0.6666666666666666, \"#ed7953\"], [0.7777777777777778, \"#fb9f3a\"], [0.8888888888888888, \"#fdca26\"], [1.0, \"#f0f921\"]]}, \"colorway\": [\"#636efa\", \"#EF553B\", \"#00cc96\", \"#ab63fa\", \"#FFA15A\", \"#19d3f3\", \"#FF6692\", \"#B6E880\", \"#FF97FF\", \"#FECB52\"], \"font\": {\"color\": \"#2a3f5f\"}, \"geo\": {\"bgcolor\": \"white\", \"lakecolor\": \"white\", \"landcolor\": \"#E5ECF6\", \"showlakes\": true, \"showland\": true, \"subunitcolor\": \"white\"}, \"hoverlabel\": {\"align\": \"left\"}, \"hovermode\": \"closest\", \"mapbox\": {\"style\": \"light\"}, \"paper_bgcolor\": \"white\", \"plot_bgcolor\": \"#E5ECF6\", \"polar\": {\"angularaxis\": {\"gridcolor\": \"white\", \"linecolor\": \"white\", \"ticks\": \"\"}, \"bgcolor\": \"#E5ECF6\", \"radialaxis\": {\"gridcolor\": \"white\", \"linecolor\": \"white\", \"ticks\": \"\"}}, \"scene\": {\"xaxis\": {\"backgroundcolor\": \"#E5ECF6\", \"gridcolor\": \"white\", \"gridwidth\": 2, \"linecolor\": \"white\", \"showbackground\": true, \"ticks\": \"\", \"zerolinecolor\": \"white\"}, \"yaxis\": {\"backgroundcolor\": \"#E5ECF6\", \"gridcolor\": \"white\", \"gridwidth\": 2, \"linecolor\": \"white\", \"showbackground\": true, \"ticks\": \"\", \"zerolinecolor\": \"white\"}, \"zaxis\": {\"backgroundcolor\": \"#E5ECF6\", \"gridcolor\": \"white\", \"gridwidth\": 2, \"linecolor\": \"white\", \"showbackground\": true, \"ticks\": \"\", \"zerolinecolor\": \"white\"}}, \"shapedefaults\": {\"line\": {\"color\": \"#2a3f5f\"}}, \"ternary\": {\"aaxis\": {\"gridcolor\": \"white\", \"linecolor\": \"white\", \"ticks\": \"\"}, \"baxis\": {\"gridcolor\": \"white\", \"linecolor\": \"white\", \"ticks\": \"\"}, \"bgcolor\": \"#E5ECF6\", \"caxis\": {\"gridcolor\": \"white\", \"linecolor\": \"white\", \"ticks\": \"\"}}, \"title\": {\"x\": 0.05}, \"xaxis\": {\"automargin\": true, \"gridcolor\": \"white\", \"linecolor\": \"white\", \"ticks\": \"\", \"title\": {\"standoff\": 15}, \"zerolinecolor\": \"white\", \"zerolinewidth\": 2}, \"yaxis\": {\"automargin\": true, \"gridcolor\": \"white\", \"linecolor\": \"white\", \"ticks\": \"\", \"title\": {\"standoff\": 15}, \"zerolinecolor\": \"white\", \"zerolinewidth\": 2}}}, \"xaxis\": {\"anchor\": \"y\", \"domain\": [0.0, 0.45], \"title\": {\"text\": \"t\"}}, \"xaxis2\": {\"anchor\": \"y2\", \"domain\": [0.55, 1.0], \"title\": {\"text\": \"t\"}}, \"yaxis\": {\"anchor\": \"x\", \"domain\": [0.0, 1.0], \"title\": {\"text\": \"x(t)\"}}, \"yaxis2\": {\"anchor\": \"x2\", \"domain\": [0.0, 1.0], \"title\": {\"text\": \"y(t)\"}}},\n",
       "                        {\"responsive\": true}\n",
       "                    ).then(function(){\n",
       "                            \n",
       "var gd = document.getElementById('69e07e9f-5713-40a7-bcbc-e9f728bab620');\n",
       "var x = new MutationObserver(function (mutations, observer) {{\n",
       "        var display = window.getComputedStyle(gd).display;\n",
       "        if (!display || display === 'none') {{\n",
       "            console.log([gd, 'removed!']);\n",
       "            Plotly.purge(gd);\n",
       "            observer.disconnect();\n",
       "        }}\n",
       "}});\n",
       "\n",
       "// Listen for the removal of the full notebook cells\n",
       "var notebookContainer = gd.closest('#notebook-container');\n",
       "if (notebookContainer) {{\n",
       "    x.observe(notebookContainer, {childList: true});\n",
       "}}\n",
       "\n",
       "// Listen for the clearing of the current output cell\n",
       "var outputEl = gd.closest('.output');\n",
       "if (outputEl) {{\n",
       "    x.observe(outputEl, {childList: true});\n",
       "}}\n",
       "\n",
       "                        })\n",
       "                };\n",
       "                });\n",
       "            </script>\n",
       "        </div>"
      ]
     },
     "metadata": {},
     "output_type": "display_data"
    }
   ],
   "source": [
    "from plotly.subplots import make_subplots\n",
    "import plotly.graph_objects as go\n",
    "import numpy as np\n",
    "# you can play with this if you wish, this is the values of time we will use to generate the plots\n",
    "# hint: linspace(start, end, number_of_points)\n",
    "t_array = np.linspace(0, 10, 100) \n",
    "\n",
    "# draw the plots\n",
    "fig = make_subplots(rows=1, cols=2)\n",
    "fig.add_trace(\n",
    "    go.Scatter(x=t_array, y=x_fun(t_array), name=\"x(t)\"),\n",
    "    row=1, col=1\n",
    ")\n",
    "fig.add_trace(\n",
    "    go.Scatter(x=t_array, y=y_fun(t_array), name=\"y(t)\"),\n",
    "    row=1, col=2\n",
    ")\n",
    "# name the axes\n",
    "fig.update_xaxes(title_text=\"t\", row=1, col=1)\n",
    "fig.update_xaxes(title_text=\"t\", row=1, col=2)\n",
    "fig.update_yaxes(title_text=\"x(t)\", row=1, col=1)\n",
    "fig.update_yaxes(title_text=\"y(t)\", row=1, col=2)\n",
    "# hide legend and show plot\n",
    "fig.update_layout(showlegend=False)\n",
    "fig.show()"
   ]
  },
  {
   "cell_type": "markdown",
   "metadata": {
    "ExecuteTime": {
     "end_time": "2020-05-29T06:42:51.989122Z",
     "start_time": "2020-05-29T06:42:51.984116Z"
    }
   },
   "source": [
    "Now it's time to define the Laplace transform of our differential equation. Since it's a simple algebraic equation, we can easily solve for $Y(s)$ by hand. Note that we don't actually need to know the value of $X(s)$ since it factors out quite nicely, compared to the time domain solution this is really easy to do.\n",
    "$$\n",
    "a_1 s^2 Y(s) + a_2 \\dot Y(s) + a_3 Y(s) = b_1 s^2 X(s) + b_2 s X(s) + b_3 X(s)\n",
    "$$"
   ]
  },
  {
   "cell_type": "markdown",
   "metadata": {},
   "source": [
    "$$\n",
    "Y(s) = \\frac{b_1 s^2 + b_2 s + b_3}{a_1 s^2 + a_2 s + a_3} X(s)\n",
    "$$"
   ]
  },
  {
   "cell_type": "markdown",
   "metadata": {},
   "source": [
    "Let's write this as a function now using our defined coefficients. We can use sympy again to compute $X(s)$ which might not be as straight forward  while we're at it let's solve for the poles and zeros."
   ]
  },
  {
   "cell_type": "code",
   "execution_count": 380,
   "metadata": {
    "ExecuteTime": {
     "end_time": "2020-05-29T09:03:52.068898Z",
     "start_time": "2020-05-29T09:03:51.819158Z"
    }
   },
   "outputs": [
    {
     "data": {
      "text/latex": [
       "$$X(s) = \\frac{4 s}{\\left(s^{2} + 1\\right)^{2}}$$"
      ],
      "text/plain": [
       "<IPython.core.display.Latex object>"
      ]
     },
     "metadata": {},
     "output_type": "display_data"
    },
    {
     "data": {
      "text/latex": [
       "$$Y(s) = \\frac{4 s \\left(s \\left(7 s - 10\\right) + 4\\right)}{\\left(s^{2} + 1\\right)^{2} \\left(s \\left(19 s + 5\\right) + 20\\right)}$$"
      ],
      "text/plain": [
       "<IPython.core.display.Latex object>"
      ]
     },
     "metadata": {},
     "output_type": "display_data"
    },
    {
     "name": "stdout",
     "output_type": "stream",
     "text": [
      "Poles of Y(s): [-0.13157895+1.01750605j -0.13157895-1.01750605j]\n",
      "Zeros of Y(s): [0.71428571+0.24743583j 0.71428571-0.24743583j]\n"
     ]
    }
   ],
   "source": [
    "from sympy.abc import s # s is our new independent variable\n",
    "\n",
    "# take the laplace transform of x(t) to find X(s)\n",
    "X = sy.laplace_transform(x, t, s)[0]\n",
    "display(Latex(\"$$X(s) = {}$$\".format(latex(X))))\n",
    "\n",
    "# solve for Y(s)\n",
    "Y_num = np.array([b1, b2, b3])\n",
    "Y_den = np.array([a1, a2, a3])\n",
    "num = np.poly1d(Y_num)\n",
    "den = np.poly1d(Y_den)\n",
    "Y = num(s) / den(s) * X\n",
    "display(Latex(\"$$Y(s) = {}$$\".format(latex(Y))))\n",
    "\n",
    "# find poles and zeros    \n",
    "Y_poles = np.roots(Y_den)    \n",
    "Y_zeros = np.roots(Y_num)\n",
    "print('Poles of Y(s):', Y_poles)\n",
    "print('Zeros of Y(s):', Y_zeros)\n",
    "\n",
    "# use lambdify to obtain python functions of X(s) and Y(s)\n",
    "X_fun = lambdify(s, X)\n",
    "Y_fun = lambdify(s, Y)\n",
    "# for convenience, define a Y_fun wrapper that accepts real and imaginary and returns parts seperately\n",
    "def Y_fun2(s_real, s_imag):\n",
    "    result = Y_fun(s_real + 1j * s_imag)\n",
    "    return result.real, result.imag"
   ]
  },
  {
   "cell_type": "markdown",
   "metadata": {},
   "source": [
    "Now that we have done all the hard work, now we can do cool things with these. We have prepared an interactive too to observe how these time and Laplace domain functions change in their domains. Try to answer the following questions\n",
    "1. Is the time domain and the s-domain related?\n",
    "2. What does the Fourier mode do? Think about the relation between the Laplace and Fourier transform.\n",
    "3. How does the value of Y(s) change around the poles or zeros?"
   ]
  },
  {
   "cell_type": "code",
   "execution_count": 381,
   "metadata": {
    "ExecuteTime": {
     "end_time": "2020-05-29T09:03:55.332029Z",
     "start_time": "2020-05-29T09:03:55.101307Z"
    },
    "scrolled": false
   },
   "outputs": [
    {
     "data": {
      "application/vnd.jupyter.widget-view+json": {
       "model_id": "eb8b22f94ba54ed6ac5b6e5d65b99816",
       "version_major": 2,
       "version_minor": 0
      },
      "text/plain": [
       "VBox(children=(VBox(children=(HBox(children=(FloatSlider(value=0.0, continuous_update=False, description='$t$:…"
      ]
     },
     "metadata": {},
     "output_type": "display_data"
    }
   ],
   "source": [
    "import importlib\n",
    "import domains_demonstrator as dd\n",
    "\n",
    "importlib.reload(dd) # here for debug purposes\n",
    "\n",
    "np.seterr(divide='ignore', invalid='ignore') # ignore divisions by zero errors\n",
    "# make sure both of them don't pass through 0 to avoid infinity\n",
    "s_real_array = np.linspace(-10, 10, 101) \n",
    "s_imag_array = np.linspace(-10, 10, 101)\n",
    "\n",
    "y_array = y_fun(t_array)\n",
    "s_real_grid, s_imag_grid = np.meshgrid(s_real_array, s_imag_array)\n",
    "temp1, temp2 = np.array(Y_fun2(np.ravel(s_real_grid), np.ravel(s_imag_grid)))\n",
    "Y_real_array = temp1.reshape(s1Grid.shape)\n",
    "Y_imag_array = temp2.reshape(s1Grid.shape)\n",
    "\n",
    "isContinousUpdateOn = False # when turned on it's sluggish without throttling\n",
    "\n",
    "displaybox = dd.initialize(isContinousUpdateOn, t_array, y_array, s_real_array, s_imag_array, s_real_grid, s_imag_grid, Y_real_array, Y_imag_array, Y_poles, Y_zeros, y_fun, Y_fun2)\n",
    "display(displaybox)"
   ]
  },
  {
   "cell_type": "code",
   "execution_count": 359,
   "metadata": {
    "ExecuteTime": {
     "end_time": "2020-05-29T08:42:32.050847Z",
     "start_time": "2020-05-29T08:42:31.897200Z"
    },
    "scrolled": false
   },
   "outputs": [
    {
     "data": {
      "application/vnd.plotly.v1+json": {
       "config": {
        "plotlyServerURL": "https://plot.ly"
       },
       "data": [
        {
         "name": "y(t)",
         "type": "scatter",
         "x": [
          0,
          0.10101010101010101,
          0.20202020202020202,
          0.30303030303030304,
          0.40404040404040403,
          0.5050505050505051,
          0.6060606060606061,
          0.7070707070707071,
          0.8080808080808081,
          0.9090909090909091,
          1.0101010101010102,
          1.1111111111111112,
          1.2121212121212122,
          1.3131313131313131,
          1.4141414141414141,
          1.5151515151515151,
          1.6161616161616161,
          1.7171717171717171,
          1.8181818181818181,
          1.9191919191919191,
          2.0202020202020203,
          2.121212121212121,
          2.2222222222222223,
          2.323232323232323,
          2.4242424242424243,
          2.525252525252525,
          2.6262626262626263,
          2.727272727272727,
          2.8282828282828283,
          2.929292929292929,
          3.0303030303030303,
          3.131313131313131,
          3.2323232323232323,
          3.3333333333333335,
          3.4343434343434343,
          3.5353535353535355,
          3.6363636363636362,
          3.7373737373737375,
          3.8383838383838382,
          3.9393939393939394,
          4.040404040404041,
          4.141414141414141,
          4.242424242424242,
          4.343434343434343,
          4.444444444444445,
          4.545454545454545,
          4.646464646464646,
          4.747474747474747,
          4.848484848484849,
          4.94949494949495,
          5.05050505050505,
          5.151515151515151,
          5.252525252525253,
          5.353535353535354,
          5.454545454545454,
          5.555555555555555,
          5.656565656565657,
          5.757575757575758,
          5.858585858585858,
          5.959595959595959,
          6.0606060606060606,
          6.161616161616162,
          6.262626262626262,
          6.363636363636363,
          6.4646464646464645,
          6.565656565656566,
          6.666666666666667,
          6.767676767676767,
          6.8686868686868685,
          6.96969696969697,
          7.070707070707071,
          7.171717171717171,
          7.2727272727272725,
          7.373737373737374,
          7.474747474747475,
          7.575757575757575,
          7.6767676767676765,
          7.777777777777778,
          7.878787878787879,
          7.979797979797979,
          8.080808080808081,
          8.181818181818182,
          8.282828282828282,
          8.383838383838384,
          8.484848484848484,
          8.585858585858587,
          8.686868686868687,
          8.787878787878787,
          8.88888888888889,
          8.98989898989899,
          9.09090909090909,
          9.191919191919192,
          9.292929292929292,
          9.393939393939394,
          9.494949494949495,
          9.595959595959595,
          9.696969696969697,
          9.797979797979798,
          9.8989898989899,
          10
         ],
         "y": [
          0,
          0.01533105506160215,
          0.0590549966178453,
          0.12755169513176545,
          0.21696098214702308,
          0.32324485082924515,
          0.44225104407783267,
          0.5697771777558023,
          0.7016345463075475,
          0.8337107684953582,
          0.9620304520069451,
          1.0828130869613692,
          1.1925274194396094,
          1.2879416065398934,
          1.3661685134468147,
          1.4247055798440642,
          1.4614687568363904,
          1.4748200954369883,
          1.4635886526101238,
          1.4270844697641252,
          1.365105470349352,
          1.2779372166789416,
          1.1663455600877262,
          1.0315623119026311,
          0.8752641542514334,
          0.6995450983448104,
          0.5068828824250775,
          0.30009978103056945,
          0.08231837058681046,
          -0.14308713731037148,
          -0.3725433250380532,
          -0.6023330406871943,
          -0.8286531518237896,
          -1.047673789655979,
          -1.2555982710650264,
          -1.4487228754109616,
          -1.6234956530025753,
          -1.776573452642317,
          -1.9048763766061723,
          -2.0056389025553223,
          -2.076456952833459,
          -2.1153302418929645,
          -2.120699291611306,
          -2.0914765712939705,
          -2.0270712934002573,
          -1.9274074765707043,
          -1.7929349733979676,
          -1.6246332505162562,
          -1.424007801882024,
          -1.193079171432555,
          -0.9343646574620631,
          -0.6508528668554805,
          -0.345971381576351,
          -0.023547891338965288,
          0.3122347659432472,
          0.6568891316589849,
          1.0056786210251705,
          1.353677314077494,
          1.6958333108470924,
          2.027034865456225,
          2.342178470315167,
          2.636238028088703,
          2.9043342261032747,
          3.141803215740595,
          3.3442636983354865,
          3.5076815292578285,
          3.628430973168226,
          3.7033517757174623,
          3.729801259900124,
          3.705700708431763,
          3.6295753563292186,
          3.5005873896479835,
          3.3185614262688548,
          3.084002041825208,
          2.7981029973248206,
          2.4627479236670693,
          2.0805023209381748,
          1.654596835877846,
          1.1889018880010318,
          0.6878938222513971,
          0.15661287246739058,
          -0.39938667593146204,
          -0.9740936350540201,
          -1.5611037906719103,
          -2.1536898308054404,
          -2.7448765695005948,
          -3.3275206340221413,
          -3.8943937183163118,
          -4.438268450235237,
          -4.952005875424572,
          -5.428643527591969,
          -5.861483033606245,
          -6.244176192898768,
          -6.570808474180442,
          -6.835978888636561,
          -7.034875227457362,
          -7.163343692595179,
          -7.217952002655805,
          -7.196045120333176,
          -7.095792823146198
         ]
        },
        {
         "mode": "markers",
         "name": "y(t)",
         "type": "scatter",
         "x": [
          5
         ],
         "y": [
          5
         ]
        }
       ],
       "layout": {
        "showlegend": false,
        "template": {
         "data": {
          "bar": [
           {
            "error_x": {
             "color": "#2a3f5f"
            },
            "error_y": {
             "color": "#2a3f5f"
            },
            "marker": {
             "line": {
              "color": "#E5ECF6",
              "width": 0.5
             }
            },
            "type": "bar"
           }
          ],
          "barpolar": [
           {
            "marker": {
             "line": {
              "color": "#E5ECF6",
              "width": 0.5
             }
            },
            "type": "barpolar"
           }
          ],
          "carpet": [
           {
            "aaxis": {
             "endlinecolor": "#2a3f5f",
             "gridcolor": "white",
             "linecolor": "white",
             "minorgridcolor": "white",
             "startlinecolor": "#2a3f5f"
            },
            "baxis": {
             "endlinecolor": "#2a3f5f",
             "gridcolor": "white",
             "linecolor": "white",
             "minorgridcolor": "white",
             "startlinecolor": "#2a3f5f"
            },
            "type": "carpet"
           }
          ],
          "choropleth": [
           {
            "colorbar": {
             "outlinewidth": 0,
             "ticks": ""
            },
            "type": "choropleth"
           }
          ],
          "contour": [
           {
            "colorbar": {
             "outlinewidth": 0,
             "ticks": ""
            },
            "colorscale": [
             [
              0,
              "#0d0887"
             ],
             [
              0.1111111111111111,
              "#46039f"
             ],
             [
              0.2222222222222222,
              "#7201a8"
             ],
             [
              0.3333333333333333,
              "#9c179e"
             ],
             [
              0.4444444444444444,
              "#bd3786"
             ],
             [
              0.5555555555555556,
              "#d8576b"
             ],
             [
              0.6666666666666666,
              "#ed7953"
             ],
             [
              0.7777777777777778,
              "#fb9f3a"
             ],
             [
              0.8888888888888888,
              "#fdca26"
             ],
             [
              1,
              "#f0f921"
             ]
            ],
            "type": "contour"
           }
          ],
          "contourcarpet": [
           {
            "colorbar": {
             "outlinewidth": 0,
             "ticks": ""
            },
            "type": "contourcarpet"
           }
          ],
          "heatmap": [
           {
            "colorbar": {
             "outlinewidth": 0,
             "ticks": ""
            },
            "colorscale": [
             [
              0,
              "#0d0887"
             ],
             [
              0.1111111111111111,
              "#46039f"
             ],
             [
              0.2222222222222222,
              "#7201a8"
             ],
             [
              0.3333333333333333,
              "#9c179e"
             ],
             [
              0.4444444444444444,
              "#bd3786"
             ],
             [
              0.5555555555555556,
              "#d8576b"
             ],
             [
              0.6666666666666666,
              "#ed7953"
             ],
             [
              0.7777777777777778,
              "#fb9f3a"
             ],
             [
              0.8888888888888888,
              "#fdca26"
             ],
             [
              1,
              "#f0f921"
             ]
            ],
            "type": "heatmap"
           }
          ],
          "heatmapgl": [
           {
            "colorbar": {
             "outlinewidth": 0,
             "ticks": ""
            },
            "colorscale": [
             [
              0,
              "#0d0887"
             ],
             [
              0.1111111111111111,
              "#46039f"
             ],
             [
              0.2222222222222222,
              "#7201a8"
             ],
             [
              0.3333333333333333,
              "#9c179e"
             ],
             [
              0.4444444444444444,
              "#bd3786"
             ],
             [
              0.5555555555555556,
              "#d8576b"
             ],
             [
              0.6666666666666666,
              "#ed7953"
             ],
             [
              0.7777777777777778,
              "#fb9f3a"
             ],
             [
              0.8888888888888888,
              "#fdca26"
             ],
             [
              1,
              "#f0f921"
             ]
            ],
            "type": "heatmapgl"
           }
          ],
          "histogram": [
           {
            "marker": {
             "colorbar": {
              "outlinewidth": 0,
              "ticks": ""
             }
            },
            "type": "histogram"
           }
          ],
          "histogram2d": [
           {
            "colorbar": {
             "outlinewidth": 0,
             "ticks": ""
            },
            "colorscale": [
             [
              0,
              "#0d0887"
             ],
             [
              0.1111111111111111,
              "#46039f"
             ],
             [
              0.2222222222222222,
              "#7201a8"
             ],
             [
              0.3333333333333333,
              "#9c179e"
             ],
             [
              0.4444444444444444,
              "#bd3786"
             ],
             [
              0.5555555555555556,
              "#d8576b"
             ],
             [
              0.6666666666666666,
              "#ed7953"
             ],
             [
              0.7777777777777778,
              "#fb9f3a"
             ],
             [
              0.8888888888888888,
              "#fdca26"
             ],
             [
              1,
              "#f0f921"
             ]
            ],
            "type": "histogram2d"
           }
          ],
          "histogram2dcontour": [
           {
            "colorbar": {
             "outlinewidth": 0,
             "ticks": ""
            },
            "colorscale": [
             [
              0,
              "#0d0887"
             ],
             [
              0.1111111111111111,
              "#46039f"
             ],
             [
              0.2222222222222222,
              "#7201a8"
             ],
             [
              0.3333333333333333,
              "#9c179e"
             ],
             [
              0.4444444444444444,
              "#bd3786"
             ],
             [
              0.5555555555555556,
              "#d8576b"
             ],
             [
              0.6666666666666666,
              "#ed7953"
             ],
             [
              0.7777777777777778,
              "#fb9f3a"
             ],
             [
              0.8888888888888888,
              "#fdca26"
             ],
             [
              1,
              "#f0f921"
             ]
            ],
            "type": "histogram2dcontour"
           }
          ],
          "mesh3d": [
           {
            "colorbar": {
             "outlinewidth": 0,
             "ticks": ""
            },
            "type": "mesh3d"
           }
          ],
          "parcoords": [
           {
            "line": {
             "colorbar": {
              "outlinewidth": 0,
              "ticks": ""
             }
            },
            "type": "parcoords"
           }
          ],
          "pie": [
           {
            "automargin": true,
            "type": "pie"
           }
          ],
          "scatter": [
           {
            "marker": {
             "colorbar": {
              "outlinewidth": 0,
              "ticks": ""
             }
            },
            "type": "scatter"
           }
          ],
          "scatter3d": [
           {
            "line": {
             "colorbar": {
              "outlinewidth": 0,
              "ticks": ""
             }
            },
            "marker": {
             "colorbar": {
              "outlinewidth": 0,
              "ticks": ""
             }
            },
            "type": "scatter3d"
           }
          ],
          "scattercarpet": [
           {
            "marker": {
             "colorbar": {
              "outlinewidth": 0,
              "ticks": ""
             }
            },
            "type": "scattercarpet"
           }
          ],
          "scattergeo": [
           {
            "marker": {
             "colorbar": {
              "outlinewidth": 0,
              "ticks": ""
             }
            },
            "type": "scattergeo"
           }
          ],
          "scattergl": [
           {
            "marker": {
             "colorbar": {
              "outlinewidth": 0,
              "ticks": ""
             }
            },
            "type": "scattergl"
           }
          ],
          "scattermapbox": [
           {
            "marker": {
             "colorbar": {
              "outlinewidth": 0,
              "ticks": ""
             }
            },
            "type": "scattermapbox"
           }
          ],
          "scatterpolar": [
           {
            "marker": {
             "colorbar": {
              "outlinewidth": 0,
              "ticks": ""
             }
            },
            "type": "scatterpolar"
           }
          ],
          "scatterpolargl": [
           {
            "marker": {
             "colorbar": {
              "outlinewidth": 0,
              "ticks": ""
             }
            },
            "type": "scatterpolargl"
           }
          ],
          "scatterternary": [
           {
            "marker": {
             "colorbar": {
              "outlinewidth": 0,
              "ticks": ""
             }
            },
            "type": "scatterternary"
           }
          ],
          "surface": [
           {
            "colorbar": {
             "outlinewidth": 0,
             "ticks": ""
            },
            "colorscale": [
             [
              0,
              "#0d0887"
             ],
             [
              0.1111111111111111,
              "#46039f"
             ],
             [
              0.2222222222222222,
              "#7201a8"
             ],
             [
              0.3333333333333333,
              "#9c179e"
             ],
             [
              0.4444444444444444,
              "#bd3786"
             ],
             [
              0.5555555555555556,
              "#d8576b"
             ],
             [
              0.6666666666666666,
              "#ed7953"
             ],
             [
              0.7777777777777778,
              "#fb9f3a"
             ],
             [
              0.8888888888888888,
              "#fdca26"
             ],
             [
              1,
              "#f0f921"
             ]
            ],
            "type": "surface"
           }
          ],
          "table": [
           {
            "cells": {
             "fill": {
              "color": "#EBF0F8"
             },
             "line": {
              "color": "white"
             }
            },
            "header": {
             "fill": {
              "color": "#C8D4E3"
             },
             "line": {
              "color": "white"
             }
            },
            "type": "table"
           }
          ]
         },
         "layout": {
          "annotationdefaults": {
           "arrowcolor": "#2a3f5f",
           "arrowhead": 0,
           "arrowwidth": 1
          },
          "coloraxis": {
           "colorbar": {
            "outlinewidth": 0,
            "ticks": ""
           }
          },
          "colorscale": {
           "diverging": [
            [
             0,
             "#8e0152"
            ],
            [
             0.1,
             "#c51b7d"
            ],
            [
             0.2,
             "#de77ae"
            ],
            [
             0.3,
             "#f1b6da"
            ],
            [
             0.4,
             "#fde0ef"
            ],
            [
             0.5,
             "#f7f7f7"
            ],
            [
             0.6,
             "#e6f5d0"
            ],
            [
             0.7,
             "#b8e186"
            ],
            [
             0.8,
             "#7fbc41"
            ],
            [
             0.9,
             "#4d9221"
            ],
            [
             1,
             "#276419"
            ]
           ],
           "sequential": [
            [
             0,
             "#0d0887"
            ],
            [
             0.1111111111111111,
             "#46039f"
            ],
            [
             0.2222222222222222,
             "#7201a8"
            ],
            [
             0.3333333333333333,
             "#9c179e"
            ],
            [
             0.4444444444444444,
             "#bd3786"
            ],
            [
             0.5555555555555556,
             "#d8576b"
            ],
            [
             0.6666666666666666,
             "#ed7953"
            ],
            [
             0.7777777777777778,
             "#fb9f3a"
            ],
            [
             0.8888888888888888,
             "#fdca26"
            ],
            [
             1,
             "#f0f921"
            ]
           ],
           "sequentialminus": [
            [
             0,
             "#0d0887"
            ],
            [
             0.1111111111111111,
             "#46039f"
            ],
            [
             0.2222222222222222,
             "#7201a8"
            ],
            [
             0.3333333333333333,
             "#9c179e"
            ],
            [
             0.4444444444444444,
             "#bd3786"
            ],
            [
             0.5555555555555556,
             "#d8576b"
            ],
            [
             0.6666666666666666,
             "#ed7953"
            ],
            [
             0.7777777777777778,
             "#fb9f3a"
            ],
            [
             0.8888888888888888,
             "#fdca26"
            ],
            [
             1,
             "#f0f921"
            ]
           ]
          },
          "colorway": [
           "#636efa",
           "#EF553B",
           "#00cc96",
           "#ab63fa",
           "#FFA15A",
           "#19d3f3",
           "#FF6692",
           "#B6E880",
           "#FF97FF",
           "#FECB52"
          ],
          "font": {
           "color": "#2a3f5f"
          },
          "geo": {
           "bgcolor": "white",
           "lakecolor": "white",
           "landcolor": "#E5ECF6",
           "showlakes": true,
           "showland": true,
           "subunitcolor": "white"
          },
          "hoverlabel": {
           "align": "left"
          },
          "hovermode": "closest",
          "mapbox": {
           "style": "light"
          },
          "paper_bgcolor": "white",
          "plot_bgcolor": "#E5ECF6",
          "polar": {
           "angularaxis": {
            "gridcolor": "white",
            "linecolor": "white",
            "ticks": ""
           },
           "bgcolor": "#E5ECF6",
           "radialaxis": {
            "gridcolor": "white",
            "linecolor": "white",
            "ticks": ""
           }
          },
          "scene": {
           "xaxis": {
            "backgroundcolor": "#E5ECF6",
            "gridcolor": "white",
            "gridwidth": 2,
            "linecolor": "white",
            "showbackground": true,
            "ticks": "",
            "zerolinecolor": "white"
           },
           "yaxis": {
            "backgroundcolor": "#E5ECF6",
            "gridcolor": "white",
            "gridwidth": 2,
            "linecolor": "white",
            "showbackground": true,
            "ticks": "",
            "zerolinecolor": "white"
           },
           "zaxis": {
            "backgroundcolor": "#E5ECF6",
            "gridcolor": "white",
            "gridwidth": 2,
            "linecolor": "white",
            "showbackground": true,
            "ticks": "",
            "zerolinecolor": "white"
           }
          },
          "shapedefaults": {
           "line": {
            "color": "#2a3f5f"
           }
          },
          "ternary": {
           "aaxis": {
            "gridcolor": "white",
            "linecolor": "white",
            "ticks": ""
           },
           "baxis": {
            "gridcolor": "white",
            "linecolor": "white",
            "ticks": ""
           },
           "bgcolor": "#E5ECF6",
           "caxis": {
            "gridcolor": "white",
            "linecolor": "white",
            "ticks": ""
           }
          },
          "title": {
           "x": 0.05
          },
          "xaxis": {
           "automargin": true,
           "gridcolor": "white",
           "linecolor": "white",
           "ticks": "",
           "title": {
            "standoff": 15
           },
           "zerolinecolor": "white",
           "zerolinewidth": 2
          },
          "yaxis": {
           "automargin": true,
           "gridcolor": "white",
           "linecolor": "white",
           "ticks": "",
           "title": {
            "standoff": 15
           },
           "zerolinecolor": "white",
           "zerolinewidth": 2
          }
         }
        },
        "xaxis": {
         "title": {
          "text": "t"
         }
        }
       }
      },
      "text/html": [
       "<div>\n",
       "        \n",
       "        \n",
       "            <div id=\"d958ebff-b8f0-43bc-a313-6d132b9d3f1e\" class=\"plotly-graph-div\" style=\"height:525px; width:100%;\"></div>\n",
       "            <script type=\"text/javascript\">\n",
       "                require([\"plotly\"], function(Plotly) {\n",
       "                    window.PLOTLYENV=window.PLOTLYENV || {};\n",
       "                    \n",
       "                if (document.getElementById(\"d958ebff-b8f0-43bc-a313-6d132b9d3f1e\")) {\n",
       "                    Plotly.newPlot(\n",
       "                        'd958ebff-b8f0-43bc-a313-6d132b9d3f1e',\n",
       "                        [{\"name\": \"y(t)\", \"type\": \"scatter\", \"x\": [0.0, 0.10101010101010101, 0.20202020202020202, 0.30303030303030304, 0.40404040404040403, 0.5050505050505051, 0.6060606060606061, 0.7070707070707071, 0.8080808080808081, 0.9090909090909091, 1.0101010101010102, 1.1111111111111112, 1.2121212121212122, 1.3131313131313131, 1.4141414141414141, 1.5151515151515151, 1.6161616161616161, 1.7171717171717171, 1.8181818181818181, 1.9191919191919191, 2.0202020202020203, 2.121212121212121, 2.2222222222222223, 2.323232323232323, 2.4242424242424243, 2.525252525252525, 2.6262626262626263, 2.727272727272727, 2.8282828282828283, 2.929292929292929, 3.0303030303030303, 3.131313131313131, 3.2323232323232323, 3.3333333333333335, 3.4343434343434343, 3.5353535353535355, 3.6363636363636362, 3.7373737373737375, 3.8383838383838382, 3.9393939393939394, 4.040404040404041, 4.141414141414141, 4.242424242424242, 4.343434343434343, 4.444444444444445, 4.545454545454545, 4.646464646464646, 4.747474747474747, 4.848484848484849, 4.94949494949495, 5.05050505050505, 5.151515151515151, 5.252525252525253, 5.353535353535354, 5.454545454545454, 5.555555555555555, 5.656565656565657, 5.757575757575758, 5.858585858585858, 5.959595959595959, 6.0606060606060606, 6.161616161616162, 6.262626262626262, 6.363636363636363, 6.4646464646464645, 6.565656565656566, 6.666666666666667, 6.767676767676767, 6.8686868686868685, 6.96969696969697, 7.070707070707071, 7.171717171717171, 7.2727272727272725, 7.373737373737374, 7.474747474747475, 7.575757575757575, 7.6767676767676765, 7.777777777777778, 7.878787878787879, 7.979797979797979, 8.080808080808081, 8.181818181818182, 8.282828282828282, 8.383838383838384, 8.484848484848484, 8.585858585858587, 8.686868686868687, 8.787878787878787, 8.88888888888889, 8.98989898989899, 9.09090909090909, 9.191919191919192, 9.292929292929292, 9.393939393939394, 9.494949494949495, 9.595959595959595, 9.696969696969697, 9.797979797979798, 9.8989898989899, 10.0], \"y\": [0.0, 0.01533105506160215, 0.0590549966178453, 0.12755169513176545, 0.21696098214702308, 0.32324485082924515, 0.44225104407783267, 0.5697771777558023, 0.7016345463075475, 0.8337107684953582, 0.9620304520069451, 1.0828130869613692, 1.1925274194396094, 1.2879416065398934, 1.3661685134468147, 1.4247055798440642, 1.4614687568363904, 1.4748200954369883, 1.4635886526101238, 1.4270844697641252, 1.365105470349352, 1.2779372166789416, 1.1663455600877262, 1.0315623119026311, 0.8752641542514334, 0.6995450983448104, 0.5068828824250775, 0.30009978103056945, 0.08231837058681046, -0.14308713731037148, -0.3725433250380532, -0.6023330406871943, -0.8286531518237896, -1.047673789655979, -1.2555982710650264, -1.4487228754109616, -1.6234956530025753, -1.776573452642317, -1.9048763766061723, -2.0056389025553223, -2.076456952833459, -2.1153302418929645, -2.120699291611306, -2.0914765712939705, -2.0270712934002573, -1.9274074765707043, -1.7929349733979676, -1.6246332505162562, -1.424007801882024, -1.193079171432555, -0.9343646574620631, -0.6508528668554805, -0.345971381576351, -0.023547891338965288, 0.3122347659432472, 0.6568891316589849, 1.0056786210251705, 1.353677314077494, 1.6958333108470924, 2.027034865456225, 2.342178470315167, 2.636238028088703, 2.9043342261032747, 3.141803215740595, 3.3442636983354865, 3.5076815292578285, 3.628430973168226, 3.7033517757174623, 3.729801259900124, 3.705700708431763, 3.6295753563292186, 3.5005873896479835, 3.3185614262688548, 3.084002041825208, 2.7981029973248206, 2.4627479236670693, 2.0805023209381748, 1.654596835877846, 1.1889018880010318, 0.6878938222513971, 0.15661287246739058, -0.39938667593146204, -0.9740936350540201, -1.5611037906719103, -2.1536898308054404, -2.7448765695005948, -3.3275206340221413, -3.8943937183163118, -4.438268450235237, -4.952005875424572, -5.428643527591969, -5.861483033606245, -6.244176192898768, -6.570808474180442, -6.835978888636561, -7.034875227457362, -7.163343692595179, -7.217952002655805, -7.196045120333176, -7.095792823146198]}, {\"mode\": \"markers\", \"name\": \"y(t)\", \"type\": \"scatter\", \"x\": [5], \"y\": [5]}],\n",
       "                        {\"showlegend\": false, \"template\": {\"data\": {\"bar\": [{\"error_x\": {\"color\": \"#2a3f5f\"}, \"error_y\": {\"color\": \"#2a3f5f\"}, \"marker\": {\"line\": {\"color\": \"#E5ECF6\", \"width\": 0.5}}, \"type\": \"bar\"}], \"barpolar\": [{\"marker\": {\"line\": {\"color\": \"#E5ECF6\", \"width\": 0.5}}, \"type\": \"barpolar\"}], \"carpet\": [{\"aaxis\": {\"endlinecolor\": \"#2a3f5f\", \"gridcolor\": \"white\", \"linecolor\": \"white\", \"minorgridcolor\": \"white\", \"startlinecolor\": \"#2a3f5f\"}, \"baxis\": {\"endlinecolor\": \"#2a3f5f\", \"gridcolor\": \"white\", \"linecolor\": \"white\", \"minorgridcolor\": \"white\", \"startlinecolor\": \"#2a3f5f\"}, \"type\": \"carpet\"}], \"choropleth\": [{\"colorbar\": {\"outlinewidth\": 0, \"ticks\": \"\"}, \"type\": \"choropleth\"}], \"contour\": [{\"colorbar\": {\"outlinewidth\": 0, \"ticks\": \"\"}, \"colorscale\": [[0.0, \"#0d0887\"], [0.1111111111111111, \"#46039f\"], [0.2222222222222222, \"#7201a8\"], [0.3333333333333333, \"#9c179e\"], [0.4444444444444444, \"#bd3786\"], [0.5555555555555556, \"#d8576b\"], [0.6666666666666666, \"#ed7953\"], [0.7777777777777778, \"#fb9f3a\"], [0.8888888888888888, \"#fdca26\"], [1.0, \"#f0f921\"]], \"type\": \"contour\"}], \"contourcarpet\": [{\"colorbar\": {\"outlinewidth\": 0, \"ticks\": \"\"}, \"type\": \"contourcarpet\"}], \"heatmap\": [{\"colorbar\": {\"outlinewidth\": 0, \"ticks\": \"\"}, \"colorscale\": [[0.0, \"#0d0887\"], [0.1111111111111111, \"#46039f\"], [0.2222222222222222, \"#7201a8\"], [0.3333333333333333, \"#9c179e\"], [0.4444444444444444, \"#bd3786\"], [0.5555555555555556, \"#d8576b\"], [0.6666666666666666, \"#ed7953\"], [0.7777777777777778, \"#fb9f3a\"], [0.8888888888888888, \"#fdca26\"], [1.0, \"#f0f921\"]], \"type\": \"heatmap\"}], \"heatmapgl\": [{\"colorbar\": {\"outlinewidth\": 0, \"ticks\": \"\"}, \"colorscale\": [[0.0, \"#0d0887\"], [0.1111111111111111, \"#46039f\"], [0.2222222222222222, \"#7201a8\"], [0.3333333333333333, \"#9c179e\"], [0.4444444444444444, \"#bd3786\"], [0.5555555555555556, \"#d8576b\"], [0.6666666666666666, \"#ed7953\"], [0.7777777777777778, \"#fb9f3a\"], [0.8888888888888888, \"#fdca26\"], [1.0, \"#f0f921\"]], \"type\": \"heatmapgl\"}], \"histogram\": [{\"marker\": {\"colorbar\": {\"outlinewidth\": 0, \"ticks\": \"\"}}, \"type\": \"histogram\"}], \"histogram2d\": [{\"colorbar\": {\"outlinewidth\": 0, \"ticks\": \"\"}, \"colorscale\": [[0.0, \"#0d0887\"], [0.1111111111111111, \"#46039f\"], [0.2222222222222222, \"#7201a8\"], [0.3333333333333333, \"#9c179e\"], [0.4444444444444444, \"#bd3786\"], [0.5555555555555556, \"#d8576b\"], [0.6666666666666666, \"#ed7953\"], [0.7777777777777778, \"#fb9f3a\"], [0.8888888888888888, \"#fdca26\"], [1.0, \"#f0f921\"]], \"type\": \"histogram2d\"}], \"histogram2dcontour\": [{\"colorbar\": {\"outlinewidth\": 0, \"ticks\": \"\"}, \"colorscale\": [[0.0, \"#0d0887\"], [0.1111111111111111, \"#46039f\"], [0.2222222222222222, \"#7201a8\"], [0.3333333333333333, \"#9c179e\"], [0.4444444444444444, \"#bd3786\"], [0.5555555555555556, \"#d8576b\"], [0.6666666666666666, \"#ed7953\"], [0.7777777777777778, \"#fb9f3a\"], [0.8888888888888888, \"#fdca26\"], [1.0, \"#f0f921\"]], \"type\": \"histogram2dcontour\"}], \"mesh3d\": [{\"colorbar\": {\"outlinewidth\": 0, \"ticks\": \"\"}, \"type\": \"mesh3d\"}], \"parcoords\": [{\"line\": {\"colorbar\": {\"outlinewidth\": 0, \"ticks\": \"\"}}, \"type\": \"parcoords\"}], \"pie\": [{\"automargin\": true, \"type\": \"pie\"}], \"scatter\": [{\"marker\": {\"colorbar\": {\"outlinewidth\": 0, \"ticks\": \"\"}}, \"type\": \"scatter\"}], \"scatter3d\": [{\"line\": {\"colorbar\": {\"outlinewidth\": 0, \"ticks\": \"\"}}, \"marker\": {\"colorbar\": {\"outlinewidth\": 0, \"ticks\": \"\"}}, \"type\": \"scatter3d\"}], \"scattercarpet\": [{\"marker\": {\"colorbar\": {\"outlinewidth\": 0, \"ticks\": \"\"}}, \"type\": \"scattercarpet\"}], \"scattergeo\": [{\"marker\": {\"colorbar\": {\"outlinewidth\": 0, \"ticks\": \"\"}}, \"type\": \"scattergeo\"}], \"scattergl\": [{\"marker\": {\"colorbar\": {\"outlinewidth\": 0, \"ticks\": \"\"}}, \"type\": \"scattergl\"}], \"scattermapbox\": [{\"marker\": {\"colorbar\": {\"outlinewidth\": 0, \"ticks\": \"\"}}, \"type\": \"scattermapbox\"}], \"scatterpolar\": [{\"marker\": {\"colorbar\": {\"outlinewidth\": 0, \"ticks\": \"\"}}, \"type\": \"scatterpolar\"}], \"scatterpolargl\": [{\"marker\": {\"colorbar\": {\"outlinewidth\": 0, \"ticks\": \"\"}}, \"type\": \"scatterpolargl\"}], \"scatterternary\": [{\"marker\": {\"colorbar\": {\"outlinewidth\": 0, \"ticks\": \"\"}}, \"type\": \"scatterternary\"}], \"surface\": [{\"colorbar\": {\"outlinewidth\": 0, \"ticks\": \"\"}, \"colorscale\": [[0.0, \"#0d0887\"], [0.1111111111111111, \"#46039f\"], [0.2222222222222222, \"#7201a8\"], [0.3333333333333333, \"#9c179e\"], [0.4444444444444444, \"#bd3786\"], [0.5555555555555556, \"#d8576b\"], [0.6666666666666666, \"#ed7953\"], [0.7777777777777778, \"#fb9f3a\"], [0.8888888888888888, \"#fdca26\"], [1.0, \"#f0f921\"]], \"type\": \"surface\"}], \"table\": [{\"cells\": {\"fill\": {\"color\": \"#EBF0F8\"}, \"line\": {\"color\": \"white\"}}, \"header\": {\"fill\": {\"color\": \"#C8D4E3\"}, \"line\": {\"color\": \"white\"}}, \"type\": \"table\"}]}, \"layout\": {\"annotationdefaults\": {\"arrowcolor\": \"#2a3f5f\", \"arrowhead\": 0, \"arrowwidth\": 1}, \"coloraxis\": {\"colorbar\": {\"outlinewidth\": 0, \"ticks\": \"\"}}, \"colorscale\": {\"diverging\": [[0, \"#8e0152\"], [0.1, \"#c51b7d\"], [0.2, \"#de77ae\"], [0.3, \"#f1b6da\"], [0.4, \"#fde0ef\"], [0.5, \"#f7f7f7\"], [0.6, \"#e6f5d0\"], [0.7, \"#b8e186\"], [0.8, \"#7fbc41\"], [0.9, \"#4d9221\"], [1, \"#276419\"]], \"sequential\": [[0.0, \"#0d0887\"], [0.1111111111111111, \"#46039f\"], [0.2222222222222222, \"#7201a8\"], [0.3333333333333333, \"#9c179e\"], [0.4444444444444444, \"#bd3786\"], [0.5555555555555556, \"#d8576b\"], [0.6666666666666666, \"#ed7953\"], [0.7777777777777778, \"#fb9f3a\"], [0.8888888888888888, \"#fdca26\"], [1.0, \"#f0f921\"]], \"sequentialminus\": [[0.0, \"#0d0887\"], [0.1111111111111111, \"#46039f\"], [0.2222222222222222, \"#7201a8\"], [0.3333333333333333, \"#9c179e\"], [0.4444444444444444, \"#bd3786\"], [0.5555555555555556, \"#d8576b\"], [0.6666666666666666, \"#ed7953\"], [0.7777777777777778, \"#fb9f3a\"], [0.8888888888888888, \"#fdca26\"], [1.0, \"#f0f921\"]]}, \"colorway\": [\"#636efa\", \"#EF553B\", \"#00cc96\", \"#ab63fa\", \"#FFA15A\", \"#19d3f3\", \"#FF6692\", \"#B6E880\", \"#FF97FF\", \"#FECB52\"], \"font\": {\"color\": \"#2a3f5f\"}, \"geo\": {\"bgcolor\": \"white\", \"lakecolor\": \"white\", \"landcolor\": \"#E5ECF6\", \"showlakes\": true, \"showland\": true, \"subunitcolor\": \"white\"}, \"hoverlabel\": {\"align\": \"left\"}, \"hovermode\": \"closest\", \"mapbox\": {\"style\": \"light\"}, \"paper_bgcolor\": \"white\", \"plot_bgcolor\": \"#E5ECF6\", \"polar\": {\"angularaxis\": {\"gridcolor\": \"white\", \"linecolor\": \"white\", \"ticks\": \"\"}, \"bgcolor\": \"#E5ECF6\", \"radialaxis\": {\"gridcolor\": \"white\", \"linecolor\": \"white\", \"ticks\": \"\"}}, \"scene\": {\"xaxis\": {\"backgroundcolor\": \"#E5ECF6\", \"gridcolor\": \"white\", \"gridwidth\": 2, \"linecolor\": \"white\", \"showbackground\": true, \"ticks\": \"\", \"zerolinecolor\": \"white\"}, \"yaxis\": {\"backgroundcolor\": \"#E5ECF6\", \"gridcolor\": \"white\", \"gridwidth\": 2, \"linecolor\": \"white\", \"showbackground\": true, \"ticks\": \"\", \"zerolinecolor\": \"white\"}, \"zaxis\": {\"backgroundcolor\": \"#E5ECF6\", \"gridcolor\": \"white\", \"gridwidth\": 2, \"linecolor\": \"white\", \"showbackground\": true, \"ticks\": \"\", \"zerolinecolor\": \"white\"}}, \"shapedefaults\": {\"line\": {\"color\": \"#2a3f5f\"}}, \"ternary\": {\"aaxis\": {\"gridcolor\": \"white\", \"linecolor\": \"white\", \"ticks\": \"\"}, \"baxis\": {\"gridcolor\": \"white\", \"linecolor\": \"white\", \"ticks\": \"\"}, \"bgcolor\": \"#E5ECF6\", \"caxis\": {\"gridcolor\": \"white\", \"linecolor\": \"white\", \"ticks\": \"\"}}, \"title\": {\"x\": 0.05}, \"xaxis\": {\"automargin\": true, \"gridcolor\": \"white\", \"linecolor\": \"white\", \"ticks\": \"\", \"title\": {\"standoff\": 15}, \"zerolinecolor\": \"white\", \"zerolinewidth\": 2}, \"yaxis\": {\"automargin\": true, \"gridcolor\": \"white\", \"linecolor\": \"white\", \"ticks\": \"\", \"title\": {\"standoff\": 15}, \"zerolinecolor\": \"white\", \"zerolinewidth\": 2}}}, \"xaxis\": {\"title\": {\"text\": \"t\"}}},\n",
       "                        {\"responsive\": true}\n",
       "                    ).then(function(){\n",
       "                            \n",
       "var gd = document.getElementById('d958ebff-b8f0-43bc-a313-6d132b9d3f1e');\n",
       "var x = new MutationObserver(function (mutations, observer) {{\n",
       "        var display = window.getComputedStyle(gd).display;\n",
       "        if (!display || display === 'none') {{\n",
       "            console.log([gd, 'removed!']);\n",
       "            Plotly.purge(gd);\n",
       "            observer.disconnect();\n",
       "        }}\n",
       "}});\n",
       "\n",
       "// Listen for the removal of the full notebook cells\n",
       "var notebookContainer = gd.closest('#notebook-container');\n",
       "if (notebookContainer) {{\n",
       "    x.observe(notebookContainer, {childList: true});\n",
       "}}\n",
       "\n",
       "// Listen for the clearing of the current output cell\n",
       "var outputEl = gd.closest('.output');\n",
       "if (outputEl) {{\n",
       "    x.observe(outputEl, {childList: true});\n",
       "}}\n",
       "\n",
       "                        })\n",
       "                };\n",
       "                });\n",
       "            </script>\n",
       "        </div>"
      ]
     },
     "metadata": {},
     "output_type": "display_data"
    },
    {
     "data": {
      "application/vnd.jupyter.widget-view+json": {
       "model_id": "",
       "version_major": 2,
       "version_minor": 0
      },
      "text/plain": [
       "VBox(children=(FloatSlider(value=0.0, description='Time:', max=10.0),))"
      ]
     },
     "metadata": {},
     "output_type": "display_data"
    }
   ],
   "source": [
    "# A DREAM: use plotly instead of bqplot and ipyvolume for everything.\n",
    "import ipywidgets as ipw\n",
    "# draw the plots\n",
    "fig = go.Figure()\n",
    "fig.add_trace(\n",
    "    go.Scatter(x=t_array, y=y_fun(t_array), name=\"y(t)\"),\n",
    ")\n",
    "fig.add_trace(\n",
    "    go.Scatter(x=[5], y=[5], mode='markers', name=\"y(t)\" ),     \n",
    ")\n",
    "\n",
    "time_slider = ipw.FloatSlider(\n",
    "    value=0,\n",
    "    min=0,\n",
    "    max=10,\n",
    "    step=0.1,\n",
    "    description='Time:',\n",
    "    continuous_update=True\n",
    ")\n",
    "\n",
    "def response(change):\n",
    "    print(time_slider.value)\n",
    "    t = time_slider.value\n",
    "    with fig.batch_update():\n",
    "        fig.x = [t]\n",
    "        fig.y = [y_fun(t)]\n",
    "    #fig.update_traces(\n",
    "    #    x = [t], \n",
    "    #    y = [y_fun(t)],\n",
    "    #   selector=dict(type=\"scatter\", mode=\"markers\"))\n",
    "    \n",
    "time_slider.observe(response, names=\"value\")\n",
    "\n",
    "# name the axes\n",
    "fig.update_xaxes(title_text=\"t\")\n",
    "fig.update_xaxes(title_text=\"t\")\n",
    "# hide legend and show plot\n",
    "fig.update_layout(showlegend=False)\n",
    "fig.show()\n",
    "\n",
    "ipw.VBox([time_slider])"
   ]
  },
  {
   "cell_type": "code",
   "execution_count": null,
   "metadata": {},
   "outputs": [],
   "source": []
  }
 ],
 "metadata": {
  "hide_input": false,
  "kernelspec": {
   "display_name": "Python 3",
   "language": "python",
   "name": "python3"
  },
  "language_info": {
   "codemirror_mode": {
    "name": "ipython",
    "version": 3
   },
   "file_extension": ".py",
   "mimetype": "text/x-python",
   "name": "python",
   "nbconvert_exporter": "python",
   "pygments_lexer": "ipython3",
   "version": "3.6.7"
  },
  "toc": {
   "base_numbering": 1,
   "nav_menu": {},
   "number_sections": true,
   "sideBar": true,
   "skip_h1_title": false,
   "title_cell": "Table of Contents",
   "title_sidebar": "Contents",
   "toc_cell": false,
   "toc_position": {},
   "toc_section_display": true,
   "toc_window_display": false
  },
  "varInspector": {
   "cols": {
    "lenName": 16,
    "lenType": 16,
    "lenVar": 40
   },
   "kernels_config": {
    "python": {
     "delete_cmd_postfix": "",
     "delete_cmd_prefix": "del ",
     "library": "var_list.py",
     "varRefreshCmd": "print(var_dic_list())"
    },
    "r": {
     "delete_cmd_postfix": ") ",
     "delete_cmd_prefix": "rm(",
     "library": "var_list.r",
     "varRefreshCmd": "cat(var_dic_list()) "
    }
   },
   "types_to_exclude": [
    "module",
    "function",
    "builtin_function_or_method",
    "instance",
    "_Feature"
   ],
   "window_display": false
  }
 },
 "nbformat": 4,
 "nbformat_minor": 2
}
