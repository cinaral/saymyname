{
  "nbformat": 4,
  "nbformat_minor": 0,
  "metadata": {
    "colab": {
      "name": "06072020_week10_Approximation.ipynb",
      "provenance": [],
      "collapsed_sections": [
        "hk-CifrtSATD"
      ],
      "authorship_tag": "ABX9TyOoSxUpDzgofqprWSY9Oeu0",
      "include_colab_link": true
    },
    "kernelspec": {
      "name": "python3",
      "display_name": "Python 3"
    }
  },
  "cells": [
    {
      "cell_type": "markdown",
      "metadata": {
        "id": "view-in-github",
        "colab_type": "text"
      },
      "source": [
        "<a href=\"https://colab.research.google.com/github/cinaral/saymyname/blob/master/week10_approximation/06072020_week10_Approximation.ipynb\" target=\"_parent\"><img src=\"https://colab.research.google.com/assets/colab-badge.svg\" alt=\"Open In Colab\"/></a>"
      ]
    },
    {
      "cell_type": "markdown",
      "metadata": {
        "id": "7xltHR71hstB",
        "colab_type": "text"
      },
      "source": [
        "# Approximation of Higher Order Systems"
      ]
    },
    {
      "cell_type": "markdown",
      "metadata": {
        "id": "tiVplHErhNSA",
        "colab_type": "text"
      },
      "source": [
        "In this part, we will try to approximate motor system, which is higher order system, into second order system."
      ]
    },
    {
      "cell_type": "markdown",
      "metadata": {
        "id": "YiwfGBS2oqTX",
        "colab_type": "text"
      },
      "source": [
        "By approximation, we mean reducing the order of the transfer function of the system. In order to do this, we look the dominant poles which are close to imaginary axis in s domain. Most of the times, higher order systems can be represented as first or second order tranfer functions. Moreover, we can understand the system easily by looking its physically equivalent system because the original system will behave similar as reduced system."
      ]
    },
    {
      "cell_type": "markdown",
      "metadata": {
        "id": "JnSnRj4ep87C",
        "colab_type": "text"
      },
      "source": [
        "Let us remember the form of first and second order systems;"
      ]
    },
    {
      "cell_type": "markdown",
      "metadata": {
        "id": "S_HtoUnQdezv",
        "colab_type": "text"
      },
      "source": [
        "First order systems;"
      ]
    },
    {
      "cell_type": "markdown",
      "metadata": {
        "id": "wAlz_BXkqR9I",
        "colab_type": "text"
      },
      "source": [
        "\\begin{equation*}\n",
        "\\frac{Output}{Input}=\\frac{Y(s)}{X(s)}=\\frac{G(s)}{1+G(s)H(s)}=\\frac{a}{bs+c}\n",
        "\\end{equation*}"
      ]
    },
    {
      "cell_type": "markdown",
      "metadata": {
        "id": "eoxuMcwTdj-X",
        "colab_type": "text"
      },
      "source": [
        "where a, b, c are some constans."
      ]
    },
    {
      "cell_type": "markdown",
      "metadata": {
        "id": "2Hl9um23d0KK",
        "colab_type": "text"
      },
      "source": [
        "Second order systems;"
      ]
    },
    {
      "cell_type": "markdown",
      "metadata": {
        "id": "IJJQokXxd6K8",
        "colab_type": "text"
      },
      "source": [
        "\\begin{equation*}\n",
        "\\frac{Output}{Input}=\\frac{Y(s)}{X(s)}=\\frac{G(s)}{1+G(s)H(s)}=\\frac{as+b}{cs^2+ds+e}=\\frac{Kw_n^2}{s^2+2{\\zeta}w_ns+w_n^2}\n",
        "\\end{equation*}"
      ]
    },
    {
      "cell_type": "markdown",
      "metadata": {
        "id": "4O2sGPeQfceQ",
        "colab_type": "text"
      },
      "source": [
        "where K is any constant or specifically DC gain."
      ]
    },
    {
      "cell_type": "markdown",
      "metadata": {
        "id": "cYr34tRXgZiP",
        "colab_type": "text"
      },
      "source": [
        "Higher order systems have transfer function as;"
      ]
    },
    {
      "cell_type": "markdown",
      "metadata": {
        "id": "Gc_uRp2p9xOH",
        "colab_type": "text"
      },
      "source": [
        "\\begin{equation*}\n",
        "\\frac{Output}{Input}=\\frac{Y(s)}{X(s)}=\\frac{G(s)}{1+G(s)H(s)}=\\frac{b_ms^m+b_{m-1}s^{m-1}+\\dots+b_1s+b_0}{a_ns^n+a_{n-1}s^{n-1}+\\dots+a_1s+a_0}\\\\\n",
        "\\end{equation*}\n",
        "\n",
        "\\begin{equation*}\n",
        "where \\space m\\leq n\\\\\n",
        "\\end{equation*}"
      ]
    },
    {
      "cell_type": "markdown",
      "metadata": {
        "id": "J3kvJyEpABGR",
        "colab_type": "text"
      },
      "source": [
        "The factorized form is;"
      ]
    },
    {
      "cell_type": "markdown",
      "metadata": {
        "id": "_6XDj0GGAFHj",
        "colab_type": "text"
      },
      "source": [
        "\\begin{equation*}\n",
        "\\frac{Y(s)}{X(s)}=\\frac{(s+z_1)(s+z_2)\\dots(s+z_m)}{(s+p_1)(s+p_2)\\dots(s+p_n)}\\\\\n",
        "\\end{equation*}\n",
        "\n",
        "\\begin{equation*}\n",
        "where \\space z_m \\space is \\space zero \\space and \\space p_n \\space is \\space pole \\space of \\space the \\space system.\n",
        "\\end{equation*}"
      ]
    },
    {
      "cell_type": "markdown",
      "metadata": {
        "id": "nVoaebzcBfgZ",
        "colab_type": "text"
      },
      "source": [
        "Let us have simple DC motor with load."
      ]
    },
    {
      "cell_type": "markdown",
      "metadata": {
        "id": "GwJbgioZ9jJ8",
        "colab_type": "text"
      },
      "source": [
        "![alt text](https://raw.githubusercontent.com/cinaral/saymyname/master/references/basit-dc-motor-dc-motor-5875-34-B.jpg)"
      ]
    },
    {
      "cell_type": "markdown",
      "metadata": {
        "id": "dpHSBSBvBLmJ",
        "colab_type": "text"
      },
      "source": [
        "and here is the diagram of it;"
      ]
    },
    {
      "cell_type": "markdown",
      "metadata": {
        "id": "3a30jZycBUW9",
        "colab_type": "text"
      },
      "source": [
        "![alt text](https://raw.githubusercontent.com/cinaral/saymyname/master/references/Armature-circuit-7.png)"
      ]
    },
    {
      "cell_type": "markdown",
      "metadata": {
        "id": "8kYZ7WaoBdYO",
        "colab_type": "text"
      },
      "source": [
        "The transfer function of this system is;"
      ]
    },
    {
      "cell_type": "markdown",
      "metadata": {
        "id": "5Jj3OedyBqEd",
        "colab_type": "text"
      },
      "source": [
        "\\begin{equation*}\n",
        "\\frac{Output}{Input}=\\frac{\\theta(s)}{V(s)}=\\frac{k_{torque}}{JLs^3+(JR+Lb)s^2+(Rb+k_{torque}k_{backemf})s}\n",
        "\\end{equation*}"
      ]
    },
    {
      "cell_type": "markdown",
      "metadata": {
        "id": "66u0kWHJPzi2",
        "colab_type": "text"
      },
      "source": [
        "\\begin{equation*}\n",
        "where \\space k_{torque} \\space is \\space motor-torque \\space constant \\space and \\space k_{backemf} \\space is \\space back-emf \\space constant.\n",
        "\\end{equation*}"
      ]
    },
    {
      "cell_type": "markdown",
      "metadata": {
        "id": "MGzyr5eqT5EW",
        "colab_type": "text"
      },
      "source": [
        "It is third order system."
      ]
    },
    {
      "cell_type": "markdown",
      "metadata": {
        "id": "fQg94BVJQrtd",
        "colab_type": "text"
      },
      "source": [
        "Let' s look the step responce of the system because motor works with DC voltage which is constant in time;"
      ]
    },
    {
      "cell_type": "markdown",
      "metadata": {
        "id": "hk-CifrtSATD",
        "colab_type": "text"
      },
      "source": [
        "# Install and import necessary libraries;"
      ]
    },
    {
      "cell_type": "code",
      "metadata": {
        "id": "hxBLVLFKhMN6",
        "colab_type": "code",
        "colab": {
          "base_uri": "https://localhost:8080/",
          "height": 356
        },
        "outputId": "f3bdbc17-0faf-4295-eee1-e4be73bf4b8d"
      },
      "source": [
        "!pip install control\n",
        "\n",
        "import matplotlib\n",
        "import ipywidgets\n",
        "import plotly\n",
        "import os\n",
        "from IPython import *\n",
        "\n",
        "%matplotlib inline\n",
        "from sympy import symbols\n",
        "from sympy import simplify\n",
        "from sympy.abc import s, t, a\n",
        "from sympy.integrals import *\n",
        "from sympy.plotting import *\n",
        "from control import *\n",
        "from control.matlab import *\n",
        "import matplotlib.pyplot as plt\n",
        "from sympy import Heaviside\n",
        "\n",
        "import numpy as np \n",
        "from scipy.integrate import odeint\n",
        "import scipy.integrate as integrate\n",
        "import matplotlib.pyplot as plt \n",
        "import math\n",
        "import matplotlib.animation as animation\n",
        "from matplotlib import animation, rc\n",
        "from IPython.display import HTML"
      ],
      "execution_count": 1,
      "outputs": [
        {
          "output_type": "stream",
          "text": [
            "Collecting control\n",
            "\u001b[?25l  Downloading https://files.pythonhosted.org/packages/e8/b0/32a903138505dd4ea523f8a3fc156c4272aa58b10100ef24ff74ced2fae8/control-0.8.3.tar.gz (249kB)\n",
            "\r\u001b[K     |█▎                              | 10kB 17.7MB/s eta 0:00:01\r\u001b[K     |██▋                             | 20kB 2.1MB/s eta 0:00:01\r\u001b[K     |████                            | 30kB 2.7MB/s eta 0:00:01\r\u001b[K     |█████▎                          | 40kB 3.1MB/s eta 0:00:01\r\u001b[K     |██████▋                         | 51kB 2.4MB/s eta 0:00:01\r\u001b[K     |███████▉                        | 61kB 2.7MB/s eta 0:00:01\r\u001b[K     |█████████▏                      | 71kB 2.9MB/s eta 0:00:01\r\u001b[K     |██████████▌                     | 81kB 3.3MB/s eta 0:00:01\r\u001b[K     |███████████▉                    | 92kB 3.5MB/s eta 0:00:01\r\u001b[K     |█████████████▏                  | 102kB 3.3MB/s eta 0:00:01\r\u001b[K     |██████████████▍                 | 112kB 3.3MB/s eta 0:00:01\r\u001b[K     |███████████████▊                | 122kB 3.3MB/s eta 0:00:01\r\u001b[K     |█████████████████               | 133kB 3.3MB/s eta 0:00:01\r\u001b[K     |██████████████████▍             | 143kB 3.3MB/s eta 0:00:01\r\u001b[K     |███████████████████▊            | 153kB 3.3MB/s eta 0:00:01\r\u001b[K     |█████████████████████           | 163kB 3.3MB/s eta 0:00:01\r\u001b[K     |██████████████████████▎         | 174kB 3.3MB/s eta 0:00:01\r\u001b[K     |███████████████████████▋        | 184kB 3.3MB/s eta 0:00:01\r\u001b[K     |█████████████████████████       | 194kB 3.3MB/s eta 0:00:01\r\u001b[K     |██████████████████████████▎     | 204kB 3.3MB/s eta 0:00:01\r\u001b[K     |███████████████████████████▋    | 215kB 3.3MB/s eta 0:00:01\r\u001b[K     |████████████████████████████▉   | 225kB 3.3MB/s eta 0:00:01\r\u001b[K     |██████████████████████████████▏ | 235kB 3.3MB/s eta 0:00:01\r\u001b[K     |███████████████████████████████▌| 245kB 3.3MB/s eta 0:00:01\r\u001b[K     |████████████████████████████████| 256kB 3.3MB/s \n",
            "\u001b[?25hRequirement already satisfied: numpy in /usr/local/lib/python3.6/dist-packages (from control) (1.18.5)\n",
            "Requirement already satisfied: scipy in /usr/local/lib/python3.6/dist-packages (from control) (1.4.1)\n",
            "Requirement already satisfied: matplotlib in /usr/local/lib/python3.6/dist-packages (from control) (3.2.2)\n",
            "Requirement already satisfied: python-dateutil>=2.1 in /usr/local/lib/python3.6/dist-packages (from matplotlib->control) (2.8.1)\n",
            "Requirement already satisfied: kiwisolver>=1.0.1 in /usr/local/lib/python3.6/dist-packages (from matplotlib->control) (1.2.0)\n",
            "Requirement already satisfied: cycler>=0.10 in /usr/local/lib/python3.6/dist-packages (from matplotlib->control) (0.10.0)\n",
            "Requirement already satisfied: pyparsing!=2.0.4,!=2.1.2,!=2.1.6,>=2.0.1 in /usr/local/lib/python3.6/dist-packages (from matplotlib->control) (2.4.7)\n",
            "Requirement already satisfied: six>=1.5 in /usr/local/lib/python3.6/dist-packages (from python-dateutil>=2.1->matplotlib->control) (1.12.0)\n",
            "Building wheels for collected packages: control\n",
            "  Building wheel for control (setup.py) ... \u001b[?25l\u001b[?25hdone\n",
            "  Created wheel for control: filename=control-0.8.3-py2.py3-none-any.whl size=260982 sha256=ac960c75f40560803ebb04b82dcde13520a5f07f68e095e1ace039c1a84e1435\n",
            "  Stored in directory: /root/.cache/pip/wheels/c2/d9/cc/90b28cb139a6320a3af2285428b6da87eee8d8920c78bb0223\n",
            "Successfully built control\n",
            "Installing collected packages: control\n",
            "Successfully installed control-0.8.3\n"
          ],
          "name": "stdout"
        }
      ]
    },
    {
      "cell_type": "markdown",
      "metadata": {
        "id": "OiyPzsdGSS6V",
        "colab_type": "text"
      },
      "source": [
        "# Now define the transfer function;"
      ]
    },
    {
      "cell_type": "markdown",
      "metadata": {
        "id": "ZcGM4HRJUCRy",
        "colab_type": "text"
      },
      "source": [
        "We can choose arbitrary constants."
      ]
    },
    {
      "cell_type": "code",
      "metadata": {
        "id": "9LPN9GObSf39",
        "colab_type": "code",
        "colab": {
          "base_uri": "https://localhost:8080/",
          "height": 123
        },
        "outputId": "60a11f25-8884-4ba2-c22b-3d176e0665dc"
      },
      "source": [
        "J = 1\n",
        "L = 1\n",
        "R = 5\n",
        "b = 0.5\n",
        "ktorque = 3\n",
        "kbackemf = 2\n",
        "\n",
        "num = [ktorque]\n",
        "denum = [J*L, (J*R+L*b), (R*b+ktorque*kbackemf), 0]\n",
        "\n",
        "tr = tf(num, denum)\n",
        "print(\"Transfer Function is\")\n",
        "print(tr)"
      ],
      "execution_count": 264,
      "outputs": [
        {
          "output_type": "stream",
          "text": [
            "Transfer Function is\n",
            "\n",
            "          3\n",
            "---------------------\n",
            "s^3 + 5.5 s^2 + 8.5 s\n",
            "\n"
          ],
          "name": "stdout"
        }
      ]
    },
    {
      "cell_type": "code",
      "metadata": {
        "id": "k3f_1rtQUMsJ",
        "colab_type": "code",
        "colab": {
          "base_uri": "https://localhost:8080/",
          "height": 282
        },
        "outputId": "96bb750a-02df-4b9c-e1c8-6b3ba23789fb"
      },
      "source": [
        "# Step response for the system\n",
        "print('Step response')\n",
        "plt.figure(1)\n",
        "yout, T = step(tr)\n",
        "plt.plot(T.T, yout.T)\n",
        "plt.show(block=False)\n"
      ],
      "execution_count": 265,
      "outputs": [
        {
          "output_type": "stream",
          "text": [
            "Step response\n"
          ],
          "name": "stdout"
        },
        {
          "output_type": "display_data",
          "data": {
            "image/png": "[encoded data removed]",
            "text/plain": [
              "<Figure size 432x288 with 1 Axes>"
            ]
          },
          "metadata": {
            "tags": [],
            "needs_background": "light"
          }
        }
      ]
    },
    {
      "cell_type": "markdown",
      "metadata": {
        "id": "bxKW9criUmUf",
        "colab_type": "text"
      },
      "source": [
        "There is no controller."
      ]
    },
    {
      "cell_type": "markdown",
      "metadata": {
        "id": "aofjd7ULVanK",
        "colab_type": "text"
      },
      "source": [
        "Let's look its poles positions."
      ]
    },
    {
      "cell_type": "code",
      "metadata": {
        "id": "TAX6R7pIVv-4",
        "colab_type": "code",
        "colab": {
          "base_uri": "https://localhost:8080/",
          "height": 330
        },
        "outputId": "adc68256-70c4-4cd3-badc-333be9b7c60a"
      },
      "source": [
        "#Positions of poles and zeros\n",
        "pzmap(tr,Plot=True,grid=False, title='Pole Zero Map')"
      ],
      "execution_count": 266,
      "outputs": [
        {
          "output_type": "execute_result",
          "data": {
            "text/plain": [
              "(array([-2.75+0.96824584j, -2.75-0.96824584j,  0.  +0.j        ]),\n",
              " array([], dtype=float64))"
            ]
          },
          "metadata": {
            "tags": []
          },
          "execution_count": 266
        },
        {
          "output_type": "display_data",
          "data": {
            "image/png": "[encoded data removed]",
            "text/plain": [
              "<Figure size 432x288 with 1 Axes>"
            ]
          },
          "metadata": {
            "tags": [],
            "needs_background": "light"
          }
        }
      ]
    },
    {
      "cell_type": "markdown",
      "metadata": {
        "id": "YFibOlReXJGC",
        "colab_type": "text"
      },
      "source": [
        "It acts like first order system, but it has a pole on imaginary axis, at origin, so it is not bounded which means the angular speed increases until the motor fails. We need to use controller."
      ]
    },
    {
      "cell_type": "markdown",
      "metadata": {
        "id": "X2q-cpSUT_kb",
        "colab_type": "text"
      },
      "source": [
        "# DC motor with PID controller"
      ]
    },
    {
      "cell_type": "markdown",
      "metadata": {
        "id": "q0nwllOBYXo_",
        "colab_type": "text"
      },
      "source": [
        "Let us have PID controller and unity feedback. Then, the transfer function of the complite system becomes;"
      ]
    },
    {
      "cell_type": "markdown",
      "metadata": {
        "id": "Ni4d-fVBY8SR",
        "colab_type": "text"
      },
      "source": [
        "\\begin{equation*}\n",
        "\\frac{Output}{Input}=\\frac{\\theta(s)}{V(s)}=\\frac{K_dk_{torque}s^2+K_pk_{torque}s+K_ik_{torque}}{JLs^4+(JR+Lb)s^3+(Rb+k_{torque}k_{backemf}+K_dk_{torque})s^2+K_pk_{torque}s+K_ik_{torque}}\n",
        "\\end{equation*}"
      ]
    },
    {
      "cell_type": "markdown",
      "metadata": {
        "id": "Xwb-1hf2b5y1",
        "colab_type": "text"
      },
      "source": [
        "which is fourth order system."
      ]
    },
    {
      "cell_type": "markdown",
      "metadata": {
        "id": "uLbtKSMZcQ4E",
        "colab_type": "text"
      },
      "source": [
        "Let us look step responce of this system. It should not have oscillation because oscillation means motor angular speed increases and decreases for a couple of times, and then it reaches stability. The desireable system should be like critically damped."
      ]
    },
    {
      "cell_type": "code",
      "metadata": {
        "id": "gsXNYpFtcWz-",
        "colab_type": "code",
        "colab": {
          "base_uri": "https://localhost:8080/",
          "height": 123
        },
        "outputId": "618e48d4-d609-43f9-edd9-8ebff6716e5c"
      },
      "source": [
        "J = 1\n",
        "L = 1\n",
        "R = 5\n",
        "b = 0.5\n",
        "ktorque = 3\n",
        "kbackemf = 2\n",
        "\n",
        "Kp = 5\n",
        "Kd = 0.5\n",
        "Ki = 0.005\n",
        "\n",
        "num = [Kd*ktorque, Kp*ktorque, Ki*ktorque]\n",
        "denum = [J*L, (J*R+L*b), (R*b+ktorque*kbackemf+Kd*ktorque), Kp*ktorque, Ki*ktorque]\n",
        "\n",
        "tr = tf(num, denum)\n",
        "print(\"Transfer Function is\")\n",
        "print(tr)"
      ],
      "execution_count": 280,
      "outputs": [
        {
          "output_type": "stream",
          "text": [
            "Transfer Function is\n",
            "\n",
            "        1.5 s^2 + 15 s + 0.015\n",
            "-------------------------------------\n",
            "s^4 + 5.5 s^3 + 10 s^2 + 15 s + 0.015\n",
            "\n"
          ],
          "name": "stdout"
        }
      ]
    },
    {
      "cell_type": "code",
      "metadata": {
        "id": "s_J4yI51dHjF",
        "colab_type": "code",
        "colab": {
          "base_uri": "https://localhost:8080/",
          "height": 287
        },
        "outputId": "c91b97e6-263d-4b60-8a4a-a46822d5152e"
      },
      "source": [
        "# Step response for the system\n",
        "print('Step response')\n",
        "plt.figure(1)\n",
        "yout, T = step(tr)\n",
        "plt.plot(T.T, yout.T)\n",
        "plt.show(block=False)\n"
      ],
      "execution_count": 281,
      "outputs": [
        {
          "output_type": "stream",
          "text": [
            "Step response\n"
          ],
          "name": "stdout"
        },
        {
          "output_type": "display_data",
          "data": {
            "image/png": "[encoded data removed]",
            "text/plain": [
              "<Figure size 432x288 with 1 Axes>"
            ]
          },
          "metadata": {
            "tags": [],
            "needs_background": "light"
          }
        }
      ]
    },
    {
      "cell_type": "markdown",
      "metadata": {
        "id": "Ji8ou2B2kr0t",
        "colab_type": "text"
      },
      "source": [
        "The speed increases and reaches constant value with critically damping for Kp = 5, Kd = 0.5, Ki = 0.005 gain values."
      ]
    },
    {
      "cell_type": "markdown",
      "metadata": {
        "id": "10_RpqvJlNqs",
        "colab_type": "text"
      },
      "source": [
        "Let' s look its pole position so that we can reduce its order."
      ]
    },
    {
      "cell_type": "code",
      "metadata": {
        "id": "M-Oiq76LlZqT",
        "colab_type": "code",
        "colab": {
          "base_uri": "https://localhost:8080/",
          "height": 362
        },
        "outputId": "d5fbffcc-9dde-4bcb-b1b4-b657167d2d09"
      },
      "source": [
        "#Positions of poles and zeros\n",
        "pzmap(tr,Plot=True,grid=False, title='Pole Zero Map')"
      ],
      "execution_count": 282,
      "outputs": [
        {
          "output_type": "execute_result",
          "data": {
            "text/plain": [
              "(array([-3.92576943e+00+0.j        , -7.86614954e-01+1.78874156j,\n",
              "        -7.86614954e-01-1.78874156j, -1.00066719e-03+0.j        ]),\n",
              " array([-9.99899990e+00, -1.00010002e-03]))"
            ]
          },
          "metadata": {
            "tags": []
          },
          "execution_count": 282
        },
        {
          "output_type": "display_data",
          "data": {
            "image/png": "[encoded data removed]",
            "text/plain": [
              "<Figure size 432x288 with 1 Axes>"
            ]
          },
          "metadata": {
            "tags": [],
            "needs_background": "light"
          }
        }
      ]
    },
    {
      "cell_type": "markdown",
      "metadata": {
        "id": "_pHx-bGPlrhQ",
        "colab_type": "text"
      },
      "source": [
        "Here, pole -1.0007+0j and zero -1.0001 are very close so they cancel eachother, and we can ignore zero -9.999 and pole -3.926."
      ]
    },
    {
      "cell_type": "markdown",
      "metadata": {
        "id": "5HeeXUkWmJpW",
        "colab_type": "text"
      },
      "source": [
        "Dominant poles are -7.87 - 1.79j and -7.87 + 1.79j"
      ]
    },
    {
      "cell_type": "markdown",
      "metadata": {
        "id": "e7KTbulCmczD",
        "colab_type": "text"
      },
      "source": [
        "Then reduced equation for this system can be written as;"
      ]
    },
    {
      "cell_type": "markdown",
      "metadata": {
        "id": "VOll_Qvpn2Au",
        "colab_type": "text"
      },
      "source": [
        "\\begin{equation*}\n",
        "\\frac{\\theta(s)}{V(s)}=TR_{reduced}=\\frac{15}{s^2+15.74s+65.14}\n",
        "\\end{equation*}"
      ]
    },
    {
      "cell_type": "markdown",
      "metadata": {
        "id": "wTXagT7xzSfk",
        "colab_type": "text"
      },
      "source": [
        "which is second order system."
      ]
    },
    {
      "cell_type": "markdown",
      "metadata": {
        "id": "EPsXIZjoqhki",
        "colab_type": "text"
      },
      "source": [
        "If we look step responce of this system, we should see similar plot like above."
      ]
    },
    {
      "cell_type": "code",
      "metadata": {
        "id": "OAsdwzmaq4fv",
        "colab_type": "code",
        "colab": {
          "base_uri": "https://localhost:8080/",
          "height": 123
        },
        "outputId": "ead1b5a1-19a7-400e-b66c-78427435befe"
      },
      "source": [
        "num = [15]\n",
        "denum = [1, 15.74, 65.14]\n",
        "\n",
        "tr = tf(num, denum)\n",
        "print(\"Transfer Function is\")\n",
        "print(tr)"
      ],
      "execution_count": 283,
      "outputs": [
        {
          "output_type": "stream",
          "text": [
            "Transfer Function is\n",
            "\n",
            "          15\n",
            "---------------------\n",
            "s^2 + 15.74 s + 65.14\n",
            "\n"
          ],
          "name": "stdout"
        }
      ]
    },
    {
      "cell_type": "code",
      "metadata": {
        "id": "9pCy6Tu_rPSr",
        "colab_type": "code",
        "colab": {
          "base_uri": "https://localhost:8080/",
          "height": 287
        },
        "outputId": "36d3a6a7-46e1-4ffd-d6f5-3a9e97e71819"
      },
      "source": [
        "# Step response for the system\n",
        "print('Step response')\n",
        "plt.figure(1)\n",
        "yout, T = step(tr)\n",
        "plt.plot(T.T, yout.T)\n",
        "plt.show(block=False)\n"
      ],
      "execution_count": 284,
      "outputs": [
        {
          "output_type": "stream",
          "text": [
            "Step response\n"
          ],
          "name": "stdout"
        },
        {
          "output_type": "display_data",
          "data": {
            "image/png": "[encoded data removed]",
            "text/plain": [
              "<Figure size 432x288 with 1 Axes>"
            ]
          },
          "metadata": {
            "tags": [],
            "needs_background": "light"
          }
        }
      ]
    },
    {
      "cell_type": "markdown",
      "metadata": {
        "id": "7DY4NzDM7HXh",
        "colab_type": "text"
      },
      "source": [
        "As we can see that reduced system is also critically damped. The speed of motor increases and reaches a constant value. The main differance between two plots is their scale which is reasonable because of the order reduction."
      ]
    },
    {
      "cell_type": "markdown",
      "metadata": {
        "id": "eq44Tm9fTSQd",
        "colab_type": "text"
      },
      "source": [
        "Hence, by reducing order, we get basic idea about the behavior of the system."
      ]
    }
  ]
}