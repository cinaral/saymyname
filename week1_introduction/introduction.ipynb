{
 "cells": [
  {
   "cell_type": "markdown",
   "metadata": {},
   "source": [
    "<a href=\"https://colab.research.google.com/github/cinaral/saymyname/blob/master/week1_introduction/introduction.ipynb\" target=\"_parent\"><img src=\"https://colab.research.google.com/assets/colab-badge.svg\" alt=\"Open In Colab\"/></a>"
   ]
  },
  {
   "cell_type": "markdown",
   "metadata": {
    "ExecuteTime": {
     "end_time": "2020-07-29T00:02:27.455854Z",
     "start_time": "2020-07-29T00:02:27.453346Z"
    }
   },
   "source": [
    "# Introduction"
   ]
  },
  {
   "cell_type": "markdown",
   "metadata": {},
   "source": [
    "Welcome to ME304 Control Systems Supplementary Material. This material was prepared to aid students who are taking ME304 by \"Say My Name\" on Spring 2020 for ME462."
   ]
  },
  {
   "cell_type": "markdown",
   "metadata": {},
   "source": [
    "If you are currently reading the PDF version of this document, you may click the link at the top to open this notebook in Google Collab. Alternatively, we recommend you install a Jupyter environment on your device. Even some of the cells in this introductory document won't work in Google Collab due to safety limitations, and for the best experience you will need to run a local instance of Jupyter. We recommend the local instance if you plan on using Jupyter in the future, but if you don't want to go through that right now, this document should be perfectly fine to view in Google Collab. \n",
    "\n",
    "The most straight-forward way to install Jupyter is through Anaconda data science toolkit. They do a better job at explaining the installation steps over here https://docs.anaconda.com/anaconda/install/.\n",
    "\n",
    "If you can double click on this block of text and edit it, you are ready to go."
   ]
  },
  {
   "cell_type": "markdown",
   "metadata": {},
   "source": [
    "# Basics"
   ]
  },
  {
   "cell_type": "markdown",
   "metadata": {},
   "source": [
    "Let's talk about basics first. Jupyter notebooks consists of cells that we can insert, delete, cut, copy and paste. There are three cell types: Code, Markdown and Raw. We will be using Code and Markdown cells exclusively. This text you are reading right now is a Markdown cell. In order to evaluate any cell you can press Ctrl + Enter. If you evaluate a markdown cell you will be shown a formatted text block. If you evaluate a code cell the code will be evaluated. It is possible to have different kernels to run your code, such as Python or MATLAB languages. This notebook, like the rest of the notebooks in our Supplementary Material is in Python 3. \n",
    "\n",
    "This document assumes you are already familiar with Python! You can easily learn by inspecting and modifying code, and we encourage you to do it. Don't be hesitant to play with the code blocks as they are meant to be played with."
   ]
  },
  {
   "cell_type": "code",
   "execution_count": 1,
   "metadata": {
    "ExecuteTime": {
     "end_time": "2020-07-29T00:36:41.200014Z",
     "start_time": "2020-07-29T00:36:41.197011Z"
    }
   },
   "outputs": [
    {
     "name": "stdout",
     "output_type": "stream",
     "text": [
      "5\n"
     ]
    }
   ],
   "source": [
    "# And this is a code cell. This is a Python 3 notebook so the Kernel is a Python kernel. \n",
    "# Try to evaluate me using Ctrl + Enter\n",
    "var1 = 5\n",
    "print(var1)"
   ]
  },
  {
   "cell_type": "code",
   "execution_count": 2,
   "metadata": {
    "ExecuteTime": {
     "end_time": "2020-07-29T00:39:48.471221Z",
     "start_time": "2020-07-29T00:39:48.468218Z"
    }
   },
   "outputs": [
    {
     "name": "stdout",
     "output_type": "stream",
     "text": [
      "11\n"
     ]
    }
   ],
   "source": [
    "# Workspace variables will be kept between different cells. In order to clean them, you can restart the kernel.\n",
    "var2 = var1 + 6\n",
    "print(var2)"
   ]
  },
  {
   "cell_type": "markdown",
   "metadata": {},
   "source": [
    "# Markdown Basics\n",
    "<!-- Alternative: ===== -->\n",
    "\n",
    "Let's talk about Markdown basics now. Double click on this cell to find out how we created a Header."
   ]
  },
  {
   "cell_type": "markdown",
   "metadata": {},
   "source": [
    "## Subtitle\n",
    "<!-- Alternative: ----- -->\n",
    "This is a subtitle."
   ]
  },
  {
   "cell_type": "markdown",
   "metadata": {},
   "source": [
    "### Sub sub title\n",
    "And so on..."
   ]
  },
  {
   "cell_type": "markdown",
   "metadata": {},
   "source": [
    "#### Sub sub sub title\n",
    "You get the point."
   ]
  },
  {
   "cell_type": "markdown",
   "metadata": {},
   "source": [
    "+ Here\n",
    "+ Are\n",
    "+ Some\n",
    "+ Bullet \n",
    "+ Points"
   ]
  },
  {
   "cell_type": "markdown",
   "metadata": {},
   "source": [
    "Remember to click on them to find out the secret behind their formatting. <!-- also this is a markdown comment :) -->\n",
    "\n",
    "```\n",
    "# And this is a markdown code block\n",
    "var2 = var1 + 6\n",
    "print(var2)\n",
    "```"
   ]
  },
  {
   "cell_type": "markdown",
   "metadata": {},
   "source": [
    "Set up start up folder preferences: ```jupyter notebook --generate-config``` <br>\n",
    "A file named ```jupyter_notebook_config.py``` will be created. <br>\n",
    "In this file find and update line ```# c.NotebookApp.notebook_dir=''```"
   ]
  },
  {
   "cell_type": "markdown",
   "metadata": {},
   "source": [
    "Comment: ```<!-- comment -->```"
   ]
  },
  {
   "cell_type": "markdown",
   "metadata": {},
   "source": [
    "<p style=\"text-align: left; width:49%; display: inline-block;\"> left<br>aligned</p><p style=\"text-align: right; width:50%;  display: inline-block;\">right<br>aligned</p>"
   ]
  },
  {
   "cell_type": "markdown",
   "metadata": {},
   "source": [
    "<center> center </center>"
   ]
  },
  {
   "cell_type": "markdown",
   "metadata": {},
   "source": [
    "1. Numbered\n",
    "2. Lists\n",
    "3. Are\n",
    "4. Done\n",
    "5. Like\n",
    "6. This"
   ]
  },
  {
   "cell_type": "markdown",
   "metadata": {},
   "source": [
    "[This is a link to a Youtube video](https://www.youtube.com/watch?v=dQw4w9WgXcQ)"
   ]
  },
  {
   "cell_type": "markdown",
   "metadata": {},
   "source": [
    "[And here's a local link to example.txt](example_text.txt)"
   ]
  },
  {
   "cell_type": "markdown",
   "metadata": {},
   "source": [
    " tables  | value\n",
    "  --- | ---\n",
    "  1  | yes\n",
    "  2  | no"
   ]
  },
  {
   "cell_type": "markdown",
   "metadata": {},
   "source": [
    "Similarly, you can embed hosted multimedia. (This embed might not work on Google Collab!)\n",
    "<center><video controls src=\"https://giant.gfycat.com/SpiritedRawHare.webm\" width=\"500\"/></center>"
   ]
  },
  {
   "cell_type": "markdown",
   "metadata": {},
   "source": [
    "# LaTeX Basics"
   ]
  },
  {
   "cell_type": "markdown",
   "metadata": {},
   "source": [
    "You can easily use LaTeX (pronounced Lah-tech) in Jupyter notebooks. If you don't know about LaTeX it's used for math text formatting a lot more. It's great! Here are some examples and tips to get you started."
   ]
  },
  {
   "cell_type": "markdown",
   "metadata": {
    "ExecuteTime": {
     "end_time": "2018-11-04T07:21:47.661919Z",
     "start_time": "2018-11-04T07:21:47.657414Z"
    }
   },
   "source": [
    "Equation:\n",
    "$$\n",
    "e^{\\pi i} + 1 = 0\n",
    "$$\n",
    "\n",
    "Split:\n",
    "$$\n",
    "\\begin{split}\n",
    "A & = \\frac{\\pi r^2}{2} \\\\\n",
    " & = \\frac{1}{2} \\pi r^2\n",
    "\\end{split}\n",
    "$$\n",
    "\n",
    "Align:\n",
    "$$\\begin{align*} \n",
    "2x - 5y &=  8 \\\\ \n",
    "3x + 9y &=  -12\n",
    "\\end{align*}$$\n",
    "\n",
    "Matrix (also try: _matrix, pmatrix, vmatrix, Vmatrix_):\n",
    "$$ \\begin{bmatrix} \n",
    "a & b \\\\\n",
    "c & d \n",
    "\\end{bmatrix}$$\n",
    "\n",
    "Note: ```\\\\ - A``` have triggered printing errors before, while ```\\\\ -A``` did not. \n",
    "\n",
    "Question mark over equation sign: $\\stackrel{?}=$"
   ]
  },
  {
   "cell_type": "markdown",
   "metadata": {},
   "source": [
    "# Conclusion"
   ]
  },
  {
   "cell_type": "markdown",
   "metadata": {},
   "source": [
    "This concludes our introductory document, remember to return back here if you are lost about Jupyter, markdown or LaTeX basics."
   ]
  }
 ],
 "metadata": {
  "hide_input": false,
  "kernelspec": {
   "display_name": "Python 3",
   "language": "python",
   "name": "python3"
  },
  "language_info": {
   "codemirror_mode": {
    "name": "ipython",
    "version": 3
   },
   "file_extension": ".py",
   "mimetype": "text/x-python",
   "name": "python",
   "nbconvert_exporter": "python",
   "pygments_lexer": "ipython3",
   "version": "3.8.5"
  },
  "toc": {
   "base_numbering": 1,
   "nav_menu": {},
   "number_sections": true,
   "sideBar": true,
   "skip_h1_title": false,
   "title_cell": "Table of Contents",
   "title_sidebar": "Contents",
   "toc_cell": false,
   "toc_position": {
    "height": "calc(100% - 180px)",
    "left": "10px",
    "top": "150px",
    "width": "325px"
   },
   "toc_section_display": true,
   "toc_window_display": true
  },
  "varInspector": {
   "cols": {
    "lenName": 16,
    "lenType": 16,
    "lenVar": 40
   },
   "kernels_config": {
    "python": {
     "delete_cmd_postfix": "",
     "delete_cmd_prefix": "del ",
     "library": "var_list.py",
     "varRefreshCmd": "print(var_dic_list())"
    },
    "r": {
     "delete_cmd_postfix": ") ",
     "delete_cmd_prefix": "rm(",
     "library": "var_list.r",
     "varRefreshCmd": "cat(var_dic_list()) "
    }
   },
   "position": {
    "height": "134px",
    "left": "337px",
    "right": "20px",
    "top": "153px",
    "width": "285px"
   },
   "types_to_exclude": [
    "module",
    "function",
    "builtin_function_or_method",
    "instance",
    "_Feature"
   ],
   "window_display": false
  }
 },
 "nbformat": 4,
 "nbformat_minor": 2
}
