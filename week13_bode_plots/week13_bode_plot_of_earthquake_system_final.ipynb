{
  "nbformat": 4,
  "nbformat_minor": 0,
  "metadata": {
    "colab": {
      "name": "week13_bode_plot_of_earthquake_system_final",
      "provenance": [],
      "collapsed_sections": [
        "FOb7OZd1HVE2"
      ],
      "authorship_tag": "ABX9TyOwEWJQAIv0Vsg0QkfL0Buk",
      "include_colab_link": true
    },
    "kernelspec": {
      "name": "python3",
      "display_name": "Python 3"
    }
  },
  "cells": [
    {
      "cell_type": "markdown",
      "metadata": {
        "id": "view-in-github",
        "colab_type": "text"
      },
      "source": [
        "<a href=\"https://colab.research.google.com/github/cinaral/saymyname/blob/master/week13_bode_plots/week13_bode_plot_of_earthquake_system_final.ipynb\" target=\"_parent\"><img src=\"https://colab.research.google.com/assets/colab-badge.svg\" alt=\"Open In Colab\"/></a>"
      ]
    },
    {
      "cell_type": "markdown",
      "metadata": {
        "id": "bdGzNG3zJ_2M",
        "colab_type": "text"
      },
      "source": [
        "In this part, we will try to obtain Bode plot for the previous week system which is earthquake simulation of a building."
      ]
    },
    {
      "cell_type": "markdown",
      "metadata": {
        "id": "nnPVKQNKHDOe",
        "colab_type": "text"
      },
      "source": [
        "In order to analyse the systems, sinusoidal input is applied to the system and output is measured. Sin waves are important because any periodic or nonperiodic functions can be represented by sin waves with the help of using Fourier transform so the analyse can be done in frequency domain like in time domain. This is usefull because analysing very complex system in time domain is hard, but looking its frequency responce in frequency domain makes the analysis easier."
      ]
    },
    {
      "cell_type": "markdown",
      "metadata": {
        "id": "qGJDtjNjoOFZ",
        "colab_type": "text"
      },
      "source": [
        "A Bode plot is simply a plot of magnitude and phase of a tranfer function as large range of frequencies vary. Moreover, we can guess transfer function for an unknown system. In frequency domain, transfer functions are named as frequency responce functions or sinusoidal transfer functions. They can be represented in terms of their magnitude and phase or their real and imaginary parts. Bode plot is in logarithmic scale so we can simply sum them to see the effect of over all system."
      ]
    },
    {
      "cell_type": "markdown",
      "metadata": {
        "id": "CIesvHI-6fr8",
        "colab_type": "text"
      },
      "source": [
        "Let us assume a building with 2 floors."
      ]
    },
    {
      "cell_type": "markdown",
      "metadata": {
        "id": "mPjzoVS-Dm45",
        "colab_type": "text"
      },
      "source": [
        "![alt text](https://raw.githubusercontent.com/cinaral/saymyname/master/references/images.png)"
      ]
    },
    {
      "cell_type": "markdown",
      "metadata": {
        "id": "UTsd3264DpsX",
        "colab_type": "text"
      },
      "source": [
        "Force acts on M1 only like an earthquake."
      ]
    },
    {
      "cell_type": "markdown",
      "metadata": {
        "id": "A2zhG8FpEDVk",
        "colab_type": "text"
      },
      "source": [
        "In order to draw its bode plot, we need its transfer function. However, the system is a multi degree of freedom system so we actually need its transfer matrix. We apply Laplace Transform to equation of motion in matrix form."
      ]
    },
    {
      "cell_type": "markdown",
      "metadata": {
        "id": "HB40f-PLExvZ",
        "colab_type": "text"
      },
      "source": [
        "\\begin{align}\n",
        "M\\ddot{x} + C\\dot{x} + Kx = f \\\\\n",
        "\\end{align}"
      ]
    },
    {
      "cell_type": "markdown",
      "metadata": {
        "id": "FcOGy_BjL9OR",
        "colab_type": "text"
      },
      "source": [
        "After Laplace Transform;"
      ]
    },
    {
      "cell_type": "markdown",
      "metadata": {
        "id": "d8ZK1SImMG2K",
        "colab_type": "text"
      },
      "source": [
        "\\begin{align}\n",
        "X = HF\n",
        "\\end{align}"
      ]
    },
    {
      "cell_type": "markdown",
      "metadata": {
        "id": "aPbc4c_PMj3B",
        "colab_type": "text"
      },
      "source": [
        "Total responce is sum of responces to individual forces at each frequency."
      ]
    },
    {
      "cell_type": "markdown",
      "metadata": {
        "id": "6xoLoDqTM7RU",
        "colab_type": "text"
      },
      "source": [
        "\\begin{align}\n",
        "X_1 = H_{11}F_1 + H_{12}F_2\\\\\n",
        "X_2 = H_{21}F_1 + H_{22}F_2\\\\\n",
        "\\end{align}"
      ]
    },
    {
      "cell_type": "markdown",
      "metadata": {
        "id": "wi1GqDTeNZ8M",
        "colab_type": "text"
      },
      "source": [
        "but F2 is zero so;"
      ]
    },
    {
      "cell_type": "markdown",
      "metadata": {
        "id": "BFH3sWOfN59D",
        "colab_type": "text"
      },
      "source": [
        "\\begin{align}\n",
        "X_1 = H_{11}F_1\\\\\n",
        "X_2 = H_{21}F_1\n",
        "\\end{align}"
      ]
    },
    {
      "cell_type": "markdown",
      "metadata": {
        "id": "lYu02TCFN-bJ",
        "colab_type": "text"
      },
      "source": [
        "We need to find elements of H matrix ,and for this example we will have two bode plots due to H11 and H21."
      ]
    },
    {
      "cell_type": "markdown",
      "metadata": {
        "id": "FOb7OZd1HVE2",
        "colab_type": "text"
      },
      "source": [
        "# Let us install and import necessary libraries"
      ]
    },
    {
      "cell_type": "code",
      "metadata": {
        "id": "HvQeIj9oZw3B",
        "colab_type": "code",
        "colab": {
          "base_uri": "https://localhost:8080/",
          "height": 356
        },
        "outputId": "10c40013-5499-4312-ab8c-c1a6b5790492"
      },
      "source": [
        "!pip install control\n",
        "\n",
        "from scipy.integrate import odeint\n",
        "import scipy.integrate as integrate\n",
        "import matplotlib.animation as animation\n",
        "from matplotlib import animation, rc\n",
        "from IPython.display import HTML\n",
        "%matplotlib inline\n",
        "\n",
        "import numpy as np\n",
        "from math import sin\n",
        "from scipy.linalg import eigh\n",
        "from numpy.linalg import inv\n",
        "from matplotlib import pyplot as plt\n",
        "\n",
        "import matplotlib\n",
        "import ipywidgets\n",
        "import plotly\n",
        "import numpy as np\n",
        "import math\n",
        "import os\n",
        "from IPython import *\n",
        "import scipy\n",
        "\n",
        "from sympy import symbols\n",
        "from sympy import simplify\n",
        "from sympy.abc import s, t, a\n",
        "from sympy.integrals import *\n",
        "from sympy.plotting import *\n",
        "from control import *\n",
        "from control.matlab import *\n",
        "from sympy import Heaviside\n",
        "from sympy.matrices import*\n",
        "from sympy.interactive.printing import init_printing\n",
        "init_printing(use_unicode=False, wrap_line=False)"
      ],
      "execution_count": 2,
      "outputs": [
        {
          "output_type": "stream",
          "text": [
            "Collecting control\n",
            "\u001b[?25l  Downloading https://files.pythonhosted.org/packages/e8/b0/32a903138505dd4ea523f8a3fc156c4272aa58b10100ef24ff74ced2fae8/control-0.8.3.tar.gz (249kB)\n",
            "\r\u001b[K     |█▎                              | 10kB 18.8MB/s eta 0:00:01\r\u001b[K     |██▋                             | 20kB 1.7MB/s eta 0:00:01\r\u001b[K     |████                            | 30kB 2.2MB/s eta 0:00:01\r\u001b[K     |█████▎                          | 40kB 2.5MB/s eta 0:00:01\r\u001b[K     |██████▋                         | 51kB 2.0MB/s eta 0:00:01\r\u001b[K     |███████▉                        | 61kB 2.3MB/s eta 0:00:01\r\u001b[K     |█████████▏                      | 71kB 2.5MB/s eta 0:00:01\r\u001b[K     |██████████▌                     | 81kB 2.7MB/s eta 0:00:01\r\u001b[K     |███████████▉                    | 92kB 2.9MB/s eta 0:00:01\r\u001b[K     |█████████████▏                  | 102kB 2.7MB/s eta 0:00:01\r\u001b[K     |██████████████▍                 | 112kB 2.7MB/s eta 0:00:01\r\u001b[K     |███████████████▊                | 122kB 2.7MB/s eta 0:00:01\r\u001b[K     |█████████████████               | 133kB 2.7MB/s eta 0:00:01\r\u001b[K     |██████████████████▍             | 143kB 2.7MB/s eta 0:00:01\r\u001b[K     |███████████████████▊            | 153kB 2.7MB/s eta 0:00:01\r\u001b[K     |█████████████████████           | 163kB 2.7MB/s eta 0:00:01\r\u001b[K     |██████████████████████▎         | 174kB 2.7MB/s eta 0:00:01\r\u001b[K     |███████████████████████▋        | 184kB 2.7MB/s eta 0:00:01\r\u001b[K     |█████████████████████████       | 194kB 2.7MB/s eta 0:00:01\r\u001b[K     |██████████████████████████▎     | 204kB 2.7MB/s eta 0:00:01\r\u001b[K     |███████████████████████████▋    | 215kB 2.7MB/s eta 0:00:01\r\u001b[K     |████████████████████████████▉   | 225kB 2.7MB/s eta 0:00:01\r\u001b[K     |██████████████████████████████▏ | 235kB 2.7MB/s eta 0:00:01\r\u001b[K     |███████████████████████████████▌| 245kB 2.7MB/s eta 0:00:01\r\u001b[K     |████████████████████████████████| 256kB 2.7MB/s \n",
            "\u001b[?25hRequirement already satisfied: numpy in /usr/local/lib/python3.6/dist-packages (from control) (1.18.5)\n",
            "Requirement already satisfied: scipy in /usr/local/lib/python3.6/dist-packages (from control) (1.4.1)\n",
            "Requirement already satisfied: matplotlib in /usr/local/lib/python3.6/dist-packages (from control) (3.2.2)\n",
            "Requirement already satisfied: pyparsing!=2.0.4,!=2.1.2,!=2.1.6,>=2.0.1 in /usr/local/lib/python3.6/dist-packages (from matplotlib->control) (2.4.7)\n",
            "Requirement already satisfied: python-dateutil>=2.1 in /usr/local/lib/python3.6/dist-packages (from matplotlib->control) (2.8.1)\n",
            "Requirement already satisfied: kiwisolver>=1.0.1 in /usr/local/lib/python3.6/dist-packages (from matplotlib->control) (1.2.0)\n",
            "Requirement already satisfied: cycler>=0.10 in /usr/local/lib/python3.6/dist-packages (from matplotlib->control) (0.10.0)\n",
            "Requirement already satisfied: six>=1.5 in /usr/local/lib/python3.6/dist-packages (from python-dateutil>=2.1->matplotlib->control) (1.15.0)\n",
            "Building wheels for collected packages: control\n",
            "  Building wheel for control (setup.py) ... \u001b[?25l\u001b[?25hdone\n",
            "  Created wheel for control: filename=control-0.8.3-py2.py3-none-any.whl size=260982 sha256=04c78a25192472027c0ebf723186425709218c23515303dffad0b63f9c669fb4\n",
            "  Stored in directory: /root/.cache/pip/wheels/c2/d9/cc/90b28cb139a6320a3af2285428b6da87eee8d8920c78bb0223\n",
            "Successfully built control\n",
            "Installing collected packages: control\n",
            "Successfully installed control-0.8.3\n"
          ],
          "name": "stdout"
        }
      ]
    },
    {
      "cell_type": "markdown",
      "metadata": {
        "id": "JuONhFcEKDXM",
        "colab_type": "text"
      },
      "source": [
        "# Let us define the transfer function of the system"
      ]
    },
    {
      "cell_type": "code",
      "metadata": {
        "id": "n577j6xvOZk6",
        "colab_type": "code",
        "colab": {
          "base_uri": "https://localhost:8080/",
          "height": 72
        },
        "outputId": "3f3ca39b-7109-4235-d486-8e405e1ce555"
      },
      "source": [
        "m = 1.0\n",
        "k = 1000.0\n",
        "c = 0.5\n",
        "\n",
        "M = Matrix([[m,0],\n",
        "             [0,m]])\n",
        "\n",
        "K = Matrix([[2*k,-k],\n",
        "             [-k,k]])\n",
        "\n",
        "C = (c/k)*K\n",
        "\n",
        "H = (s**2)*M + s*C + K\n",
        "H_inv = H.inv('ADJ')\n",
        "H_inv"
      ],
      "execution_count": 5,
      "outputs": [
        {
          "output_type": "execute_result",
          "data": {
            "text/latex": "$$\\left[\\begin{matrix}\\frac{1.0 s^{2} + 0.5 s + 1000.0}{- \\left(- 0.5 s - 1000.0\\right)^{2} + \\left(1.0 s^{2} + 0.5 s + 1000.0\\right) \\left(1.0 s^{2} + 1.0 s + 2000.0\\right)} & \\frac{0.5 s + 1000.0}{- \\left(- 0.5 s - 1000.0\\right)^{2} + \\left(1.0 s^{2} + 0.5 s + 1000.0\\right) \\left(1.0 s^{2} + 1.0 s + 2000.0\\right)}\\\\\\frac{0.5 s + 1000.0}{- \\left(- 0.5 s - 1000.0\\right)^{2} + \\left(1.0 s^{2} + 0.5 s + 1000.0\\right) \\left(1.0 s^{2} + 1.0 s + 2000.0\\right)} & \\frac{1.0 s^{2} + 1.0 s + 2000.0}{- \\left(- 0.5 s - 1000.0\\right)^{2} + \\left(1.0 s^{2} + 0.5 s + 1000.0\\right) \\left(1.0 s^{2} + 1.0 s + 2000.0\\right)}\\end{matrix}\\right]$$",
            "text/plain": [
              "[                              2                                                                                                                       ]\n",
              "[                         1.0*s  + 0.5*s + 1000.0                                                          0.5*s + 1000.0                              ]\n",
              "[--------------------------------------------------------------------------  --------------------------------------------------------------------------]\n",
              "[                   2   /     2                 \\ /     2                 \\                     2   /     2                 \\ /     2                 \\]\n",
              "[- (-0.5*s - 1000.0)  + \\1.0*s  + 0.5*s + 1000.0/*\\1.0*s  + 1.0*s + 2000.0/  - (-0.5*s - 1000.0)  + \\1.0*s  + 0.5*s + 1000.0/*\\1.0*s  + 1.0*s + 2000.0/]\n",
              "[                                                                                                                                                      ]\n",
              "[                                                                                                          2                                           ]\n",
              "[                              0.5*s + 1000.0                                                         1.0*s  + 1.0*s + 2000.0                          ]\n",
              "[--------------------------------------------------------------------------  --------------------------------------------------------------------------]\n",
              "[                   2   /     2                 \\ /     2                 \\                     2   /     2                 \\ /     2                 \\]\n",
              "[- (-0.5*s - 1000.0)  + \\1.0*s  + 0.5*s + 1000.0/*\\1.0*s  + 1.0*s + 2000.0/  - (-0.5*s - 1000.0)  + \\1.0*s  + 0.5*s + 1000.0/*\\1.0*s  + 1.0*s + 2000.0/]"
            ]
          },
          "metadata": {
            "tags": []
          },
          "execution_count": 5
        }
      ]
    },
    {
      "cell_type": "markdown",
      "metadata": {
        "id": "8792ax7wezNr",
        "colab_type": "text"
      },
      "source": [
        "H11 is;"
      ]
    },
    {
      "cell_type": "code",
      "metadata": {
        "id": "AuvCExnwR-PB",
        "colab_type": "code",
        "colab": {
          "base_uri": "https://localhost:8080/",
          "height": 44
        },
        "outputId": "bd67e854-2fac-42e9-a972-d03e2f51d8f4"
      },
      "source": [
        "H_inv[0,0]"
      ],
      "execution_count": 7,
      "outputs": [
        {
          "output_type": "execute_result",
          "data": {
            "image/png": "[encoded data removed]",
            "text/latex": "$$\\frac{1.0 s^{2} + 0.5 s + 1000.0}{- \\left(- 0.5 s - 1000.0\\right)^{2} + \\left(1.0 s^{2} + 0.5 s + 1000.0\\right) \\left(1.0 s^{2} + 1.0 s + 2000.0\\right)}$$",
            "text/plain": [
              "                              2                                           \n",
              "                         1.0*s  + 0.5*s + 1000.0                          \n",
              "--------------------------------------------------------------------------\n",
              "                   2   /     2                 \\ /     2                 \\\n",
              "- (-0.5*s - 1000.0)  + \\1.0*s  + 0.5*s + 1000.0/*\\1.0*s  + 1.0*s + 2000.0/"
            ]
          },
          "metadata": {
            "tags": []
          },
          "execution_count": 7
        }
      ]
    },
    {
      "cell_type": "markdown",
      "metadata": {
        "id": "Fqj69Mvue2tR",
        "colab_type": "text"
      },
      "source": [
        "H21 is"
      ]
    },
    {
      "cell_type": "code",
      "metadata": {
        "id": "-bCCBEcJT5FT",
        "colab_type": "code",
        "colab": {
          "base_uri": "https://localhost:8080/",
          "height": 42
        },
        "outputId": "1af8460f-571d-4a25-dd75-34497ae0ac8b"
      },
      "source": [
        "H_inv[1,0]"
      ],
      "execution_count": 8,
      "outputs": [
        {
          "output_type": "execute_result",
          "data": {
            "image/png": "[encoded data removed]",
            "text/latex": "$$\\frac{0.5 s + 1000.0}{- \\left(- 0.5 s - 1000.0\\right)^{2} + \\left(1.0 s^{2} + 0.5 s + 1000.0\\right) \\left(1.0 s^{2} + 1.0 s + 2000.0\\right)}$$",
            "text/plain": [
              "                              0.5*s + 1000.0                              \n",
              "--------------------------------------------------------------------------\n",
              "                   2   /     2                 \\ /     2                 \\\n",
              "- (-0.5*s - 1000.0)  + \\1.0*s  + 0.5*s + 1000.0/*\\1.0*s  + 1.0*s + 2000.0/"
            ]
          },
          "metadata": {
            "tags": []
          },
          "execution_count": 8
        }
      ]
    },
    {
      "cell_type": "markdown",
      "metadata": {
        "id": "6txhoAshe6iX",
        "colab_type": "text"
      },
      "source": [
        "Now, we can draw their bode plots."
      ]
    },
    {
      "cell_type": "code",
      "metadata": {
        "id": "yIeErKyzT_-G",
        "colab_type": "code",
        "colab": {
          "base_uri": "https://localhost:8080/",
          "height": 301
        },
        "outputId": "fd171a2b-eaac-4768-eb8b-ba905b8e665e"
      },
      "source": [
        "numHinv11 = [1.0, 0.5, 1000.0]\n",
        "denHinv11 = [1.0, 1.5, 3000.5-0.25, 2000.0-1000.0, 2*10**6 - 1*10**6]\n",
        "Hinv11 = tf(numHinv11, denHinv11)\n",
        "\n",
        "# Bode plot for the system\n",
        "print('Bode plot of H11')\n",
        "plt.figure(1)\n",
        "mag, phase, om = bode(Hinv11, logspace(-2, 2), Plot=True)\n",
        "plt.show(block=False)"
      ],
      "execution_count": 9,
      "outputs": [
        {
          "output_type": "stream",
          "text": [
            "Bode plot of H11\n"
          ],
          "name": "stdout"
        },
        {
          "output_type": "display_data",
          "data": {
            "image/png": "[encoded data removed]",
            "text/plain": [
              "<Figure size 432x288 with 2 Axes>"
            ]
          },
          "metadata": {
            "tags": [],
            "needs_background": "light"
          }
        }
      ]
    },
    {
      "cell_type": "code",
      "metadata": {
        "id": "HwSYTdH3Yuj3",
        "colab_type": "code",
        "colab": {
          "base_uri": "https://localhost:8080/",
          "height": 301
        },
        "outputId": "b6a7d824-55bf-4662-bf75-d4be9860b468"
      },
      "source": [
        "numHinv21 = [0.5, 1000.0]\n",
        "denHinv21 = [1.0, 1.5, 3000.5-0.25, 2000.0-1000.0, 2*10**6 - 1*10**6]\n",
        "Hinv21 = tf(numHinv21, denHinv21)\n",
        "\n",
        "# Bode plot for the system\n",
        "print('Bode plot of H21')\n",
        "plt.figure(1)\n",
        "mag, phase, om = bode(Hinv21, logspace(-2, 2), Plot=True)\n",
        "plt.show(block=False)"
      ],
      "execution_count": 10,
      "outputs": [
        {
          "output_type": "stream",
          "text": [
            "Bode plot of H21\n"
          ],
          "name": "stdout"
        },
        {
          "output_type": "display_data",
          "data": {
            "image/png": "[encoded data removed]",
            "text/plain": [
              "<Figure size 432x288 with 2 Axes>"
            ]
          },
          "metadata": {
            "tags": [],
            "needs_background": "light"
          }
        }
      ]
    },
    {
      "cell_type": "code",
      "metadata": {
        "id": "YbDfpo-IeUWY",
        "colab_type": "code",
        "colab": {
          "base_uri": "https://localhost:8080/",
          "height": 301
        },
        "outputId": "2086c8b9-5025-4742-c8b1-34d2e32d4b67"
      },
      "source": [
        "# Bode plot for the system\n",
        "print('Bode plot of H')\n",
        "plt.figure(1)\n",
        "mag, phase, om = bode(Hinv11, logspace(-2, 2), Plot=True)\n",
        "mag, phase, om = bode(Hinv21, logspace(-2, 2), Plot=True)\n",
        "plt.show(block=False)"
      ],
      "execution_count": 13,
      "outputs": [
        {
          "output_type": "stream",
          "text": [
            "Bode plot of H\n"
          ],
          "name": "stdout"
        },
        {
          "output_type": "display_data",
          "data": {
            "image/png": "[encoded data removed]",
            "text/plain": [
              "<Figure size 432x288 with 2 Axes>"
            ]
          },
          "metadata": {
            "tags": [],
            "needs_background": "light"
          }
        }
      ]
    },
    {
      "cell_type": "markdown",
      "metadata": {
        "id": "jJvi4O96f4ed",
        "colab_type": "text"
      },
      "source": [
        "Notes about these frequency responce functions."
      ]
    },
    {
      "cell_type": "markdown",
      "metadata": {
        "id": "Umbi4nXEgYUE",
        "colab_type": "text"
      },
      "source": [
        "Low frequency response corresponds to static response. Resonant frequencies (up peak points) are the same for all frequency responce functions. Anti-resonant frequencies(down peak points) (zeros) only occur in driving point of\n",
        "frequency responce functions (for which input and output are the same). "
      ]
    },
    {
      "cell_type": "markdown",
      "metadata": {
        "id": "6atCWSvthD0Q",
        "colab_type": "text"
      },
      "source": [
        "Phase recovers after a resonance in driving point frequency responce function but is\n",
        "lost through both resonant frequencies in cross point frequency responce functions. "
      ]
    }
  ]
}