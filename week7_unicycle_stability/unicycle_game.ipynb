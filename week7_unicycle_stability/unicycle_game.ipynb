{
 "cells": [
  {
   "cell_type": "code",
   "execution_count": 3,
   "metadata": {
    "ExecuteTime": {
     "end_time": "2020-06-28T12:36:43.045957Z",
     "start_time": "2020-06-28T12:36:42.999875Z"
    }
   },
   "outputs": [],
   "source": [
    "import ipycanvas as ipc\n",
    "import numpy as np\n",
    "\n",
    "from time import time, sleep\n",
    "from threading import Thread"
   ]
  },
  {
   "cell_type": "code",
   "execution_count": 4,
   "metadata": {
    "ExecuteTime": {
     "end_time": "2020-06-28T12:36:43.512005Z",
     "start_time": "2020-06-28T12:36:43.504999Z"
    }
   },
   "outputs": [],
   "source": [
    "# simulation parameters\n",
    "ups = 30\n",
    "dt = 1 / ups\n",
    "# system parameters\n",
    "mb = 1\n",
    "mw = 1\n",
    "Ib = 1\n",
    "Iw = 1\n",
    "l = 1\n",
    "d = 1\n",
    "g = 9.81\n",
    "# initial conditions\n",
    "y0 = np.array([0.1, 0])\n",
    "dy0 = np.array([0, 0])\n",
    "\n",
    "# find d2y\n",
    "def calculate_dynamics(tau, y, dy):\n",
    "    f = np.array([tau, -tau])\n",
    "    M = np.array([[Ib + l**2 * mb, l * d * mb * np.cos(y[0])], [l * d * mb * np.cos(y[0]),   Iw + d**2 * (mb + mw)]])\n",
    "    c = np.array([-l * g * mb * np.sin(y[0]), -dy[0]**2 * l * d * mb * np.sin(y[0])])\n",
    "    d2y = np.linalg.inv(M).dot(f - c)\n",
    "    #print(M)\n",
    "    #print(c)\n",
    "    return d2y\n",
    "\n",
    "# update unicycle \n",
    "def update_unicycle(tau, y, dy):\n",
    "    d2y = calculate_dynamics(tau, y, dy)\n",
    "    # semi-implicit euler integration\n",
    "    dy = dy + d2y * dt\n",
    "    y = y + dy * dt\n",
    "    return y, dy, d2y"
   ]
  },
  {
   "cell_type": "code",
   "execution_count": 50,
   "metadata": {
    "ExecuteTime": {
     "end_time": "2020-06-28T12:09:13.564725Z",
     "start_time": "2020-06-28T12:09:13.558721Z"
    }
   },
   "outputs": [
    {
     "name": "stdout",
     "output_type": "stream",
     "text": [
      "[[2.000000e+00 6.123234e-17]\n",
      " [6.123234e-17 3.000000e+00]]\n",
      "[-9.81      -2.4674011]\n"
     ]
    },
    {
     "data": {
      "text/plain": [
       "(array([1.57624633e+00, 9.13852259e-04]),\n",
       " array([0.1635    , 0.02741557]),\n",
       " array([4.905     , 0.82246703]))"
      ]
     },
     "execution_count": 50,
     "metadata": {},
     "output_type": "execute_result"
    }
   ],
   "source": [
    "update_unicycle(0, np.array([np.pi/2,0]), np.array([0,0]))"
   ]
  },
  {
   "cell_type": "code",
   "execution_count": 16,
   "metadata": {
    "ExecuteTime": {
     "end_time": "2020-06-28T12:39:33.347743Z",
     "start_time": "2020-06-28T12:39:33.333702Z"
    }
   },
   "outputs": [],
   "source": [
    "wheel_thickness = 3\n",
    "motor_size = 5\n",
    "# how many pixels one meter corresponds to, defines the scale\n",
    "meter_in_pixels = 75\n",
    "# convert meters to pixels \n",
    "def to_pixels(distance_in_meters):\n",
    "    return distance_in_meters * meter_in_pixels\n",
    "\n",
    "# convert radians to degrees\n",
    "def to_degrees(radians):\n",
    "    return radians / np.pi * 180\n",
    "\n",
    "# convert degrees into -180 +180 degrees\n",
    "def to_180degrees(degrees):\n",
    "    while degrees > 180:\n",
    "        degrees = degrees - 360\n",
    "    while degrees < -180:\n",
    "        degrees = degrees + 360\n",
    "    return degrees\n",
    "\n",
    "# draw unicycle, pos = horizontal (motor position), y = [theta, phi]\n",
    "def draw_unicycle(canvas, init_pos, y, r, l, color='white'):\n",
    "    # kinematic relation of the wheel with the ground assuming there is no slipping\n",
    "    pos = 1 * init_pos\n",
    "    pos[0] = init_pos[0] + y[1] * 2 * r\n",
    "    # update canvas\n",
    "    with ipc.hold_canvas(canvas):\n",
    "        canvas.clear()\n",
    "        canvas.translate(pos[0], pos[1])\n",
    "        # 2. wheel:   \n",
    "        # 2.1. rim\n",
    "        canvas.line_width = wheel_thickness\n",
    "        canvas.stroke_arc(0, 0, r, 0, np.pi * 2) \n",
    "        # 2.2. mark\n",
    "        canvas.fill_style = 'black'\n",
    "        canvas.rotate(y[1])\n",
    "        canvas.fill_arc(0, r * 3 / 4, wheel_thickness / 2, 0, np.pi * 2)\n",
    "        # 2.3. spokes\n",
    "        canvas.line_width = wheel_thickness / 3\n",
    "        canvas.begin_path()\n",
    "        canvas.move_to(0, -r)\n",
    "        canvas.line_to(0, r)\n",
    "        canvas.move_to(-r, 0)\n",
    "        canvas.line_to(r, 0)\n",
    "        canvas.rotate(np.pi / 4)\n",
    "        canvas.move_to(0, -r)\n",
    "        canvas.line_to(0, r)\n",
    "        canvas.move_to(-r, 0)\n",
    "        canvas.line_to(r, 0)\n",
    "        canvas.stroke()\n",
    "        canvas.rotate(-np.pi / 4)\n",
    "        canvas.rotate(-y[1]) # undo rotation  \n",
    "        # 3. body:\n",
    "        # 3.1. frame\n",
    "        canvas.rotate(y[0])\n",
    "        canvas.fill_style = 'blue'\n",
    "        canvas.fill_rect(-1.5, 0, motor_size * 3 / 5, -l)\n",
    "        # 3.2. motor\n",
    "        canvas.fill_style = 'darkred'\n",
    "        canvas.fill_arc(0, 0, motor_size, 0, np.pi * 2)\n",
    "        # 3.3. load\n",
    "        canvas.fill_style = 'blue'\n",
    "        canvas.translate(0, -l)\n",
    "        canvas.fill_rect(-motor_size, -motor_size, 2 * motor_size)\n",
    "        canvas.translate(0, l) # undo translation\n",
    "        canvas.rotate(-y[0]) # undo rotation\n",
    "        canvas.translate(-pos[0], -pos[1]) # undo translation\n",
    "        \n",
    "# draw text\n",
    "def draw_text(canvas, fps, time, y):\n",
    "    pos = (5, 20)\n",
    "    spacing = 14\n",
    "    canvas.clear()\n",
    "    canvas.font = '12px serif'\n",
    "    canvas.fill_text('FPS: {:.0f}'.format(fps), pos[0], pos[1])\n",
    "    canvas.fill_text('Time: {:.1f} s'.format(time), pos[0], pos[1] + spacing)\n",
    "    canvas.fill_text('\\u03B8: {:.1f}\\u00B0'.format(to_180degrees(to_degrees(y[0]))), pos[0], pos[1] + 2 * spacing)\n",
    "    canvas.fill_text('\\u03C6: {:.1f}\\u00B0'.format(to_180degrees(to_degrees(y[1]))), pos[0], pos[1] + 3 * spacing)"
   ]
  },
  {
   "cell_type": "code",
   "execution_count": 17,
   "metadata": {
    "ExecuteTime": {
     "end_time": "2020-06-28T12:39:34.160154Z",
     "start_time": "2020-06-28T12:39:34.136132Z"
    },
    "scrolled": false
   },
   "outputs": [
    {
     "data": {
      "application/vnd.jupyter.widget-view+json": {
       "model_id": "883417fa3faf4dd7b623ddf1be67e252",
       "version_major": 2,
       "version_minor": 0
      },
      "text/plain": [
       "MultiCanvas(height=300, width=600)"
      ]
     },
     "metadata": {},
     "output_type": "display_data"
    }
   ],
   "source": [
    "canvas_width = 600\n",
    "canvas_height = 300\n",
    "init_pos = np.array([canvas_width / 2, canvas_height * 3 / 4])\n",
    "wheel_radius = to_pixels(d / 2)\n",
    "\n",
    "# initialize canvas\n",
    "multi_canvas = ipc.MultiCanvas(3, width=canvas_width, height=canvas_height)\n",
    "# initialize background \n",
    "# 1. ground:\n",
    "multi_canvas[0].fill_style = 'gray'\n",
    "multi_canvas[0].stroke_rect(0, 0, canvas_width, canvas_height)\n",
    "multi_canvas[0].fill_rect(0, init_pos[1] + wheel_radius, canvas_width, canvas_height - (init_pos[1] + wheel_radius))\n",
    "\n",
    "#testing\n",
    "draw_unicycle(multi_canvas[1], init_pos, [0,0], to_pixels(d / 2), to_pixels(l))\n",
    "draw_text(multi_canvas[2], 30, 5, [0,0])\n",
    "\n",
    "multi_canvas"
   ]
  },
  {
   "cell_type": "code",
   "execution_count": 19,
   "metadata": {
    "ExecuteTime": {
     "end_time": "2020-06-28T12:39:40.745285Z",
     "start_time": "2020-06-28T12:39:40.738779Z"
    }
   },
   "outputs": [],
   "source": [
    "class Game(Thread):\n",
    "    def __init__(self, canvas, y0, dy0, t0=0):\n",
    "        self.y = y0\n",
    "        self.dy = dy0\n",
    "        self.time = t0\n",
    "        self.fps = 0\n",
    "        self.canvas = canvas\n",
    "        self.is_running = True\n",
    "        super(Game, self).__init__()\n",
    "\n",
    "    def run(self):\n",
    "        frame_time = dt\n",
    "        start_time = time()\n",
    "        while(self.is_running):\n",
    "            tick = time()\n",
    "\n",
    "            self.y, self.dy, _ = update_unicycle(0, self.y, self.dy)\n",
    "            draw_unicycle(multi_canvas[1], init_pos, self.y, to_pixels(d / 2), to_pixels(l))\n",
    "        \n",
    "            self.time = tick - start_time \n",
    "            self.fps = 1 / frame_time\n",
    "            draw_text(multi_canvas[2], self.fps, self.time, self.y)\n",
    "            \n",
    "            if dt - (time() - tick) > 0:\n",
    "                sleep(dt - (time() - tick))\n",
    "            frame_time = time() - tick\n",
    "                \n",
    "    def stop(self):\n",
    "        self.is_running = False"
   ]
  },
  {
   "cell_type": "code",
   "execution_count": 20,
   "metadata": {
    "ExecuteTime": {
     "end_time": "2020-06-28T12:39:41.667404Z",
     "start_time": "2020-06-28T12:39:41.655893Z"
    }
   },
   "outputs": [],
   "source": [
    "game = Game(multi_canvas[1], y0, dy0)\n",
    "game.start()"
   ]
  },
  {
   "cell_type": "code",
   "execution_count": 21,
   "metadata": {
    "ExecuteTime": {
     "end_time": "2020-06-28T12:39:54.052087Z",
     "start_time": "2020-06-28T12:39:54.048583Z"
    }
   },
   "outputs": [],
   "source": [
    "game.stop()"
   ]
  }
 ],
 "metadata": {
  "hide_input": false,
  "kernelspec": {
   "display_name": "Python 3",
   "language": "python",
   "name": "python3"
  },
  "language_info": {
   "codemirror_mode": {
    "name": "ipython",
    "version": 3
   },
   "file_extension": ".py",
   "mimetype": "text/x-python",
   "name": "python",
   "nbconvert_exporter": "python",
   "pygments_lexer": "ipython3",
   "version": "3.8.3"
  },
  "toc": {
   "base_numbering": 1,
   "nav_menu": {},
   "number_sections": true,
   "sideBar": true,
   "skip_h1_title": false,
   "title_cell": "Table of Contents",
   "title_sidebar": "Contents",
   "toc_cell": false,
   "toc_position": {},
   "toc_section_display": true,
   "toc_window_display": false
  },
  "varInspector": {
   "cols": {
    "lenName": 16,
    "lenType": 16,
    "lenVar": 40
   },
   "kernels_config": {
    "python": {
     "delete_cmd_postfix": "",
     "delete_cmd_prefix": "del ",
     "library": "var_list.py",
     "varRefreshCmd": "print(var_dic_list())"
    },
    "r": {
     "delete_cmd_postfix": ") ",
     "delete_cmd_prefix": "rm(",
     "library": "var_list.r",
     "varRefreshCmd": "cat(var_dic_list()) "
    }
   },
   "types_to_exclude": [
    "module",
    "function",
    "builtin_function_or_method",
    "instance",
    "_Feature"
   ],
   "window_display": false
  }
 },
 "nbformat": 4,
 "nbformat_minor": 4
}
