{
 "cells": [
  {
   "cell_type": "code",
   "execution_count": 4,
   "metadata": {
    "ExecuteTime": {
     "end_time": "2020-06-28T09:03:13.889421Z",
     "start_time": "2020-06-28T09:03:13.882913Z"
    }
   },
   "outputs": [],
   "source": [
    "mb = 1\n",
    "mw = 1\n",
    "Ib = 1\n",
    "Iw = 1\n",
    "l = 1\n",
    "d = 1\n",
    "g = 9.81\n",
    "def calculate_dynamics(tau, y, dy):\n",
    "    f = np.array([tau, -tau])\n",
    "    M = np.array([[Ib + l**2 * mb, np.pi * d * l * mb * np.cos(y[0])], [np.pi * d * l * mb * np.cos(y[0]),  Iw + (np.pi * d)**2 * (mb + mw)]])\n",
    "    c = np.array([-l * g * mb * np.sin(y[0]), -np.pi * d * y[0]**2 * l * mb * np.sin(y[0])])\n",
    "    d2y = np.linalg.inv(M).dot(f - c)\n",
    "    return d2y "
   ]
  },
  {
   "cell_type": "code",
   "execution_count": null,
   "metadata": {},
   "outputs": [],
   "source": [
    "y0 = np.array([])"
   ]
  },
  {
   "cell_type": "code",
   "execution_count": 29,
   "metadata": {
    "ExecuteTime": {
     "end_time": "2020-06-28T07:19:57.864542Z",
     "start_time": "2020-06-28T07:19:57.847526Z"
    }
   },
   "outputs": [
    {
     "data": {
      "application/vnd.jupyter.widget-view+json": {
       "model_id": "0fb09c8b53974b058fca05ecbe0df6cb",
       "version_major": 2,
       "version_minor": 0
      },
      "text/plain": [
       "Canvas(width=500)"
      ]
     },
     "metadata": {},
     "output_type": "display_data"
    }
   ],
   "source": [
    "from ipywidgets import Image\n",
    "from time import sleep\n",
    "from threading import Thread\n",
    "\n",
    "sprite1 = Image.from_file('sprites/body.png')\n",
    "sprite2 = Image.from_file('sprites/wheel.png')\n",
    "\n",
    "canvas1 = Canvas(width=500, height=500)\n",
    "#canvas1.fill_style = '#a9cafc'\n",
    "#canvas1.fill_rect(0, 0, 500, 500)\n",
    "canvas1.draw_image(sprite1, 0, 0)\n",
    "canvas1.draw_image(sprite2, 100, 100)\n",
    "canvas1.rotate()"
   ]
  },
  {
   "cell_type": "code",
   "execution_count": 39,
   "metadata": {
    "ExecuteTime": {
     "end_time": "2020-06-28T07:32:38.071152Z",
     "start_time": "2020-06-28T07:32:38.062644Z"
    }
   },
   "outputs": [
    {
     "data": {
      "application/vnd.jupyter.widget-view+json": {
       "model_id": "ee6e04333a194235b7b8e35e081e5726",
       "version_major": 2,
       "version_minor": 0
      },
      "text/plain": [
       "Canvas(height=200, width=200)"
      ]
     },
     "metadata": {},
     "output_type": "display_data"
    }
   ],
   "source": [
    "canvas = Canvas(width=200, height=200)\n",
    "\n",
    "canvas.fill_rect(50, 25, 100, 100)\n",
    "canvas.clear_rect(50, 45, 60, 60)\n",
    "#canvas.stroke_rect(50, 50, 50, 50)\n",
    "\n",
    "canvas"
   ]
  },
  {
   "cell_type": "code",
   "execution_count": 1,
   "metadata": {
    "ExecuteTime": {
     "end_time": "2020-06-28T09:03:07.926808Z",
     "start_time": "2020-06-28T09:03:07.882729Z"
    }
   },
   "outputs": [],
   "source": [
    "import ipycanvas as ipc"
   ]
  },
  {
   "cell_type": "code",
   "execution_count": 6,
   "metadata": {
    "ExecuteTime": {
     "end_time": "2020-06-28T09:03:29.779505Z",
     "start_time": "2020-06-28T09:03:29.771494Z"
    }
   },
   "outputs": [],
   "source": [
    "# how many pixels one meter corresponds to, defines the scale\n",
    "meter_in_pixels = 100\n",
    "# convert meters to pixels \n",
    "def in_pixels(distance_in_meters):\n",
    "    return distance_in_meters * meter_in_pixels\n",
    "\n",
    "# draw unicycle wheel\n",
    "def draw_wheel(canvas, pos, phi, r):\n",
    "    with ipc.hold_canvas(canvas):\n",
    "        canvas.clear()\n",
    "        # 2. wheel:\n",
    "        canvas.translate(pos[0], pos[1])\n",
    "        # 2.1. rim\n",
    "        canvas.line_width = 5\n",
    "        canvas.stroke_arc(0, 0, r, 0, np.pi * 2) \n",
    "        # 2.2. mark\n",
    "        canvas.rotate(phi)\n",
    "        canvas.fill_arc(0, -r * 3 / 4, 3, 0, np.pi * 2)\n",
    "        # 2.3. spokes\n",
    "        canvas.line_width = 1\n",
    "        canvas.begin_path()\n",
    "        canvas.move_to(0, -r)\n",
    "        canvas.line_to(0, r)\n",
    "        canvas.move_to(-r, 0)\n",
    "        canvas.line_to(r, 0)\n",
    "        canvas.rotate(np.pi / 4)\n",
    "        canvas.move_to(0, -r)\n",
    "        canvas.line_to(0, r)\n",
    "        canvas.move_to(-r, 0)\n",
    "        canvas.line_to(r, 0)\n",
    "        canvas.stroke()\n",
    "    \n",
    "# draw unicycle body\n",
    "def draw_body(canvas, pos, theta, l):\n",
    "    with ipc.hold_canvas(canvas):\n",
    "        canvas.clear()\n",
    "        # 3. body:\n",
    "        canvas.translate(pos[0], pos[1])\n",
    "        # 3.1. frame\n",
    "        canvas.rotate(theta)\n",
    "        canvas.fill_style = 'blue'\n",
    "        canvas.fill_rect(-2.5, 0, 5, -l)\n",
    "        # 3.2. motor\n",
    "        canvas.fill_style = 'darkred'\n",
    "        canvas.fill_arc(0, 0, 7.5, 0, np.pi * 2)\n",
    "        # 3.3. load\n",
    "        canvas.fill_style = 'blue'\n",
    "        canvas.translate(0, -l)\n",
    "        canvas.fill_rect(-10, -10, 20)"
   ]
  },
  {
   "cell_type": "code",
   "execution_count": 19,
   "metadata": {
    "ExecuteTime": {
     "end_time": "2020-06-28T09:03:47.703975Z",
     "start_time": "2020-06-28T09:03:47.682453Z"
    }
   },
   "outputs": [
    {
     "data": {
      "application/vnd.jupyter.widget-view+json": {
       "model_id": "eef52cf147d141f3b0c47ac3ec5ace1b",
       "version_major": 2,
       "version_minor": 0
      },
      "text/plain": [
       "MultiCanvas(height=300, width=600)"
      ]
     },
     "metadata": {},
     "output_type": "display_data"
    }
   ],
   "source": [
    "y0 = np.array([0, np.pi/2])\n",
    "canvas_width = 600\n",
    "canvas_height = 300\n",
    "init_pos = np.array([canvas_width / 2, canvas_height * 3 / 4])\n",
    "wheel_radius = in_pixels(d / 2)\n",
    "\n",
    "# initialize canvas\n",
    "multi_canvas = ipc.MultiCanvas(3, width=canvas_width, height=canvas_height)\n",
    "# initialize background \n",
    "# 1. ground:\n",
    "multi_canvas[0].fill_style = 'gray'\n",
    "multi_canvas[0].stroke_rect(0, 0, canvas_width, canvas_height)\n",
    "multi_canvas[0].fill_rect(0, init_pos[1] + wheel_radius, canvas_width, canvas_height - (init_pos[1] + wheel_radius))\n",
    "\n",
    "draw_wheel(multi_canvas[1], init_pos, 0, in_pixels(d / 2))\n",
    "draw_body(multi_canvas[2], init_pos, 0, in_pixels(l))\n",
    "\n",
    "multi_canvas"
   ]
  },
  {
   "cell_type": "code",
   "execution_count": 10,
   "metadata": {
    "ExecuteTime": {
     "end_time": "2020-06-28T09:03:33.580830Z",
     "start_time": "2020-06-28T09:03:33.576827Z"
    }
   },
   "outputs": [
    {
     "data": {
      "application/vnd.jupyter.widget-view+json": {
       "model_id": "6d8029c887f24c8fa377cfeb1e109094",
       "version_major": 2,
       "version_minor": 0
      },
      "text/plain": [
       "MultiCanvas(height=300, width=600)"
      ]
     },
     "metadata": {},
     "output_type": "display_data"
    }
   ],
   "source": [
    "multi_canvas[1].translate(100,0)\n",
    "multi_canvas"
   ]
  },
  {
   "cell_type": "code",
   "execution_count": null,
   "metadata": {},
   "outputs": [],
   "source": []
  },
  {
   "cell_type": "code",
   "execution_count": null,
   "metadata": {},
   "outputs": [],
   "source": []
  }
 ],
 "metadata": {
  "hide_input": false,
  "kernelspec": {
   "display_name": "Python 3",
   "language": "python",
   "name": "python3"
  },
  "language_info": {
   "codemirror_mode": {
    "name": "ipython",
    "version": 3
   },
   "file_extension": ".py",
   "mimetype": "text/x-python",
   "name": "python",
   "nbconvert_exporter": "python",
   "pygments_lexer": "ipython3",
   "version": "3.8.3"
  },
  "toc": {
   "base_numbering": 1,
   "nav_menu": {},
   "number_sections": true,
   "sideBar": true,
   "skip_h1_title": false,
   "title_cell": "Table of Contents",
   "title_sidebar": "Contents",
   "toc_cell": false,
   "toc_position": {},
   "toc_section_display": true,
   "toc_window_display": false
  },
  "varInspector": {
   "cols": {
    "lenName": 16,
    "lenType": 16,
    "lenVar": 40
   },
   "kernels_config": {
    "python": {
     "delete_cmd_postfix": "",
     "delete_cmd_prefix": "del ",
     "library": "var_list.py",
     "varRefreshCmd": "print(var_dic_list())"
    },
    "r": {
     "delete_cmd_postfix": ") ",
     "delete_cmd_prefix": "rm(",
     "library": "var_list.r",
     "varRefreshCmd": "cat(var_dic_list()) "
    }
   },
   "types_to_exclude": [
    "module",
    "function",
    "builtin_function_or_method",
    "instance",
    "_Feature"
   ],
   "window_display": false
  }
 },
 "nbformat": 4,
 "nbformat_minor": 4
}
