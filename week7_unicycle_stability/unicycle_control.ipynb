{
 "cells": [
  {
   "cell_type": "code",
   "execution_count": 26,
   "metadata": {
    "ExecuteTime": {
     "end_time": "2020-06-29T11:33:54.336497Z",
     "start_time": "2020-06-29T11:33:54.327988Z"
    }
   },
   "outputs": [],
   "source": [
    "import unicycle_game as ug\n",
    "import numpy as np\n",
    "# system parameters\n",
    "g = 9.81\n",
    "l = 1\n",
    "d = 1\n",
    "mb = 70\n",
    "mw = 5\n",
    "Ib = 1/3 * mb * l**2\n",
    "Iw = mw * (d/2)**2\n",
    "\n",
    "# control parameters\n",
    "kp = 1000\n",
    "kv = 2 * kp**0.5\n",
    "# initial conditions\n",
    "y0 = np.array([0, 0])\n",
    "dy0 = np.array([0, 0])\n",
    "\n",
    "# compute d2y\n",
    "def compute_dynamics(y, dy, f):\n",
    "    M = np.array([[Ib + l**2 * mb, l * d * mb * np.cos(y[0])], [l * d * mb * np.cos(y[0]),   Iw + d**2 * (mb + mw)]])\n",
    "    c = np.array([-l * g * mb * np.sin(y[0]), -dy[0]**2 * l * d * mb * np.sin(y[0])])\n",
    "    d2y = np.linalg.inv(M).dot(f - c)\n",
    "    return d2y\n",
    "\n",
    "# controller for theta, note that there is only one actuator\n",
    "def control_theta(y, dy, th_desired, dth_desired):\n",
    "    th_error = th_desired - y[0]\n",
    "    dth_error = dth_desired - dy[0]\n",
    "    tau = kp * th_error + kv * dth_error\n",
    "    f = np.array([tau, -tau]) # motor is connected between the two generalized coordinates\n",
    "    return f\n",
    "\n",
    "# update unicycle \n",
    "def update_unicycle(y, dy, th_desired, dth_desired, dt):\n",
    "    f = control_theta(y, dy, th_desired, dth_desired)\n",
    "    d2y = compute_dynamics(y, dy, f)\n",
    "    # semi-implicit euler integration\n",
    "    dy = dy + d2y * dt\n",
    "    y = y + dy * dt\n",
    "    return y, dy, d2y"
   ]
  },
  {
   "cell_type": "code",
   "execution_count": 20,
   "metadata": {
    "ExecuteTime": {
     "end_time": "2020-06-29T11:33:13.834068Z",
     "start_time": "2020-06-29T11:33:13.808044Z"
    },
    "scrolled": false
   },
   "outputs": [
    {
     "data": {
      "application/vnd.jupyter.widget-view+json": {
       "model_id": "b480cddf21af43a096afcf9d2302debe",
       "version_major": 2,
       "version_minor": 0
      },
      "text/plain": [
       "MultiCanvas(height=300, width=600)"
      ]
     },
     "metadata": {},
     "output_type": "display_data"
    }
   ],
   "source": [
    "try: # try to stop the game first in order to avoid creating redundant threads\n",
    "    game.stop()\n",
    "except NameError:\n",
    "    pass\n",
    "game = ug.Game(y0, dy0, update_unicycle, d, l)\n",
    "game.start()\n",
    "display(game.canvas)"
   ]
  },
  {
   "cell_type": "code",
   "execution_count": 27,
   "metadata": {
    "ExecuteTime": {
     "end_time": "2020-06-29T11:33:57.367693Z",
     "start_time": "2020-06-29T11:33:57.365192Z"
    }
   },
   "outputs": [],
   "source": [
    "game.stop()"
   ]
  }
 ],
 "metadata": {
  "hide_input": false,
  "kernelspec": {
   "display_name": "Python 3",
   "language": "python",
   "name": "python3"
  },
  "language_info": {
   "codemirror_mode": {
    "name": "ipython",
    "version": 3
   },
   "file_extension": ".py",
   "mimetype": "text/x-python",
   "name": "python",
   "nbconvert_exporter": "python",
   "pygments_lexer": "ipython3",
   "version": "3.8.3"
  },
  "toc": {
   "base_numbering": 1,
   "nav_menu": {},
   "number_sections": true,
   "sideBar": true,
   "skip_h1_title": false,
   "title_cell": "Table of Contents",
   "title_sidebar": "Contents",
   "toc_cell": false,
   "toc_position": {},
   "toc_section_display": true,
   "toc_window_display": false
  },
  "varInspector": {
   "cols": {
    "lenName": 16,
    "lenType": 16,
    "lenVar": 40
   },
   "kernels_config": {
    "python": {
     "delete_cmd_postfix": "",
     "delete_cmd_prefix": "del ",
     "library": "var_list.py",
     "varRefreshCmd": "print(var_dic_list())"
    },
    "r": {
     "delete_cmd_postfix": ") ",
     "delete_cmd_prefix": "rm(",
     "library": "var_list.r",
     "varRefreshCmd": "cat(var_dic_list()) "
    }
   },
   "types_to_exclude": [
    "module",
    "function",
    "builtin_function_or_method",
    "instance",
    "_Feature"
   ],
   "window_display": false
  }
 },
 "nbformat": 4,
 "nbformat_minor": 4
}
