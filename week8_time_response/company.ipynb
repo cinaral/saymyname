{
 "cells": [
  {
   "cell_type": "code",
   "execution_count": 126,
   "metadata": {
    "ExecuteTime": {
     "end_time": "2020-07-20T07:26:48.127897Z",
     "start_time": "2020-07-20T07:26:48.124895Z"
    }
   },
   "outputs": [],
   "source": [
    "import random\n",
    "import numpy as np\n",
    "from plotly.subplots import make_subplots\n",
    "import plotly.graph_objects as go"
   ]
  },
  {
   "cell_type": "code",
   "execution_count": 127,
   "metadata": {
    "ExecuteTime": {
     "end_time": "2020-07-20T07:26:49.203810Z",
     "start_time": "2020-07-20T07:26:49.201309Z"
    }
   },
   "outputs": [],
   "source": [
    "#############################\n",
    "#### employee management ####\n",
    "#############################\n",
    "num_of_managers = 2;\n",
    "num_of_lawyers = 1;\n",
    "num_of_workers = 80;"
   ]
  },
  {
   "cell_type": "code",
   "execution_count": 133,
   "metadata": {
    "ExecuteTime": {
     "end_time": "2020-07-20T10:00:22.521128Z",
     "start_time": "2020-07-20T10:00:22.514621Z"
    }
   },
   "outputs": [],
   "source": [
    "##########################\n",
    "#### company dynamics ####\n",
    "##########################\n",
    "# initial conditions\n",
    "total_profit0 = 0 # initial total profit ($)\n",
    "profit0 = 0 # initial profit ($/day)\n",
    "\n",
    "# how effective employees are at their jobs\n",
    "manager_perf_min = 0.8\n",
    "lawyer_perf_min = 0.1\n",
    "worker_perf_min = 0.2\n",
    "manager_perf_range = 0.2\n",
    "lawyer_perf_range = 0.1\n",
    "worker_perf_range = 0.4\n",
    "manager_perf = manager_perf_min + manager_perf_range * random.random()\n",
    "lawyer_perf = lawyer_perf_min + lawyer_perf_range * random.random()\n",
    "worker_perf = worker_perf_min + worker_perf_range * random.random()\n",
    "\n",
    "# inertia of the company (managers are inertance)\n",
    "m = 1 / (num_of_managers * manager_perf)\n",
    "# damping of the company (lawyers are damping)\n",
    "c = num_of_lawyers * lawyer_perf\n",
    "# stiffness of the company (workers are compliance)\n",
    "k = 1 / (num_of_workers * worker_perf)\n",
    "\n",
    "def compute_profit_speed(total_profit, profit, investment):\n",
    "    profit_speed = (investment - c * profit + k * total_profit) / m\n",
    "    return profit_speed\n",
    "\n",
    "def simulate_company(total_profit, profit, profit_speed, dt):\n",
    "    # semi-implicit euler integration\n",
    "    profit = profit + profit_speed * dt\n",
    "    total_profit = total_profit + profit * dt\n",
    "    return total_profit, profit\n",
    "\n",
    "def update_company(total_profit, profit, investment, dt):\n",
    "    profit_speed = compute_profit_speed(total_profit, profit, investment)\n",
    "    total_profit, profit = simulate_company(total_profit, profit, profit_speed, dt)\n",
    "    return total_profit, profit, profit_speed"
   ]
  },
  {
   "cell_type": "code",
   "execution_count": 129,
   "metadata": {
    "ExecuteTime": {
     "end_time": "2020-07-20T07:26:50.798215Z",
     "start_time": "2020-07-20T07:26:50.796212Z"
    }
   },
   "outputs": [],
   "source": [
    "####################################\n",
    "#### custom investment function ####\n",
    "####################################\n",
    "def invest_custom(t):\n",
    "    #return impulse(t, dt)\n",
    "    return 0"
   ]
  },
  {
   "cell_type": "code",
   "execution_count": 130,
   "metadata": {
    "ExecuteTime": {
     "end_time": "2020-07-20T07:26:51.581259Z",
     "start_time": "2020-07-20T07:26:51.575248Z"
    }
   },
   "outputs": [],
   "source": [
    "#######################################\n",
    "#### standard investment functions ####\n",
    "#######################################\n",
    "def invest_none():\n",
    "    return 0\n",
    "\n",
    "def invest_impulse(t, dt, scale=1, a=0):\n",
    "    eps = 1.5 * dt # ensure the impulse function returns a non-zero value for a single timestep only\n",
    "    if max(t - a, 0) < eps:\n",
    "        val = scale * 1 / dt # the area below the impulse function should give 1 for a unit impulse function\n",
    "    else:\n",
    "        val = 0\n",
    "    return val    \n",
    "\n",
    "def invest_step(t, scale=1, a=0): \n",
    "    if t > a:\n",
    "        val = scale\n",
    "    else:\n",
    "        val = 0\n",
    "    return val\n",
    "\n",
    "def invest_ramp(t, scale=1, a=0):\n",
    "    if t > a:\n",
    "        val = scale * t\n",
    "    else:\n",
    "        val = 0\n",
    "    return val\n",
    "\n",
    "def acceleration(t, scale=1, a=0):\n",
    "    if t > a:\n",
    "        val = scale * t**2\n",
    "    else:\n",
    "        val = 0\n",
    "    return val"
   ]
  },
  {
   "cell_type": "code",
   "execution_count": 303,
   "metadata": {
    "ExecuteTime": {
     "end_time": "2020-07-20T10:50:35.198183Z",
     "start_time": "2020-07-20T10:50:35.194679Z"
    }
   },
   "outputs": [],
   "source": [
    "import ipycanvas as ipc\n",
    "import ipyevents as ipe\n",
    "from ipywidgets import Image\n",
    "\n",
    "from time import time, sleep\n",
    "from threading import Thread\n",
    "\n",
    "import numpy as np"
   ]
  },
  {
   "cell_type": "code",
   "execution_count": 322,
   "metadata": {
    "ExecuteTime": {
     "end_time": "2020-07-20T10:54:09.687577Z",
     "start_time": "2020-07-20T10:54:09.669548Z"
    }
   },
   "outputs": [],
   "source": [
    "class Game(Thread):\n",
    "    def __init__(self, x0, dx0, company_fun, investment_fun, t0=0, fps=60, canvas_width=600, canvas_height=300):        \n",
    "        self.dt = 1 / fps # simulation timestep\n",
    "        self.x0 = x0\n",
    "        self.dx0 = dx0\n",
    "        self.company_fun = company_fun\n",
    "        self.investment_fun = investment_fun\n",
    "        \n",
    "        self.t0 = t0\n",
    "        self.is_running = True\n",
    "\n",
    "        self.canvas_width = canvas_width\n",
    "        self.canvas_height = canvas_height\n",
    "        self.init_pos = np.array([self.canvas_width / 2, self.canvas_height * 3 / 4])\n",
    "        self.canvas = ipc.MultiCanvas(3, width=self.canvas_width, height=self.canvas_height)\n",
    "        self.event = ipe.Event(source=self.canvas, watched_events=['keydown'])\n",
    "        self.event.on_dom_event(self.handle_events) \n",
    "        \n",
    "        self.t_hist = None\n",
    "        self.xdxd2x_hist = None\n",
    "        self.investment_hist = None\n",
    "      \n",
    "        self.draw_background(self.canvas[0])\n",
    "        super(Game, self).__init__()\n",
    "        \n",
    "    # main loop\n",
    "    def run(self):\n",
    "        fps = 0\n",
    "        x = self.x0 \n",
    "        dx = self.dx0\n",
    "        t = self.t0\n",
    "        frame_time = self.dt\n",
    "        start_time = time() - self.t0\n",
    "        while(self.is_running):\n",
    "            tick = time()\n",
    "            \n",
    "            \"\"\"\n",
    "            investment = self.investment_fun(t, self.dt)\n",
    "            x, dx, d2x = self.company_fun(x, dx, investment, self.dt)\n",
    "            self.draw_plots(self.canvas[1],?)\n",
    "            \"\"\"\n",
    "            self.draw_text(self.canvas[2], fps, t)\n",
    "            \n",
    "            t = tick - start_time \n",
    "            fps = 1 / frame_time\n",
    "            \"\"\"\n",
    "            if self.t_hist is None:\n",
    "                self.t_hist = t\n",
    "                self.xdxd2x_hist = np.concatenate((x, dx, d2x))\n",
    "                self.investment_hist = investment\n",
    "            else:\n",
    "                self.t_hist = np.append(self.t_hist, t)\n",
    "                self.xdxd2x_hist = np.vstack((self.xdxd2x_hist, np.concatenate((x, dx, d2x))))\n",
    "                self.investment_hist = np.append(self.investment_hist, investment)\n",
    "            \"\"\"\n",
    "            if self.dt - (time() - tick) > 0:\n",
    "                sleep(self.dt - (time() - tick))\n",
    "            frame_time = time() - tick\n",
    "            \n",
    "    # handle events\n",
    "    def handle_events(self, event):\n",
    "        # change invest_fun\n",
    "        pass\n",
    "        \"\"\"\"\n",
    "        if event['key'] == 'ArrowRight':\n",
    "            self.th_desired = self.th_desired + 1 / 180 * np.pi\n",
    "        if event['key'] == 'ArrowLeft':\n",
    "            self.th_desired = self.th_desired - 1 / 180 * np.pi\n",
    "        \"\"\"\"\n",
    "      \n",
    "    # stop game           \n",
    "    def stop(self):\n",
    "        self.is_running = False\n",
    "\n",
    "    def draw_plots(self, canvas):\n",
    "        pass\n",
    "    \n",
    "    def draw_background(self, canvas):\n",
    "        # not sure if there is another way, Image.width etc are empty?!\n",
    "        background = Image.from_file('sprites/background.png')\n",
    "        background_scale = 0.4\n",
    "        background_width = 409\n",
    "        background_height = 300 \n",
    "        office = Image.from_file('sprites/office_building.png')\n",
    "        office_scale = 0.2\n",
    "        office_width = 170\n",
    "        office_height = 200\n",
    "        with ipc.hold_canvas(canvas):\n",
    "            canvas.clear()\n",
    "            #canvas.save()\n",
    "            canvas.scale(background_scale)\n",
    "            for i in range(0, int(600 / 409)+1):\n",
    "                canvas.draw_image(background, i * (background_width / background_scale), (self.canvas_height - background_height) / background_scale)\n",
    "            canvas.scale(1 / background_scale)\n",
    "            canvas.scale(office_scale)\n",
    "            canvas.draw_image(office, (self.canvas_width / 2 - office_width / 2) / office_scale, (self.canvas_height - office_height) / office_scale)\n",
    "            canvas.scale(1 / office_scale)\n",
    "\n",
    "    # draw text\n",
    "    def draw_text(self, canvas, fps, time):\n",
    "        # convert radians to degrees\n",
    "        def to_degrees(radians):\n",
    "            return radians / np.pi * 180\n",
    "\n",
    "        # convert degrees into -180 +180 degrees\n",
    "        def to_180degrees(degrees):\n",
    "            while degrees > 180:\n",
    "                degrees = degrees - 360\n",
    "            while degrees < -180:\n",
    "                degrees = degrees + 360\n",
    "            return degrees\n",
    "        \n",
    "        with ipc.hold_canvas(canvas):\n",
    "            pos = (5, 20)\n",
    "            spacing = 14\n",
    "            canvas.clear()\n",
    "            canvas.font = '12px serif'\n",
    "            canvas.fill_text('FPS: {:.0f}'.format(fps), pos[0], pos[1])\n",
    "            canvas.fill_text('Time: {:.1f} s'.format(time), pos[0], pos[1] + spacing)\n",
    "            \"\"\"\"\n",
    "            canvas.fill_text('\\u03B8: {:.1f}\\u00B0'.format(to_180degrees(to_degrees(y[0]))), pos[0], pos[1] + 2 * spacing)\n",
    "            canvas.fill_text('\\u03C6: {:.1f}\\u00B0'.format(to_180degrees(to_degrees(y[1]))), pos[0], pos[1] + 3 * spacing)\n",
    "            canvas.fill_text('pos: {:.1f} m'.format(y[1] * 2 * r), pos[0], pos[1] + 3 * spacing)\n",
    "            canvas.fill_text('vel: {:.1f} m/s'.format(dy[1] * 2 * r), pos[0], pos[1] + 4 * spacing)\n",
    "            canvas.fill_text('acc: {:.1f} m/s\\u00B2'.format(d2y[1] * 2 * r), pos[0], pos[1] + 5 * spacing)\n",
    "            pos = (265, 20)\n",
    "            centering_shift = 75\n",
    "            canvas.font = '14px serif'\n",
    "            canvas.fill_text('Target \\u03B8: {:.1f}\\u00B0'.format(to_180degrees(to_degrees(th_desired))), pos[0], pos[1])\n",
    "            canvas.fill_text('(Use left and right arrow keys to change.)', pos[0] - centering_shift, pos[1] + spacing)    \n",
    "            \"\"\"\""
   ]
  },
  {
   "cell_type": "code",
   "execution_count": 329,
   "metadata": {
    "ExecuteTime": {
     "end_time": "2020-07-20T10:54:35.843789Z",
     "start_time": "2020-07-20T10:54:35.813750Z"
    }
   },
   "outputs": [
    {
     "data": {
      "application/vnd.jupyter.widget-view+json": {
       "model_id": "d01e67cc341d4f9f805cfcef35306435",
       "version_major": 2,
       "version_minor": 0
      },
      "text/plain": [
       "MultiCanvas(height=300, width=800)"
      ]
     },
     "metadata": {},
     "output_type": "display_data"
    }
   ],
   "source": [
    "try: # try to stop the game first in order to avoid creating redundant threads\n",
    "    game.stop()\n",
    "except NameError:\n",
    "    pass\n",
    "game = Game(0, 0, [], [], t0=0, fps=60, canvas_width=800, canvas_height=300)\n",
    "game.start()\n",
    "display(game.canvas)"
   ]
  },
  {
   "cell_type": "code",
   "execution_count": 330,
   "metadata": {
    "ExecuteTime": {
     "end_time": "2020-07-20T10:57:23.047757Z",
     "start_time": "2020-07-20T10:57:23.044749Z"
    }
   },
   "outputs": [],
   "source": [
    "game.stop()"
   ]
  },
  {
   "cell_type": "code",
   "execution_count": null,
   "metadata": {},
   "outputs": [],
   "source": [
    "import plotly.express as px\n",
    "samples = [None]  * 10000\n",
    "for i in range(0, 10000):\n",
    "    samples[i] = random.random()\n",
    "    \n",
    "fig = px.histogram(samples)\n",
    "fig.show()"
   ]
  }
 ],
 "metadata": {
  "hide_input": false,
  "kernelspec": {
   "display_name": "Python 3",
   "language": "python",
   "name": "python3"
  },
  "language_info": {
   "codemirror_mode": {
    "name": "ipython",
    "version": 3
   },
   "file_extension": ".py",
   "mimetype": "text/x-python",
   "name": "python",
   "nbconvert_exporter": "python",
   "pygments_lexer": "ipython3",
   "version": "3.8.3"
  },
  "toc": {
   "base_numbering": 1,
   "nav_menu": {},
   "number_sections": true,
   "sideBar": true,
   "skip_h1_title": false,
   "title_cell": "Table of Contents",
   "title_sidebar": "Contents",
   "toc_cell": false,
   "toc_position": {},
   "toc_section_display": true,
   "toc_window_display": false
  },
  "varInspector": {
   "cols": {
    "lenName": 16,
    "lenType": 16,
    "lenVar": 40
   },
   "kernels_config": {
    "python": {
     "delete_cmd_postfix": "",
     "delete_cmd_prefix": "del ",
     "library": "var_list.py",
     "varRefreshCmd": "print(var_dic_list())"
    },
    "r": {
     "delete_cmd_postfix": ") ",
     "delete_cmd_prefix": "rm(",
     "library": "var_list.r",
     "varRefreshCmd": "cat(var_dic_list()) "
    }
   },
   "types_to_exclude": [
    "module",
    "function",
    "builtin_function_or_method",
    "instance",
    "_Feature"
   ],
   "window_display": false
  }
 },
 "nbformat": 4,
 "nbformat_minor": 4
}
