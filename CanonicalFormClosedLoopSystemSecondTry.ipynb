{
 "cells": [
  {
   "cell_type": "markdown",
   "metadata": {
    "colab_type": "text",
    "id": "view-in-github"
   },
   "source": [
    "<a href=\"https://colab.research.google.com/github/cinaral/saymyname/blob/master/CanonicalFormClosedLoopSystemSecondTry.ipynb\" target=\"_parent\"><img src=\"https://colab.research.google.com/assets/colab-badge.svg\" alt=\"Open In Colab\"/></a>"
   ]
  },
  {
   "cell_type": "code",
   "execution_count": 1,
   "metadata": {
    "ExecuteTime": {
     "end_time": "2020-05-18T11:47:38.155570Z",
     "start_time": "2020-05-18T11:47:30.128468Z"
    },
    "colab": {
     "base_uri": "https://localhost:8080/",
     "height": 1000
    },
    "colab_type": "code",
    "id": "Ww_pxH2Lp5Eg",
    "outputId": "8de74940-1ab9-43f7-b312-caab9aae9213"
   },
   "outputs": [
    {
     "name": "stdout",
     "output_type": "stream",
     "text": [
      "Requirement already satisfied: control in c:\\python36\\lib\\site-packages (0.8.3)\n",
      "Requirement already satisfied: numpy in c:\\python36\\lib\\site-packages (from control) (1.18.3)\n",
      "Requirement already satisfied: scipy in c:\\python36\\lib\\site-packages (from control) (1.4.1)\n",
      "Requirement already satisfied: matplotlib in c:\\python36\\lib\\site-packages (from control) (3.2.1)\n",
      "Requirement already satisfied: kiwisolver>=1.0.1 in c:\\python36\\lib\\site-packages (from matplotlib->control) (1.0.1)\n",
      "Requirement already satisfied: python-dateutil>=2.1 in c:\\python36\\lib\\site-packages (from matplotlib->control) (2.7.5)\n",
      "Requirement already satisfied: pyparsing!=2.0.4,!=2.1.2,!=2.1.6,>=2.0.1 in c:\\python36\\lib\\site-packages (from matplotlib->control) (2.2.2)\n",
      "Requirement already satisfied: cycler>=0.10 in c:\\python36\\lib\\site-packages (from matplotlib->control) (0.10.0)\n",
      "Requirement already satisfied: setuptools in c:\\python36\\lib\\site-packages (from kiwisolver>=1.0.1->matplotlib->control) (39.0.1)\n",
      "Requirement already satisfied: six>=1.5 in c:\\python36\\lib\\site-packages (from python-dateutil>=2.1->matplotlib->control) (1.11.0)\n"
     ]
    },
    {
     "name": "stderr",
     "output_type": "stream",
     "text": [
      "In c:\\python36\\lib\\site-packages\\matplotlib\\mpl-data\\stylelib\\_classic_test.mplstyle: \n",
      "The savefig.frameon rcparam was deprecated in Matplotlib 3.1 and will be removed in 3.3.\n",
      "In c:\\python36\\lib\\site-packages\\matplotlib\\mpl-data\\stylelib\\_classic_test.mplstyle: \n",
      "The verbose.level rcparam was deprecated in Matplotlib 3.1 and will be removed in 3.3.\n",
      "In c:\\python36\\lib\\site-packages\\matplotlib\\mpl-data\\stylelib\\_classic_test.mplstyle: \n",
      "The verbose.fileo rcparam was deprecated in Matplotlib 3.1 and will be removed in 3.3.\n"
     ]
    },
    {
     "name": "stdout",
     "output_type": "stream",
     "text": [
      "enter input s domain function = 6 1 2 \n"
     ]
    },
    {
     "ename": "SyntaxError",
     "evalue": "invalid syntax (<string>, line 1)",
     "output_type": "error",
     "traceback": [
      "Traceback \u001b[1;36m(most recent call last)\u001b[0m:\n",
      "  File \u001b[0;32m\"c:\\python36\\lib\\site-packages\\IPython\\core\\interactiveshell.py\"\u001b[0m, line \u001b[0;32m3267\u001b[0m, in \u001b[0;35mrun_code\u001b[0m\n    exec(code_obj, self.user_global_ns, self.user_ns)\n",
      "\u001b[1;36m  File \u001b[1;32m\"<ipython-input-1-7c26dc143f98>\"\u001b[1;36m, line \u001b[1;32m35\u001b[1;36m, in \u001b[1;35m<module>\u001b[1;36m\u001b[0m\n\u001b[1;33m    X = eval(input('enter input s domain function = '))\u001b[0m\n",
      "\u001b[1;36m  File \u001b[1;32m\"<string>\"\u001b[1;36m, line \u001b[1;32m1\u001b[0m\n\u001b[1;33m    6 1 2\u001b[0m\n\u001b[1;37m      ^\u001b[0m\n\u001b[1;31mSyntaxError\u001b[0m\u001b[1;31m:\u001b[0m invalid syntax\n"
     ]
    }
   ],
   "source": [
    "!pip install control\n",
    "#!pip install pydy\n",
    "#!pip install slycot\n",
    "#!pip install bqplot\n",
    "#!pip install ipyvolume\n",
    "#!pip install phoebe\n",
    "\n",
    "import matplotlib\n",
    "import ipywidgets\n",
    "import plotly\n",
    "import numpy as np\n",
    "import math \n",
    "#import control\n",
    "#import pydy\n",
    "#import phoebe\n",
    "import os\n",
    "from IPython import *\n",
    "#import bqplot as bqp\n",
    "#import ipyvolume as ipv\n",
    "import scipy\n",
    "\n",
    "%matplotlib inline\n",
    "from sympy import symbols\n",
    "from sympy import simplify\n",
    "from sympy.abc import s, t, a\n",
    "from sympy.integrals import *\n",
    "from sympy.plotting import *\n",
    "from control import *\n",
    "from control.matlab import *\n",
    "import matplotlib.pyplot as plt\n",
    "\n",
    "#Sympy library used.\n",
    "#This is to see time domain form of output, but it is slow for complicated functions.\n",
    "\n",
    "X = eval(input('enter input s domain function = '))\n",
    "print('X')\n",
    "print(X)\n",
    "\n",
    "G = eval(input('enter s domain canonical plant function = '))\n",
    "print('G')\n",
    "print(G)\n",
    "\n",
    "H = eval(input('enter s domain canonical feedback function = '))\n",
    "print('H')\n",
    "print(H)\n",
    "\n",
    "M = G/(1+G*H)\n",
    "print('Closed loop transfer function')\n",
    "print(M)\n",
    "\n",
    "Y = M*X\n",
    "C = simplify(Y)\n",
    "print('Output in s domain')\n",
    "print(C)\n",
    "f = plot(C)\n",
    "\n",
    "#x = 5*t**2 - 3*t + 7\n",
    "#X = laplace_transform(x, t, s)\n",
    "#print(X[0])\n",
    "u = inverse_laplace_transform(C,s,t)\n",
    "print('Output in time domain')\n",
    "print(\"Heaviside(t) is 1 for t > 0 as a step function\")\n",
    "print(u)\n",
    "\n",
    "p = plot(u)\n"
   ]
  },
  {
   "cell_type": "code",
   "execution_count": null,
   "metadata": {},
   "outputs": [],
   "source": []
  }
 ],
 "metadata": {
  "colab": {
   "authorship_tag": "ABX9TyNc6kPL/l0N3l1gYlbehDAy",
   "collapsed_sections": [],
   "include_colab_link": true,
   "name": "CanonicalFormClosedLoopSystemSecondTry.ipynb",
   "provenance": []
  },
  "hide_input": false,
  "kernelspec": {
   "display_name": "Python 3",
   "language": "python",
   "name": "python3"
  },
  "language_info": {
   "codemirror_mode": {
    "name": "ipython",
    "version": 3
   },
   "file_extension": ".py",
   "mimetype": "text/x-python",
   "name": "python",
   "nbconvert_exporter": "python",
   "pygments_lexer": "ipython3",
   "version": "3.6.7"
  },
  "toc": {
   "base_numbering": 1,
   "nav_menu": {},
   "number_sections": true,
   "sideBar": true,
   "skip_h1_title": false,
   "title_cell": "Table of Contents",
   "title_sidebar": "Contents",
   "toc_cell": false,
   "toc_position": {},
   "toc_section_display": true,
   "toc_window_display": false
  },
  "varInspector": {
   "cols": {
    "lenName": 16,
    "lenType": 16,
    "lenVar": 40
   },
   "kernels_config": {
    "python": {
     "delete_cmd_postfix": "",
     "delete_cmd_prefix": "del ",
     "library": "var_list.py",
     "varRefreshCmd": "print(var_dic_list())"
    },
    "r": {
     "delete_cmd_postfix": ") ",
     "delete_cmd_prefix": "rm(",
     "library": "var_list.r",
     "varRefreshCmd": "cat(var_dic_list()) "
    }
   },
   "types_to_exclude": [
    "module",
    "function",
    "builtin_function_or_method",
    "instance",
    "_Feature"
   ],
   "window_display": false
  }
 },
 "nbformat": 4,
 "nbformat_minor": 1
}
