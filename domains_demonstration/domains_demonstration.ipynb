{
 "cells": [
  {
   "cell_type": "code",
   "execution_count": 34,
   "metadata": {
    "ExecuteTime": {
     "end_time": "2020-05-09T19:42:31.245001Z",
     "start_time": "2020-05-09T19:42:31.237494Z"
    }
   },
   "outputs": [],
   "source": [
    "# define the system\n",
    "from IPython.display import display\n",
    "import ipywidgets as ipw\n",
    "import numpy as np\n",
    "import bqplot as bqp\n",
    "\n",
    "def y(x):\n",
    "    return(np.exp(-0.1*x) * np.sin(x))\n",
    "\n",
    "def Y(s1, s2):\n",
    "    s = s1 +  1j * s2\n",
    "    Y = 1 / s\n",
    "    return(Y.real, Y.imag)\n",
    "\n",
    "tArray = np.linspace(0, 10, 100)\n",
    "s1Array = np.linspace(-10, 10, 100) # make sure both of them don't pass through 0 to avoid infinity\n",
    "s2Array = np.linspace(-10, 10, 100)\n",
    "\n",
    "yArray = y(tArray)\n",
    "Y1Array, Y2Array = Y(s1Array, s2Array)\n",
    "\n",
    "isContinousUpdateOn = True # when turned on it's sluggish without throttling"
   ]
  },
  {
   "cell_type": "code",
   "execution_count": 39,
   "metadata": {
    "ExecuteTime": {
     "end_time": "2020-05-09T19:42:59.626170Z",
     "start_time": "2020-05-09T19:42:59.618663Z"
    }
   },
   "outputs": [],
   "source": [
    "# throttling as per https://ipywidgets.readthedocs.io/en/latest/examples/Widget%20Events.html\n",
    "import asyncio\n",
    "from time import time\n",
    "\n",
    "class Timer:\n",
    "    def __init__(self, timeout, callback):\n",
    "        self._timeout = timeout\n",
    "        self._callback = callback\n",
    "        self._task = asyncio.ensure_future(self._job())\n",
    "\n",
    "    async def _job(self):\n",
    "        await asyncio.sleep(self._timeout)\n",
    "        self._callback()\n",
    "\n",
    "    def cancel(self):\n",
    "        self._task.cancel()\n",
    "        \n",
    "def throttle(wait):\n",
    "    \"\"\" Decorator that prevents a function from being called\n",
    "        more than once every wait period. \"\"\"\n",
    "    def decorator(fn):\n",
    "        time_of_last_call = 0\n",
    "        scheduled = False\n",
    "        new_args, new_kwargs = None, None\n",
    "        def throttled(*args, **kwargs):\n",
    "            nonlocal new_args, new_kwargs, time_of_last_call, scheduled\n",
    "            def call_it():\n",
    "                nonlocal new_args, new_kwargs, time_of_last_call, scheduled\n",
    "                time_of_last_call = time()\n",
    "                fn(*new_args, **new_kwargs)\n",
    "                scheduled = False\n",
    "            time_since_last_call = time() - time_of_last_call\n",
    "            new_args = args\n",
    "            new_kwargs = kwargs\n",
    "            if not scheduled:\n",
    "                new_wait = max(0, wait - time_since_last_call)\n",
    "                Timer(new_wait, call_it)\n",
    "                scheduled = True\n",
    "        return throttled\n",
    "    return decorator"
   ]
  },
  {
   "cell_type": "code",
   "execution_count": 9,
   "metadata": {
    "ExecuteTime": {
     "end_time": "2020-05-09T19:33:56.060308Z",
     "start_time": "2020-05-09T19:33:56.012763Z"
    },
    "scrolled": false
   },
   "outputs": [],
   "source": [
    "# sliders styling and whatnot, normally should be hidden from view\n",
    "tSlider = ipw.FloatSlider(\n",
    "    value=tArray[0],\n",
    "    min=np.min(tArray), \n",
    "    max=np.max(tArray),\n",
    "    description='$t$:',\n",
    "    disabled=False, \n",
    "    step=tArray[1] - tArray[0],\n",
    "    readout=True,\n",
    "    readout_format='.1f',\n",
    "    continuous_update=isContinousUpdateOn,\n",
    "    layout=ipw.Layout(width='100%', height='80px'), \n",
    ")\n",
    "ySlider = ipw.FloatSlider(\n",
    "    value=yArray[0],\n",
    "    min=np.min(yArray), \n",
    "    max=np.max(yArray),\n",
    "    description='$y$:',\n",
    "    disabled=True,\n",
    "    readout=True,\n",
    "    readout_format='.4f',\n",
    "    continuous_update=isContinousUpdateOn,\n",
    "    layout=ipw.Layout(width='100%', height='80px'), \n",
    ")\n",
    "s1Slider = ipw.FloatSlider(\n",
    "    value=s1Array[0],\n",
    "    min=np.min(s1Array), \n",
    "    max=np.max(s1Array), \n",
    "    description='Real[$s$]:',\n",
    "    disabled=False,\n",
    "    step=s1Array[1] - s1Array[0],\n",
    "    readout=True,\n",
    "    readout_format='.1f',\n",
    "    continuous_update=isContinousUpdateOn,\n",
    "    layout=ipw.Layout(width='50%', height='80px'),  \n",
    ")\n",
    "s2Slider = ipw.FloatSlider(\n",
    "    value=s2Array[0],\n",
    "    min=np.min(s2Array), \n",
    "    max=np.max(s2Array), \n",
    "    description='Imag[$s$]:',\n",
    "    disabled=False,\n",
    "    step=s2Array[1] - s2Array[0],\n",
    "    readout=True,\n",
    "    readout_format='.1f',\n",
    "    continuous_update=isContinousUpdateOn,\n",
    "    layout=ipw.Layout(width='50%', height='80px'), \n",
    ")\n",
    "Y1Slider = ipw.FloatSlider(\n",
    "    value=Y1Array[0],\n",
    "    min=np.min(Y1Array), \n",
    "    max=np.max(Y1Array), \n",
    "    description='Real[$Y(s)$]:',\n",
    "    disabled=True,\n",
    "    readout=True,\n",
    "    readout_format='.4f',\n",
    "    continuous_update=isContinousUpdateOn,\n",
    "    layout=ipw.Layout(width='50%', height='80px'), \n",
    ")\n",
    "Y2Slider = ipw.FloatSlider(\n",
    "    value=Y2Array[0],\n",
    "    min=np.min(Y2Array), \n",
    "    max=np.max(Y2Array), \n",
    "    description='Imag[$Y(s)$]:',\n",
    "    disabled=True,\n",
    "    readout=True,\n",
    "    readout_format='.4f',\n",
    "    continuous_update=isContinousUpdateOn,\n",
    "    layout=ipw.Layout(width='50%', height='80px'), \n",
    ")\n",
    "fourierCheckbox = ipw.Checkbox(\n",
    "    value=False,\n",
    "    description='Fourier Mode',\n",
    "    disabled=False,\n",
    "    indent=False\n",
    ")"
   ]
  },
  {
   "cell_type": "markdown",
   "metadata": {},
   "source": [
    "# bqplot slider & plot interaction "
   ]
  },
  {
   "cell_type": "code",
   "execution_count": 74,
   "metadata": {
    "ExecuteTime": {
     "end_time": "2020-05-09T19:53:29.875879Z",
     "start_time": "2020-05-09T19:53:29.779773Z"
    },
    "scrolled": false
   },
   "outputs": [],
   "source": [
    "animDuration = 100\n",
    "\n",
    "# t->y\n",
    "tSlider.value = tArray[0]\n",
    "ySlider.value = yArray[0]\n",
    "xSc = bqp.LinearScale()\n",
    "ySc = bqp.LinearScale()\n",
    "xAxis = bqp.Axis(label='t', scale=xSc, tick_format='0.0f', grid_lines='none')\n",
    "yAxis = bqp.Axis(label='y(t)', scale=ySc, orientation='vertical', tick_format='0.2f', grid_lines='none')\n",
    "line = bqp.Lines(x=tArray, y=yArray, scales={'x': xSc, 'y': ySc}, labels=['y'], display_legend=True)\n",
    "point = bqp.Scatter(x=[tArray[0]], y=[yArray[0]], scales={'x': xSc, 'y': ySc}, default_size=128)\n",
    "#label = bqp.Label(x=[tArray[0]], y=[yArray[0]], scales={'x': xSc, 'y': ySc}, x_offset = 5, y_offset = 5, text=['{:.4f}'.format(yArray[0])])\n",
    "tyFig = bqp.Figure(axes=[xAxis, yAxis],  marks=[line, point], title='y(t) = {:.4f}'.format(yArray[0]), animation_duration=animDuration)\n",
    "\n",
    "@throttle(0.5)\n",
    "def handle_tSlider(change):\n",
    "    tValue = change['new']\n",
    "    yValue = y(tValue)\n",
    "    ySlider.value = yValue\n",
    "    point.x = [tValue]\n",
    "    point.y = [yValue]\n",
    "    #label.x = [tValue]\n",
    "    #label.y = [yValue]\n",
    "    #label.text = ['{:.4f}'.format(yValue)]\n",
    "    tyFig.title = 'y(t) = {:.4f}'.format(yValue)\n",
    "tSlider.observe(handle_tSlider, names='value')\n",
    "\n",
    "# s->Y\n",
    "s1Slider.value = s1Array[0] \n",
    "s2Slider.value = s2Array[0]\n",
    "Y1Slider.value = Y1Array[0]\n",
    "Y2Slider.value = Y2Array[0]\n",
    "fourierCheckbox.value = False\n",
    "\n",
    "s1Sc = bqp.LinearScale()\n",
    "s1Sc.min = np.min(s1Array)\n",
    "s1Sc.max = np.max(s1Array)\n",
    "s2Sc = bqp.LinearScale()\n",
    "s2Sc.min = np.min(s2Array)\n",
    "s2Sc.max = np.max(s2Array)\n",
    "Y1Sc = bqp.LinearScale()\n",
    "Y1Sc.min = -1 #np.min(Y1Array)\n",
    "Y1Sc.max = 1 #np.max(Y1Array)\n",
    "Y2Sc = bqp.LinearScale()\n",
    "Y2Sc.min = -1 #np.min(Y2Array)\n",
    "Y2Sc.max = 1 #np.max(Y2Array)\n",
    "s1Axis = bqp.Axis(label='Real', scale=s1Sc, tick_format='0.0f', grid_lines='none')\n",
    "s2Axis = bqp.Axis(label='Imaginary', scale=s2Sc, orientation='vertical', tick_format='0.0f', grid_lines='none')\n",
    "Y1Axis = bqp.Axis(label='Real', scale=Y1Sc, tick_format='0.0f', grid_lines='none')\n",
    "Y2Axis = bqp.Axis(label='Imaginary', scale=Y2Sc, orientation='vertical', tick_format='0.0f', grid_lines='none')\n",
    "sRealLine = bqp.Lines(x=[np.min(s1Array), np.max(s1Array)], y=[0,0], scales={'x': s1Sc, 'y': s2Sc}, colors=['black'], stroke_width=0.5)\n",
    "sImagLine = bqp.Lines(x=[0,0], y=[np.min(s2Array), np.max(s2Array)], scales={'x': s1Sc, 'y': s2Sc}, colors=['black'], stroke_width=0.5)\n",
    "YRealLine = bqp.Lines(x=[np.min(Y1Array), np.max(Y1Array)], y=[0,0], scales={'x': Y1Sc, 'y': Y2Sc}, colors=['black'], stroke_width=0.5)\n",
    "YImagLine = bqp.Lines(x=[0,0], y=[np.min(Y2Array), np.max(Y2Array)], scales={'x': Y1Sc, 'y': Y2Sc}, colors=['black'], stroke_width=0.5)\n",
    "inputPoint = bqp.Scatter(x=[s1Array[0]], y=[s2Array[0]], scales={'x': s1Sc, 'y': s2Sc}, enable_move=True, restrict_y=False)\n",
    "outputPoint = bqp.Scatter(x=[Y1Array[0]], y=[Y2Array[0]], scales={'x': Y1Sc, 'y': Y2Sc})\n",
    "sFig = bqp.Figure(axes=[s1Axis, s2Axis], marks=[sRealLine, sImagLine, inputPoint], layout=ipw.Layout(width='50%', height='500px'), title='s = {:.2f}, {:.2f}j'.format(s1Array[0], s2Array[0]), animation_duration=animDuration)\n",
    "YFig = bqp.Figure(axes=[Y1Axis, Y2Axis], marks=[YRealLine, YImagLine, outputPoint], layout=ipw.Layout(width='50%', height='500px'), title='Y(s) = {:.2f}, {:.2f}j'.format(Y1Array[0], Y2Array[0]), animation_duration=animDuration)\n",
    "\n",
    "def update_YSliders(s1Value, s2Value):\n",
    "    Y1Value, Y2Value = Y(s1Value, s2Value)\n",
    "    Y1Slider.value = Y1Value\n",
    "    Y2Slider.value = Y2Value\n",
    "    outputPoint.x = [Y1Value]\n",
    "    outputPoint.y = [Y2Value]\n",
    "    YFig.title = 'Y(s) = {:.2f}, {:.2f}j'.format(Y1Value, Y2Value)\n",
    "    \n",
    "@throttle(0.5)    \n",
    "def handle_s1Slider(change):\n",
    "    s1Value = change['new']\n",
    "    s2Value = s2Slider.value\n",
    "    update_YSliders(s1Value, s2Value)\n",
    "    inputPoint.x = [s1Value]\n",
    "    sFig.title = 's = {:.2f}, {:.2f}j'.format(s1Value, s2Value)\n",
    "\n",
    "@throttle(0.5)    \n",
    "def handle_s2Slider(change):\n",
    "    s1Value = s1Slider.value\n",
    "    s2Value = change['new'] \n",
    "    update_YSliders(s1Value, s2Value)\n",
    "    inputPoint.y = [s2Value]\n",
    "    sFig.title = 's = {:.2f}, {:.2f}j'.format(s1Value, s2Value)\n",
    "\n",
    "@throttle(0.5)\n",
    "def handle_dragging(name, value):\n",
    "    s1Slider.value = value['point']['x']\n",
    "    s2Slider.value = value['point']['y']\n",
    "\n",
    "def handle_fourierCheckbox(change):\n",
    "    if change['new'] == True:\n",
    "        s1Slider.value = 0\n",
    "        s1Slider.disabled = True\n",
    "        inputPoint.restrict_y = True\n",
    "    else:\n",
    "        s1Slider.disabled = False\n",
    "        outputPoint.restrict_y = False\n",
    "        \n",
    "fourierCheckbox.observe(handle_fourierCheckbox, names='value')    \n",
    "s1Slider.observe(handle_s1Slider, names='value')    \n",
    "s2Slider.observe(handle_s2Slider, names='value')   \n",
    "inputPoint.on_drag_end(handle_dragging)   "
   ]
  },
  {
   "cell_type": "code",
   "execution_count": 75,
   "metadata": {
    "ExecuteTime": {
     "end_time": "2020-05-09T19:53:31.124835Z",
     "start_time": "2020-05-09T19:53:31.076790Z"
    },
    "scrolled": false
   },
   "outputs": [
    {
     "data": {
      "application/vnd.jupyter.widget-view+json": {
       "model_id": "cdf32a696d8242408918239470acb019",
       "version_major": 2,
       "version_minor": 0
      },
      "text/plain": [
       "VBox(children=(HBox(children=(FloatSlider(value=0.0, description='$t$:', layout=Layout(height='80px', width='1…"
      ]
     },
     "metadata": {},
     "output_type": "display_data"
    },
    {
     "data": {
      "application/vnd.jupyter.widget-view+json": {
       "model_id": "21aafabc4dd44a7f9281a788a0897e18",
       "version_major": 2,
       "version_minor": 0
      },
      "text/plain": [
       "VBox(children=(HBox(children=(FloatSlider(value=-10.0, description='Real[$s$]:', layout=Layout(height='80px', …"
      ]
     },
     "metadata": {},
     "output_type": "display_data"
    },
    {
     "data": {
      "application/vnd.jupyter.widget-view+json": {
       "model_id": "7809bcd8924b4fbea55ae20de87d06f0",
       "version_major": 2,
       "version_minor": 0
      },
      "text/plain": [
       "HBox(children=(Figure(animation_duration=100, axes=[Axis(grid_lines='none', label='Real', scale=LinearScale(ma…"
      ]
     },
     "metadata": {},
     "output_type": "display_data"
    }
   ],
   "source": [
    "display(ipw.VBox([ipw.HBox([tSlider, ySlider]), tyFig]))\n",
    "display(ipw.VBox([ipw.HBox([s1Slider, Y1Slider]), ipw.HBox([s2Slider, Y2Slider]), fourierCheckbox]))\n",
    "display(ipw.HBox([sFig, YFig]))    "
   ]
  },
  {
   "cell_type": "markdown",
   "metadata": {},
   "source": [
    "## COMPARISON: matplotlib slider & plot interaction "
   ]
  },
  {
   "cell_type": "code",
   "execution_count": 29,
   "metadata": {
    "ExecuteTime": {
     "end_time": "2020-05-09T18:45:16.805364Z",
     "start_time": "2020-05-09T18:45:16.709771Z"
    },
    "scrolled": false
   },
   "outputs": [
    {
     "data": {
      "application/vnd.jupyter.widget-view+json": {
       "model_id": "c32c85de19344c8cbe34a880a1e34776",
       "version_major": 2,
       "version_minor": 0
      },
      "text/plain": [
       "Canvas(toolbar=Toolbar(toolitems=[('Home', 'Reset original view', 'home', 'home'), ('Back', 'Back to previous …"
      ]
     },
     "metadata": {},
     "output_type": "display_data"
    },
    {
     "data": {
      "application/vnd.jupyter.widget-view+json": {
       "model_id": "747e535d25f846f698889d4cea861e7d",
       "version_major": 2,
       "version_minor": 0
      },
      "text/plain": [
       "HBox(children=(FloatSlider(value=6.76768, description='$t$:', layout=Layout(height='80px', width='100%'), max=…"
      ]
     },
     "metadata": {},
     "output_type": "display_data"
    }
   ],
   "source": [
    "from matplotlib import pyplot as plt\n",
    "#%matplotlib inline # DOES NOT WORK/UPDATE\n",
    "%matplotlib widget\n",
    "fig = plt.figure()\n",
    "ax = fig.gca()\n",
    "hPlot = ax.plot(tArray, yArray, linewidth=2, label='$y$');\n",
    "hScatter = ax.scatter(tArray[0], yArray[0], 50)\n",
    "hText = ax.text(tArray[0], yArray[0], ' ${:.3f}$'.format(yArray[0]))\n",
    "ax.set_xlabel('$t$');\n",
    "ax.set_ylabel('$y(t)$');\n",
    "plt.legend(loc=\"best\");\n",
    "\n",
    "def handle_tSlider_change(change): \n",
    "    tValue = change['new']\n",
    "    yValue = y(tValue)\n",
    "    ySlider.value = yValue\n",
    "    hScatter.set_offsets((tValue, yValue))\n",
    "    hText.set_position((tValue, yValue))\n",
    "    hText.set_text(' ${:.3f}$'.format(yValue))\n",
    "tSlider.observe(handle_tSlider_change, names='value')\n",
    "\n",
    "display(ipw.HBox([tSlider, ySlider]))"
   ]
  },
  {
   "cell_type": "markdown",
   "metadata": {},
   "source": [
    "# linking widgets"
   ]
  },
  {
   "cell_type": "code",
   "execution_count": 13,
   "metadata": {
    "ExecuteTime": {
     "end_time": "2020-05-09T15:01:31.706814Z",
     "start_time": "2020-05-09T15:01:31.688295Z"
    }
   },
   "outputs": [
    {
     "data": {
      "application/vnd.jupyter.widget-view+json": {
       "model_id": "43bb86b782ff4f2f8f42d0d21290386f",
       "version_major": 2,
       "version_minor": 0
      },
      "text/plain": [
       "FloatText(value=0.0)"
      ]
     },
     "metadata": {},
     "output_type": "display_data"
    },
    {
     "data": {
      "application/vnd.jupyter.widget-view+json": {
       "model_id": "5ab6e98f8dea4e46b0cfbdb317db9054",
       "version_major": 2,
       "version_minor": 0
      },
      "text/plain": [
       "FloatSlider(value=0.0)"
      ]
     },
     "metadata": {},
     "output_type": "display_data"
    }
   ],
   "source": [
    "a = ipw.FloatText()\n",
    "b = ipw.FloatSlider()\n",
    "display(a,b)\n",
    "\n",
    "mylink = ipw.jslink((a, 'value'), (b, 'value'))"
   ]
  },
  {
   "cell_type": "markdown",
   "metadata": {},
   "source": [
    "# sympy laplace transform test"
   ]
  },
  {
   "cell_type": "code",
   "execution_count": 15,
   "metadata": {
    "ExecuteTime": {
     "end_time": "2020-05-09T15:01:38.351680Z",
     "start_time": "2020-05-09T15:01:36.556419Z"
    }
   },
   "outputs": [
    {
     "data": {
      "image/png": "[encoded data removed]",
      "text/latex": [
       "$\\displaystyle \\mathcal{L}_{t}\\left[\\frac{d}{d t} f{\\left(t \\right)}\\right]\\left(s\\right)$"
      ],
      "text/plain": [
       "                ⎛d             ⎞\n",
       "LaplaceTransform⎜──(f(t)), t, s⎟\n",
       "                ⎝dt            ⎠"
      ]
     },
     "execution_count": 15,
     "metadata": {},
     "output_type": "execute_result"
    }
   ],
   "source": [
    "import sympy as sy\n",
    "from sympy.abc import t, s, a\n",
    "sy.init_printing()\n",
    "f = sy.Function('f')\n",
    "sy.laplace_transform(f(t).diff(), t, s)"
   ]
  },
  {
   "cell_type": "markdown",
   "metadata": {},
   "source": [
    "# draggable points in matplotlib example \n",
    "https://stackoverflow.com/questions/50439506/dragging-points-in-matplotlib-interactive-plot"
   ]
  },
  {
   "cell_type": "markdown",
   "metadata": {
    "ExecuteTime": {
     "end_time": "2020-05-09T14:53:59.567225Z",
     "start_time": "2020-05-09T14:53:59.564211Z"
    }
   },
   "source": [
    "# other notes"
   ]
  },
  {
   "cell_type": "code",
   "execution_count": 35,
   "metadata": {
    "ExecuteTime": {
     "end_time": "2020-05-09T14:53:42.834819Z",
     "start_time": "2020-05-09T14:53:42.736225Z"
    },
    "scrolled": true
   },
   "outputs": [
    {
     "data": {
      "application/vnd.jupyter.widget-view+json": {
       "model_id": "aaf598aed87641a38dc2c1f729102d47",
       "version_major": 2,
       "version_minor": 0
      },
      "text/plain": [
       "Canvas(toolbar=Toolbar(toolitems=[('Home', 'Reset original view', 'home', 'home'), ('Back', 'Back to previous …"
      ]
     },
     "metadata": {},
     "output_type": "display_data"
    }
   ],
   "source": [
    "import matplotlib.pyplot as plt\n",
    "%matplotlib widget\n",
    "def fun(x, y):\n",
    "    x, y = Y(x, y)\n",
    "    return np.sqrt(x**2 + y**2)\n",
    "fig = plt.figure()\n",
    "ax = fig.add_subplot(111, projection='3d')\n",
    "x, y = np.meshgrid(s1Array, s2Array)\n",
    "zs = np.array(fun(np.ravel(x), np.ravel(y)))\n",
    "z = zs.reshape(x.shape)\n",
    "ax.plot_surface(x, y, z)\n",
    "ax.set_zlim(0, 5)\n",
    "plt.show()"
   ]
  },
  {
   "cell_type": "code",
   "execution_count": 34,
   "metadata": {
    "ExecuteTime": {
     "end_time": "2020-05-09T14:53:41.600446Z",
     "start_time": "2020-05-09T14:53:41.574419Z"
    }
   },
   "outputs": [
    {
     "data": {
      "application/vnd.jupyter.widget-view+json": {
       "model_id": "",
       "version_major": 2,
       "version_minor": 0
      },
      "text/plain": [
       "VBox(children=(Play(value=1, interval=2000, min=1), IntSlider(value=1, min=1), Output()))"
      ]
     },
     "metadata": {},
     "output_type": "display_data"
    }
   ],
   "source": [
    "import ipywidgets as widgets\n",
    "\n",
    "out = widgets.Output()\n",
    "def on_value_change(change):\n",
    "    with out:\n",
    "        print(change['new'])\n",
    "\n",
    "slider = widgets.IntSlider(min=1, max=100, step=1, continuous_update=True)\n",
    "play = widgets.Play(min=1, interval=2000)\n",
    "\n",
    "slider.observe(on_value_change, 'value')\n",
    "widgets.jslink((play, 'value'), (slider, 'value'))\n",
    "widgets.VBox([play, slider, out])"
   ]
  }
 ],
 "metadata": {
  "hide_input": false,
  "kernelspec": {
   "display_name": "Python 3",
   "language": "python",
   "name": "python3"
  },
  "toc": {
   "base_numbering": 1,
   "nav_menu": {},
   "number_sections": true,
   "sideBar": true,
   "skip_h1_title": false,
   "title_cell": "Table of Contents",
   "title_sidebar": "Contents",
   "toc_cell": false,
   "toc_position": {},
   "toc_section_display": true,
   "toc_window_display": false
  },
  "varInspector": {
   "cols": {
    "lenName": 16,
    "lenType": 16,
    "lenVar": 40
   },
   "kernels_config": {
    "python": {
     "delete_cmd_postfix": "",
     "delete_cmd_prefix": "del ",
     "library": "var_list.py",
     "varRefreshCmd": "print(var_dic_list())"
    },
    "r": {
     "delete_cmd_postfix": ") ",
     "delete_cmd_prefix": "rm(",
     "library": "var_list.r",
     "varRefreshCmd": "cat(var_dic_list()) "
    }
   },
   "types_to_exclude": [
    "module",
    "function",
    "builtin_function_or_method",
    "instance",
    "_Feature"
   ],
   "window_display": false
  }
 },
 "nbformat": 4,
 "nbformat_minor": 2
}
