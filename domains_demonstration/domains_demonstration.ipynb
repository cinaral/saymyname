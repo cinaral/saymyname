{
 "cells": [
  {
   "cell_type": "code",
   "execution_count": 1,
   "metadata": {
    "ExecuteTime": {
     "end_time": "2020-05-25T08:33:37.025478Z",
     "start_time": "2020-05-25T08:33:36.319871Z"
    }
   },
   "outputs": [],
   "source": [
    "# define the system\n",
    "from IPython.display import display\n",
    "import ipywidgets as ipw\n",
    "import numpy as np\n",
    "import bqplot as bqp\n",
    "import ipyvolume as ipv\n",
    "\n",
    "np.seterr(divide='ignore', invalid='ignore') # divisions by errors will occur\n",
    "\n",
    "# test: m * d2y + c * dy + k = K * x\n",
    "K = 1\n",
    "m = 10\n",
    "c = 9\n",
    "k = 100\n",
    "x0 = 5\n",
    "dx0 = 0\n",
    "wn = np.sqrt(k / m)\n",
    "zeta = c / (2 * m * wn)\n",
    "wd = (1 - zeta**2) * wn \n",
    "def y(t):\n",
    "    return(np.exp(-zeta * wn * t) * (x0 * np.cos(wd * t) + (dx0 + zeta * wn * x0) / wd * np.sin(wd * t)))\n",
    "\n",
    "YNum = np.array([K, 0])\n",
    "YDen = np.array([m, c, k])\n",
    "YZeros = np.roots(YNum)\n",
    "YPoles = np.roots(YDen)\n",
    "def Y(s1, s2):\n",
    "    s = s1 +  1j * s2\n",
    "    try:\n",
    "        num = np.poly1d(YNum)\n",
    "        den = np.poly1d(YDen)\n",
    "        Y = num(s) / den(s)\n",
    "        return(Y.real, Y.imag)\n",
    "    except:\n",
    "        return(np.inf, np.inf) \n",
    "    \n",
    "tArray = np.linspace(0, 10, 100)\n",
    "s1Array = np.linspace(-10, 10, 101) # make sure both of them don't pass through 0 to avoid infinity\n",
    "s2Array = np.linspace(-10, 10, 101)\n",
    "\n",
    "yArray = y(tArray)\n",
    "s1Grid, s2Grid = np.meshgrid(s1Array, s2Array)\n",
    "temp1, temp2 = np.array(Y(np.ravel(s1Grid), np.ravel(s2Grid)))\n",
    "\n",
    "Y1Array = temp1.reshape(s1Grid.shape)\n",
    "Y2Array = temp2.reshape(s1Grid.shape)\n",
    "\n",
    "isContinousUpdateOn = True # when turned on it's sluggish without throttling"
   ]
  },
  {
   "cell_type": "code",
   "execution_count": 2,
   "metadata": {
    "ExecuteTime": {
     "end_time": "2020-05-25T08:33:37.679354Z",
     "start_time": "2020-05-25T08:33:37.670835Z"
    }
   },
   "outputs": [],
   "source": [
    "# helper functions\n",
    "def amplitude(sigma, omega):\n",
    "    return(np.sqrt(sigma**2 + omega**2))\n",
    "\n",
    "# throttling as per https://ipywidgets.readthedocs.io/en/latest/examples/Widget%20Events.html\n",
    "import asyncio\n",
    "from time import time\n",
    "\n",
    "class Timer:\n",
    "    def __init__(self, timeout, callback):\n",
    "        self._timeout = timeout\n",
    "        self._callback = callback\n",
    "        self._task = asyncio.ensure_future(self._job())\n",
    "\n",
    "    async def _job(self):\n",
    "        await asyncio.sleep(self._timeout)\n",
    "        self._callback()\n",
    "\n",
    "    def cancel(self):\n",
    "        self._task.cancel()\n",
    "        \n",
    "def throttle(wait):\n",
    "    \"\"\" Decorator that prevents a function from being called\n",
    "        more than once every wait period. \"\"\"\n",
    "    def decorator(fn):\n",
    "        time_of_last_call = 0\n",
    "        scheduled = False\n",
    "        new_args, new_kwargs = None, None\n",
    "        def throttled(*args, **kwargs):\n",
    "            nonlocal new_args, new_kwargs, time_of_last_call, scheduled\n",
    "            def call_it():\n",
    "                nonlocal new_args, new_kwargs, time_of_last_call, scheduled\n",
    "                time_of_last_call = time()\n",
    "                fn(*new_args, **new_kwargs)\n",
    "                scheduled = False\n",
    "            time_since_last_call = time() - time_of_last_call\n",
    "            new_args = args\n",
    "            new_kwargs = kwargs\n",
    "            if not scheduled:\n",
    "                new_wait = max(0, wait - time_since_last_call)\n",
    "                Timer(new_wait, call_it)\n",
    "                scheduled = True\n",
    "        return throttled\n",
    "    return decorator"
   ]
  },
  {
   "cell_type": "code",
   "execution_count": 4,
   "metadata": {
    "ExecuteTime": {
     "end_time": "2020-05-25T08:33:42.308346Z",
     "start_time": "2020-05-25T08:33:42.246786Z"
    },
    "scrolled": false
   },
   "outputs": [],
   "source": [
    "# sliders styling and whatnot, normally should be hidden from view\n",
    "tSlider = ipw.FloatSlider(\n",
    "    value=tArray[0],\n",
    "    min=np.min(tArray), \n",
    "    max=np.max(tArray),\n",
    "    description='$t$:',\n",
    "    disabled=False, \n",
    "    step=tArray[1] - tArray[0],\n",
    "    readout=True,\n",
    "    readout_format='.2f',\n",
    "    continuous_update=isContinousUpdateOn,\n",
    "    layout=ipw.Layout(width='100%', height='80px'), \n",
    ")\n",
    "ySlider = ipw.FloatSlider(\n",
    "    value=yArray[0],\n",
    "    min=np.min(yArray), \n",
    "    max=np.max(yArray),\n",
    "    description='$y$:',\n",
    "    disabled=True,\n",
    "    readout=True,\n",
    "    readout_format='.4f',\n",
    "    continuous_update=isContinousUpdateOn,\n",
    "    layout=ipw.Layout(width='100%', height='80px'), \n",
    ")\n",
    "s1Slider = ipw.FloatSlider(\n",
    "    value=s1Array[0],\n",
    "    min=np.min(s1Array), \n",
    "    max=np.max(s1Array), \n",
    "    description='Real[$s$]:',\n",
    "    disabled=False,\n",
    "    step=s1Array[1] - s1Array[0],\n",
    "    readout=True,\n",
    "    readout_format='.2f',\n",
    "    continuous_update=isContinousUpdateOn,\n",
    "    layout=ipw.Layout(width='50%', height='80px'),  \n",
    ")\n",
    "s2Slider = ipw.FloatSlider(\n",
    "    value=s2Array[0],\n",
    "    min=np.min(s2Array), \n",
    "    max=np.max(s2Array), \n",
    "    description='Imag[$s$]:',\n",
    "    disabled=False,\n",
    "    step=s2Array[1] - s2Array[0],\n",
    "    readout=True,\n",
    "    readout_format='.2f',\n",
    "    continuous_update=isContinousUpdateOn,\n",
    "    layout=ipw.Layout(width='50%', height='80px'), \n",
    ")\n",
    "Y1Slider = ipw.FloatSlider(\n",
    "    value=Y1Array[0,0],\n",
    "    min=np.nanmin(Y1Array[Y1Array != -np.inf]), \n",
    "    max=np.nanmax(Y1Array[Y1Array != np.inf]), \n",
    "    description='Real[$Y(s)$]:',\n",
    "    disabled=True,\n",
    "    readout=True,\n",
    "    readout_format='.4f',\n",
    "    continuous_update=isContinousUpdateOn,\n",
    "    layout=ipw.Layout(width='50%', height='80px'), \n",
    ")\n",
    "Y2Slider = ipw.FloatSlider(\n",
    "    value=Y2Array[0,0],\n",
    "    min=np.nanmin(Y2Array[Y2Array != -np.inf]), \n",
    "    max=np.nanmax(Y2Array[Y2Array != np.inf]), \n",
    "    description='Imag[$Y(s)$]:',\n",
    "    disabled=True,\n",
    "    readout=True,\n",
    "    readout_format='.4f',\n",
    "    continuous_update=isContinousUpdateOn,\n",
    "    layout=ipw.Layout(width='50%', height='80px'), \n",
    ")\n",
    "fourierCheckbox = ipw.Checkbox(\n",
    "    value=False,\n",
    "    description='Fourier Mode',\n",
    "    disabled=False,\n",
    "    indent=False\n",
    ")\n",
    "showPolesCheckbox = ipw.Checkbox(\n",
    "    value=True,\n",
    "    description='Show poles',\n",
    "    disabled=False,\n",
    "    indent=False\n",
    ")\n",
    "showZerosCheckbox = ipw.Checkbox(\n",
    "    value=True,\n",
    "    description='Show zeros',\n",
    "    disabled=False,\n",
    "    indent=False\n",
    ")"
   ]
  },
  {
   "cell_type": "code",
   "execution_count": 5,
   "metadata": {
    "ExecuteTime": {
     "end_time": "2020-05-25T08:33:42.979050Z",
     "start_time": "2020-05-25T08:33:42.976035Z"
    }
   },
   "outputs": [],
   "source": [
    "# reset sliders\n",
    "tSlider.value = tArray[0]\n",
    "ySlider.value = yArray[0]\n",
    "s1Slider.value = s1Array[0] \n",
    "s2Slider.value = s2Array[0]\n",
    "Y1Slider.value = Y1Array[0,0]\n",
    "Y2Slider.value = Y2Array[0,0]\n",
    "fourierCheckbox.value = False"
   ]
  },
  {
   "cell_type": "markdown",
   "metadata": {},
   "source": [
    "# bqplot slider & plot interaction "
   ]
  },
  {
   "cell_type": "code",
   "execution_count": 6,
   "metadata": {
    "ExecuteTime": {
     "end_time": "2020-05-25T08:33:45.239136Z",
     "start_time": "2020-05-25T08:33:45.066971Z"
    },
    "scrolled": false
   },
   "outputs": [],
   "source": [
    "animDuration = 100\n",
    "centerAxisLineOffset = 1\n",
    "halfWidthFigLayout = ipw.Layout(width='50%', height='400px')\n",
    "\n",
    "# t->y(t) plot\n",
    "xSc = bqp.LinearScale()\n",
    "ySc = bqp.LinearScale()\n",
    "xAxis = bqp.Axis(label='t', scale=xSc, tick_format='0.0f', grid_lines='none')\n",
    "yAxis = bqp.Axis(label='y(t)', scale=ySc, orientation='vertical', tick_format='0.1f', grid_lines='none')\n",
    "yLine = bqp.Lines(x=tArray, y=yArray, scales={'x': xSc, 'y': ySc}, labels=['y'], display_legend=True)\n",
    "yPoint = bqp.Scatter(x=[tSlider.value], y=[ySlider.value], scales={'x': xSc, 'y': ySc}, default_size=128)\n",
    "#label = bqp.Label(x=[tArray[0]], y=[yArray[0]], scales={'x': xSc, 'y': ySc}, x_offset = 5, y_offset = 5, text=['{:.4f}'.format(yArray[0])])\n",
    "tyFig = bqp.Figure(axes=[xAxis, yAxis],  marks=[yLine, yPoint], title='y(t) = {:.4f}'.format(yArray[0]), layout=ipw.Layout(width='90%', height='400px'), animation_duration=animDuration)\n",
    "\n",
    "# s plot\n",
    "s1Sc = bqp.LinearScale()\n",
    "s1Sc.min = np.min(s1Array)\n",
    "s1Sc.max = np.max(s1Array)\n",
    "s2Sc = bqp.LinearScale()\n",
    "s2Sc.min = np.min(s2Array)\n",
    "s2Sc.max = np.max(s2Array)\n",
    "s1Axis = bqp.Axis(label='Real', scale=s1Sc, tick_format='0.0f', grid_lines='none')\n",
    "s2Axis = bqp.Axis(label='Imaginary', scale=s2Sc, orientation='vertical', tick_format='0.0f', grid_lines='none')\n",
    "sRealLine = bqp.Lines(x=[s1Sc.min - centerAxisLineOffset, s1Sc.max + centerAxisLineOffset], y=[0,0], scales={'x': s1Sc, 'y': s2Sc}, colors=['black'], stroke_width=0.5)\n",
    "sImagLine = bqp.Lines(x=[0,0], y=[s2Sc.min - centerAxisLineOffset, s2Sc.max + centerAxisLineOffset], scales={'x': s1Sc, 'y': s2Sc}, colors=['black'], stroke_width=0.5)\n",
    "inputPoint = bqp.Scatter(x=[s1Slider.value], y=[s2Slider.value], scales={'x': s1Sc, 'y': s2Sc}, enable_move=True, colors=['red'])\n",
    "dragHint = bqp.Label(x=[0], y=[s2Sc.max], scales={'x': s1Sc, 'y': s2Sc}, x_offset = -30, y_offset = 0, text=['Drag me!'])\n",
    "poles = bqp.Scatter(x=YPoles.real, y=YPoles.imag, scales={'x': s1Sc, 'y': s2Sc}, colors=['black'], marker='cross', stroke_width=0.5)\n",
    "zeros = bqp.Scatter(x=YZeros.real, y=YZeros.imag, scales={'x': s1Sc, 'y': s2Sc}, colors=['black'], marker='circle', stroke_width=0.5)\n",
    "sFig = bqp.Figure(axes=[s1Axis, s2Axis], marks=[sImagLine, zeros, poles, dragHint, inputPoint], title='s = {:.2f}, {:.2f}j'.format(s1Slider.value, s2Slider.value), layout=halfWidthFigLayout,  animation_duration=animDuration)\n",
    "\n",
    "# Y(t) plots\n",
    "Y1Sc = bqp.LinearScale()\n",
    "Y1Sc.min = -1 #np.min(Y1Array)\n",
    "Y1Sc.max = 1 #np.max(Y1Array)\n",
    "Y2Sc = bqp.LinearScale()\n",
    "Y2Sc.min = -1 #np.min(Y2Array)\n",
    "Y2Sc.max = 1 #np.max(Y2Array)\n",
    "Y1Axis = bqp.Axis(label='Real', scale=Y1Sc, tick_format='0.0f', grid_lines='none')\n",
    "Y2Axis = bqp.Axis(label='Imaginary', scale=Y2Sc, orientation='vertical', tick_format='0.0f', grid_lines='none')\n",
    "YRealLine = bqp.Lines(x=[Y1Sc.min - centerAxisLineOffset, Y1Sc.max + centerAxisLineOffset], y=[0,0], scales={'x': Y1Sc, 'y': Y2Sc}, colors=['black'], stroke_width=0.5)\n",
    "YImagLine = bqp.Lines(x=[0,0], y=[Y2Sc.min - centerAxisLineOffset, Y2Sc.max + centerAxisLineOffset], scales={'x': Y1Sc, 'y': Y2Sc}, colors=['black'], stroke_width=0.5)\n",
    "outputPoint = bqp.Scatter(x=[Y1Slider.value], y=[Y2Slider.value], scales={'x': Y1Sc, 'y': Y2Sc})\n",
    "YFig = bqp.Figure(axes=[Y1Axis, Y2Axis], marks=[YRealLine, YImagLine, outputPoint], title='Y(s) = {:.2f}, {:.2f}j'.format(Y1Slider.value, Y2Slider.value), layout=halfWidthFigLayout, animation_duration=animDuration)\n",
    "\n",
    "\n",
    "# freq->amplitude plot\n",
    "r1, r2 = Y(s1Slider.value, s2Array)\n",
    "ampArray = amplitude(r1, r2)\n",
    "\n",
    "freqSc = bqp.LinearScale()\n",
    "ampSc = bqp.LinearScale()\n",
    "freqAxis = bqp.Axis(label='Frequency (Imag[s])', scale=freqSc, tick_format='.0f', grid_lines='none')\n",
    "ampAxis = bqp.Axis(label='Amplitude', scale=ampSc, orientation='vertical', tick_format='.1f', grid_lines='none')\n",
    "ampLine = bqp.Lines(x=s2Array, y=ampArray, scales={'x': freqSc, 'y': ampSc})\n",
    "ampPoint = bqp.Scatter(x=[s2Slider.value], y=[amplitude(Y1Slider.value, Y2Slider.value)], scales={'x': freqSc, 'y': ampSc}, default_size=128)\n",
    "freqampFig = bqp.Figure(axes=[freqAxis, ampAxis],  marks=[ampLine, ampPoint], title='Amplitude[Y(s)] = {:.2f}'.format(amplitude(Y1Slider.value, Y2Slider.value)), layout=halfWidthFigLayout, animation_duration=animDuration)\n",
    "\n",
    "# EXPERIMENTAL\n",
    "# 3d amplitude plot\n",
    "amp3dFig = ipv.figure(xlabel='Real[s]', ylabel='Amplitude[Y(s)]', zlabel='Imag[s]', title='Amplitude[Y(s)] = {:.2f}'.format(amplitude(Y1Slider.value, Y2Slider.value)), layout=ipw.Layout(width='50%', height='600px'), animation_duration=animDuration)\n",
    "temp = np.array(amplitude(np.ravel(Y1Array), np.ravel(Y2Array)))\n",
    "ampGrid = temp.reshape(Y1Array.shape)\n",
    "amp3dPoint = ipv.scatter(x=np.array([s1Slider.value]), y=np.array([amplitude(Y1Slider.value, Y2Slider.value)]), z=np.array([s2Slider.value]), marker='sphere', size=5, color='blue')\n",
    "amp3dSurface = ipv.plot_surface(x=s1Grid, y=ampGrid, z=s2Grid, color=\"skyblue\")\n",
    "#\n",
    "\n",
    "@throttle(0.5)\n",
    "def handle_tSlider(change):\n",
    "    tValue = change['new']\n",
    "    updateRealDomain(tValue)\n",
    "\n",
    "def updateRealDomain(tValue):  \n",
    "    yValue = y(tValue)\n",
    "    ySlider.value = yValue\n",
    "    yPoint.x = [tValue]\n",
    "    yPoint.y = [yValue]\n",
    "    tyFig.title = 'y(t) = {:.4f}'.format(yValue)\n",
    "\n",
    "@throttle(0.5)    \n",
    "def handle_s1Slider(change):\n",
    "    s1Value = change['new']\n",
    "    s2Value = s2Slider.value\n",
    "    updateComplexDomain(s1Value, s2Value)\n",
    "    \n",
    "@throttle(0.5)    \n",
    "def handle_s2Slider(change):\n",
    "    s1Value = s1Slider.value\n",
    "    s2Value = change['new'] \n",
    "    updateComplexDomain(s1Value, s2Value)\n",
    "    \n",
    "@throttle(0.5)\n",
    "def handle_dragging(name, value):\n",
    "    s1Slider.value = value['point']['x']\n",
    "    s2Slider.value = value['point']['y']\n",
    "    dragHint.text = ['']\n",
    "\n",
    "def handle_fourierCheckbox(change):\n",
    "    if change['new'] == True:\n",
    "        s1Slider.value = 0\n",
    "        s1Slider.disabled = True\n",
    "        inputPoint.restrict_y = True\n",
    "    else:\n",
    "        s1Slider.disabled = False\n",
    "        inputPoint.restrict_y = False\n",
    "        \n",
    "def updateComplexDomain(s1Value, s2Value):\n",
    "    # input plot\n",
    "    inputPoint.x = [s1Value]\n",
    "    inputPoint.y = [s2Value]\n",
    "    sFig.title = 's = {:.2f}, {:.2f}j'.format(s1Value, s2Value)\n",
    "    \n",
    "    # output plot\n",
    "    Y1Value, Y2Value = Y(s1Value, s2Value)\n",
    "    outputPoint.visible = True\n",
    "    \n",
    "    if(Y1Value > Y1Slider.max or Y1Value < Y1Slider.min):\n",
    "        Y1Slider.readout = False\n",
    "        outputPoint.visible = False\n",
    "    else:\n",
    "        Y1Slider.readout = True  \n",
    "        \n",
    "    if(Y2Value > Y2Slider.max or Y2Value < Y2Slider.min):\n",
    "        Y2Slider.readout = False\n",
    "        outputPoint.visible = False\n",
    "    else:\n",
    "        Y2Slider.readout = True\n",
    "\n",
    "    Y1Slider.value = Y1Value\n",
    "    Y2Slider.value = Y2Value\n",
    "    outputPoint.x = [Y1Value]\n",
    "    outputPoint.y = [Y2Value]\n",
    "    YFig.title = 'Y(s) = {:.2f}, {:.2f}j'.format(Y1Value, Y2Value)\n",
    "    \n",
    "    # fourier plot\n",
    "    r1, r2 = Y(s1Value, s2Array)\n",
    "    ampArray = amplitude(r1, r2)\n",
    "    ampLine.y = ampArray\n",
    "    ampPoint.x = [s2Value] \n",
    "    ampPoint.y = [amplitude(Y1Value, Y2Value)]\n",
    "    freqampFig.title = 'Amplitude[Y(s)] = {:.2f}'.format(amplitude(Y1Value, Y2Value))\n",
    "    \n",
    "    # 3d amplitude plot\n",
    "    amp3dPoint.x = np.array([s1Value])\n",
    "    amp3dPoint.z = np.array([s2Value])\n",
    "    amp3dPoint.y = np.array([amplitude(Y1Slider.value, Y2Slider.value)])\n",
    "    \n",
    "# event links\n",
    "tSlider.observe(handle_tSlider, names='value')\n",
    "s1Slider.observe(handle_s1Slider, names='value')    \n",
    "s2Slider.observe(handle_s2Slider, names='value')        \n",
    "fourierCheckbox.observe(handle_fourierCheckbox, names='value')    \n",
    "inputPoint.on_drag_end(handle_dragging)   "
   ]
  },
  {
   "cell_type": "code",
   "execution_count": 10,
   "metadata": {
    "ExecuteTime": {
     "end_time": "2020-05-25T08:34:52.215776Z",
     "start_time": "2020-05-25T08:34:51.864951Z"
    }
   },
   "outputs": [
    {
     "data": {
      "application/vnd.jupyter.widget-view+json": {
       "model_id": "d7ed042dd2a3418480289ac8388807da",
       "version_major": 2,
       "version_minor": 0
      },
      "text/plain": [
       "interactive(children=(IntSlider(value=50, description='w'), Output()), _dom_classes=('widget-interact',))"
      ]
     },
     "metadata": {},
     "output_type": "display_data"
    },
    {
     "data": {
      "text/plain": [
       "<function __main__.view_image(w)>"
      ]
     },
     "execution_count": 10,
     "metadata": {},
     "output_type": "execute_result"
    }
   ],
   "source": [
    "import plotly\n",
    "from plotly.graph_objs import graph_objs as go\n",
    "\n",
    "#plotly.offline.init_notebook_mode()\n",
    "from plotly.offline import iplot\n",
    "def view_image(w):\n",
    "    x_data = [1,2,3]\n",
    "    x1 = [i+w for i in x_data]\n",
    "    fig1 = go.Scatter(x=x1,y=[4,5,6])\n",
    "    fig2 = go.Scatter(x=x_data,y=[4,5,6])\n",
    "    plot = iplot([fig1,fig2])\n",
    "    display(plot)\n",
    "ipw.interact(view_image, w=(0,100))\n"
   ]
  },
  {
   "cell_type": "code",
   "execution_count": 12,
   "metadata": {
    "ExecuteTime": {
     "end_time": "2020-05-25T08:39:53.054587Z",
     "start_time": "2020-05-25T08:36:34.323603Z"
    }
   },
   "outputs": [
    {
     "ename": "PlotlyRequestError",
     "evalue": "Authentication credentials were not provided.",
     "output_type": "error",
     "traceback": [
      "\u001b[1;31m---------------------------------------------------------------------------\u001b[0m",
      "\u001b[1;31mPlotlyRequestError\u001b[0m                        Traceback (most recent call last)",
      "\u001b[1;32m<ipython-input-12-614e319394e5>\u001b[0m in \u001b[0;36m<module>\u001b[1;34m\u001b[0m\n\u001b[0;32m     41\u001b[0m \u001b[1;33m\u001b[0m\u001b[0m\n\u001b[0;32m     42\u001b[0m \u001b[0mfig\u001b[0m \u001b[1;33m=\u001b[0m \u001b[0mgo\u001b[0m\u001b[1;33m.\u001b[0m\u001b[0mFigure\u001b[0m\u001b[1;33m(\u001b[0m\u001b[0mdata\u001b[0m\u001b[1;33m=\u001b[0m\u001b[0mdata\u001b[0m\u001b[1;33m,\u001b[0m \u001b[0mlayout\u001b[0m\u001b[1;33m=\u001b[0m\u001b[0mlayout\u001b[0m\u001b[1;33m)\u001b[0m\u001b[1;33m\u001b[0m\u001b[1;33m\u001b[0m\u001b[0m\n\u001b[1;32m---> 43\u001b[1;33m \u001b[0mpy\u001b[0m\u001b[1;33m.\u001b[0m\u001b[0miplot\u001b[0m\u001b[1;33m(\u001b[0m\u001b[0mfig\u001b[0m\u001b[1;33m,\u001b[0m \u001b[0mfilename\u001b[0m\u001b[1;33m=\u001b[0m\u001b[1;34m'jupyter-parametric_plot'\u001b[0m\u001b[1;33m)\u001b[0m\u001b[1;33m\u001b[0m\u001b[1;33m\u001b[0m\u001b[0m\n\u001b[0m",
      "\u001b[1;32mc:\\python36\\lib\\site-packages\\chart_studio\\plotly\\plotly.py\u001b[0m in \u001b[0;36miplot\u001b[1;34m(figure_or_data, **plot_options)\u001b[0m\n\u001b[0;32m    133\u001b[0m     \u001b[1;32mif\u001b[0m \u001b[1;34m\"auto_open\"\u001b[0m \u001b[1;32mnot\u001b[0m \u001b[1;32min\u001b[0m \u001b[0mplot_options\u001b[0m\u001b[1;33m:\u001b[0m\u001b[1;33m\u001b[0m\u001b[1;33m\u001b[0m\u001b[0m\n\u001b[0;32m    134\u001b[0m         \u001b[0mplot_options\u001b[0m\u001b[1;33m[\u001b[0m\u001b[1;34m\"auto_open\"\u001b[0m\u001b[1;33m]\u001b[0m \u001b[1;33m=\u001b[0m \u001b[1;32mFalse\u001b[0m\u001b[1;33m\u001b[0m\u001b[1;33m\u001b[0m\u001b[0m\n\u001b[1;32m--> 135\u001b[1;33m     \u001b[0murl\u001b[0m \u001b[1;33m=\u001b[0m \u001b[0mplot\u001b[0m\u001b[1;33m(\u001b[0m\u001b[0mfigure_or_data\u001b[0m\u001b[1;33m,\u001b[0m \u001b[1;33m**\u001b[0m\u001b[0mplot_options\u001b[0m\u001b[1;33m)\u001b[0m\u001b[1;33m\u001b[0m\u001b[1;33m\u001b[0m\u001b[0m\n\u001b[0m\u001b[0;32m    136\u001b[0m \u001b[1;33m\u001b[0m\u001b[0m\n\u001b[0;32m    137\u001b[0m     \u001b[1;32mif\u001b[0m \u001b[0misinstance\u001b[0m\u001b[1;33m(\u001b[0m\u001b[0mfigure_or_data\u001b[0m\u001b[1;33m,\u001b[0m \u001b[0mdict\u001b[0m\u001b[1;33m)\u001b[0m\u001b[1;33m:\u001b[0m\u001b[1;33m\u001b[0m\u001b[1;33m\u001b[0m\u001b[0m\n",
      "\u001b[1;32mc:\\python36\\lib\\site-packages\\chart_studio\\plotly\\plotly.py\u001b[0m in \u001b[0;36mplot\u001b[1;34m(figure_or_data, validate, **plot_options)\u001b[0m\n\u001b[0;32m    278\u001b[0m             \u001b[0mfilename\u001b[0m\u001b[1;33m=\u001b[0m\u001b[0mgrid_filename\u001b[0m\u001b[1;33m,\u001b[0m\u001b[1;33m\u001b[0m\u001b[1;33m\u001b[0m\u001b[0m\n\u001b[0;32m    279\u001b[0m             \u001b[0mworld_readable\u001b[0m\u001b[1;33m=\u001b[0m\u001b[0mpayload\u001b[0m\u001b[1;33m[\u001b[0m\u001b[1;34m\"world_readable\"\u001b[0m\u001b[1;33m]\u001b[0m\u001b[1;33m,\u001b[0m\u001b[1;33m\u001b[0m\u001b[1;33m\u001b[0m\u001b[0m\n\u001b[1;32m--> 280\u001b[1;33m             \u001b[0mauto_open\u001b[0m\u001b[1;33m=\u001b[0m\u001b[1;32mFalse\u001b[0m\u001b[1;33m,\u001b[0m\u001b[1;33m\u001b[0m\u001b[1;33m\u001b[0m\u001b[0m\n\u001b[0m\u001b[0;32m    281\u001b[0m         )\n\u001b[0;32m    282\u001b[0m \u001b[1;33m\u001b[0m\u001b[0m\n",
      "\u001b[1;32mc:\\python36\\lib\\site-packages\\chart_studio\\plotly\\plotly.py\u001b[0m in \u001b[0;36mupload\u001b[1;34m(cls, grid, filename, world_readable, auto_open, meta)\u001b[0m\n\u001b[0;32m   1085\u001b[0m                 \u001b[0mpayload\u001b[0m\u001b[1;33m[\u001b[0m\u001b[1;34m\"parent_path\"\u001b[0m\u001b[1;33m]\u001b[0m \u001b[1;33m=\u001b[0m \u001b[0mparent_path\u001b[0m\u001b[1;33m\u001b[0m\u001b[1;33m\u001b[0m\u001b[0m\n\u001b[0;32m   1086\u001b[0m \u001b[1;33m\u001b[0m\u001b[0m\n\u001b[1;32m-> 1087\u001b[1;33m         \u001b[0mfile_info\u001b[0m \u001b[1;33m=\u001b[0m \u001b[0m_create_or_overwrite_grid\u001b[0m\u001b[1;33m(\u001b[0m\u001b[0mpayload\u001b[0m\u001b[1;33m)\u001b[0m\u001b[1;33m\u001b[0m\u001b[1;33m\u001b[0m\u001b[0m\n\u001b[0m\u001b[0;32m   1088\u001b[0m \u001b[1;33m\u001b[0m\u001b[0m\n\u001b[0;32m   1089\u001b[0m         \u001b[0mcols\u001b[0m \u001b[1;33m=\u001b[0m \u001b[0mfile_info\u001b[0m\u001b[1;33m[\u001b[0m\u001b[1;34m\"cols\"\u001b[0m\u001b[1;33m]\u001b[0m\u001b[1;33m\u001b[0m\u001b[1;33m\u001b[0m\u001b[0m\n",
      "\u001b[1;32mc:\\python36\\lib\\site-packages\\chart_studio\\plotly\\plotly.py\u001b[0m in \u001b[0;36m_create_or_overwrite_grid\u001b[1;34m(data, max_retries)\u001b[0m\n\u001b[0;32m   1548\u001b[0m     \u001b[1;31m# Create file\u001b[0m\u001b[1;33m\u001b[0m\u001b[1;33m\u001b[0m\u001b[1;33m\u001b[0m\u001b[0m\n\u001b[0;32m   1549\u001b[0m     \u001b[1;32mtry\u001b[0m\u001b[1;33m:\u001b[0m\u001b[1;33m\u001b[0m\u001b[1;33m\u001b[0m\u001b[0m\n\u001b[1;32m-> 1550\u001b[1;33m         \u001b[0mres\u001b[0m \u001b[1;33m=\u001b[0m \u001b[0mapi_module\u001b[0m\u001b[1;33m.\u001b[0m\u001b[0mcreate\u001b[0m\u001b[1;33m(\u001b[0m\u001b[0mdata\u001b[0m\u001b[1;33m)\u001b[0m\u001b[1;33m\u001b[0m\u001b[1;33m\u001b[0m\u001b[0m\n\u001b[0m\u001b[0;32m   1551\u001b[0m     \u001b[1;32mexcept\u001b[0m \u001b[0mexceptions\u001b[0m\u001b[1;33m.\u001b[0m\u001b[0mPlotlyRequestError\u001b[0m \u001b[1;32mas\u001b[0m \u001b[0me\u001b[0m\u001b[1;33m:\u001b[0m\u001b[1;33m\u001b[0m\u001b[1;33m\u001b[0m\u001b[0m\n\u001b[0;32m   1552\u001b[0m         \u001b[1;32mif\u001b[0m \u001b[0mmax_retries\u001b[0m \u001b[1;33m>\u001b[0m \u001b[1;36m0\u001b[0m \u001b[1;32mand\u001b[0m \u001b[1;34m\"already exists\"\u001b[0m \u001b[1;32min\u001b[0m \u001b[0me\u001b[0m\u001b[1;33m.\u001b[0m\u001b[0mmessage\u001b[0m\u001b[1;33m:\u001b[0m\u001b[1;33m\u001b[0m\u001b[1;33m\u001b[0m\u001b[0m\n",
      "\u001b[1;32mc:\\python36\\lib\\site-packages\\chart_studio\\api\\v2\\grids.py\u001b[0m in \u001b[0;36mcreate\u001b[1;34m(body)\u001b[0m\n\u001b[0;32m     16\u001b[0m     \"\"\"\n\u001b[0;32m     17\u001b[0m     \u001b[0murl\u001b[0m \u001b[1;33m=\u001b[0m \u001b[0mbuild_url\u001b[0m\u001b[1;33m(\u001b[0m\u001b[0mRESOURCE\u001b[0m\u001b[1;33m)\u001b[0m\u001b[1;33m\u001b[0m\u001b[1;33m\u001b[0m\u001b[0m\n\u001b[1;32m---> 18\u001b[1;33m     \u001b[1;32mreturn\u001b[0m \u001b[0mrequest\u001b[0m\u001b[1;33m(\u001b[0m\u001b[1;34m\"post\"\u001b[0m\u001b[1;33m,\u001b[0m \u001b[0murl\u001b[0m\u001b[1;33m,\u001b[0m \u001b[0mjson\u001b[0m\u001b[1;33m=\u001b[0m\u001b[0mbody\u001b[0m\u001b[1;33m)\u001b[0m\u001b[1;33m\u001b[0m\u001b[1;33m\u001b[0m\u001b[0m\n\u001b[0m\u001b[0;32m     19\u001b[0m \u001b[1;33m\u001b[0m\u001b[0m\n\u001b[0;32m     20\u001b[0m \u001b[1;33m\u001b[0m\u001b[0m\n",
      "\u001b[1;32mc:\\python36\\lib\\site-packages\\retrying.py\u001b[0m in \u001b[0;36mwrapped_f\u001b[1;34m(*args, **kw)\u001b[0m\n\u001b[0;32m     47\u001b[0m             \u001b[1;33m@\u001b[0m\u001b[0msix\u001b[0m\u001b[1;33m.\u001b[0m\u001b[0mwraps\u001b[0m\u001b[1;33m(\u001b[0m\u001b[0mf\u001b[0m\u001b[1;33m)\u001b[0m\u001b[1;33m\u001b[0m\u001b[1;33m\u001b[0m\u001b[0m\n\u001b[0;32m     48\u001b[0m             \u001b[1;32mdef\u001b[0m \u001b[0mwrapped_f\u001b[0m\u001b[1;33m(\u001b[0m\u001b[1;33m*\u001b[0m\u001b[0margs\u001b[0m\u001b[1;33m,\u001b[0m \u001b[1;33m**\u001b[0m\u001b[0mkw\u001b[0m\u001b[1;33m)\u001b[0m\u001b[1;33m:\u001b[0m\u001b[1;33m\u001b[0m\u001b[1;33m\u001b[0m\u001b[0m\n\u001b[1;32m---> 49\u001b[1;33m                 \u001b[1;32mreturn\u001b[0m \u001b[0mRetrying\u001b[0m\u001b[1;33m(\u001b[0m\u001b[1;33m*\u001b[0m\u001b[0mdargs\u001b[0m\u001b[1;33m,\u001b[0m \u001b[1;33m**\u001b[0m\u001b[0mdkw\u001b[0m\u001b[1;33m)\u001b[0m\u001b[1;33m.\u001b[0m\u001b[0mcall\u001b[0m\u001b[1;33m(\u001b[0m\u001b[0mf\u001b[0m\u001b[1;33m,\u001b[0m \u001b[1;33m*\u001b[0m\u001b[0margs\u001b[0m\u001b[1;33m,\u001b[0m \u001b[1;33m**\u001b[0m\u001b[0mkw\u001b[0m\u001b[1;33m)\u001b[0m\u001b[1;33m\u001b[0m\u001b[1;33m\u001b[0m\u001b[0m\n\u001b[0m\u001b[0;32m     50\u001b[0m \u001b[1;33m\u001b[0m\u001b[0m\n\u001b[0;32m     51\u001b[0m             \u001b[1;32mreturn\u001b[0m \u001b[0mwrapped_f\u001b[0m\u001b[1;33m\u001b[0m\u001b[1;33m\u001b[0m\u001b[0m\n",
      "\u001b[1;32mc:\\python36\\lib\\site-packages\\retrying.py\u001b[0m in \u001b[0;36mcall\u001b[1;34m(self, fn, *args, **kwargs)\u001b[0m\n\u001b[0;32m    204\u001b[0m \u001b[1;33m\u001b[0m\u001b[0m\n\u001b[0;32m    205\u001b[0m             \u001b[1;32mif\u001b[0m \u001b[1;32mnot\u001b[0m \u001b[0mself\u001b[0m\u001b[1;33m.\u001b[0m\u001b[0mshould_reject\u001b[0m\u001b[1;33m(\u001b[0m\u001b[0mattempt\u001b[0m\u001b[1;33m)\u001b[0m\u001b[1;33m:\u001b[0m\u001b[1;33m\u001b[0m\u001b[1;33m\u001b[0m\u001b[0m\n\u001b[1;32m--> 206\u001b[1;33m                 \u001b[1;32mreturn\u001b[0m \u001b[0mattempt\u001b[0m\u001b[1;33m.\u001b[0m\u001b[0mget\u001b[0m\u001b[1;33m(\u001b[0m\u001b[0mself\u001b[0m\u001b[1;33m.\u001b[0m\u001b[0m_wrap_exception\u001b[0m\u001b[1;33m)\u001b[0m\u001b[1;33m\u001b[0m\u001b[1;33m\u001b[0m\u001b[0m\n\u001b[0m\u001b[0;32m    207\u001b[0m \u001b[1;33m\u001b[0m\u001b[0m\n\u001b[0;32m    208\u001b[0m             \u001b[0mdelay_since_first_attempt_ms\u001b[0m \u001b[1;33m=\u001b[0m \u001b[0mint\u001b[0m\u001b[1;33m(\u001b[0m\u001b[0mround\u001b[0m\u001b[1;33m(\u001b[0m\u001b[0mtime\u001b[0m\u001b[1;33m.\u001b[0m\u001b[0mtime\u001b[0m\u001b[1;33m(\u001b[0m\u001b[1;33m)\u001b[0m \u001b[1;33m*\u001b[0m \u001b[1;36m1000\u001b[0m\u001b[1;33m)\u001b[0m\u001b[1;33m)\u001b[0m \u001b[1;33m-\u001b[0m \u001b[0mstart_time\u001b[0m\u001b[1;33m\u001b[0m\u001b[1;33m\u001b[0m\u001b[0m\n",
      "\u001b[1;32mc:\\python36\\lib\\site-packages\\retrying.py\u001b[0m in \u001b[0;36mget\u001b[1;34m(self, wrap_exception)\u001b[0m\n\u001b[0;32m    245\u001b[0m                 \u001b[1;32mraise\u001b[0m \u001b[0mRetryError\u001b[0m\u001b[1;33m(\u001b[0m\u001b[0mself\u001b[0m\u001b[1;33m)\u001b[0m\u001b[1;33m\u001b[0m\u001b[1;33m\u001b[0m\u001b[0m\n\u001b[0;32m    246\u001b[0m             \u001b[1;32melse\u001b[0m\u001b[1;33m:\u001b[0m\u001b[1;33m\u001b[0m\u001b[1;33m\u001b[0m\u001b[0m\n\u001b[1;32m--> 247\u001b[1;33m                 \u001b[0msix\u001b[0m\u001b[1;33m.\u001b[0m\u001b[0mreraise\u001b[0m\u001b[1;33m(\u001b[0m\u001b[0mself\u001b[0m\u001b[1;33m.\u001b[0m\u001b[0mvalue\u001b[0m\u001b[1;33m[\u001b[0m\u001b[1;36m0\u001b[0m\u001b[1;33m]\u001b[0m\u001b[1;33m,\u001b[0m \u001b[0mself\u001b[0m\u001b[1;33m.\u001b[0m\u001b[0mvalue\u001b[0m\u001b[1;33m[\u001b[0m\u001b[1;36m1\u001b[0m\u001b[1;33m]\u001b[0m\u001b[1;33m,\u001b[0m \u001b[0mself\u001b[0m\u001b[1;33m.\u001b[0m\u001b[0mvalue\u001b[0m\u001b[1;33m[\u001b[0m\u001b[1;36m2\u001b[0m\u001b[1;33m]\u001b[0m\u001b[1;33m)\u001b[0m\u001b[1;33m\u001b[0m\u001b[1;33m\u001b[0m\u001b[0m\n\u001b[0m\u001b[0;32m    248\u001b[0m         \u001b[1;32melse\u001b[0m\u001b[1;33m:\u001b[0m\u001b[1;33m\u001b[0m\u001b[1;33m\u001b[0m\u001b[0m\n\u001b[0;32m    249\u001b[0m             \u001b[1;32mreturn\u001b[0m \u001b[0mself\u001b[0m\u001b[1;33m.\u001b[0m\u001b[0mvalue\u001b[0m\u001b[1;33m\u001b[0m\u001b[1;33m\u001b[0m\u001b[0m\n",
      "\u001b[1;32mc:\\python36\\lib\\site-packages\\six.py\u001b[0m in \u001b[0;36mreraise\u001b[1;34m(tp, value, tb)\u001b[0m\n\u001b[0;32m    691\u001b[0m             \u001b[1;32mif\u001b[0m \u001b[0mvalue\u001b[0m\u001b[1;33m.\u001b[0m\u001b[0m__traceback__\u001b[0m \u001b[1;32mis\u001b[0m \u001b[1;32mnot\u001b[0m \u001b[0mtb\u001b[0m\u001b[1;33m:\u001b[0m\u001b[1;33m\u001b[0m\u001b[1;33m\u001b[0m\u001b[0m\n\u001b[0;32m    692\u001b[0m                 \u001b[1;32mraise\u001b[0m \u001b[0mvalue\u001b[0m\u001b[1;33m.\u001b[0m\u001b[0mwith_traceback\u001b[0m\u001b[1;33m(\u001b[0m\u001b[0mtb\u001b[0m\u001b[1;33m)\u001b[0m\u001b[1;33m\u001b[0m\u001b[1;33m\u001b[0m\u001b[0m\n\u001b[1;32m--> 693\u001b[1;33m             \u001b[1;32mraise\u001b[0m \u001b[0mvalue\u001b[0m\u001b[1;33m\u001b[0m\u001b[1;33m\u001b[0m\u001b[0m\n\u001b[0m\u001b[0;32m    694\u001b[0m         \u001b[1;32mfinally\u001b[0m\u001b[1;33m:\u001b[0m\u001b[1;33m\u001b[0m\u001b[1;33m\u001b[0m\u001b[0m\n\u001b[0;32m    695\u001b[0m             \u001b[0mvalue\u001b[0m \u001b[1;33m=\u001b[0m \u001b[1;32mNone\u001b[0m\u001b[1;33m\u001b[0m\u001b[1;33m\u001b[0m\u001b[0m\n",
      "\u001b[1;32mc:\\python36\\lib\\site-packages\\retrying.py\u001b[0m in \u001b[0;36mcall\u001b[1;34m(self, fn, *args, **kwargs)\u001b[0m\n\u001b[0;32m    198\u001b[0m         \u001b[1;32mwhile\u001b[0m \u001b[1;32mTrue\u001b[0m\u001b[1;33m:\u001b[0m\u001b[1;33m\u001b[0m\u001b[1;33m\u001b[0m\u001b[0m\n\u001b[0;32m    199\u001b[0m             \u001b[1;32mtry\u001b[0m\u001b[1;33m:\u001b[0m\u001b[1;33m\u001b[0m\u001b[1;33m\u001b[0m\u001b[0m\n\u001b[1;32m--> 200\u001b[1;33m                 \u001b[0mattempt\u001b[0m \u001b[1;33m=\u001b[0m \u001b[0mAttempt\u001b[0m\u001b[1;33m(\u001b[0m\u001b[0mfn\u001b[0m\u001b[1;33m(\u001b[0m\u001b[1;33m*\u001b[0m\u001b[0margs\u001b[0m\u001b[1;33m,\u001b[0m \u001b[1;33m**\u001b[0m\u001b[0mkwargs\u001b[0m\u001b[1;33m)\u001b[0m\u001b[1;33m,\u001b[0m \u001b[0mattempt_number\u001b[0m\u001b[1;33m,\u001b[0m \u001b[1;32mFalse\u001b[0m\u001b[1;33m)\u001b[0m\u001b[1;33m\u001b[0m\u001b[1;33m\u001b[0m\u001b[0m\n\u001b[0m\u001b[0;32m    201\u001b[0m             \u001b[1;32mexcept\u001b[0m\u001b[1;33m:\u001b[0m\u001b[1;33m\u001b[0m\u001b[1;33m\u001b[0m\u001b[0m\n\u001b[0;32m    202\u001b[0m                 \u001b[0mtb\u001b[0m \u001b[1;33m=\u001b[0m \u001b[0msys\u001b[0m\u001b[1;33m.\u001b[0m\u001b[0mexc_info\u001b[0m\u001b[1;33m(\u001b[0m\u001b[1;33m)\u001b[0m\u001b[1;33m\u001b[0m\u001b[1;33m\u001b[0m\u001b[0m\n",
      "\u001b[1;32mc:\\python36\\lib\\site-packages\\chart_studio\\api\\v2\\utils.py\u001b[0m in \u001b[0;36mrequest\u001b[1;34m(method, url, **kwargs)\u001b[0m\n\u001b[0;32m    178\u001b[0m         \u001b[0mcontent\u001b[0m \u001b[1;33m=\u001b[0m \u001b[0mresponse\u001b[0m\u001b[1;33m.\u001b[0m\u001b[0mcontent\u001b[0m \u001b[1;32mif\u001b[0m \u001b[0mresponse\u001b[0m \u001b[1;32melse\u001b[0m \u001b[1;34m\"No content\"\u001b[0m\u001b[1;33m\u001b[0m\u001b[1;33m\u001b[0m\u001b[0m\n\u001b[0;32m    179\u001b[0m         \u001b[1;32mraise\u001b[0m \u001b[0mexceptions\u001b[0m\u001b[1;33m.\u001b[0m\u001b[0mPlotlyRequestError\u001b[0m\u001b[1;33m(\u001b[0m\u001b[0mmessage\u001b[0m\u001b[1;33m,\u001b[0m \u001b[0mstatus_code\u001b[0m\u001b[1;33m,\u001b[0m \u001b[0mcontent\u001b[0m\u001b[1;33m)\u001b[0m\u001b[1;33m\u001b[0m\u001b[1;33m\u001b[0m\u001b[0m\n\u001b[1;32m--> 180\u001b[1;33m     \u001b[0mvalidate_response\u001b[0m\u001b[1;33m(\u001b[0m\u001b[0mresponse\u001b[0m\u001b[1;33m)\u001b[0m\u001b[1;33m\u001b[0m\u001b[1;33m\u001b[0m\u001b[0m\n\u001b[0m\u001b[0;32m    181\u001b[0m     \u001b[1;32mreturn\u001b[0m \u001b[0mresponse\u001b[0m\u001b[1;33m\u001b[0m\u001b[1;33m\u001b[0m\u001b[0m\n",
      "\u001b[1;32mc:\\python36\\lib\\site-packages\\chart_studio\\api\\v2\\utils.py\u001b[0m in \u001b[0;36mvalidate_response\u001b[1;34m(response)\u001b[0m\n\u001b[0;32m     80\u001b[0m         \u001b[0mmessage\u001b[0m \u001b[1;33m=\u001b[0m \u001b[0mcontent\u001b[0m \u001b[1;32mif\u001b[0m \u001b[0mcontent\u001b[0m \u001b[1;32melse\u001b[0m \u001b[1;34m\"No Content\"\u001b[0m\u001b[1;33m\u001b[0m\u001b[1;33m\u001b[0m\u001b[0m\n\u001b[0;32m     81\u001b[0m \u001b[1;33m\u001b[0m\u001b[0m\n\u001b[1;32m---> 82\u001b[1;33m     \u001b[1;32mraise\u001b[0m \u001b[0mexceptions\u001b[0m\u001b[1;33m.\u001b[0m\u001b[0mPlotlyRequestError\u001b[0m\u001b[1;33m(\u001b[0m\u001b[0mmessage\u001b[0m\u001b[1;33m,\u001b[0m \u001b[0mstatus_code\u001b[0m\u001b[1;33m,\u001b[0m \u001b[0mcontent\u001b[0m\u001b[1;33m)\u001b[0m\u001b[1;33m\u001b[0m\u001b[1;33m\u001b[0m\u001b[0m\n\u001b[0m\u001b[0;32m     83\u001b[0m \u001b[1;33m\u001b[0m\u001b[0m\n\u001b[0;32m     84\u001b[0m \u001b[1;33m\u001b[0m\u001b[0m\n",
      "\u001b[1;31mPlotlyRequestError\u001b[0m: Authentication credentials were not provided."
     ]
    }
   ],
   "source": [
    "import chart_studio.plotly as py\n",
    "import plotly.graph_objects as go\n",
    "\n",
    "import numpy as np\n",
    "\n",
    "s = np.linspace(0, 2 * np.pi, 240)\n",
    "t = np.linspace(0, np.pi, 240)\n",
    "tGrid, sGrid = np.meshgrid(s, t)\n",
    "\n",
    "r = 2 + np.sin(7 * sGrid + 5 * tGrid)  # r = 2 + sin(7s+5t)\n",
    "x = r * np.cos(sGrid) * np.sin(tGrid)  # x = r*cos(s)*sin(t)\n",
    "y = r * np.sin(sGrid) * np.sin(tGrid)  # y = r*sin(s)*sin(t)\n",
    "z = r * np.cos(tGrid)                  # z = r*cos(t)\n",
    "\n",
    "surface = go.Surface(x=x, y=y, z=z)\n",
    "data = [surface]\n",
    "\n",
    "layout = go.Layout(\n",
    "    title='Parametric Plot',\n",
    "    scene=dict(\n",
    "        xaxis=dict(\n",
    "            gridcolor='rgb(255, 255, 255)',\n",
    "            zerolinecolor='rgb(255, 255, 255)',\n",
    "            showbackground=True,\n",
    "            backgroundcolor='rgb(230, 230,230)'\n",
    "        ),\n",
    "        yaxis=dict(\n",
    "            gridcolor='rgb(255, 255, 255)',\n",
    "            zerolinecolor='rgb(255, 255, 255)',\n",
    "            showbackground=True,\n",
    "            backgroundcolor='rgb(230, 230,230)'\n",
    "        ),\n",
    "        zaxis=dict(\n",
    "            gridcolor='rgb(255, 255, 255)',\n",
    "            zerolinecolor='rgb(255, 255, 255)',\n",
    "            showbackground=True,\n",
    "            backgroundcolor='rgb(230, 230,230)'\n",
    "        )\n",
    "    )\n",
    ")\n",
    "\n",
    "fig = go.Figure(data=data, layout=layout)\n",
    "py.iplot(fig, filename='jupyter-parametric_plot')"
   ]
  },
  {
   "cell_type": "code",
   "execution_count": 7,
   "metadata": {
    "ExecuteTime": {
     "end_time": "2020-05-25T08:33:47.007625Z",
     "start_time": "2020-05-25T08:33:46.935055Z"
    },
    "scrolled": false
   },
   "outputs": [
    {
     "data": {
      "application/vnd.jupyter.widget-view+json": {
       "model_id": "291649ce01e04cfbabc920eecc34a882",
       "version_major": 2,
       "version_minor": 0
      },
      "text/plain": [
       "VBox(children=(HBox(children=(FloatSlider(value=0.0, description='$t$:', layout=Layout(height='80px', width='1…"
      ]
     },
     "metadata": {},
     "output_type": "display_data"
    },
    {
     "data": {
      "application/vnd.jupyter.widget-view+json": {
       "model_id": "3475d403aabe442b869af140fac686d7",
       "version_major": 2,
       "version_minor": 0
      },
      "text/plain": [
       "VBox(children=(HBox(children=(FloatSlider(value=-10.0, description='Real[$s$]:', layout=Layout(height='80px', …"
      ]
     },
     "metadata": {},
     "output_type": "display_data"
    },
    {
     "data": {
      "application/vnd.jupyter.widget-view+json": {
       "model_id": "87238905a103426ebc9f9175e89dfdf6",
       "version_major": 2,
       "version_minor": 0
      },
      "text/plain": [
       "HBox(children=(Figure(animation_duration=100, axes=[Axis(grid_lines='none', label='Real', scale=LinearScale(ma…"
      ]
     },
     "metadata": {},
     "output_type": "display_data"
    },
    {
     "data": {
      "application/vnd.jupyter.widget-view+json": {
       "model_id": "79e060c2182f49e5b274e9cd1b5ca814",
       "version_major": 2,
       "version_minor": 0
      },
      "text/plain": [
       "HBox(children=(Figure(animation_duration=100, axes=[Axis(grid_lines='none', label='Frequency (Imag[s])', scale…"
      ]
     },
     "metadata": {},
     "output_type": "display_data"
    }
   ],
   "source": [
    "display(ipw.VBox([ipw.HBox([tSlider, ySlider]), tyFig]))\n",
    "display(ipw.VBox([ipw.HBox([s1Slider, Y1Slider]), ipw.HBox([s2Slider, Y2Slider]), ipw.HBox([fourierCheckbox, showPolesCheckbox, showZerosCheckbox])]))\n",
    "display(ipw.HBox([sFig, YFig]))    \n",
    "display(ipw.HBox([freqampFig, amp3dFig]))"
   ]
  },
  {
   "cell_type": "markdown",
   "metadata": {},
   "source": [
    "## COMPARISON: matplotlib slider & plot interaction "
   ]
  },
  {
   "cell_type": "code",
   "execution_count": 14,
   "metadata": {
    "ExecuteTime": {
     "end_time": "2020-05-11T11:56:15.513514Z",
     "start_time": "2020-05-11T11:56:15.453457Z"
    },
    "scrolled": false
   },
   "outputs": [
    {
     "data": {
      "application/vnd.jupyter.widget-view+json": {
       "model_id": "e449f4c18aad4811acf0535399295a68",
       "version_major": 2,
       "version_minor": 0
      },
      "text/plain": [
       "Canvas(toolbar=Toolbar(toolitems=[('Home', 'Reset original view', 'home', 'home'), ('Back', 'Back to previous …"
      ]
     },
     "metadata": {},
     "output_type": "display_data"
    },
    {
     "data": {
      "application/vnd.jupyter.widget-view+json": {
       "model_id": "435f161d20c74ff6b9fbbd8c9ea9f6bc",
       "version_major": 2,
       "version_minor": 0
      },
      "text/plain": [
       "HBox(children=(FloatSlider(value=7.07071, continuous_update=False, description='$t$:', layout=Layout(height='8…"
      ]
     },
     "metadata": {},
     "output_type": "display_data"
    }
   ],
   "source": [
    "from matplotlib import pyplot as plt\n",
    "#%matplotlib inline # DOES NOT WORK/UPDATE\n",
    "%matplotlib widget\n",
    "fig = plt.figure()\n",
    "ax = fig.gca()\n",
    "hPlot = ax.plot(tArray, yArray, linewidth=2, label='$y$');\n",
    "hScatter = ax.scatter(tArray[0], yArray[0], 50)\n",
    "hText = ax.text(tArray[0], yArray[0], ' ${:.3f}$'.format(yArray[0]))\n",
    "ax.set_xlabel('$t$');\n",
    "ax.set_ylabel('$y(t)$');\n",
    "plt.legend(loc=\"best\");\n",
    "\n",
    "def handle_tSlider_change(change): \n",
    "    tValue = change['new']\n",
    "    yValue = y(tValue)\n",
    "    ySlider.value = yValue\n",
    "    hScatter.set_offsets((tValue, yValue))\n",
    "    hText.set_position((tValue, yValue))\n",
    "    hText.set_text(' ${:.3f}$'.format(yValue))\n",
    "tSlider.observe(handle_tSlider_change, names='value')\n",
    "\n",
    "display(ipw.HBox([tSlider, ySlider]))"
   ]
  },
  {
   "cell_type": "markdown",
   "metadata": {},
   "source": [
    "# linking widgets"
   ]
  },
  {
   "cell_type": "code",
   "execution_count": 28,
   "metadata": {
    "ExecuteTime": {
     "end_time": "2020-05-09T23:41:03.945621Z",
     "start_time": "2020-05-09T23:41:03.928093Z"
    }
   },
   "outputs": [
    {
     "data": {
      "application/vnd.jupyter.widget-view+json": {
       "model_id": "988605bd681a42a7985273cdcb89d6b8",
       "version_major": 2,
       "version_minor": 0
      },
      "text/plain": [
       "FloatText(value=0.0)"
      ]
     },
     "metadata": {},
     "output_type": "display_data"
    },
    {
     "data": {
      "application/vnd.jupyter.widget-view+json": {
       "model_id": "8860ad3d08e54c039600312a055a019d",
       "version_major": 2,
       "version_minor": 0
      },
      "text/plain": [
       "FloatSlider(value=0.0)"
      ]
     },
     "metadata": {},
     "output_type": "display_data"
    }
   ],
   "source": [
    "a = ipw.FloatText()\n",
    "b = ipw.FloatSlider()\n",
    "display(a,b)\n",
    "\n",
    "mylink = ipw.jslink((a, 'value'), (b, 'value'))"
   ]
  },
  {
   "cell_type": "markdown",
   "metadata": {},
   "source": [
    "# sympy laplace transform test"
   ]
  },
  {
   "cell_type": "code",
   "execution_count": 15,
   "metadata": {
    "ExecuteTime": {
     "end_time": "2020-05-09T15:01:38.351680Z",
     "start_time": "2020-05-09T15:01:36.556419Z"
    }
   },
   "outputs": [
    {
     "data": {
      "image/png": "[encoded data removed]",
      "text/latex": [
       "$\\displaystyle \\mathcal{L}_{t}\\left[\\frac{d}{d t} f{\\left(t \\right)}\\right]\\left(s\\right)$"
      ],
      "text/plain": [
       "                ⎛d             ⎞\n",
       "LaplaceTransform⎜──(f(t)), t, s⎟\n",
       "                ⎝dt            ⎠"
      ]
     },
     "execution_count": 15,
     "metadata": {},
     "output_type": "execute_result"
    }
   ],
   "source": [
    "import sympy as sy\n",
    "from sympy.abc import t, s, a\n",
    "sy.init_printing()\n",
    "f = sy.Function('f')\n",
    "sy.laplace_transform(f(t).diff(), t, s)"
   ]
  },
  {
   "cell_type": "markdown",
   "metadata": {},
   "source": [
    "# draggable points in matplotlib example \n",
    "https://stackoverflow.com/questions/50439506/dragging-points-in-matplotlib-interactive-plot"
   ]
  },
  {
   "cell_type": "markdown",
   "metadata": {
    "ExecuteTime": {
     "end_time": "2020-05-09T14:53:59.567225Z",
     "start_time": "2020-05-09T14:53:59.564211Z"
    }
   },
   "source": [
    "# other notes"
   ]
  },
  {
   "cell_type": "code",
   "execution_count": 19,
   "metadata": {
    "ExecuteTime": {
     "end_time": "2020-05-11T11:53:21.423265Z",
     "start_time": "2020-05-11T11:53:21.120975Z"
    },
    "scrolled": true
   },
   "outputs": [
    {
     "name": "stderr",
     "output_type": "stream",
     "text": [
      "In c:\\python36\\lib\\site-packages\\matplotlib\\mpl-data\\stylelib\\_classic_test.mplstyle: \n",
      "The savefig.frameon rcparam was deprecated in Matplotlib 3.1 and will be removed in 3.3.\n",
      "In c:\\python36\\lib\\site-packages\\matplotlib\\mpl-data\\stylelib\\_classic_test.mplstyle: \n",
      "The verbose.level rcparam was deprecated in Matplotlib 3.1 and will be removed in 3.3.\n",
      "In c:\\python36\\lib\\site-packages\\matplotlib\\mpl-data\\stylelib\\_classic_test.mplstyle: \n",
      "The verbose.fileo rcparam was deprecated in Matplotlib 3.1 and will be removed in 3.3.\n"
     ]
    },
    {
     "data": {
      "application/vnd.jupyter.widget-view+json": {
       "model_id": "ad2951612f7e409c9a798a0d25d1572d",
       "version_major": 2,
       "version_minor": 0
      },
      "text/plain": [
       "Canvas(toolbar=Toolbar(toolitems=[('Home', 'Reset original view', 'home', 'home'), ('Back', 'Back to previous …"
      ]
     },
     "metadata": {},
     "output_type": "display_data"
    }
   ],
   "source": [
    "import matplotlib.pyplot as plt\n",
    "%matplotlib widget\n",
    "def fun(x, y):\n",
    "    x, y = Y(x, y)\n",
    "    return np.sqrt(x**2 + y**2)\n",
    "fig = plt.figure()\n",
    "ax = fig.add_subplot(111, projection='3d')\n",
    "x, y = np.meshgrid(s1Array, s2Array)\n",
    "zs = np.array(fun(np.ravel(x), np.ravel(y)))\n",
    "z = zs.reshape(x.shape)\n",
    "ax.plot_surface(x, y, z)\n",
    "ax.set_zlim(0, 5)\n",
    "plt.show()"
   ]
  },
  {
   "cell_type": "code",
   "execution_count": 18,
   "metadata": {
    "ExecuteTime": {
     "end_time": "2020-05-11T11:53:19.796852Z",
     "start_time": "2020-05-11T11:53:19.761332Z"
    }
   },
   "outputs": [
    {
     "data": {
      "application/vnd.jupyter.widget-view+json": {
       "model_id": "65c5124398784d07b61ece15632c5309",
       "version_major": 2,
       "version_minor": 0
      },
      "text/plain": [
       "VBox(children=(Play(value=1, interval=2000, min=1), IntSlider(value=1, min=1), Output()))"
      ]
     },
     "metadata": {},
     "output_type": "display_data"
    }
   ],
   "source": [
    "import ipywidgets as widgets\n",
    "\n",
    "out = widgets.Output()\n",
    "def on_value_change(change):\n",
    "    with out:\n",
    "        print(change['new'])\n",
    "\n",
    "slider = widgets.IntSlider(min=1, max=100, step=1, continuous_update=True)\n",
    "play = widgets.Play(min=1, interval=2000)\n",
    "\n",
    "slider.observe(on_value_change, 'value')\n",
    "widgets.jslink((play, 'value'), (slider, 'value'))\n",
    "widgets.VBox([play, slider, out])"
   ]
  },
  {
   "cell_type": "code",
   "execution_count": null,
   "metadata": {},
   "outputs": [],
   "source": []
  }
 ],
 "metadata": {
  "hide_input": false,
  "kernelspec": {
   "display_name": "Python 3",
   "language": "python",
   "name": "python3"
  },
  "language_info": {
   "codemirror_mode": {
    "name": "ipython",
    "version": 3
   },
   "file_extension": ".py",
   "mimetype": "text/x-python",
   "name": "python",
   "nbconvert_exporter": "python",
   "pygments_lexer": "ipython3",
   "version": "3.6.7"
  },
  "toc": {
   "base_numbering": 1,
   "nav_menu": {},
   "number_sections": true,
   "sideBar": true,
   "skip_h1_title": false,
   "title_cell": "Table of Contents",
   "title_sidebar": "Contents",
   "toc_cell": false,
   "toc_position": {},
   "toc_section_display": true,
   "toc_window_display": false
  },
  "varInspector": {
   "cols": {
    "lenName": 16,
    "lenType": 16,
    "lenVar": 40
   },
   "kernels_config": {
    "python": {
     "delete_cmd_postfix": "",
     "delete_cmd_prefix": "del ",
     "library": "var_list.py",
     "varRefreshCmd": "print(var_dic_list())"
    },
    "r": {
     "delete_cmd_postfix": ") ",
     "delete_cmd_prefix": "rm(",
     "library": "var_list.r",
     "varRefreshCmd": "cat(var_dic_list()) "
    }
   },
   "types_to_exclude": [
    "module",
    "function",
    "builtin_function_or_method",
    "instance",
    "_Feature"
   ],
   "window_display": false
  }
 },
 "nbformat": 4,
 "nbformat_minor": 2
}
