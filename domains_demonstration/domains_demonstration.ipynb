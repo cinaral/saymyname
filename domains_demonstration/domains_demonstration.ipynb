{
 "cells": [
  {
   "cell_type": "code",
   "execution_count": 29,
   "metadata": {
    "ExecuteTime": {
     "end_time": "2020-05-09T15:29:23.726114Z",
     "start_time": "2020-05-09T15:29:23.720625Z"
    }
   },
   "outputs": [],
   "source": [
    "# define the system\n",
    "from IPython.display import display\n",
    "import ipywidgets as ipw\n",
    "import numpy as np\n",
    "\n",
    "def y(x):\n",
    "    return(np.exp(-0.1*x) * np.sin(x))\n",
    "\n",
    "def Y(s1, s2):\n",
    "    s = s1 +  1j * s2\n",
    "    Y = 1 / s # WATCH DIVISION BY ZERO\n",
    "    return(Y.real, Y.imag)\n",
    "\n",
    "tArray = np.linspace(0, 10, 100)\n",
    "s1Array = np.linspace(-10, 10, 100) # make sure both of them don't pass through 0 to avoid infinity\n",
    "s2Array = np.linspace(-10, 10, 100)\n",
    "\n",
    "yArray = y(tArray)\n",
    "Y1Array, Y2Array = Y(s1Array, s2Array)"
   ]
  },
  {
   "cell_type": "code",
   "execution_count": 22,
   "metadata": {
    "ExecuteTime": {
     "end_time": "2020-05-09T15:27:59.076503Z",
     "start_time": "2020-05-09T15:27:59.035463Z"
    },
    "scrolled": false
   },
   "outputs": [],
   "source": [
    "# sliders styling and whatnot, normally should be hidden from view\n",
    "tSlider = ipw.FloatSlider(\n",
    "    value=tArray[0],\n",
    "    min=np.min(tArray), \n",
    "    max=np.max(tArray),\n",
    "    description='$t$:',\n",
    "    disabled=False, \n",
    "    step=tArray[1] - tArray[0],\n",
    "    readout=True,\n",
    "    readout_format='.1f',\n",
    "    continuous_update=True,\n",
    "    layout=ipw.Layout(width='100%', height='80px'), \n",
    ")\n",
    "\n",
    "ySlider = ipw.FloatSlider(\n",
    "    value=yArray[0],\n",
    "    min=np.min(yArray), \n",
    "    max=np.max(yArray),\n",
    "    description='$y$:',\n",
    "    disabled=True,\n",
    "    readout=True,\n",
    "    readout_format='.4f',\n",
    "    continuous_update=True,\n",
    "    layout=ipw.Layout(width='100%', height='80px'), \n",
    ")\n",
    "\n",
    "s1Slider = ipw.FloatSlider(\n",
    "    value=s1Array[0],\n",
    "    min=np.min(s1Array), \n",
    "    max=np.max(s1Array), \n",
    "    description='Real[$s$]:',\n",
    "    disabled=False,\n",
    "    step=s1Array[1] - s1Array[0],\n",
    "    readout=True,\n",
    "    readout_format='.1f',\n",
    "    continuous_update=True,\n",
    "    layout=ipw.Layout(width='50%', height='80px'),  \n",
    ")\n",
    "\n",
    "s2Slider = ipw.FloatSlider(\n",
    "    value=s2Array[0],\n",
    "    min=np.min(s2Array), \n",
    "    max=np.max(s2Array), \n",
    "    description='Imag[$s$]:',\n",
    "    disabled=False,\n",
    "    step=s2Array[1] - s2Array[0],\n",
    "    readout=True,\n",
    "    readout_format='.1f',\n",
    "    continuous_update=True,\n",
    "    layout=ipw.Layout(width='50%', height='80px'), \n",
    ")\n",
    "\n",
    "Y1Slider = ipw.FloatSlider(\n",
    "    value=Y1Array[0],\n",
    "    min=np.min(Y1Array), \n",
    "    max=np.max(Y1Array), \n",
    "    description='Real[$Y$]:',\n",
    "    disabled=True,\n",
    "    readout=True,\n",
    "    readout_format='.4f',\n",
    "    continuous_update=True,\n",
    "    layout=ipw.Layout(width='50%', height='80px'), \n",
    ")\n",
    "\n",
    "Y2Slider = ipw.FloatSlider(\n",
    "    value=Y2Array[0],\n",
    "    min=np.min(Y2Array), \n",
    "    max=np.max(Y2Array), \n",
    "    description='Imag[$Y$]:',\n",
    "    disabled=True,\n",
    "    readout=True,\n",
    "    readout_format='.4f',\n",
    "    continuous_update=True,\n",
    "    layout=ipw.Layout(width='50%', height='80px'), \n",
    ")"
   ]
  },
  {
   "cell_type": "code",
   "execution_count": 32,
   "metadata": {
    "ExecuteTime": {
     "end_time": "2020-05-09T15:31:57.286053Z",
     "start_time": "2020-05-09T15:31:57.260027Z"
    }
   },
   "outputs": [
    {
     "data": {
      "application/vnd.jupyter.widget-view+json": {
       "model_id": "5af4b6950f4f43b99068c01a7d376058",
       "version_major": 2,
       "version_minor": 0
      },
      "text/plain": [
       "VBox(children=(HBox(children=(FloatSlider(value=-10.0, description='Real[$s$]:', layout=Layout(height='80px', …"
      ]
     },
     "metadata": {},
     "output_type": "display_data"
    }
   ],
   "source": [
    "s1Slider.value = s2Array[0]\n",
    "s2Slider.value = s1Array[0]\n",
    "Y1Slider.value = Y1Array[0]\n",
    "Y2Slider.value = Y2Array[0]\n",
    "\n",
    "\n",
    "def update_sSliders(s1Value, s2Value):\n",
    "    s1Slider.value = s1Value\n",
    "    s2Slider.value = s2Value\n",
    "\n",
    "def update_YSliders(s1Value, s2Value):\n",
    "    Y1Value, Y2Value = Y(s1Value, s2Value)\n",
    "    Y1Slider.value = Y1Value\n",
    "    Y2Slider.value = Y2Value\n",
    "\n",
    "def handle_s1Slider(change):\n",
    "    s1Value = change['new']\n",
    "    s2Value = s2Slider.value\n",
    "    update_YSliders(s1Value, s2Value)\n",
    "\n",
    "def handle_s2Slider(change):\n",
    "    s1Value = s1Slider.value\n",
    "    s2Value = change['new'] \n",
    "    update_YSliders(s1Value, s2Value)\n",
    "\n",
    "s1Slider.observe(handle_s1Slider, names='value')    \n",
    "s2Slider.observe(handle_s2Slider, names='value')   \n",
    "display(ipw.VBox([ipw.HBox([s1Slider, Y1Slider]), ipw.HBox([s2Slider, Y2Slider])]))\n",
    "\n",
    "# for some reason doesn't work:\n",
    "#display(ipw.HBox([ipw.VBox([s1Slider, s2Slider]), ipw.VBox([Y1Slider, Y2Slider])])) \n",
    "#display(fig)    "
   ]
  },
  {
   "cell_type": "markdown",
   "metadata": {},
   "source": [
    "# bqplot slider & plot interaction "
   ]
  },
  {
   "cell_type": "markdown",
   "metadata": {},
   "source": [
    "## time->y"
   ]
  },
  {
   "cell_type": "code",
   "execution_count": 27,
   "metadata": {
    "ExecuteTime": {
     "end_time": "2020-05-09T15:28:50.136265Z",
     "start_time": "2020-05-09T15:28:50.090221Z"
    },
    "scrolled": false
   },
   "outputs": [
    {
     "data": {
      "application/vnd.jupyter.widget-view+json": {
       "model_id": "37d65ac546dd46dc93f1f04e5a8a0437",
       "version_major": 2,
       "version_minor": 0
      },
      "text/plain": [
       "HBox(children=(FloatSlider(value=0.0, description='$t$:', layout=Layout(height='80px', width='100%'), max=10.0…"
      ]
     },
     "metadata": {},
     "output_type": "display_data"
    },
    {
     "data": {
      "application/vnd.jupyter.widget-view+json": {
       "model_id": "0a338b719f334646867104b62f2ef2df",
       "version_major": 2,
       "version_minor": 0
      },
      "text/plain": [
       "Figure(axes=[Axis(grid_lines='none', label='t', scale=LinearScale(), tick_format='0.0f'), Axis(grid_lines='non…"
      ]
     },
     "metadata": {},
     "output_type": "display_data"
    }
   ],
   "source": [
    "import bqplot as bqp\n",
    "# initialize the sliders and figure\n",
    "tSlider.value = tArray[0]\n",
    "ySlider.value = yArray[0]\n",
    "xSc = bqp.LinearScale()\n",
    "ySc = bqp.LinearScale()\n",
    "xAxis = bqp.Axis(label='t', scale=xSc, tick_format='0.0f', grid_lines='none')\n",
    "yAxis = bqp.Axis(label='y(t)', scale=ySc, orientation='vertical', tick_format='0.2f', grid_lines='none')\n",
    "line = bqp.Lines(x=tArray, y=yArray, scales={'x': xSc, 'y': ySc}, labels=['y'], display_legend=True)\n",
    "point = bqp.Scatter(x=[tArray[0]], y=[yArray[0]], scales={'x': xSc, 'y': ySc})\n",
    "label = bqp.Label(x=[tArray[0]], y=[yArray[0]], scales={'x': xSc, 'y': ySc}, x_offset = 5, y_offset = 5, text=['{:.4f}'.format(yArray[0])])\n",
    "fig = bqp.Figure(axes=[xAxis, yAxis],  marks=[line, point, label])\n",
    "\n",
    "def handle_tSlider(change):\n",
    "    tValue = change['new']\n",
    "    yValue = y(tValue)\n",
    "    ySlider.value = yValue\n",
    "    point.x = [tValue]\n",
    "    point.y = [yValue]\n",
    "    label.x = [tValue]\n",
    "    label.y = [yValue]\n",
    "    label.text = ['{:.4f}'.format(yValue)]\n",
    "    \n",
    "tSlider.observe(handle_tSlider, names='value')\n",
    "\n",
    "display(ipw.HBox([tSlider, ySlider]))\n",
    "display(fig)"
   ]
  },
  {
   "cell_type": "markdown",
   "metadata": {},
   "source": [
    "## COMPARISON: matplotlib slider & plot interaction "
   ]
  },
  {
   "cell_type": "code",
   "execution_count": 5,
   "metadata": {
    "ExecuteTime": {
     "end_time": "2020-05-09T15:04:08.426260Z",
     "start_time": "2020-05-09T15:04:08.379214Z"
    },
    "scrolled": false
   },
   "outputs": [
    {
     "data": {
      "application/vnd.jupyter.widget-view+json": {
       "model_id": "096259b2713b4ff99579dac8731f5205",
       "version_major": 2,
       "version_minor": 0
      },
      "text/plain": [
       "Canvas(toolbar=Toolbar(toolitems=[('Home', 'Reset original view', 'home', 'home'), ('Back', 'Back to previous …"
      ]
     },
     "metadata": {},
     "output_type": "display_data"
    },
    {
     "data": {
      "application/vnd.jupyter.widget-view+json": {
       "model_id": "37b58f571bc44516bc569f7e0d25021c",
       "version_major": 2,
       "version_minor": 0
      },
      "text/plain": [
       "HBox(children=(FloatSlider(value=3.0, description='$t$:', layout=Layout(height='80px', width='100%'), max=10.0…"
      ]
     },
     "metadata": {},
     "output_type": "display_data"
    }
   ],
   "source": [
    "from matplotlib import pyplot as plt\n",
    "#%matplotlib inline # DOES NOT WORK/UPDATE\n",
    "%matplotlib widget\n",
    "fig = plt.figure()\n",
    "ax = fig.gca()\n",
    "hPlot = ax.plot(tArray, yArray, linewidth=2, label='$y$');\n",
    "hScatter = ax.scatter(tArray[0], yArray[0], 50)\n",
    "hText = ax.text(tArray[0], yArray[0], ' ${:.3f}$'.format(yArray[0]))\n",
    "ax.set_xlabel('$t$');\n",
    "ax.set_ylabel('$y(t)$');\n",
    "plt.legend(loc=\"best\");\n",
    "\n",
    "def handle_tSlider_change(change): \n",
    "    tValue = change['new']\n",
    "    yValue = y(tValue)\n",
    "    ySlider.value = yValue\n",
    "    hScatter.set_offsets((tValue, yValue))\n",
    "    hText.set_position((tValue, yValue))\n",
    "    hText.set_text(' ${:.3f}$'.format(yValue))\n",
    "tSlider.observe(handle_tSlider_change, names='value')\n",
    "\n",
    "display(ipw.HBox([tSlider, ySlider]))"
   ]
  },
  {
   "cell_type": "markdown",
   "metadata": {},
   "source": [
    "## s->Y"
   ]
  },
  {
   "cell_type": "markdown",
   "metadata": {},
   "source": [
    "# linking widgets"
   ]
  },
  {
   "cell_type": "code",
   "execution_count": 13,
   "metadata": {
    "ExecuteTime": {
     "end_time": "2020-05-09T15:01:31.706814Z",
     "start_time": "2020-05-09T15:01:31.688295Z"
    }
   },
   "outputs": [
    {
     "data": {
      "application/vnd.jupyter.widget-view+json": {
       "model_id": "43bb86b782ff4f2f8f42d0d21290386f",
       "version_major": 2,
       "version_minor": 0
      },
      "text/plain": [
       "FloatText(value=0.0)"
      ]
     },
     "metadata": {},
     "output_type": "display_data"
    },
    {
     "data": {
      "application/vnd.jupyter.widget-view+json": {
       "model_id": "5ab6e98f8dea4e46b0cfbdb317db9054",
       "version_major": 2,
       "version_minor": 0
      },
      "text/plain": [
       "FloatSlider(value=0.0)"
      ]
     },
     "metadata": {},
     "output_type": "display_data"
    }
   ],
   "source": [
    "a = ipw.FloatText()\n",
    "b = ipw.FloatSlider()\n",
    "display(a,b)\n",
    "\n",
    "mylink = ipw.jslink((a, 'value'), (b, 'value'))"
   ]
  },
  {
   "cell_type": "markdown",
   "metadata": {},
   "source": [
    "# sympy laplace transform test"
   ]
  },
  {
   "cell_type": "code",
   "execution_count": 15,
   "metadata": {
    "ExecuteTime": {
     "end_time": "2020-05-09T15:01:38.351680Z",
     "start_time": "2020-05-09T15:01:36.556419Z"
    }
   },
   "outputs": [
    {
     "data": {
      "image/png": "[encoded data removed]",
      "text/latex": [
       "$\\displaystyle \\mathcal{L}_{t}\\left[\\frac{d}{d t} f{\\left(t \\right)}\\right]\\left(s\\right)$"
      ],
      "text/plain": [
       "                ⎛d             ⎞\n",
       "LaplaceTransform⎜──(f(t)), t, s⎟\n",
       "                ⎝dt            ⎠"
      ]
     },
     "execution_count": 15,
     "metadata": {},
     "output_type": "execute_result"
    }
   ],
   "source": [
    "import sympy as sy\n",
    "from sympy.abc import t, s, a\n",
    "sy.init_printing()\n",
    "f = sy.Function('f')\n",
    "sy.laplace_transform(f(t).diff(), t, s)"
   ]
  },
  {
   "cell_type": "markdown",
   "metadata": {},
   "source": [
    "# draggable bqplot \n"
   ]
  },
  {
   "cell_type": "code",
   "execution_count": 14,
   "metadata": {
    "ExecuteTime": {
     "end_time": "2020-05-09T15:01:35.315364Z",
     "start_time": "2020-05-09T15:01:35.296345Z"
    }
   },
   "outputs": [
    {
     "data": {
      "application/vnd.jupyter.widget-view+json": {
       "model_id": "11bb7a0049464935b01b584b1d14ee8d",
       "version_major": 2,
       "version_minor": 0
      },
      "text/plain": [
       "Figure(fig_margin={'top': 60, 'bottom': 60, 'left': 60, 'right': 60}, marks=[Scatter(colors=['steelblue'], ena…"
      ]
     },
     "metadata": {},
     "output_type": "display_data"
    }
   ],
   "source": [
    "s = bqp.Scatter(x=[0], y=[0], scales=dict(x=bqp.LinearScale(), y=bqp.LinearScale()), enable_move=True)\n",
    "bqp.Figure(marks=[s])"
   ]
  },
  {
   "cell_type": "markdown",
   "metadata": {},
   "source": [
    "https://stackoverflow.com/questions/46495049/bqplot-performance-issue"
   ]
  },
  {
   "cell_type": "code",
   "execution_count": 16,
   "metadata": {
    "ExecuteTime": {
     "end_time": "2020-05-09T15:01:38.761074Z",
     "start_time": "2020-05-09T15:01:38.686000Z"
    }
   },
   "outputs": [
    {
     "data": {
      "application/vnd.jupyter.widget-view+json": {
       "model_id": "9214e6afb3c44213b1b2687a6d4e4d1f",
       "version_major": 2,
       "version_minor": 0
      },
      "text/plain": [
       "VBox(children=(Figure(axes=[Axis(scale=LinearScale(max=3.0, min=-3.0)), Axis(orientation='vertical', scale=Lin…"
      ]
     },
     "metadata": {},
     "output_type": "display_data"
    },
    {
     "data": {
      "text/plain": [
       "Link(source=(Scatter(colors=['Red', 'blue'], enable_move=True, interactions={'hover': 'tooltip'}, scales={'x':…"
      ]
     },
     "metadata": {},
     "output_type": "display_data"
    }
   ],
   "source": [
    "from bqplot import pyplot as plt\n",
    "from ipywidgets import jslink\n",
    "\n",
    "fig = plt.figure()\n",
    "\n",
    "# Strange bug when 1st point is 0,0. Red point flickers.  \n",
    "lin=plt.plot([0.0001,1],\n",
    "             [0.0001,0])   \n",
    "\n",
    "scatt2=plt.scatter(lin.x, lin.y, enable_move = True, colors = ['Red','blue'])\n",
    "scatt2.update_on_move = True\n",
    "\n",
    "# Cover up 1st point so it can't be moved. \n",
    "# Just remove this line if you want both points to be moveable\n",
    "scatt3=plt.scatter([lin.x[0]], [lin.y[0]], colors = ['Red']) \n",
    "\n",
    "\n",
    "plt.xlim(-3,3)\n",
    "plt.ylim(-3,3)\n",
    "fig.layout.height = '500px'\n",
    "fig.layout.width = '500px'\n",
    "plt.show()\n",
    "\n",
    "jslink((scatt2, 'x'), (lin, 'x'))\n",
    "jslink((scatt2, 'y'), (lin, 'y'))"
   ]
  },
  {
   "cell_type": "markdown",
   "metadata": {},
   "source": [
    "# draggable points in matplotlib example \n",
    "https://stackoverflow.com/questions/50439506/dragging-points-in-matplotlib-interactive-plot"
   ]
  },
  {
   "cell_type": "code",
   "execution_count": 33,
   "metadata": {
    "ExecuteTime": {
     "end_time": "2020-05-09T14:53:32.828405Z",
     "start_time": "2020-05-09T14:53:32.315451Z"
    },
    "scrolled": false
   },
   "outputs": [
    {
     "data": {
      "application/vnd.jupyter.widget-view+json": {
       "model_id": "070ddbd4f3024982a809ea758931fc1c",
       "version_major": 2,
       "version_minor": 0
      },
      "text/plain": [
       "Canvas(toolbar=Toolbar(toolitems=[('Home', 'Reset original view', 'home', 'home'), ('Back', 'Back to previous …"
      ]
     },
     "metadata": {},
     "output_type": "display_data"
    }
   ],
   "source": [
    "import matplotlib.animation as animation\n",
    "from matplotlib.widgets import Slider, Button\n",
    "import matplotlib as mpl\n",
    "from matplotlib import pyplot as plt\n",
    "import scipy.interpolate as inter\n",
    "import numpy as np\n",
    "\n",
    "func = lambda x: 0.1*x**2\n",
    "\n",
    "#get a list of points to fit a spline to as well\n",
    "N = 10\n",
    "xmin = 0 \n",
    "xmax = 10 \n",
    "x = np.linspace(xmin,xmax,N)\n",
    "\n",
    "#spline fit\n",
    "yvals = func(x)\n",
    "spline = inter.InterpolatedUnivariateSpline (x, yvals)\n",
    "\n",
    "#figure.subplot.right\n",
    "mpl.rcParams['figure.subplot.right'] = 0.8\n",
    "\n",
    "#set up a plot\n",
    "fig,axes = plt.subplots(1,1,figsize=(9.0,8.0),sharex=True)\n",
    "ax1 = axes\n",
    "\n",
    "\n",
    "pind = None #active point\n",
    "epsilon = 5 #max pixel distance\n",
    "\n",
    "def update(val):\n",
    "    global yvals\n",
    "    global spline\n",
    "    # update curve\n",
    "    for i in np.arange(N):\n",
    "      yvals[i] = sliders[i].val \n",
    "    l.set_ydata(yvals)\n",
    "    spline = inter.InterpolatedUnivariateSpline (x, yvals)\n",
    "    m.set_ydata(spline(X))\n",
    "    # redraw canvas while idle\n",
    "    fig.canvas.draw_idle()\n",
    "\n",
    "def reset(event):\n",
    "    global yvals\n",
    "    global spline\n",
    "    #reset the values\n",
    "    yvals = func(x)\n",
    "    for i in np.arange(N):\n",
    "      sliders[i].reset()\n",
    "    spline = inter.InterpolatedUnivariateSpline (x, yvals)\n",
    "    l.set_ydata(yvals)\n",
    "    m.set_ydata(spline(X))\n",
    "    # redraw canvas while idle\n",
    "    fig.canvas.draw_idle()\n",
    "\n",
    "def button_press_callback(event):\n",
    "    'whenever a mouse button is pressed'\n",
    "    global pind\n",
    "    if event.inaxes is None:\n",
    "        return\n",
    "    if event.button != 1:\n",
    "        return\n",
    "    #print(pind)\n",
    "    pind = get_ind_under_point(event)    \n",
    "\n",
    "def button_release_callback(event):\n",
    "    'whenever a mouse button is released'\n",
    "    global pind\n",
    "    if event.button != 1:\n",
    "        return\n",
    "    pind = None\n",
    "\n",
    "def get_ind_under_point(event):\n",
    "    'get the index of the vertex under point if within epsilon tolerance'\n",
    "\n",
    "    # display coords\n",
    "    #print('display x is: {0}; display y is: {1}'.format(event.x,event.y))\n",
    "    t = ax1.transData.inverted()\n",
    "    tinv = ax1.transData \n",
    "    xy = t.transform([event.x,event.y])\n",
    "    #print('data x is: {0}; data y is: {1}'.format(xy[0],xy[1]))\n",
    "    xr = np.reshape(x,(np.shape(x)[0],1))\n",
    "    yr = np.reshape(yvals,(np.shape(yvals)[0],1))\n",
    "    xy_vals = np.append(xr,yr,1)\n",
    "    xyt = tinv.transform(xy_vals)\n",
    "    xt, yt = xyt[:, 0], xyt[:, 1]\n",
    "    d = np.hypot(xt - event.x, yt - event.y)\n",
    "    indseq, = np.nonzero(d == d.min())\n",
    "    ind = indseq[0]\n",
    "\n",
    "    #print(d[ind])\n",
    "    if d[ind] >= epsilon:\n",
    "        ind = None\n",
    "\n",
    "    #print(ind)\n",
    "    return ind\n",
    "\n",
    "def motion_notify_callback(event):\n",
    "    'on mouse movement'\n",
    "    global yvals\n",
    "    if pind is None:\n",
    "        return\n",
    "    if event.inaxes is None:\n",
    "        return\n",
    "    if event.button != 1:\n",
    "        return\n",
    "\n",
    "    #update yvals\n",
    "    #print('motion x: {0}; y: {1}'.format(event.xdata,event.ydata))\n",
    "    yvals[pind] = event.ydata \n",
    "\n",
    "    # update curve via sliders and draw\n",
    "    sliders[pind].set_val(yvals[pind])\n",
    "    fig.canvas.draw_idle()\n",
    "\n",
    "X = np.arange(0,xmax+1,0.1)\n",
    "ax1.plot (X, func(X), 'k--', label='original')\n",
    "l, = ax1.plot (x,yvals,color='k',linestyle='none',marker='o',markersize=8)\n",
    "m, = ax1.plot (X, spline(X), 'r-', label='spline')\n",
    "\n",
    "\n",
    "\n",
    "ax1.set_yscale('linear')\n",
    "ax1.set_xlim(0, xmax)\n",
    "ax1.set_ylim(0,xmax)\n",
    "ax1.set_xlabel('x')\n",
    "ax1.set_ylabel('y')\n",
    "ax1.grid(True)\n",
    "ax1.yaxis.grid(True,which='minor',linestyle='--')\n",
    "ax1.legend(loc=2,prop={'size':22})\n",
    "\n",
    "sliders = []\n",
    "\n",
    "for i in np.arange(N):\n",
    "\n",
    "    axamp = plt.axes([0.84, 0.8-(i*0.05), 0.12, 0.02])\n",
    "    # Slider\n",
    "    s = Slider(axamp, 'p{0}'.format(i), 0, 10, valinit=yvals[i])\n",
    "    sliders.append(s)\n",
    "\n",
    "\n",
    "for i in np.arange(N):\n",
    "    #samp.on_changed(update_slider)\n",
    "    sliders[i].on_changed(update)\n",
    "\n",
    "axres = plt.axes([0.84, 0.8-((N)*0.05), 0.12, 0.02])\n",
    "bres = Button(axres, 'Reset')\n",
    "bres.on_clicked(reset)\n",
    "\n",
    "fig.canvas.mpl_connect('button_press_event', button_press_callback)\n",
    "fig.canvas.mpl_connect('button_release_event', button_release_callback)\n",
    "fig.canvas.mpl_connect('motion_notify_event', motion_notify_callback)\n",
    "\n",
    "plt.show()"
   ]
  },
  {
   "cell_type": "markdown",
   "metadata": {},
   "source": [
    "https://stackoverflow.com/questions/44657772/tighter-layout-of-bqplot-figures-in-jupyter"
   ]
  },
  {
   "cell_type": "markdown",
   "metadata": {},
   "source": [
    "# bqplot label example"
   ]
  },
  {
   "cell_type": "code",
   "execution_count": 29,
   "metadata": {
    "ExecuteTime": {
     "end_time": "2020-05-09T14:52:22.347385Z",
     "start_time": "2020-05-09T14:52:22.309849Z"
    }
   },
   "outputs": [
    {
     "data": {
      "application/vnd.jupyter.widget-view+json": {
       "model_id": "cfdd9783285644ce8e88d6e1635d6d9b",
       "version_major": 2,
       "version_minor": 0
      },
      "text/plain": [
       "Figure(axes=[Axis(label='X', scale=LinearScale()), Axis(label='Y', orientation='vertical', scale=LinearScale()…"
      ]
     },
     "metadata": {},
     "output_type": "display_data"
    }
   ],
   "source": [
    "from bqplot import Label, LinearScale, Axis, Lines, Figure, DateScale\n",
    "import numpy as np\n",
    "import pandas as pd\n",
    "np.random.seed(10)\n",
    "price_data = pd.DataFrame(np.cumsum(np.random.randn(150, 2).dot([[0.5, 0.8], [0.8, 1.0]]), axis=0) + 100,\n",
    "                          columns=['Security 1', 'Security 2'],\n",
    "                          index=pd.date_range(start='01-01-2007', periods=150))\n",
    "y_data = np.cumsum(np.random.randn(100))\n",
    "x_sc = LinearScale()\n",
    "y_sc = LinearScale()\n",
    "\n",
    "test_line = Lines(x=np.arange(10), y=y_data[:10], scales={'x': x_sc, 'y': y_sc})\n",
    "test_label = Label(x=np.arange(5), y=y_data[:5], scales={'x': x_sc, 'y': y_sc},\n",
    "                   text=['Test', 'Label', 'for', 'the', 'Data'], default_size=26, font_weight='bolder',\n",
    "                   colors=['orange', 'red'], update_on_move=True)\n",
    "\n",
    "ax_x = Axis(scale=x_sc, label='X')\n",
    "ax_y = Axis(scale=y_sc, orientation='vertical', tick_format='0.2f', label='Y')\n",
    "\n",
    "Figure(marks=[test_label, test_line], axes=[ax_x, ax_y], title='Basic Label Example')"
   ]
  },
  {
   "cell_type": "markdown",
   "metadata": {
    "ExecuteTime": {
     "end_time": "2020-05-09T14:53:59.567225Z",
     "start_time": "2020-05-09T14:53:59.564211Z"
    }
   },
   "source": [
    "# other notes"
   ]
  },
  {
   "cell_type": "code",
   "execution_count": 35,
   "metadata": {
    "ExecuteTime": {
     "end_time": "2020-05-09T14:53:42.834819Z",
     "start_time": "2020-05-09T14:53:42.736225Z"
    },
    "scrolled": true
   },
   "outputs": [
    {
     "data": {
      "application/vnd.jupyter.widget-view+json": {
       "model_id": "aaf598aed87641a38dc2c1f729102d47",
       "version_major": 2,
       "version_minor": 0
      },
      "text/plain": [
       "Canvas(toolbar=Toolbar(toolitems=[('Home', 'Reset original view', 'home', 'home'), ('Back', 'Back to previous …"
      ]
     },
     "metadata": {},
     "output_type": "display_data"
    }
   ],
   "source": [
    "import matplotlib.pyplot as plt\n",
    "%matplotlib widget\n",
    "def fun(x, y):\n",
    "    x, y = Y(x, y)\n",
    "    return np.sqrt(x**2 + y**2)\n",
    "fig = plt.figure()\n",
    "ax = fig.add_subplot(111, projection='3d')\n",
    "x, y = np.meshgrid(s1Array, s2Array)\n",
    "zs = np.array(fun(np.ravel(x), np.ravel(y)))\n",
    "z = zs.reshape(x.shape)\n",
    "ax.plot_surface(x, y, z)\n",
    "ax.set_zlim(0, 5)\n",
    "plt.show()"
   ]
  },
  {
   "cell_type": "code",
   "execution_count": 34,
   "metadata": {
    "ExecuteTime": {
     "end_time": "2020-05-09T14:53:41.600446Z",
     "start_time": "2020-05-09T14:53:41.574419Z"
    }
   },
   "outputs": [
    {
     "data": {
      "application/vnd.jupyter.widget-view+json": {
       "model_id": "",
       "version_major": 2,
       "version_minor": 0
      },
      "text/plain": [
       "VBox(children=(Play(value=1, interval=2000, min=1), IntSlider(value=1, min=1), Output()))"
      ]
     },
     "metadata": {},
     "output_type": "display_data"
    }
   ],
   "source": [
    "import ipywidgets as widgets\n",
    "\n",
    "out = widgets.Output()\n",
    "def on_value_change(change):\n",
    "    with out:\n",
    "        print(change['new'])\n",
    "\n",
    "slider = widgets.IntSlider(min=1, max=100, step=1, continuous_update=True)\n",
    "play = widgets.Play(min=1, interval=2000)\n",
    "\n",
    "slider.observe(on_value_change, 'value')\n",
    "widgets.jslink((play, 'value'), (slider, 'value'))\n",
    "widgets.VBox([play, slider, out])"
   ]
  }
 ],
 "metadata": {
  "hide_input": false,
  "kernelspec": {
   "display_name": "Python 3",
   "language": "python",
   "name": "python3"
  },
  "language_info": {
   "codemirror_mode": {
    "name": "ipython",
    "version": 3
   },
   "file_extension": ".py",
   "mimetype": "text/x-python",
   "name": "python",
   "nbconvert_exporter": "python",
   "pygments_lexer": "ipython3",
   "version": "3.6.7"
  },
  "toc": {
   "base_numbering": 1,
   "nav_menu": {},
   "number_sections": true,
   "sideBar": true,
   "skip_h1_title": false,
   "title_cell": "Table of Contents",
   "title_sidebar": "Contents",
   "toc_cell": false,
   "toc_position": {},
   "toc_section_display": true,
   "toc_window_display": false
  },
  "varInspector": {
   "cols": {
    "lenName": 16,
    "lenType": 16,
    "lenVar": 40
   },
   "kernels_config": {
    "python": {
     "delete_cmd_postfix": "",
     "delete_cmd_prefix": "del ",
     "library": "var_list.py",
     "varRefreshCmd": "print(var_dic_list())"
    },
    "r": {
     "delete_cmd_postfix": ") ",
     "delete_cmd_prefix": "rm(",
     "library": "var_list.r",
     "varRefreshCmd": "cat(var_dic_list()) "
    }
   },
   "types_to_exclude": [
    "module",
    "function",
    "builtin_function_or_method",
    "instance",
    "_Feature"
   ],
   "window_display": false
  }
 },
 "nbformat": 4,
 "nbformat_minor": 2
}
