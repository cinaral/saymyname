{
 "cells": [
  {
   "cell_type": "code",
   "execution_count": 39,
   "metadata": {
    "ExecuteTime": {
     "end_time": "2020-05-09T02:58:59.901799Z",
     "start_time": "2020-05-09T02:58:59.896791Z"
    }
   },
   "outputs": [],
   "source": [
    "# define the system\n",
    "from IPython.display import display\n",
    "from matplotlib import pyplot as plt\n",
    "import ipywidgets as ipyw\n",
    "import numpy as np\n",
    "\n",
    "tRange = np.arange(0,10.01,.01)\n",
    "sigmaRange = np.arange(-10,10.01,.01)\n",
    "omegaRange = np.arange(-10,10.01,.01)\n",
    "\n",
    "def y(x):\n",
    "    return(np.exp(-0.1*x) * np.sin(x))\n",
    "\n",
    "def Y(s):\n",
    "    return(1 / s)\n",
    "\n",
    "tValue0 = 0\n",
    "yValue0 = y(tValue0)\n",
    "\n",
    "sigmaValue0 = 1\n",
    "omegaValue0 = 1"
   ]
  },
  {
   "cell_type": "code",
   "execution_count": 40,
   "metadata": {
    "ExecuteTime": {
     "end_time": "2020-05-09T02:59:00.372248Z",
     "start_time": "2020-05-09T02:59:00.352228Z"
    },
    "scrolled": false
   },
   "outputs": [],
   "source": [
    "# sliders and whatnot\n",
    "tSlider = ipyw.FloatSlider(\n",
    "    value=tValue0,\n",
    "    min=tRange[0],\n",
    "    max=tRange[-1],\n",
    "    description='$t$:',\n",
    "    disabled=False,\n",
    "    readout=True,\n",
    "    readout_format='.2f',\n",
    "    layout=ipyw.Layout(width='100%', height='80px'), \n",
    "    step=0.01,\n",
    ")\n",
    "\n",
    "sigmaSlider = ipyw.FloatSlider(\n",
    "    value=sigmaValue0,\n",
    "    min=sigmaRange[0],\n",
    "    max=sigmaRange[-1],\n",
    "    description='$\\sigma$:',\n",
    "    disabled=False,\n",
    "    readout=True,\n",
    "    readout_format='.2f',\n",
    "    layout=ipyw.Layout(width='100%', height='80px'), \n",
    "    step=0.01,\n",
    ")\n",
    "\n",
    "omegaSlider = ipyw.FloatSlider(\n",
    "    value=omegaValue0,\n",
    "    min=omegaRange[0],\n",
    "    max=omegaRange[-1],\n",
    "    description='$\\omega$:',\n",
    "    disabled=False,\n",
    "    readout=True,\n",
    "    readout_format='.2f',\n",
    "    layout=ipyw.Layout(width='100%', height='80px'), \n",
    "    step=0.01,\n",
    ")"
   ]
  },
  {
   "cell_type": "code",
   "execution_count": 42,
   "metadata": {
    "ExecuteTime": {
     "end_time": "2020-05-09T02:59:52.040459Z",
     "start_time": "2020-05-09T02:59:51.984406Z"
    },
    "scrolled": false
   },
   "outputs": [
    {
     "data": {
      "application/vnd.jupyter.widget-view+json": {
       "model_id": "1eb6ef7dde7643bd80d7d18f23494ea3",
       "version_major": 2,
       "version_minor": 0
      },
      "text/plain": [
       "Canvas(toolbar=Toolbar(toolitems=[('Home', 'Reset original view', 'home', 'home'), ('Back', 'Back to previous …"
      ]
     },
     "metadata": {},
     "output_type": "display_data"
    },
    {
     "data": {
      "application/vnd.jupyter.widget-view+json": {
       "model_id": "464cb7258acf4333bfee394eb636f9de",
       "version_major": 2,
       "version_minor": 0
      },
      "text/plain": [
       "VBox(children=(FloatSlider(value=1.7, description='$\\\\sigma$:', layout=Layout(height='80px', width='100%'), ma…"
      ]
     },
     "metadata": {},
     "output_type": "display_data"
    }
   ],
   "source": [
    "%matplotlib widget\n",
    "# initialize plot\n",
    "font = {'family' : 'times new roman',\n",
    "        'weight' : 'normal',\n",
    "        'size'   : 12}\n",
    "plt.rc('font', **font)\n",
    "\n",
    "fig, ax = plt.subplots(nrows=1, ncols=2)\n",
    "\n",
    "# draw plot\n",
    "ax[0].set_xlim(sigmaRange[0], sigmaRange[-1])\n",
    "ax[0].set_ylim(omegaRange[0], omegaRange[-1])\n",
    "hInput = ax[0].scatter(sigmaValue0, omegaValue0, 50);\n",
    "output0 = Y(sigmaValue0 + 1j * omegaValue0)\n",
    "hOutput = ax[1].scatter(output0.real, output0.imag, 50);\n",
    "ax[1].set_xlim(-10, 10)\n",
    "ax[1].set_ylim(-10, 10)\n",
    "\n",
    "def handle_sigmaSlider_change(change):\n",
    "    sigmaValue = change['new']\n",
    "    omegaValue = omegaSlider.value\n",
    "    updateInputOutputPlots(sigmaValue, omegaValue)\n",
    "    #hText.set_position((tValue, yValue))\n",
    "    #hText.set_text(' ${:.3f}$'.format(yValue))\n",
    "def handle_omegaSlider_change(change):\n",
    "    sigmaValue = sigmaSlider.value\n",
    "    omegaValue = change['new']\n",
    "    updateInputOutputPlots(sigmaValue, omegaValue)\n",
    "    #hText.set_position((tValue, yValue))\n",
    "    #hText.set_text(' ${:.3f}$'.format(yValue))\n",
    "    \n",
    "def updateInputOutputPlots(sigmaValue, omegaValue):\n",
    "    hInput.set_offsets((sigmaValue, omegaValue))\n",
    "    output = Y(sigmaValue + 1j * omegaValue)\n",
    "    hOutput.set_offsets((output.real, output.imag))\n",
    "    \n",
    "sigmaSlider.observe(handle_sigmaSlider_change, names='value')\n",
    "omegaSlider.observe(handle_omegaSlider_change, names='value')\n",
    "\n",
    "display(ipyw.VBox([sigmaSlider, omegaSlider]))"
   ]
  },
  {
   "cell_type": "code",
   "execution_count": 11,
   "metadata": {
    "ExecuteTime": {
     "end_time": "2020-05-09T02:45:08.648007Z",
     "start_time": "2020-05-09T02:45:08.603980Z"
    }
   },
   "outputs": [
    {
     "data": {
      "application/vnd.jupyter.widget-view+json": {
       "model_id": "5831087935e44c35b8e4849ec160d40d",
       "version_major": 2,
       "version_minor": 0
      },
      "text/plain": [
       "Canvas(toolbar=Toolbar(toolitems=[('Home', 'Reset original view', 'home', 'home'), ('Back', 'Back to previous …"
      ]
     },
     "metadata": {},
     "output_type": "display_data"
    },
    {
     "data": {
      "application/vnd.jupyter.widget-view+json": {
       "model_id": "4dab9781005a439989756ef0bf413108",
       "version_major": 2,
       "version_minor": 0
      },
      "text/plain": [
       "HBox(children=(FloatSlider(value=0.0, description='$t$:', layout=Layout(height='80px', width='100%'), max=10.0…"
      ]
     },
     "metadata": {},
     "output_type": "display_data"
    }
   ],
   "source": [
    "%matplotlib widget\n",
    "# initialize plot\n",
    "font = {'family' : 'times new roman',\n",
    "        'weight' : 'normal',\n",
    "        'size'   : 12}\n",
    "plt.rc('font', **font)\n",
    "fig = plt.figure()\n",
    "ax = fig.gca()\n",
    "\n",
    "# draw plot\n",
    "hPlot = ax.plot(tRange, y(tRange), linewidth=2, label='$y$');\n",
    "hScatter = ax.scatter(tValue0, yValue0, 50)\n",
    "hText = ax.text(tValue0, yValue0, ' ${:.3f}$'.format(yValue0))\n",
    "ax.set_xlabel('$t$');\n",
    "ax.set_ylabel('$y(t)$');\n",
    "plt.legend(loc=\"best\");\n",
    "\n",
    "def handle_tSlider_change(change):\n",
    "    tValue = change['new']\n",
    "    yValue = y(tValue)\n",
    "    hScatter.set_offsets((tValue, yValue))\n",
    "    hText.set_position((tValue, yValue))\n",
    "    hText.set_text(' ${:.3f}$'.format(yValue))\n",
    "tSlider.observe(handle_tSlider_change, names='value')\n",
    "\n",
    "display(ipyw.HBox([tSlider]))"
   ]
  },
  {
   "cell_type": "code",
   "execution_count": 38,
   "metadata": {
    "ExecuteTime": {
     "end_time": "2020-05-09T02:58:52.940092Z",
     "start_time": "2020-05-09T02:58:52.900054Z"
    }
   },
   "outputs": [
    {
     "data": {
      "application/vnd.jupyter.widget-view+json": {
       "model_id": "6f14f12e757c4b1d969c504dc85a81a0",
       "version_major": 2,
       "version_minor": 0
      },
      "text/plain": [
       "Canvas(toolbar=Toolbar(toolitems=[('Home', 'Reset original view', 'home', 'home'), ('Back', 'Back to previous …"
      ]
     },
     "metadata": {},
     "output_type": "display_data"
    }
   ],
   "source": [
    "x = range(10)\n",
    "y = range(10)\n",
    "\n",
    "fig, ax = plt.subplots(nrows=1, ncols=2)\n",
    "\n",
    "#ax[0, 0].plot(range(10), 'r') #row=0, col=0\n",
    "ax[0].plot(range(10), 'b') #row=1, col=0\n",
    "#ax[0, 1].plot(range(10), 'g') #row=0, col=1\n",
    "ax[1].plot(range(10), 'k') #row=1, col=1\n",
    "plt.show()"
   ]
  },
  {
   "cell_type": "markdown",
   "metadata": {},
   "source": [
    "## linking"
   ]
  },
  {
   "cell_type": "code",
   "execution_count": 62,
   "metadata": {
    "ExecuteTime": {
     "end_time": "2020-05-09T02:41:30.162011Z",
     "start_time": "2020-05-09T02:41:30.143988Z"
    }
   },
   "outputs": [
    {
     "data": {
      "application/vnd.jupyter.widget-view+json": {
       "model_id": "25457c22cea84b1b984cf503208da93e",
       "version_major": 2,
       "version_minor": 0
      },
      "text/plain": [
       "FloatText(value=0.0)"
      ]
     },
     "metadata": {},
     "output_type": "display_data"
    },
    {
     "data": {
      "application/vnd.jupyter.widget-view+json": {
       "model_id": "bf422b3dbe7540c09b40148917ab6e14",
       "version_major": 2,
       "version_minor": 0
      },
      "text/plain": [
       "FloatSlider(value=0.0)"
      ]
     },
     "metadata": {},
     "output_type": "display_data"
    }
   ],
   "source": [
    "a = ipyw.FloatText()\n",
    "b = ipyw.FloatSlider()\n",
    "display(a,b)\n",
    "\n",
    "mylink = ipyw.jslink((a, 'value'), (b, 'value'))"
   ]
  },
  {
   "cell_type": "markdown",
   "metadata": {},
   "source": [
    "## sympy laplace transform test"
   ]
  },
  {
   "cell_type": "code",
   "execution_count": 19,
   "metadata": {
    "ExecuteTime": {
     "end_time": "2020-05-08T21:10:04.970755Z",
     "start_time": "2020-05-08T21:10:04.274492Z"
    }
   },
   "outputs": [
    {
     "data": {
      "image/png": "[encoded data removed]",
      "text/latex": [
       "$\\displaystyle \\mathcal{L}_{t}\\left[\\frac{d}{d t} f{\\left(t \\right)}\\right]\\left(s\\right)$"
      ],
      "text/plain": [
       "                ⎛d             ⎞\n",
       "LaplaceTransform⎜──(f(t)), t, s⎟\n",
       "                ⎝dt            ⎠"
      ]
     },
     "execution_count": 19,
     "metadata": {},
     "output_type": "execute_result"
    }
   ],
   "source": [
    "import sympy as sy\n",
    "from sympy.abc import t, s, a\n",
    "sy.init_printing()\n",
    "f = sy.Function('f')\n",
    "sy.laplace_transform(f(t).diff(), t, s)"
   ]
  },
  {
   "cell_type": "markdown",
   "metadata": {},
   "source": [
    "## draggable points in matplotlib example \n",
    "https://stackoverflow.com/questions/50439506/dragging-points-in-matplotlib-interactive-plot"
   ]
  },
  {
   "cell_type": "code",
   "execution_count": 57,
   "metadata": {
    "ExecuteTime": {
     "end_time": "2020-05-09T02:40:52.056042Z",
     "start_time": "2020-05-09T02:40:51.776774Z"
    }
   },
   "outputs": [
    {
     "data": {
      "application/vnd.jupyter.widget-view+json": {
       "model_id": "c5559d49a9884262936c6bb84fbb0cdc",
       "version_major": 2,
       "version_minor": 0
      },
      "text/plain": [
       "Canvas(toolbar=Toolbar(toolitems=[('Home', 'Reset original view', 'home', 'home'), ('Back', 'Back to previous …"
      ]
     },
     "metadata": {},
     "output_type": "display_data"
    }
   ],
   "source": [
    "import matplotlib.animation as animation\n",
    "from matplotlib.widgets import Slider, Button\n",
    "import matplotlib as mpl\n",
    "from matplotlib import pyplot as plt\n",
    "import scipy.interpolate as inter\n",
    "import numpy as np\n",
    "\n",
    "func = lambda x: 0.1*x**2\n",
    "\n",
    "#get a list of points to fit a spline to as well\n",
    "N = 10\n",
    "xmin = 0 \n",
    "xmax = 10 \n",
    "x = np.linspace(xmin,xmax,N)\n",
    "\n",
    "#spline fit\n",
    "yvals = func(x)\n",
    "spline = inter.InterpolatedUnivariateSpline (x, yvals)\n",
    "\n",
    "#figure.subplot.right\n",
    "mpl.rcParams['figure.subplot.right'] = 0.8\n",
    "\n",
    "#set up a plot\n",
    "fig,axes = plt.subplots(1,1,figsize=(9.0,8.0),sharex=True)\n",
    "ax1 = axes\n",
    "\n",
    "\n",
    "pind = None #active point\n",
    "epsilon = 5 #max pixel distance\n",
    "\n",
    "def update(val):\n",
    "    global yvals\n",
    "    global spline\n",
    "    # update curve\n",
    "    for i in np.arange(N):\n",
    "      yvals[i] = sliders[i].val \n",
    "    l.set_ydata(yvals)\n",
    "    spline = inter.InterpolatedUnivariateSpline (x, yvals)\n",
    "    m.set_ydata(spline(X))\n",
    "    # redraw canvas while idle\n",
    "    fig.canvas.draw_idle()\n",
    "\n",
    "def reset(event):\n",
    "    global yvals\n",
    "    global spline\n",
    "    #reset the values\n",
    "    yvals = func(x)\n",
    "    for i in np.arange(N):\n",
    "      sliders[i].reset()\n",
    "    spline = inter.InterpolatedUnivariateSpline (x, yvals)\n",
    "    l.set_ydata(yvals)\n",
    "    m.set_ydata(spline(X))\n",
    "    # redraw canvas while idle\n",
    "    fig.canvas.draw_idle()\n",
    "\n",
    "def button_press_callback(event):\n",
    "    'whenever a mouse button is pressed'\n",
    "    global pind\n",
    "    if event.inaxes is None:\n",
    "        return\n",
    "    if event.button != 1:\n",
    "        return\n",
    "    #print(pind)\n",
    "    pind = get_ind_under_point(event)    \n",
    "\n",
    "def button_release_callback(event):\n",
    "    'whenever a mouse button is released'\n",
    "    global pind\n",
    "    if event.button != 1:\n",
    "        return\n",
    "    pind = None\n",
    "\n",
    "def get_ind_under_point(event):\n",
    "    'get the index of the vertex under point if within epsilon tolerance'\n",
    "\n",
    "    # display coords\n",
    "    #print('display x is: {0}; display y is: {1}'.format(event.x,event.y))\n",
    "    t = ax1.transData.inverted()\n",
    "    tinv = ax1.transData \n",
    "    xy = t.transform([event.x,event.y])\n",
    "    #print('data x is: {0}; data y is: {1}'.format(xy[0],xy[1]))\n",
    "    xr = np.reshape(x,(np.shape(x)[0],1))\n",
    "    yr = np.reshape(yvals,(np.shape(yvals)[0],1))\n",
    "    xy_vals = np.append(xr,yr,1)\n",
    "    xyt = tinv.transform(xy_vals)\n",
    "    xt, yt = xyt[:, 0], xyt[:, 1]\n",
    "    d = np.hypot(xt - event.x, yt - event.y)\n",
    "    indseq, = np.nonzero(d == d.min())\n",
    "    ind = indseq[0]\n",
    "\n",
    "    #print(d[ind])\n",
    "    if d[ind] >= epsilon:\n",
    "        ind = None\n",
    "\n",
    "    #print(ind)\n",
    "    return ind\n",
    "\n",
    "def motion_notify_callback(event):\n",
    "    'on mouse movement'\n",
    "    global yvals\n",
    "    if pind is None:\n",
    "        return\n",
    "    if event.inaxes is None:\n",
    "        return\n",
    "    if event.button != 1:\n",
    "        return\n",
    "\n",
    "    #update yvals\n",
    "    #print('motion x: {0}; y: {1}'.format(event.xdata,event.ydata))\n",
    "    yvals[pind] = event.ydata \n",
    "\n",
    "    # update curve via sliders and draw\n",
    "    sliders[pind].set_val(yvals[pind])\n",
    "    fig.canvas.draw_idle()\n",
    "\n",
    "X = np.arange(0,xmax+1,0.1)\n",
    "ax1.plot (X, func(X), 'k--', label='original')\n",
    "l, = ax1.plot (x,yvals,color='k',linestyle='none',marker='o',markersize=8)\n",
    "m, = ax1.plot (X, spline(X), 'r-', label='spline')\n",
    "\n",
    "\n",
    "\n",
    "ax1.set_yscale('linear')\n",
    "ax1.set_xlim(0, xmax)\n",
    "ax1.set_ylim(0,xmax)\n",
    "ax1.set_xlabel('x')\n",
    "ax1.set_ylabel('y')\n",
    "ax1.grid(True)\n",
    "ax1.yaxis.grid(True,which='minor',linestyle='--')\n",
    "ax1.legend(loc=2,prop={'size':22})\n",
    "\n",
    "sliders = []\n",
    "\n",
    "for i in np.arange(N):\n",
    "\n",
    "    axamp = plt.axes([0.84, 0.8-(i*0.05), 0.12, 0.02])\n",
    "    # Slider\n",
    "    s = Slider(axamp, 'p{0}'.format(i), 0, 10, valinit=yvals[i])\n",
    "    sliders.append(s)\n",
    "\n",
    "\n",
    "for i in np.arange(N):\n",
    "    #samp.on_changed(update_slider)\n",
    "    sliders[i].on_changed(update)\n",
    "\n",
    "axres = plt.axes([0.84, 0.8-((N)*0.05), 0.12, 0.02])\n",
    "bres = Button(axres, 'Reset')\n",
    "bres.on_clicked(reset)\n",
    "\n",
    "fig.canvas.mpl_connect('button_press_event', button_press_callback)\n",
    "fig.canvas.mpl_connect('button_release_event', button_release_callback)\n",
    "fig.canvas.mpl_connect('motion_notify_event', motion_notify_callback)\n",
    "\n",
    "plt.show()"
   ]
  },
  {
   "cell_type": "code",
   "execution_count": null,
   "metadata": {},
   "outputs": [],
   "source": []
  }
 ],
 "metadata": {
  "hide_input": false,
  "kernelspec": {
   "display_name": "Python 3",
   "language": "python",
   "name": "python3"
  },
  "toc": {
   "base_numbering": 1,
   "nav_menu": {},
   "number_sections": true,
   "sideBar": true,
   "skip_h1_title": false,
   "title_cell": "Table of Contents",
   "title_sidebar": "Contents",
   "toc_cell": false,
   "toc_position": {},
   "toc_section_display": true,
   "toc_window_display": false
  },
  "varInspector": {
   "cols": {
    "lenName": 16,
    "lenType": 16,
    "lenVar": 40
   },
   "kernels_config": {
    "python": {
     "delete_cmd_postfix": "",
     "delete_cmd_prefix": "del ",
     "library": "var_list.py",
     "varRefreshCmd": "print(var_dic_list())"
    },
    "r": {
     "delete_cmd_postfix": ") ",
     "delete_cmd_prefix": "rm(",
     "library": "var_list.r",
     "varRefreshCmd": "cat(var_dic_list()) "
    }
   },
   "types_to_exclude": [
    "module",
    "function",
    "builtin_function_or_method",
    "instance",
    "_Feature"
   ],
   "window_display": false
  }
 },
 "nbformat": 4,
 "nbformat_minor": 2
}
